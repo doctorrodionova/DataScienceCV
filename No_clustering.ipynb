{
  "nbformat": 4,
  "nbformat_minor": 0,
  "metadata": {
    "colab": {
      "provenance": []
    },
    "kernelspec": {
      "name": "python3",
      "display_name": "Python 3"
    },
    "language_info": {
      "name": "python"
    },
    "widgets": {
      "application/vnd.jupyter.widget-state+json": {
        "514bd421aee143fb8270ba8013d50e8f": {
          "model_module": "@jupyter-widgets/controls",
          "model_name": "HBoxModel",
          "model_module_version": "1.5.0",
          "state": {
            "_dom_classes": [],
            "_model_module": "@jupyter-widgets/controls",
            "_model_module_version": "1.5.0",
            "_model_name": "HBoxModel",
            "_view_count": null,
            "_view_module": "@jupyter-widgets/controls",
            "_view_module_version": "1.5.0",
            "_view_name": "HBoxView",
            "box_style": "",
            "children": [
              "IPY_MODEL_e061eb6b90704abcaba8f5ad9c46f917",
              "IPY_MODEL_e515683d40494a9fadaa00b07f44ceb3",
              "IPY_MODEL_4ebfd78bb46746f6940809634a85eed9"
            ],
            "layout": "IPY_MODEL_6b00637a41fe459eb6b0917cf3b84c70"
          }
        },
        "e061eb6b90704abcaba8f5ad9c46f917": {
          "model_module": "@jupyter-widgets/controls",
          "model_name": "HTMLModel",
          "model_module_version": "1.5.0",
          "state": {
            "_dom_classes": [],
            "_model_module": "@jupyter-widgets/controls",
            "_model_module_version": "1.5.0",
            "_model_name": "HTMLModel",
            "_view_count": null,
            "_view_module": "@jupyter-widgets/controls",
            "_view_module_version": "1.5.0",
            "_view_name": "HTMLView",
            "description": "",
            "description_tooltip": null,
            "layout": "IPY_MODEL_9c000a5448a4419c8d1b24a5765080bf",
            "placeholder": "​",
            "style": "IPY_MODEL_34606b72cbc34ff6805a80933dae817f",
            "value": "100%"
          }
        },
        "e515683d40494a9fadaa00b07f44ceb3": {
          "model_module": "@jupyter-widgets/controls",
          "model_name": "FloatProgressModel",
          "model_module_version": "1.5.0",
          "state": {
            "_dom_classes": [],
            "_model_module": "@jupyter-widgets/controls",
            "_model_module_version": "1.5.0",
            "_model_name": "FloatProgressModel",
            "_view_count": null,
            "_view_module": "@jupyter-widgets/controls",
            "_view_module_version": "1.5.0",
            "_view_name": "ProgressView",
            "bar_style": "success",
            "description": "",
            "description_tooltip": null,
            "layout": "IPY_MODEL_367b0d169197463e9477bd759133daa2",
            "max": 100,
            "min": 0,
            "orientation": "horizontal",
            "style": "IPY_MODEL_71f74a3ba37d4f96a2f16732e0723300",
            "value": 100
          }
        },
        "4ebfd78bb46746f6940809634a85eed9": {
          "model_module": "@jupyter-widgets/controls",
          "model_name": "HTMLModel",
          "model_module_version": "1.5.0",
          "state": {
            "_dom_classes": [],
            "_model_module": "@jupyter-widgets/controls",
            "_model_module_version": "1.5.0",
            "_model_name": "HTMLModel",
            "_view_count": null,
            "_view_module": "@jupyter-widgets/controls",
            "_view_module_version": "1.5.0",
            "_view_name": "HTMLView",
            "description": "",
            "description_tooltip": null,
            "layout": "IPY_MODEL_35d0459e8543401b939d9b88c8475f77",
            "placeholder": "​",
            "style": "IPY_MODEL_77b552ed6659412f8971b8db7e30dda8",
            "value": " 100/100 [00:56&lt;00:00,  1.09it/s]"
          }
        },
        "6b00637a41fe459eb6b0917cf3b84c70": {
          "model_module": "@jupyter-widgets/base",
          "model_name": "LayoutModel",
          "model_module_version": "1.2.0",
          "state": {
            "_model_module": "@jupyter-widgets/base",
            "_model_module_version": "1.2.0",
            "_model_name": "LayoutModel",
            "_view_count": null,
            "_view_module": "@jupyter-widgets/base",
            "_view_module_version": "1.2.0",
            "_view_name": "LayoutView",
            "align_content": null,
            "align_items": null,
            "align_self": null,
            "border": null,
            "bottom": null,
            "display": null,
            "flex": null,
            "flex_flow": null,
            "grid_area": null,
            "grid_auto_columns": null,
            "grid_auto_flow": null,
            "grid_auto_rows": null,
            "grid_column": null,
            "grid_gap": null,
            "grid_row": null,
            "grid_template_areas": null,
            "grid_template_columns": null,
            "grid_template_rows": null,
            "height": null,
            "justify_content": null,
            "justify_items": null,
            "left": null,
            "margin": null,
            "max_height": null,
            "max_width": null,
            "min_height": null,
            "min_width": null,
            "object_fit": null,
            "object_position": null,
            "order": null,
            "overflow": null,
            "overflow_x": null,
            "overflow_y": null,
            "padding": null,
            "right": null,
            "top": null,
            "visibility": null,
            "width": null
          }
        },
        "9c000a5448a4419c8d1b24a5765080bf": {
          "model_module": "@jupyter-widgets/base",
          "model_name": "LayoutModel",
          "model_module_version": "1.2.0",
          "state": {
            "_model_module": "@jupyter-widgets/base",
            "_model_module_version": "1.2.0",
            "_model_name": "LayoutModel",
            "_view_count": null,
            "_view_module": "@jupyter-widgets/base",
            "_view_module_version": "1.2.0",
            "_view_name": "LayoutView",
            "align_content": null,
            "align_items": null,
            "align_self": null,
            "border": null,
            "bottom": null,
            "display": null,
            "flex": null,
            "flex_flow": null,
            "grid_area": null,
            "grid_auto_columns": null,
            "grid_auto_flow": null,
            "grid_auto_rows": null,
            "grid_column": null,
            "grid_gap": null,
            "grid_row": null,
            "grid_template_areas": null,
            "grid_template_columns": null,
            "grid_template_rows": null,
            "height": null,
            "justify_content": null,
            "justify_items": null,
            "left": null,
            "margin": null,
            "max_height": null,
            "max_width": null,
            "min_height": null,
            "min_width": null,
            "object_fit": null,
            "object_position": null,
            "order": null,
            "overflow": null,
            "overflow_x": null,
            "overflow_y": null,
            "padding": null,
            "right": null,
            "top": null,
            "visibility": null,
            "width": null
          }
        },
        "34606b72cbc34ff6805a80933dae817f": {
          "model_module": "@jupyter-widgets/controls",
          "model_name": "DescriptionStyleModel",
          "model_module_version": "1.5.0",
          "state": {
            "_model_module": "@jupyter-widgets/controls",
            "_model_module_version": "1.5.0",
            "_model_name": "DescriptionStyleModel",
            "_view_count": null,
            "_view_module": "@jupyter-widgets/base",
            "_view_module_version": "1.2.0",
            "_view_name": "StyleView",
            "description_width": ""
          }
        },
        "367b0d169197463e9477bd759133daa2": {
          "model_module": "@jupyter-widgets/base",
          "model_name": "LayoutModel",
          "model_module_version": "1.2.0",
          "state": {
            "_model_module": "@jupyter-widgets/base",
            "_model_module_version": "1.2.0",
            "_model_name": "LayoutModel",
            "_view_count": null,
            "_view_module": "@jupyter-widgets/base",
            "_view_module_version": "1.2.0",
            "_view_name": "LayoutView",
            "align_content": null,
            "align_items": null,
            "align_self": null,
            "border": null,
            "bottom": null,
            "display": null,
            "flex": null,
            "flex_flow": null,
            "grid_area": null,
            "grid_auto_columns": null,
            "grid_auto_flow": null,
            "grid_auto_rows": null,
            "grid_column": null,
            "grid_gap": null,
            "grid_row": null,
            "grid_template_areas": null,
            "grid_template_columns": null,
            "grid_template_rows": null,
            "height": null,
            "justify_content": null,
            "justify_items": null,
            "left": null,
            "margin": null,
            "max_height": null,
            "max_width": null,
            "min_height": null,
            "min_width": null,
            "object_fit": null,
            "object_position": null,
            "order": null,
            "overflow": null,
            "overflow_x": null,
            "overflow_y": null,
            "padding": null,
            "right": null,
            "top": null,
            "visibility": null,
            "width": null
          }
        },
        "71f74a3ba37d4f96a2f16732e0723300": {
          "model_module": "@jupyter-widgets/controls",
          "model_name": "ProgressStyleModel",
          "model_module_version": "1.5.0",
          "state": {
            "_model_module": "@jupyter-widgets/controls",
            "_model_module_version": "1.5.0",
            "_model_name": "ProgressStyleModel",
            "_view_count": null,
            "_view_module": "@jupyter-widgets/base",
            "_view_module_version": "1.2.0",
            "_view_name": "StyleView",
            "bar_color": null,
            "description_width": ""
          }
        },
        "35d0459e8543401b939d9b88c8475f77": {
          "model_module": "@jupyter-widgets/base",
          "model_name": "LayoutModel",
          "model_module_version": "1.2.0",
          "state": {
            "_model_module": "@jupyter-widgets/base",
            "_model_module_version": "1.2.0",
            "_model_name": "LayoutModel",
            "_view_count": null,
            "_view_module": "@jupyter-widgets/base",
            "_view_module_version": "1.2.0",
            "_view_name": "LayoutView",
            "align_content": null,
            "align_items": null,
            "align_self": null,
            "border": null,
            "bottom": null,
            "display": null,
            "flex": null,
            "flex_flow": null,
            "grid_area": null,
            "grid_auto_columns": null,
            "grid_auto_flow": null,
            "grid_auto_rows": null,
            "grid_column": null,
            "grid_gap": null,
            "grid_row": null,
            "grid_template_areas": null,
            "grid_template_columns": null,
            "grid_template_rows": null,
            "height": null,
            "justify_content": null,
            "justify_items": null,
            "left": null,
            "margin": null,
            "max_height": null,
            "max_width": null,
            "min_height": null,
            "min_width": null,
            "object_fit": null,
            "object_position": null,
            "order": null,
            "overflow": null,
            "overflow_x": null,
            "overflow_y": null,
            "padding": null,
            "right": null,
            "top": null,
            "visibility": null,
            "width": null
          }
        },
        "77b552ed6659412f8971b8db7e30dda8": {
          "model_module": "@jupyter-widgets/controls",
          "model_name": "DescriptionStyleModel",
          "model_module_version": "1.5.0",
          "state": {
            "_model_module": "@jupyter-widgets/controls",
            "_model_module_version": "1.5.0",
            "_model_name": "DescriptionStyleModel",
            "_view_count": null,
            "_view_module": "@jupyter-widgets/base",
            "_view_module_version": "1.2.0",
            "_view_name": "StyleView",
            "description_width": ""
          }
        }
      }
    }
  },
  "cells": [
    {
      "cell_type": "code",
      "source": [
        "!pip install scikit-learn==0.24.2"
      ],
      "metadata": {
        "id": "l3klLDaj7ylQ"
      },
      "execution_count": null,
      "outputs": []
    },
    {
      "cell_type": "code",
      "source": [
        "!pip freeze | grep scikit-learn"
      ],
      "metadata": {
        "id": "9Bpea2n671jk"
      },
      "execution_count": null,
      "outputs": []
    },
    {
      "cell_type": "code",
      "execution_count": null,
      "metadata": {
        "id": "7gn3JfmOo8ZB"
      },
      "outputs": [],
      "source": [
        "from sklearn.datasets import make_classification\n",
        "from sklearn.manifold import TSNE\n",
        "from sklearn.model_selection import train_test_split, cross_val_score\n",
        "from sklearn import metrics\n",
        "import pandas as pd\n",
        "import numpy as np\n",
        "import seaborn as sns\n",
        "\n",
        "from lightgbm import LGBMClassifier\n",
        "\n",
        "%load_ext autoreload\n",
        "%autoreload 2"
      ]
    },
    {
      "cell_type": "code",
      "source": [
        "train_df = pd.read_csv(\"/content/train_dataset.csv\", index_col=0)"
      ],
      "metadata": {
        "id": "7stUAKEzN3Qy"
      },
      "execution_count": null,
      "outputs": []
    },
    {
      "cell_type": "code",
      "source": [
        "train_df.shape"
      ],
      "metadata": {
        "id": "-PN6k5viN3rv"
      },
      "execution_count": null,
      "outputs": []
    },
    {
      "cell_type": "code",
      "source": [
        "predictors_df = train_df.drop('label', axis = 1)\n",
        "labels = train_df['label']"
      ],
      "metadata": {
        "id": "MyWWI_aeN5v-"
      },
      "execution_count": null,
      "outputs": []
    },
    {
      "cell_type": "code",
      "source": [
        "train_df.head()"
      ],
      "metadata": {
        "id": "qhSQsqHkN8rw"
      },
      "execution_count": null,
      "outputs": []
    },
    {
      "cell_type": "code",
      "source": [
        "test_df = pd.read_csv(\"test_dataset.csv\", index_col=0)"
      ],
      "metadata": {
        "id": "xMT2kCTMOCho"
      },
      "execution_count": null,
      "outputs": []
    },
    {
      "cell_type": "code",
      "source": [
        "test_df.shape"
      ],
      "metadata": {
        "id": "_zGF8i6UOC_O"
      },
      "execution_count": null,
      "outputs": []
    },
    {
      "cell_type": "code",
      "source": [
        "test_df.head()"
      ],
      "metadata": {
        "id": "W9J2jEiUOFPo"
      },
      "execution_count": null,
      "outputs": []
    },
    {
      "cell_type": "code",
      "source": [
        "X = train_df('label', axis = 1)"
      ],
      "metadata": {
        "id": "18Ps6paSOSkK"
      },
      "execution_count": null,
      "outputs": []
    },
    {
      "cell_type": "code",
      "source": [],
      "metadata": {
        "id": "voaxV9LWOSiQ"
      },
      "execution_count": null,
      "outputs": []
    },
    {
      "cell_type": "code",
      "source": [],
      "metadata": {
        "id": "Qth1o-ZlOSf1"
      },
      "execution_count": null,
      "outputs": []
    },
    {
      "cell_type": "code",
      "source": [],
      "metadata": {
        "id": "FG99vO8eOSdC"
      },
      "execution_count": null,
      "outputs": []
    },
    {
      "cell_type": "code",
      "source": [
        "X"
      ],
      "metadata": {
        "colab": {
          "base_uri": "https://localhost:8080/"
        },
        "id": "Z6Cv7eoxpWvm",
        "outputId": "75c5e4d8-fe8c-4ca4-c5bc-d4faa469eb15"
      },
      "execution_count": null,
      "outputs": [
        {
          "output_type": "execute_result",
          "data": {
            "text/plain": [
              "array([[ 1.0641922 , -0.23391503, -0.08662348, ...,  1.15356343,\n",
              "         1.90825411,  0.43338862],\n",
              "       [-0.43339018, -1.10148376, -2.84457215, ..., -0.02208631,\n",
              "         1.85096375, -1.03040574],\n",
              "       [ 0.59375096, -0.40894189, -0.40884659, ..., -2.03424886,\n",
              "         1.77681655,  1.5449848 ],\n",
              "       ...,\n",
              "       [-0.65551914,  0.84583962, -0.45865067, ...,  1.35746137,\n",
              "        -0.6972262 ,  0.27835817],\n",
              "       [ 2.08844856, -0.29225522,  2.73090886, ...,  1.46445431,\n",
              "         0.80500111, -0.25593056],\n",
              "       [ 0.4969004 ,  1.22780343,  1.53242248, ...,  0.0427829 ,\n",
              "         0.02054433,  0.02186574]])"
            ]
          },
          "metadata": {},
          "execution_count": 5
        }
      ]
    },
    {
      "cell_type": "code",
      "source": [
        "X_embedded = TSNE(n_components=2, learning_rate='auto', init='random', perplexity=30).fit_transform(X)"
      ],
      "metadata": {
        "id": "x2FNUk4spYLZ"
      },
      "execution_count": null,
      "outputs": []
    },
    {
      "cell_type": "code",
      "source": [
        "sns.scatterplot(x=X_embedded[:, 0], y=X_embedded[:, 1], hue=y)"
      ],
      "metadata": {
        "colab": {
          "base_uri": "https://localhost:8080/",
          "height": 448
        },
        "id": "7e17CfBzp8cE",
        "outputId": "4416521b-b233-49f6-987d-4fc1e72c5e78"
      },
      "execution_count": null,
      "outputs": [
        {
          "output_type": "execute_result",
          "data": {
            "text/plain": [
              "<Axes: >"
            ]
          },
          "metadata": {},
          "execution_count": 6
        },
        {
          "output_type": "display_data",
          "data": {
            "text/plain": [
              "<Figure size 640x480 with 1 Axes>"
            ],
            "image/png": "[encoded data removed]"
          },
          "metadata": {}
        }
      ]
    },
    {
      "cell_type": "code",
      "source": [
        "model = LGBMClassifier(max_depth=5, n_estimators=500)"
      ],
      "metadata": {
        "id": "_Kq4OEIdp_1-"
      },
      "execution_count": null,
      "outputs": []
    },
    {
      "cell_type": "code",
      "source": [
        "X = pd.DataFrame(data=X, columns=[f'feature_{i}' for i in np.arange(X.shape[1])], index=np.arange(500))"
      ],
      "metadata": {
        "id": "gMiJpSwKq5-H"
      },
      "execution_count": null,
      "outputs": []
    },
    {
      "cell_type": "code",
      "source": [
        "X"
      ],
      "metadata": {
        "colab": {
          "base_uri": "https://localhost:8080/",
          "height": 487
        },
        "id": "cUux3_ErrQeT",
        "outputId": "327ee859-b4ed-479c-f514-988c05d8f54d"
      },
      "execution_count": null,
      "outputs": [
        {
          "output_type": "execute_result",
          "data": {
            "text/plain": [
              "     feature_0  feature_1  feature_2  feature_3  feature_4  feature_5  \\\n",
              "0     1.064192  -0.233915  -0.086623   1.321959  -2.164310   0.653193   \n",
              "1    -0.433390  -1.101484  -2.844572   2.420722  -1.188535  -0.362603   \n",
              "2     0.593751  -0.408942  -0.408847   1.250589   0.517230  -0.503244   \n",
              "3     0.124968   0.187539  -0.333420   0.186774   0.381966  -0.700537   \n",
              "4     0.886330  -0.007981  -0.043005   1.173083   0.723348  -1.700176   \n",
              "..         ...        ...        ...        ...        ...        ...   \n",
              "495   0.669455  -0.456303   1.280833  -0.217668   0.479442   0.365371   \n",
              "496  -0.117763   1.252496  -2.920045   2.900454   1.621648   2.565652   \n",
              "497  -0.655519   0.845840  -0.458651  -0.284120  -0.839482  -0.678152   \n",
              "498   2.088449  -0.292255   2.730909  -0.495300   1.370410   1.018157   \n",
              "499   0.496900   1.227803   1.532422  -0.788656   0.787323  -0.326663   \n",
              "\n",
              "     feature_6  feature_7  feature_8  feature_9  feature_10  feature_11  \\\n",
              "0     1.244775  -0.328599   0.429563  -1.520541   -1.865545   -2.345773   \n",
              "1     0.790185   1.988820  -0.287558  -0.603980   -0.777533   -3.609638   \n",
              "2     1.517552   1.266847  -0.308677   0.374486    1.047514   -2.096240   \n",
              "3    -1.101084  -0.821470  -0.095310   0.559700    0.760118   -0.332511   \n",
              "4     1.496271   1.645382   0.918031   0.447252    0.204414   -2.062045   \n",
              "..         ...        ...        ...        ...         ...         ...   \n",
              "495   1.677248  -0.069753   1.058781   0.488927   -0.917155    0.152060   \n",
              "496   1.350929   1.634141  -0.332085  -0.213896    0.107486   -4.439571   \n",
              "497  -0.517229   1.322167   2.891703  -0.566632   -0.157842    0.627160   \n",
              "498   0.631710   1.429458   0.353548  -1.199860    0.014244    0.159747   \n",
              "499   0.846882   0.129540  -0.555445  -0.311348    0.057118    1.079455   \n",
              "\n",
              "     feature_12  feature_13  feature_14  feature_15  feature_16  feature_17  \\\n",
              "0     -1.416434    1.028654   -0.518608   -0.272394   -1.507347    1.153563   \n",
              "1     -2.034682    1.161609   -0.781504    2.607526   -1.666672   -0.022086   \n",
              "2     -0.365183   -2.852944   -1.242249   -0.642691   -0.691338   -2.034249   \n",
              "3      1.004377    1.054412    1.622498    1.941699   -1.350404    0.531097   \n",
              "4      0.969041   -0.790170   -0.157421   -0.826806   -0.921016    1.126348   \n",
              "..          ...         ...         ...         ...         ...         ...   \n",
              "495    1.528929    0.669808   -0.151734   -3.147401    1.094325   -1.134280   \n",
              "496    0.980263   -0.430818    0.253008    2.364255   -2.041752   -0.056015   \n",
              "497    0.746249   -0.536082    1.791671    0.588666    0.535492    1.357461   \n",
              "498    0.153102   -1.576352   -0.561588   -2.436001   -0.993230    1.464454   \n",
              "499   -0.173184    0.284825    0.494180   -2.675067    1.183327    0.042783   \n",
              "\n",
              "     feature_18  feature_19  \n",
              "0      1.908254    0.433389  \n",
              "1      1.850964   -1.030406  \n",
              "2      1.776817    1.544985  \n",
              "3     -0.288665    0.416930  \n",
              "4      1.836835    0.687067  \n",
              "..          ...         ...  \n",
              "495    0.849188    0.198132  \n",
              "496    2.560444    0.318068  \n",
              "497   -0.697226    0.278358  \n",
              "498    0.805001   -0.255931  \n",
              "499    0.020544    0.021866  \n",
              "\n",
              "[500 rows x 20 columns]"
            ],
            "text/html": [
              "\n",
              "  <div id=\"df-9ecc0fe5-952c-49fb-8d60-8015a97ed2b6\">\n",
              "    <div class=\"colab-df-container\">\n",
              "      <div>\n",
              "<style scoped>\n",
              "    .dataframe tbody tr th:only-of-type {\n",
              "        vertical-align: middle;\n",
              "    }\n",
              "\n",
              "    .dataframe tbody tr th {\n",
              "        vertical-align: top;\n",
              "    }\n",
              "\n",
              "    .dataframe thead th {\n",
              "        text-align: right;\n",
              "    }\n",
              "</style>\n",
              "<table border=\"1\" class=\"dataframe\">\n",
              "  <thead>\n",
              "    <tr style=\"text-align: right;\">\n",
              "      <th></th>\n",
              "      <th>feature_0</th>\n",
              "      <th>feature_1</th>\n",
              "      <th>feature_2</th>\n",
              "      <th>feature_3</th>\n",
              "      <th>feature_4</th>\n",
              "      <th>feature_5</th>\n",
              "      <th>feature_6</th>\n",
              "      <th>feature_7</th>\n",
              "      <th>feature_8</th>\n",
              "      <th>feature_9</th>\n",
              "      <th>feature_10</th>\n",
              "      <th>feature_11</th>\n",
              "      <th>feature_12</th>\n",
              "      <th>feature_13</th>\n",
              "      <th>feature_14</th>\n",
              "      <th>feature_15</th>\n",
              "      <th>feature_16</th>\n",
              "      <th>feature_17</th>\n",
              "      <th>feature_18</th>\n",
              "      <th>feature_19</th>\n",
              "    </tr>\n",
              "  </thead>\n",
              "  <tbody>\n",
              "    <tr>\n",
              "      <th>0</th>\n",
              "      <td>1.064192</td>\n",
              "      <td>-0.233915</td>\n",
              "      <td>-0.086623</td>\n",
              "      <td>1.321959</td>\n",
              "      <td>-2.164310</td>\n",
              "      <td>0.653193</td>\n",
              "      <td>1.244775</td>\n",
              "      <td>-0.328599</td>\n",
              "      <td>0.429563</td>\n",
              "      <td>-1.520541</td>\n",
              "      <td>-1.865545</td>\n",
              "      <td>-2.345773</td>\n",
              "      <td>-1.416434</td>\n",
              "      <td>1.028654</td>\n",
              "      <td>-0.518608</td>\n",
              "      <td>-0.272394</td>\n",
              "      <td>-1.507347</td>\n",
              "      <td>1.153563</td>\n",
              "      <td>1.908254</td>\n",
              "      <td>0.433389</td>\n",
              "    </tr>\n",
              "    <tr>\n",
              "      <th>1</th>\n",
              "      <td>-0.433390</td>\n",
              "      <td>-1.101484</td>\n",
              "      <td>-2.844572</td>\n",
              "      <td>2.420722</td>\n",
              "      <td>-1.188535</td>\n",
              "      <td>-0.362603</td>\n",
              "      <td>0.790185</td>\n",
              "      <td>1.988820</td>\n",
              "      <td>-0.287558</td>\n",
              "      <td>-0.603980</td>\n",
              "      <td>-0.777533</td>\n",
              "      <td>-3.609638</td>\n",
              "      <td>-2.034682</td>\n",
              "      <td>1.161609</td>\n",
              "      <td>-0.781504</td>\n",
              "      <td>2.607526</td>\n",
              "      <td>-1.666672</td>\n",
              "      <td>-0.022086</td>\n",
              "      <td>1.850964</td>\n",
              "      <td>-1.030406</td>\n",
              "    </tr>\n",
              "    <tr>\n",
              "      <th>2</th>\n",
              "      <td>0.593751</td>\n",
              "      <td>-0.408942</td>\n",
              "      <td>-0.408847</td>\n",
              "      <td>1.250589</td>\n",
              "      <td>0.517230</td>\n",
              "      <td>-0.503244</td>\n",
              "      <td>1.517552</td>\n",
              "      <td>1.266847</td>\n",
              "      <td>-0.308677</td>\n",
              "      <td>0.374486</td>\n",
              "      <td>1.047514</td>\n",
              "      <td>-2.096240</td>\n",
              "      <td>-0.365183</td>\n",
              "      <td>-2.852944</td>\n",
              "      <td>-1.242249</td>\n",
              "      <td>-0.642691</td>\n",
              "      <td>-0.691338</td>\n",
              "      <td>-2.034249</td>\n",
              "      <td>1.776817</td>\n",
              "      <td>1.544985</td>\n",
              "    </tr>\n",
              "    <tr>\n",
              "      <th>3</th>\n",
              "      <td>0.124968</td>\n",
              "      <td>0.187539</td>\n",
              "      <td>-0.333420</td>\n",
              "      <td>0.186774</td>\n",
              "      <td>0.381966</td>\n",
              "      <td>-0.700537</td>\n",
              "      <td>-1.101084</td>\n",
              "      <td>-0.821470</td>\n",
              "      <td>-0.095310</td>\n",
              "      <td>0.559700</td>\n",
              "      <td>0.760118</td>\n",
              "      <td>-0.332511</td>\n",
              "      <td>1.004377</td>\n",
              "      <td>1.054412</td>\n",
              "      <td>1.622498</td>\n",
              "      <td>1.941699</td>\n",
              "      <td>-1.350404</td>\n",
              "      <td>0.531097</td>\n",
              "      <td>-0.288665</td>\n",
              "      <td>0.416930</td>\n",
              "    </tr>\n",
              "    <tr>\n",
              "      <th>4</th>\n",
              "      <td>0.886330</td>\n",
              "      <td>-0.007981</td>\n",
              "      <td>-0.043005</td>\n",
              "      <td>1.173083</td>\n",
              "      <td>0.723348</td>\n",
              "      <td>-1.700176</td>\n",
              "      <td>1.496271</td>\n",
              "      <td>1.645382</td>\n",
              "      <td>0.918031</td>\n",
              "      <td>0.447252</td>\n",
              "      <td>0.204414</td>\n",
              "      <td>-2.062045</td>\n",
              "      <td>0.969041</td>\n",
              "      <td>-0.790170</td>\n",
              "      <td>-0.157421</td>\n",
              "      <td>-0.826806</td>\n",
              "      <td>-0.921016</td>\n",
              "      <td>1.126348</td>\n",
              "      <td>1.836835</td>\n",
              "      <td>0.687067</td>\n",
              "    </tr>\n",
              "    <tr>\n",
              "      <th>...</th>\n",
              "      <td>...</td>\n",
              "      <td>...</td>\n",
              "      <td>...</td>\n",
              "      <td>...</td>\n",
              "      <td>...</td>\n",
              "      <td>...</td>\n",
              "      <td>...</td>\n",
              "      <td>...</td>\n",
              "      <td>...</td>\n",
              "      <td>...</td>\n",
              "      <td>...</td>\n",
              "      <td>...</td>\n",
              "      <td>...</td>\n",
              "      <td>...</td>\n",
              "      <td>...</td>\n",
              "      <td>...</td>\n",
              "      <td>...</td>\n",
              "      <td>...</td>\n",
              "      <td>...</td>\n",
              "      <td>...</td>\n",
              "    </tr>\n",
              "    <tr>\n",
              "      <th>495</th>\n",
              "      <td>0.669455</td>\n",
              "      <td>-0.456303</td>\n",
              "      <td>1.280833</td>\n",
              "      <td>-0.217668</td>\n",
              "      <td>0.479442</td>\n",
              "      <td>0.365371</td>\n",
              "      <td>1.677248</td>\n",
              "      <td>-0.069753</td>\n",
              "      <td>1.058781</td>\n",
              "      <td>0.488927</td>\n",
              "      <td>-0.917155</td>\n",
              "      <td>0.152060</td>\n",
              "      <td>1.528929</td>\n",
              "      <td>0.669808</td>\n",
              "      <td>-0.151734</td>\n",
              "      <td>-3.147401</td>\n",
              "      <td>1.094325</td>\n",
              "      <td>-1.134280</td>\n",
              "      <td>0.849188</td>\n",
              "      <td>0.198132</td>\n",
              "    </tr>\n",
              "    <tr>\n",
              "      <th>496</th>\n",
              "      <td>-0.117763</td>\n",
              "      <td>1.252496</td>\n",
              "      <td>-2.920045</td>\n",
              "      <td>2.900454</td>\n",
              "      <td>1.621648</td>\n",
              "      <td>2.565652</td>\n",
              "      <td>1.350929</td>\n",
              "      <td>1.634141</td>\n",
              "      <td>-0.332085</td>\n",
              "      <td>-0.213896</td>\n",
              "      <td>0.107486</td>\n",
              "      <td>-4.439571</td>\n",
              "      <td>0.980263</td>\n",
              "      <td>-0.430818</td>\n",
              "      <td>0.253008</td>\n",
              "      <td>2.364255</td>\n",
              "      <td>-2.041752</td>\n",
              "      <td>-0.056015</td>\n",
              "      <td>2.560444</td>\n",
              "      <td>0.318068</td>\n",
              "    </tr>\n",
              "    <tr>\n",
              "      <th>497</th>\n",
              "      <td>-0.655519</td>\n",
              "      <td>0.845840</td>\n",
              "      <td>-0.458651</td>\n",
              "      <td>-0.284120</td>\n",
              "      <td>-0.839482</td>\n",
              "      <td>-0.678152</td>\n",
              "      <td>-0.517229</td>\n",
              "      <td>1.322167</td>\n",
              "      <td>2.891703</td>\n",
              "      <td>-0.566632</td>\n",
              "      <td>-0.157842</td>\n",
              "      <td>0.627160</td>\n",
              "      <td>0.746249</td>\n",
              "      <td>-0.536082</td>\n",
              "      <td>1.791671</td>\n",
              "      <td>0.588666</td>\n",
              "      <td>0.535492</td>\n",
              "      <td>1.357461</td>\n",
              "      <td>-0.697226</td>\n",
              "      <td>0.278358</td>\n",
              "    </tr>\n",
              "    <tr>\n",
              "      <th>498</th>\n",
              "      <td>2.088449</td>\n",
              "      <td>-0.292255</td>\n",
              "      <td>2.730909</td>\n",
              "      <td>-0.495300</td>\n",
              "      <td>1.370410</td>\n",
              "      <td>1.018157</td>\n",
              "      <td>0.631710</td>\n",
              "      <td>1.429458</td>\n",
              "      <td>0.353548</td>\n",
              "      <td>-1.199860</td>\n",
              "      <td>0.014244</td>\n",
              "      <td>0.159747</td>\n",
              "      <td>0.153102</td>\n",
              "      <td>-1.576352</td>\n",
              "      <td>-0.561588</td>\n",
              "      <td>-2.436001</td>\n",
              "      <td>-0.993230</td>\n",
              "      <td>1.464454</td>\n",
              "      <td>0.805001</td>\n",
              "      <td>-0.255931</td>\n",
              "    </tr>\n",
              "    <tr>\n",
              "      <th>499</th>\n",
              "      <td>0.496900</td>\n",
              "      <td>1.227803</td>\n",
              "      <td>1.532422</td>\n",
              "      <td>-0.788656</td>\n",
              "      <td>0.787323</td>\n",
              "      <td>-0.326663</td>\n",
              "      <td>0.846882</td>\n",
              "      <td>0.129540</td>\n",
              "      <td>-0.555445</td>\n",
              "      <td>-0.311348</td>\n",
              "      <td>0.057118</td>\n",
              "      <td>1.079455</td>\n",
              "      <td>-0.173184</td>\n",
              "      <td>0.284825</td>\n",
              "      <td>0.494180</td>\n",
              "      <td>-2.675067</td>\n",
              "      <td>1.183327</td>\n",
              "      <td>0.042783</td>\n",
              "      <td>0.020544</td>\n",
              "      <td>0.021866</td>\n",
              "    </tr>\n",
              "  </tbody>\n",
              "</table>\n",
              "<p>500 rows × 20 columns</p>\n",
              "</div>\n",
              "      <button class=\"colab-df-convert\" onclick=\"convertToInteractive('df-9ecc0fe5-952c-49fb-8d60-8015a97ed2b6')\"\n",
              "              title=\"Convert this dataframe to an interactive table.\"\n",
              "              style=\"display:none;\">\n",
              "        \n",
              "  <svg xmlns=\"http://www.w3.org/2000/svg\" height=\"24px\"viewBox=\"0 0 24 24\"\n",
              "       width=\"24px\">\n",
              "    <path d=\"M0 0h24v24H0V0z\" fill=\"none\"/>\n",
              "    <path d=\"M18.56 5.44l.94 2.06.94-2.06 2.06-.94-2.06-.94-.94-2.06-.94 2.06-2.06.94zm-11 1L8.5 8.5l.94-2.06 2.06-.94-2.06-.94L8.5 2.5l-.94 2.06-2.06.94zm10 10l.94 2.06.94-2.06 2.06-.94-2.06-.94-.94-2.06-.94 2.06-2.06.94z\"/><path d=\"M17.41 7.96l-1.37-1.37c-.4-.4-.92-.59-1.43-.59-.52 0-1.04.2-1.43.59L10.3 9.45l-7.72 7.72c-.78.78-.78 2.05 0 2.83L4 21.41c.39.39.9.59 1.41.59.51 0 1.02-.2 1.41-.59l7.78-7.78 2.81-2.81c.8-.78.8-2.07 0-2.86zM5.41 20L4 18.59l7.72-7.72 1.47 1.35L5.41 20z\"/>\n",
              "  </svg>\n",
              "      </button>\n",
              "      \n",
              "  <style>\n",
              "    .colab-df-container {\n",
              "      display:flex;\n",
              "      flex-wrap:wrap;\n",
              "      gap: 12px;\n",
              "    }\n",
              "\n",
              "    .colab-df-convert {\n",
              "      background-color: #E8F0FE;\n",
              "      border: none;\n",
              "      border-radius: 50%;\n",
              "      cursor: pointer;\n",
              "      display: none;\n",
              "      fill: #1967D2;\n",
              "      height: 32px;\n",
              "      padding: 0 0 0 0;\n",
              "      width: 32px;\n",
              "    }\n",
              "\n",
              "    .colab-df-convert:hover {\n",
              "      background-color: #E2EBFA;\n",
              "      box-shadow: 0px 1px 2px rgba(60, 64, 67, 0.3), 0px 1px 3px 1px rgba(60, 64, 67, 0.15);\n",
              "      fill: #174EA6;\n",
              "    }\n",
              "\n",
              "    [theme=dark] .colab-df-convert {\n",
              "      background-color: #3B4455;\n",
              "      fill: #D2E3FC;\n",
              "    }\n",
              "\n",
              "    [theme=dark] .colab-df-convert:hover {\n",
              "      background-color: #434B5C;\n",
              "      box-shadow: 0px 1px 3px 1px rgba(0, 0, 0, 0.15);\n",
              "      filter: drop-shadow(0px 1px 2px rgba(0, 0, 0, 0.3));\n",
              "      fill: #FFFFFF;\n",
              "    }\n",
              "  </style>\n",
              "\n",
              "      <script>\n",
              "        const buttonEl =\n",
              "          document.querySelector('#df-9ecc0fe5-952c-49fb-8d60-8015a97ed2b6 button.colab-df-convert');\n",
              "        buttonEl.style.display =\n",
              "          google.colab.kernel.accessAllowed ? 'block' : 'none';\n",
              "\n",
              "        async function convertToInteractive(key) {\n",
              "          const element = document.querySelector('#df-9ecc0fe5-952c-49fb-8d60-8015a97ed2b6');\n",
              "          const dataTable =\n",
              "            await google.colab.kernel.invokeFunction('convertToInteractive',\n",
              "                                                     [key], {});\n",
              "          if (!dataTable) return;\n",
              "\n",
              "          const docLinkHtml = 'Like what you see? Visit the ' +\n",
              "            '<a target=\"_blank\" href=https://colab.research.google.com/notebooks/data_table.ipynb>data table notebook</a>'\n",
              "            + ' to learn more about interactive tables.';\n",
              "          element.innerHTML = '';\n",
              "          dataTable['output_type'] = 'display_data';\n",
              "          await google.colab.output.renderOutput(dataTable, element);\n",
              "          const docLink = document.createElement('div');\n",
              "          docLink.innerHTML = docLinkHtml;\n",
              "          element.appendChild(docLink);\n",
              "        }\n",
              "      </script>\n",
              "    </div>\n",
              "  </div>\n",
              "  "
            ]
          },
          "metadata": {},
          "execution_count": 7
        }
      ]
    },
    {
      "cell_type": "code",
      "source": [
        "X_train, X_test, y_train, y_test = train_test_split(X,\n",
        "                                                    y,\n",
        "                                                    test_size=0.25,\n",
        "                                                    stratify=y,\n",
        "                                                    random_state=42)"
      ],
      "metadata": {
        "id": "aH8ENgl2yQAp"
      },
      "execution_count": null,
      "outputs": []
    },
    {
      "cell_type": "code",
      "source": [
        "scores = cross_val_score(model, X, y, cv=5)"
      ],
      "metadata": {
        "id": "S4bRm9aY6ZQf"
      },
      "execution_count": null,
      "outputs": []
    },
    {
      "cell_type": "code",
      "source": [
        "scores"
      ],
      "metadata": {
        "colab": {
          "base_uri": "https://localhost:8080/"
        },
        "id": "g8Y2KseHfggZ",
        "outputId": "d96f86e3-3526-4e24-d327-834e20693a8a"
      },
      "execution_count": null,
      "outputs": [
        {
          "output_type": "execute_result",
          "data": {
            "text/plain": [
              "array([0.87, 0.84, 0.79, 0.89, 0.86])"
            ]
          },
          "metadata": {},
          "execution_count": 129
        }
      ]
    },
    {
      "cell_type": "code",
      "source": [
        "scores.mean()"
      ],
      "metadata": {
        "colab": {
          "base_uri": "https://localhost:8080/"
        },
        "id": "hBsSxE4N6hDj",
        "outputId": "9c66bb75-cc0d-4feb-c89a-dddb0c288658"
      },
      "execution_count": null,
      "outputs": [
        {
          "output_type": "execute_result",
          "data": {
            "text/plain": [
              "0.85"
            ]
          },
          "metadata": {},
          "execution_count": 10
        }
      ]
    },
    {
      "cell_type": "code",
      "source": [
        "model.fit(X_train, y_train)"
      ],
      "metadata": {
        "colab": {
          "base_uri": "https://localhost:8080/"
        },
        "id": "zRIgGuHorVIe",
        "outputId": "7e331333-b473-4954-e111-4382894c86dd"
      },
      "execution_count": null,
      "outputs": [
        {
          "output_type": "execute_result",
          "data": {
            "text/plain": [
              "LGBMClassifier(max_depth=5, n_estimators=500)"
            ]
          },
          "metadata": {},
          "execution_count": 11
        }
      ]
    },
    {
      "cell_type": "code",
      "source": [
        "metrics.f1_score(model.predict(X_test), y_test)"
      ],
      "metadata": {
        "colab": {
          "base_uri": "https://localhost:8080/"
        },
        "id": "jlA50niJrWCc",
        "outputId": "a12f3739-47d7-4db4-e956-ca2c5f9cbf34"
      },
      "execution_count": null,
      "outputs": [
        {
          "output_type": "execute_result",
          "data": {
            "text/plain": [
              "0.8173913043478261"
            ]
          },
          "metadata": {},
          "execution_count": 12
        }
      ]
    },
    {
      "cell_type": "code",
      "source": [
        "from lightgbm import plot_importance"
      ],
      "metadata": {
        "id": "UCqmIwCfrZOo"
      },
      "execution_count": null,
      "outputs": []
    },
    {
      "cell_type": "code",
      "source": [
        "plot_importance(model)"
      ],
      "metadata": {
        "colab": {
          "base_uri": "https://localhost:8080/",
          "height": 490
        },
        "id": "G_Nhb7-orkJa",
        "outputId": "cbaa099a-b342-469a-bdcd-0d1e169a1c03"
      },
      "execution_count": null,
      "outputs": [
        {
          "output_type": "execute_result",
          "data": {
            "text/plain": [
              "<Axes: title={'center': 'Feature importance'}, xlabel='Feature importance', ylabel='Features'>"
            ]
          },
          "metadata": {},
          "execution_count": 14
        },
        {
          "output_type": "display_data",
          "data": {
            "text/plain": [
              "<Figure size 640x480 with 1 Axes>"
            ],
            "image/png": "[encoded data removed]"
          },
          "metadata": {}
        }
      ]
    },
    {
      "cell_type": "code",
      "source": [
        "model.fit(X_train.drop(columns=['feature_6', 'feature_0', 'feature_16']), y_train)"
      ],
      "metadata": {
        "colab": {
          "base_uri": "https://localhost:8080/"
        },
        "outputId": "e07a3861-a0af-4b84-9981-161bc7f342f4",
        "id": "c-ShzTQ7VEnE"
      },
      "execution_count": null,
      "outputs": [
        {
          "output_type": "execute_result",
          "data": {
            "text/plain": [
              "LGBMClassifier(max_depth=5, n_estimators=500)"
            ]
          },
          "metadata": {},
          "execution_count": 20
        }
      ]
    },
    {
      "cell_type": "code",
      "source": [
        "metrics.f1_score(model.predict(X_test.drop(columns=['feature_6', 'feature_0', 'feature_16'])), y_test)"
      ],
      "metadata": {
        "colab": {
          "base_uri": "https://localhost:8080/"
        },
        "outputId": "094c7592-0e45-4c07-e370-ed909d0498c2",
        "id": "6oU0-Ah0VEnE"
      },
      "execution_count": null,
      "outputs": [
        {
          "output_type": "execute_result",
          "data": {
            "text/plain": [
              "0.7692307692307693"
            ]
          },
          "metadata": {},
          "execution_count": 21
        }
      ]
    },
    {
      "cell_type": "code",
      "source": [
        "model.fit(X_train.drop(columns=['feature_16']), y_train)"
      ],
      "metadata": {
        "colab": {
          "base_uri": "https://localhost:8080/"
        },
        "outputId": "ceb8ebc6-178e-4e92-8bb6-8ab8a0a2b3eb",
        "id": "BTCLXke6Vces"
      },
      "execution_count": null,
      "outputs": [
        {
          "output_type": "execute_result",
          "data": {
            "text/plain": [
              "LGBMClassifier(max_depth=5, n_estimators=500)"
            ]
          },
          "metadata": {},
          "execution_count": 22
        }
      ]
    },
    {
      "cell_type": "code",
      "source": [
        "metrics.f1_score(model.predict(X_test.drop(columns=['feature_16'])), y_test)"
      ],
      "metadata": {
        "colab": {
          "base_uri": "https://localhost:8080/"
        },
        "outputId": "e588ab57-9b43-4f5d-ae8b-854db25f07d3",
        "id": "N8fVfHobVces"
      },
      "execution_count": null,
      "outputs": [
        {
          "output_type": "execute_result",
          "data": {
            "text/plain": [
              "0.7758620689655172"
            ]
          },
          "metadata": {},
          "execution_count": 23
        }
      ]
    },
    {
      "cell_type": "code",
      "source": [
        "for feature in ['feature_16', 'feature_0']:\n",
        "    for i in range(10):\n",
        "        X[f'{feature}_shuffled_{i}'] = np.random.permutation(X[feature])"
      ],
      "metadata": {
        "id": "EDOeVHy5WBF2"
      },
      "execution_count": null,
      "outputs": []
    },
    {
      "cell_type": "code",
      "source": [
        "X['feature_0_shuffled_2'].hist()"
      ],
      "metadata": {
        "colab": {
          "base_uri": "https://localhost:8080/",
          "height": 452
        },
        "id": "pQ79XNbjWe4w",
        "outputId": "827594d6-300e-4b17-beea-58d978f6b497"
      },
      "execution_count": null,
      "outputs": [
        {
          "output_type": "execute_result",
          "data": {
            "text/plain": [
              "<Axes: >"
            ]
          },
          "metadata": {},
          "execution_count": 30
        },
        {
          "output_type": "display_data",
          "data": {
            "text/plain": [
              "<Figure size 640x480 with 1 Axes>"
            ],
            "image/png": "[encoded data removed]"
          },
          "metadata": {}
        }
      ]
    },
    {
      "cell_type": "code",
      "source": [
        "X['feature_0_shuffled_4'].hist()"
      ],
      "metadata": {
        "colab": {
          "base_uri": "https://localhost:8080/",
          "height": 452
        },
        "id": "Xxbxrt8GWkE-",
        "outputId": "82c5b612-1f8b-4218-c795-6441a0c13745"
      },
      "execution_count": null,
      "outputs": [
        {
          "output_type": "execute_result",
          "data": {
            "text/plain": [
              "<Axes: >"
            ]
          },
          "metadata": {},
          "execution_count": 31
        },
        {
          "output_type": "display_data",
          "data": {
            "text/plain": [
              "<Figure size 640x480 with 1 Axes>"
            ],
            "image/png": "[encoded data removed]"
          },
          "metadata": {}
        }
      ]
    },
    {
      "cell_type": "code",
      "source": [
        "X_train, X_test, y_train, y_test = train_test_split(X,\n",
        "                                                    y,\n",
        "                                                    test_size=0.25,\n",
        "                                                    stratify=y,\n",
        "                                                    random_state=42)"
      ],
      "metadata": {
        "id": "WgvUMjYkWyr4"
      },
      "execution_count": null,
      "outputs": []
    },
    {
      "cell_type": "code",
      "source": [
        "scores = cross_val_score(model, X, y, cv=5)"
      ],
      "metadata": {
        "id": "scuWo5PqWyr5"
      },
      "execution_count": null,
      "outputs": []
    },
    {
      "cell_type": "code",
      "source": [
        "scores.mean()"
      ],
      "metadata": {
        "colab": {
          "base_uri": "https://localhost:8080/"
        },
        "outputId": "59ac1c69-98c8-43fd-ed21-ea2e9f3d8776",
        "id": "jhiX3txVWyr5"
      },
      "execution_count": null,
      "outputs": [
        {
          "output_type": "execute_result",
          "data": {
            "text/plain": [
              "0.8440000000000001"
            ]
          },
          "metadata": {},
          "execution_count": 42
        }
      ]
    },
    {
      "cell_type": "code",
      "source": [
        "model.fit(X_train, y_train)"
      ],
      "metadata": {
        "colab": {
          "base_uri": "https://localhost:8080/"
        },
        "outputId": "0aebc23d-3b49-4559-f5ef-02c293b78e6f",
        "id": "oRtP2jRtWyr5"
      },
      "execution_count": null,
      "outputs": [
        {
          "output_type": "execute_result",
          "data": {
            "text/plain": [
              "LGBMClassifier(max_depth=5, n_estimators=500)"
            ]
          },
          "metadata": {},
          "execution_count": 43
        }
      ]
    },
    {
      "cell_type": "code",
      "source": [
        "metrics.f1_score(model.predict(X_test), y_test)"
      ],
      "metadata": {
        "colab": {
          "base_uri": "https://localhost:8080/"
        },
        "outputId": "dc10135c-c4ad-4560-8175-e66d516d62da",
        "id": "h69kbeCsWyr6"
      },
      "execution_count": null,
      "outputs": [
        {
          "output_type": "execute_result",
          "data": {
            "text/plain": [
              "0.7787610619469026"
            ]
          },
          "metadata": {},
          "execution_count": 44
        }
      ]
    },
    {
      "cell_type": "code",
      "source": [
        "from lightgbm import plot_importance"
      ],
      "metadata": {
        "id": "gGYrgwmiWyr6"
      },
      "execution_count": null,
      "outputs": []
    },
    {
      "cell_type": "code",
      "source": [
        "plot_importance(model)"
      ],
      "metadata": {
        "colab": {
          "base_uri": "https://localhost:8080/",
          "height": 490
        },
        "outputId": "073e7c83-1186-40ee-c232-cec8670bce80",
        "id": "XKcFXaOrWyr6"
      },
      "execution_count": null,
      "outputs": [
        {
          "output_type": "execute_result",
          "data": {
            "text/plain": [
              "<Axes: title={'center': 'Feature importance'}, xlabel='Feature importance', ylabel='Features'>"
            ]
          },
          "metadata": {},
          "execution_count": 46
        },
        {
          "output_type": "display_data",
          "data": {
            "text/plain": [
              "<Figure size 640x480 with 1 Axes>"
            ],
            "image/png": "[encoded data removed]"
          },
          "metadata": {}
        }
      ]
    },
    {
      "cell_type": "code",
      "source": [
        "X"
      ],
      "metadata": {
        "colab": {
          "base_uri": "https://localhost:8080/",
          "height": 487
        },
        "id": "BYLx7_uHUi61",
        "outputId": "6453c84b-2edf-4b04-dc94-b56585f45674"
      },
      "execution_count": null,
      "outputs": [
        {
          "output_type": "execute_result",
          "data": {
            "text/plain": [
              "     feature_0  feature_1  feature_2  feature_3  feature_4  feature_5  \\\n",
              "0     1.064192  -0.233915  -0.086623   1.321959  -2.164310   0.653193   \n",
              "1    -0.433390  -1.101484  -2.844572   2.420722  -1.188535  -0.362603   \n",
              "2     0.593751  -0.408942  -0.408847   1.250589   0.517230  -0.503244   \n",
              "3     0.124968   0.187539  -0.333420   0.186774   0.381966  -0.700537   \n",
              "4     0.886330  -0.007981  -0.043005   1.173083   0.723348  -1.700176   \n",
              "..         ...        ...        ...        ...        ...        ...   \n",
              "495   0.669455  -0.456303   1.280833  -0.217668   0.479442   0.365371   \n",
              "496  -0.117763   1.252496  -2.920045   2.900454   1.621648   2.565652   \n",
              "497  -0.655519   0.845840  -0.458651  -0.284120  -0.839482  -0.678152   \n",
              "498   2.088449  -0.292255   2.730909  -0.495300   1.370410   1.018157   \n",
              "499   0.496900   1.227803   1.532422  -0.788656   0.787323  -0.326663   \n",
              "\n",
              "     feature_6  feature_7  feature_8  feature_9  ...  feature_0_shuffled_0  \\\n",
              "0     1.244775  -0.328599   0.429563  -1.520541  ...              0.691475   \n",
              "1     0.790185   1.988820  -0.287558  -0.603980  ...              0.483625   \n",
              "2     1.517552   1.266847  -0.308677   0.374486  ...             -0.581913   \n",
              "3    -1.101084  -0.821470  -0.095310   0.559700  ...             -1.416748   \n",
              "4     1.496271   1.645382   0.918031   0.447252  ...              1.686490   \n",
              "..         ...        ...        ...        ...  ...                   ...   \n",
              "495   1.677248  -0.069753   1.058781   0.488927  ...              1.270530   \n",
              "496   1.350929   1.634141  -0.332085  -0.213896  ...              1.385824   \n",
              "497  -0.517229   1.322167   2.891703  -0.566632  ...              0.967355   \n",
              "498   0.631710   1.429458   0.353548  -1.199860  ...              0.282984   \n",
              "499   0.846882   0.129540  -0.555445  -0.311348  ...              1.131246   \n",
              "\n",
              "     feature_0_shuffled_1  feature_0_shuffled_2  feature_0_shuffled_3  \\\n",
              "0                1.634421              0.473275              1.531497   \n",
              "1                0.182049             -0.440018             -0.111119   \n",
              "2                0.000424              0.787111              1.565957   \n",
              "3                1.380666             -1.416748             -0.716633   \n",
              "4               -1.140020              0.724017              0.534986   \n",
              "..                    ...                   ...                   ...   \n",
              "495              1.536673              0.493427              0.608408   \n",
              "496              0.222680             -0.755907             -1.550074   \n",
              "497             -0.059569             -0.702565              1.409183   \n",
              "498              1.022961              0.742814              0.573331   \n",
              "499             -1.045194              0.123272             -0.165404   \n",
              "\n",
              "     feature_0_shuffled_4  feature_0_shuffled_5  feature_0_shuffled_6  \\\n",
              "0                1.101668              0.177848              0.645174   \n",
              "1                1.541370             -0.860947              1.279713   \n",
              "2                1.656880              0.463848              1.837092   \n",
              "3                1.226086             -1.045194             -1.570334   \n",
              "4               -1.764150              0.990458              0.099305   \n",
              "..                    ...                   ...                   ...   \n",
              "495              0.998092              0.356645              0.644226   \n",
              "496             -1.570334              0.941653              2.203474   \n",
              "497             -0.415895              2.031891             -0.352949   \n",
              "498             -0.860947              0.391028             -0.990586   \n",
              "499             -0.005923             -0.986271             -0.959486   \n",
              "\n",
              "     feature_0_shuffled_7  feature_0_shuffled_8  feature_0_shuffled_9  \n",
              "0                0.249684             -0.499580              1.380666  \n",
              "1                1.327315             -0.990609             -1.550074  \n",
              "2                1.272413              1.407112              0.745780  \n",
              "3                1.271691              1.276579              0.405659  \n",
              "4                0.322427              0.882897             -0.529039  \n",
              "..                    ...                   ...                   ...  \n",
              "495             -1.083568             -1.415130             -2.580328  \n",
              "496              1.011102              1.303789              0.747231  \n",
              "497              0.593751             -0.359641              0.524145  \n",
              "498              2.203474              0.144094              1.486546  \n",
              "499              0.752280              1.470839              0.023674  \n",
              "\n",
              "[500 rows x 40 columns]"
            ],
            "text/html": [
              "\n",
              "  <div id=\"df-abf0290e-fc40-49eb-8a70-da561087919f\">\n",
              "    <div class=\"colab-df-container\">\n",
              "      <div>\n",
              "<style scoped>\n",
              "    .dataframe tbody tr th:only-of-type {\n",
              "        vertical-align: middle;\n",
              "    }\n",
              "\n",
              "    .dataframe tbody tr th {\n",
              "        vertical-align: top;\n",
              "    }\n",
              "\n",
              "    .dataframe thead th {\n",
              "        text-align: right;\n",
              "    }\n",
              "</style>\n",
              "<table border=\"1\" class=\"dataframe\">\n",
              "  <thead>\n",
              "    <tr style=\"text-align: right;\">\n",
              "      <th></th>\n",
              "      <th>feature_0</th>\n",
              "      <th>feature_1</th>\n",
              "      <th>feature_2</th>\n",
              "      <th>feature_3</th>\n",
              "      <th>feature_4</th>\n",
              "      <th>feature_5</th>\n",
              "      <th>feature_6</th>\n",
              "      <th>feature_7</th>\n",
              "      <th>feature_8</th>\n",
              "      <th>feature_9</th>\n",
              "      <th>...</th>\n",
              "      <th>feature_0_shuffled_0</th>\n",
              "      <th>feature_0_shuffled_1</th>\n",
              "      <th>feature_0_shuffled_2</th>\n",
              "      <th>feature_0_shuffled_3</th>\n",
              "      <th>feature_0_shuffled_4</th>\n",
              "      <th>feature_0_shuffled_5</th>\n",
              "      <th>feature_0_shuffled_6</th>\n",
              "      <th>feature_0_shuffled_7</th>\n",
              "      <th>feature_0_shuffled_8</th>\n",
              "      <th>feature_0_shuffled_9</th>\n",
              "    </tr>\n",
              "  </thead>\n",
              "  <tbody>\n",
              "    <tr>\n",
              "      <th>0</th>\n",
              "      <td>1.064192</td>\n",
              "      <td>-0.233915</td>\n",
              "      <td>-0.086623</td>\n",
              "      <td>1.321959</td>\n",
              "      <td>-2.164310</td>\n",
              "      <td>0.653193</td>\n",
              "      <td>1.244775</td>\n",
              "      <td>-0.328599</td>\n",
              "      <td>0.429563</td>\n",
              "      <td>-1.520541</td>\n",
              "      <td>...</td>\n",
              "      <td>0.691475</td>\n",
              "      <td>1.634421</td>\n",
              "      <td>0.473275</td>\n",
              "      <td>1.531497</td>\n",
              "      <td>1.101668</td>\n",
              "      <td>0.177848</td>\n",
              "      <td>0.645174</td>\n",
              "      <td>0.249684</td>\n",
              "      <td>-0.499580</td>\n",
              "      <td>1.380666</td>\n",
              "    </tr>\n",
              "    <tr>\n",
              "      <th>1</th>\n",
              "      <td>-0.433390</td>\n",
              "      <td>-1.101484</td>\n",
              "      <td>-2.844572</td>\n",
              "      <td>2.420722</td>\n",
              "      <td>-1.188535</td>\n",
              "      <td>-0.362603</td>\n",
              "      <td>0.790185</td>\n",
              "      <td>1.988820</td>\n",
              "      <td>-0.287558</td>\n",
              "      <td>-0.603980</td>\n",
              "      <td>...</td>\n",
              "      <td>0.483625</td>\n",
              "      <td>0.182049</td>\n",
              "      <td>-0.440018</td>\n",
              "      <td>-0.111119</td>\n",
              "      <td>1.541370</td>\n",
              "      <td>-0.860947</td>\n",
              "      <td>1.279713</td>\n",
              "      <td>1.327315</td>\n",
              "      <td>-0.990609</td>\n",
              "      <td>-1.550074</td>\n",
              "    </tr>\n",
              "    <tr>\n",
              "      <th>2</th>\n",
              "      <td>0.593751</td>\n",
              "      <td>-0.408942</td>\n",
              "      <td>-0.408847</td>\n",
              "      <td>1.250589</td>\n",
              "      <td>0.517230</td>\n",
              "      <td>-0.503244</td>\n",
              "      <td>1.517552</td>\n",
              "      <td>1.266847</td>\n",
              "      <td>-0.308677</td>\n",
              "      <td>0.374486</td>\n",
              "      <td>...</td>\n",
              "      <td>-0.581913</td>\n",
              "      <td>0.000424</td>\n",
              "      <td>0.787111</td>\n",
              "      <td>1.565957</td>\n",
              "      <td>1.656880</td>\n",
              "      <td>0.463848</td>\n",
              "      <td>1.837092</td>\n",
              "      <td>1.272413</td>\n",
              "      <td>1.407112</td>\n",
              "      <td>0.745780</td>\n",
              "    </tr>\n",
              "    <tr>\n",
              "      <th>3</th>\n",
              "      <td>0.124968</td>\n",
              "      <td>0.187539</td>\n",
              "      <td>-0.333420</td>\n",
              "      <td>0.186774</td>\n",
              "      <td>0.381966</td>\n",
              "      <td>-0.700537</td>\n",
              "      <td>-1.101084</td>\n",
              "      <td>-0.821470</td>\n",
              "      <td>-0.095310</td>\n",
              "      <td>0.559700</td>\n",
              "      <td>...</td>\n",
              "      <td>-1.416748</td>\n",
              "      <td>1.380666</td>\n",
              "      <td>-1.416748</td>\n",
              "      <td>-0.716633</td>\n",
              "      <td>1.226086</td>\n",
              "      <td>-1.045194</td>\n",
              "      <td>-1.570334</td>\n",
              "      <td>1.271691</td>\n",
              "      <td>1.276579</td>\n",
              "      <td>0.405659</td>\n",
              "    </tr>\n",
              "    <tr>\n",
              "      <th>4</th>\n",
              "      <td>0.886330</td>\n",
              "      <td>-0.007981</td>\n",
              "      <td>-0.043005</td>\n",
              "      <td>1.173083</td>\n",
              "      <td>0.723348</td>\n",
              "      <td>-1.700176</td>\n",
              "      <td>1.496271</td>\n",
              "      <td>1.645382</td>\n",
              "      <td>0.918031</td>\n",
              "      <td>0.447252</td>\n",
              "      <td>...</td>\n",
              "      <td>1.686490</td>\n",
              "      <td>-1.140020</td>\n",
              "      <td>0.724017</td>\n",
              "      <td>0.534986</td>\n",
              "      <td>-1.764150</td>\n",
              "      <td>0.990458</td>\n",
              "      <td>0.099305</td>\n",
              "      <td>0.322427</td>\n",
              "      <td>0.882897</td>\n",
              "      <td>-0.529039</td>\n",
              "    </tr>\n",
              "    <tr>\n",
              "      <th>...</th>\n",
              "      <td>...</td>\n",
              "      <td>...</td>\n",
              "      <td>...</td>\n",
              "      <td>...</td>\n",
              "      <td>...</td>\n",
              "      <td>...</td>\n",
              "      <td>...</td>\n",
              "      <td>...</td>\n",
              "      <td>...</td>\n",
              "      <td>...</td>\n",
              "      <td>...</td>\n",
              "      <td>...</td>\n",
              "      <td>...</td>\n",
              "      <td>...</td>\n",
              "      <td>...</td>\n",
              "      <td>...</td>\n",
              "      <td>...</td>\n",
              "      <td>...</td>\n",
              "      <td>...</td>\n",
              "      <td>...</td>\n",
              "      <td>...</td>\n",
              "    </tr>\n",
              "    <tr>\n",
              "      <th>495</th>\n",
              "      <td>0.669455</td>\n",
              "      <td>-0.456303</td>\n",
              "      <td>1.280833</td>\n",
              "      <td>-0.217668</td>\n",
              "      <td>0.479442</td>\n",
              "      <td>0.365371</td>\n",
              "      <td>1.677248</td>\n",
              "      <td>-0.069753</td>\n",
              "      <td>1.058781</td>\n",
              "      <td>0.488927</td>\n",
              "      <td>...</td>\n",
              "      <td>1.270530</td>\n",
              "      <td>1.536673</td>\n",
              "      <td>0.493427</td>\n",
              "      <td>0.608408</td>\n",
              "      <td>0.998092</td>\n",
              "      <td>0.356645</td>\n",
              "      <td>0.644226</td>\n",
              "      <td>-1.083568</td>\n",
              "      <td>-1.415130</td>\n",
              "      <td>-2.580328</td>\n",
              "    </tr>\n",
              "    <tr>\n",
              "      <th>496</th>\n",
              "      <td>-0.117763</td>\n",
              "      <td>1.252496</td>\n",
              "      <td>-2.920045</td>\n",
              "      <td>2.900454</td>\n",
              "      <td>1.621648</td>\n",
              "      <td>2.565652</td>\n",
              "      <td>1.350929</td>\n",
              "      <td>1.634141</td>\n",
              "      <td>-0.332085</td>\n",
              "      <td>-0.213896</td>\n",
              "      <td>...</td>\n",
              "      <td>1.385824</td>\n",
              "      <td>0.222680</td>\n",
              "      <td>-0.755907</td>\n",
              "      <td>-1.550074</td>\n",
              "      <td>-1.570334</td>\n",
              "      <td>0.941653</td>\n",
              "      <td>2.203474</td>\n",
              "      <td>1.011102</td>\n",
              "      <td>1.303789</td>\n",
              "      <td>0.747231</td>\n",
              "    </tr>\n",
              "    <tr>\n",
              "      <th>497</th>\n",
              "      <td>-0.655519</td>\n",
              "      <td>0.845840</td>\n",
              "      <td>-0.458651</td>\n",
              "      <td>-0.284120</td>\n",
              "      <td>-0.839482</td>\n",
              "      <td>-0.678152</td>\n",
              "      <td>-0.517229</td>\n",
              "      <td>1.322167</td>\n",
              "      <td>2.891703</td>\n",
              "      <td>-0.566632</td>\n",
              "      <td>...</td>\n",
              "      <td>0.967355</td>\n",
              "      <td>-0.059569</td>\n",
              "      <td>-0.702565</td>\n",
              "      <td>1.409183</td>\n",
              "      <td>-0.415895</td>\n",
              "      <td>2.031891</td>\n",
              "      <td>-0.352949</td>\n",
              "      <td>0.593751</td>\n",
              "      <td>-0.359641</td>\n",
              "      <td>0.524145</td>\n",
              "    </tr>\n",
              "    <tr>\n",
              "      <th>498</th>\n",
              "      <td>2.088449</td>\n",
              "      <td>-0.292255</td>\n",
              "      <td>2.730909</td>\n",
              "      <td>-0.495300</td>\n",
              "      <td>1.370410</td>\n",
              "      <td>1.018157</td>\n",
              "      <td>0.631710</td>\n",
              "      <td>1.429458</td>\n",
              "      <td>0.353548</td>\n",
              "      <td>-1.199860</td>\n",
              "      <td>...</td>\n",
              "      <td>0.282984</td>\n",
              "      <td>1.022961</td>\n",
              "      <td>0.742814</td>\n",
              "      <td>0.573331</td>\n",
              "      <td>-0.860947</td>\n",
              "      <td>0.391028</td>\n",
              "      <td>-0.990586</td>\n",
              "      <td>2.203474</td>\n",
              "      <td>0.144094</td>\n",
              "      <td>1.486546</td>\n",
              "    </tr>\n",
              "    <tr>\n",
              "      <th>499</th>\n",
              "      <td>0.496900</td>\n",
              "      <td>1.227803</td>\n",
              "      <td>1.532422</td>\n",
              "      <td>-0.788656</td>\n",
              "      <td>0.787323</td>\n",
              "      <td>-0.326663</td>\n",
              "      <td>0.846882</td>\n",
              "      <td>0.129540</td>\n",
              "      <td>-0.555445</td>\n",
              "      <td>-0.311348</td>\n",
              "      <td>...</td>\n",
              "      <td>1.131246</td>\n",
              "      <td>-1.045194</td>\n",
              "      <td>0.123272</td>\n",
              "      <td>-0.165404</td>\n",
              "      <td>-0.005923</td>\n",
              "      <td>-0.986271</td>\n",
              "      <td>-0.959486</td>\n",
              "      <td>0.752280</td>\n",
              "      <td>1.470839</td>\n",
              "      <td>0.023674</td>\n",
              "    </tr>\n",
              "  </tbody>\n",
              "</table>\n",
              "<p>500 rows × 40 columns</p>\n",
              "</div>\n",
              "      <button class=\"colab-df-convert\" onclick=\"convertToInteractive('df-abf0290e-fc40-49eb-8a70-da561087919f')\"\n",
              "              title=\"Convert this dataframe to an interactive table.\"\n",
              "              style=\"display:none;\">\n",
              "        \n",
              "  <svg xmlns=\"http://www.w3.org/2000/svg\" height=\"24px\"viewBox=\"0 0 24 24\"\n",
              "       width=\"24px\">\n",
              "    <path d=\"M0 0h24v24H0V0z\" fill=\"none\"/>\n",
              "    <path d=\"M18.56 5.44l.94 2.06.94-2.06 2.06-.94-2.06-.94-.94-2.06-.94 2.06-2.06.94zm-11 1L8.5 8.5l.94-2.06 2.06-.94-2.06-.94L8.5 2.5l-.94 2.06-2.06.94zm10 10l.94 2.06.94-2.06 2.06-.94-2.06-.94-.94-2.06-.94 2.06-2.06.94z\"/><path d=\"M17.41 7.96l-1.37-1.37c-.4-.4-.92-.59-1.43-.59-.52 0-1.04.2-1.43.59L10.3 9.45l-7.72 7.72c-.78.78-.78 2.05 0 2.83L4 21.41c.39.39.9.59 1.41.59.51 0 1.02-.2 1.41-.59l7.78-7.78 2.81-2.81c.8-.78.8-2.07 0-2.86zM5.41 20L4 18.59l7.72-7.72 1.47 1.35L5.41 20z\"/>\n",
              "  </svg>\n",
              "      </button>\n",
              "      \n",
              "  <style>\n",
              "    .colab-df-container {\n",
              "      display:flex;\n",
              "      flex-wrap:wrap;\n",
              "      gap: 12px;\n",
              "    }\n",
              "\n",
              "    .colab-df-convert {\n",
              "      background-color: #E8F0FE;\n",
              "      border: none;\n",
              "      border-radius: 50%;\n",
              "      cursor: pointer;\n",
              "      display: none;\n",
              "      fill: #1967D2;\n",
              "      height: 32px;\n",
              "      padding: 0 0 0 0;\n",
              "      width: 32px;\n",
              "    }\n",
              "\n",
              "    .colab-df-convert:hover {\n",
              "      background-color: #E2EBFA;\n",
              "      box-shadow: 0px 1px 2px rgba(60, 64, 67, 0.3), 0px 1px 3px 1px rgba(60, 64, 67, 0.15);\n",
              "      fill: #174EA6;\n",
              "    }\n",
              "\n",
              "    [theme=dark] .colab-df-convert {\n",
              "      background-color: #3B4455;\n",
              "      fill: #D2E3FC;\n",
              "    }\n",
              "\n",
              "    [theme=dark] .colab-df-convert:hover {\n",
              "      background-color: #434B5C;\n",
              "      box-shadow: 0px 1px 3px 1px rgba(0, 0, 0, 0.15);\n",
              "      filter: drop-shadow(0px 1px 2px rgba(0, 0, 0, 0.3));\n",
              "      fill: #FFFFFF;\n",
              "    }\n",
              "  </style>\n",
              "\n",
              "      <script>\n",
              "        const buttonEl =\n",
              "          document.querySelector('#df-abf0290e-fc40-49eb-8a70-da561087919f button.colab-df-convert');\n",
              "        buttonEl.style.display =\n",
              "          google.colab.kernel.accessAllowed ? 'block' : 'none';\n",
              "\n",
              "        async function convertToInteractive(key) {\n",
              "          const element = document.querySelector('#df-abf0290e-fc40-49eb-8a70-da561087919f');\n",
              "          const dataTable =\n",
              "            await google.colab.kernel.invokeFunction('convertToInteractive',\n",
              "                                                     [key], {});\n",
              "          if (!dataTable) return;\n",
              "\n",
              "          const docLinkHtml = 'Like what you see? Visit the ' +\n",
              "            '<a target=\"_blank\" href=https://colab.research.google.com/notebooks/data_table.ipynb>data table notebook</a>'\n",
              "            + ' to learn more about interactive tables.';\n",
              "          element.innerHTML = '';\n",
              "          dataTable['output_type'] = 'display_data';\n",
              "          await google.colab.output.renderOutput(dataTable, element);\n",
              "          const docLink = document.createElement('div');\n",
              "          docLink.innerHTML = docLinkHtml;\n",
              "          element.appendChild(docLink);\n",
              "        }\n",
              "      </script>\n",
              "    </div>\n",
              "  </div>\n",
              "  "
            ]
          },
          "metadata": {},
          "execution_count": 28
        }
      ]
    },
    {
      "cell_type": "code",
      "source": [
        "!pip install BorutaShap"
      ],
      "metadata": {
        "id": "-HSuS__K6GQs"
      },
      "execution_count": null,
      "outputs": []
    },
    {
      "cell_type": "code",
      "source": [
        "from BorutaShap import BorutaShap"
      ],
      "metadata": {
        "id": "v9ZljJO47JGm"
      },
      "execution_count": null,
      "outputs": []
    },
    {
      "cell_type": "code",
      "source": [
        "model = LGBMClassifier(max_depth=3)"
      ],
      "metadata": {
        "id": "rXYgsgilaZhX"
      },
      "execution_count": null,
      "outputs": []
    },
    {
      "cell_type": "code",
      "source": [
        "Feature_Selector = BorutaShap(model=model,\n",
        "                              importance_measure='shap',\n",
        "                              classification=True)"
      ],
      "metadata": {
        "id": "Q0xHh4ziaPEg"
      },
      "execution_count": null,
      "outputs": []
    },
    {
      "cell_type": "code",
      "source": [
        "Feature_Selector.fit(X=X, y=y, n_trials=100, sample=False,\n",
        "            \t     train_or_test = 'test', normalize=False,\n",
        "\t\t             verbose=True)"
      ],
      "metadata": {
        "colab": {
          "base_uri": "https://localhost:8080/",
          "height": 122,
          "referenced_widgets": [
            "514bd421aee143fb8270ba8013d50e8f",
            "e061eb6b90704abcaba8f5ad9c46f917",
            "e515683d40494a9fadaa00b07f44ceb3",
            "4ebfd78bb46746f6940809634a85eed9",
            "6b00637a41fe459eb6b0917cf3b84c70",
            "9c000a5448a4419c8d1b24a5765080bf",
            "34606b72cbc34ff6805a80933dae817f",
            "367b0d169197463e9477bd759133daa2",
            "71f74a3ba37d4f96a2f16732e0723300",
            "35d0459e8543401b939d9b88c8475f77",
            "77b552ed6659412f8971b8db7e30dda8"
          ]
        },
        "id": "dmRzjrYjal2F",
        "outputId": "a0f343b6-e888-457d-dddb-8d0628251b9d"
      },
      "execution_count": null,
      "outputs": [
        {
          "output_type": "display_data",
          "data": {
            "text/plain": [
              "  0%|          | 0/100 [00:00<?, ?it/s]"
            ],
            "application/vnd.jupyter.widget-view+json": {
              "version_major": 2,
              "version_minor": 0,
              "model_id": "514bd421aee143fb8270ba8013d50e8f"
            }
          },
          "metadata": {}
        },
        {
          "output_type": "stream",
          "name": "stdout",
          "text": [
            "8 attributes confirmed important: ['feature_0', 'feature_8', 'feature_13', 'feature_15', 'feature_16', 'feature_6', 'feature_19', 'feature_18']\n",
            "12 attributes confirmed unimportant: ['feature_7', 'feature_9', 'feature_17', 'feature_11', 'feature_5', 'feature_3', 'feature_12', 'feature_14', 'feature_2', 'feature_10', 'feature_1', 'feature_4']\n",
            "0 tentative attributes remains: []\n"
          ]
        }
      ]
    },
    {
      "cell_type": "code",
      "source": [
        "Feature_Selector.plot(which_features='all')"
      ],
      "metadata": {
        "colab": {
          "base_uri": "https://localhost:8080/",
          "height": 795
        },
        "id": "g9n6bOYca8ul",
        "outputId": "d5a29db6-ff03-428e-d3d1-599389dcea6a"
      },
      "execution_count": null,
      "outputs": [
        {
          "output_type": "display_data",
          "data": {
            "text/plain": [
              "<Figure size 1200x800 with 1 Axes>"
            ],
            "image/png": "[encoded data removed]"
          },
          "metadata": {}
        }
      ]
    },
    {
      "cell_type": "code",
      "source": [
        "Feature_Selector.accepted"
      ],
      "metadata": {
        "colab": {
          "base_uri": "https://localhost:8080/"
        },
        "id": "sMkjzNS9cQ31",
        "outputId": "71c321cf-5e38-4ec4-ab30-becb7d56bc3a"
      },
      "execution_count": null,
      "outputs": [
        {
          "output_type": "execute_result",
          "data": {
            "text/plain": [
              "['feature_0',\n",
              " 'feature_8',\n",
              " 'feature_13',\n",
              " 'feature_15',\n",
              " 'feature_16',\n",
              " 'feature_6',\n",
              " 'feature_19',\n",
              " 'feature_18']"
            ]
          },
          "metadata": {},
          "execution_count": 13
        }
      ]
    },
    {
      "cell_type": "code",
      "source": [
        "Feature_Selector.tentative"
      ],
      "metadata": {
        "colab": {
          "base_uri": "https://localhost:8080/"
        },
        "id": "qJBN7YnqcXD6",
        "outputId": "978efd78-6887-498c-9854-22a3c8289497"
      },
      "execution_count": null,
      "outputs": [
        {
          "output_type": "execute_result",
          "data": {
            "text/plain": [
              "[]"
            ]
          },
          "metadata": {},
          "execution_count": 14
        }
      ]
    },
    {
      "cell_type": "code",
      "source": [
        "selected_features = Feature_Selector.accepted + Feature_Selector.tentative"
      ],
      "metadata": {
        "id": "CBQ6rRZxcwgK"
      },
      "execution_count": null,
      "outputs": []
    },
    {
      "cell_type": "code",
      "source": [
        "selected_features"
      ],
      "metadata": {
        "colab": {
          "base_uri": "https://localhost:8080/"
        },
        "id": "SrmhbDFzc0Bq",
        "outputId": "a11a31d1-3e86-4a5f-9d45-8c7ca462f8e1"
      },
      "execution_count": null,
      "outputs": [
        {
          "output_type": "execute_result",
          "data": {
            "text/plain": [
              "['feature_6', 'feature_16', 'feature_18', 'feature_15', 'feature_0']"
            ]
          },
          "metadata": {},
          "execution_count": 95
        }
      ]
    },
    {
      "cell_type": "code",
      "source": [
        "model = LGBMClassifier(max_depth=5, n_estimators=500)"
      ],
      "metadata": {
        "id": "29YJ7a7dc7UW"
      },
      "execution_count": null,
      "outputs": []
    },
    {
      "cell_type": "code",
      "source": [
        "X = pd.DataFrame(data=X, columns=[f'feature_{i}' for i in np.arange(X.shape[1])], index=np.arange(500))"
      ],
      "metadata": {
        "id": "TwYzA8Voc7UW"
      },
      "execution_count": null,
      "outputs": []
    },
    {
      "cell_type": "code",
      "source": [
        "X = X[selected_features]"
      ],
      "metadata": {
        "id": "b72Frxspc7UX"
      },
      "execution_count": null,
      "outputs": []
    },
    {
      "cell_type": "code",
      "source": [
        "X"
      ],
      "metadata": {
        "colab": {
          "base_uri": "https://localhost:8080/",
          "height": 423
        },
        "id": "uUFLMO1Rc_eH",
        "outputId": "d63a9bff-94c1-4a68-dc94-d658652fc9b6"
      },
      "execution_count": null,
      "outputs": [
        {
          "output_type": "execute_result",
          "data": {
            "text/plain": [
              "     feature_6  feature_16  feature_18  feature_15  feature_0\n",
              "0     1.244775   -1.507347    1.908254   -0.272394   1.064192\n",
              "1     0.790185   -1.666672    1.850964    2.607526  -0.433390\n",
              "2     1.517552   -0.691338    1.776817   -0.642691   0.593751\n",
              "3    -1.101084   -1.350404   -0.288665    1.941699   0.124968\n",
              "4     1.496271   -0.921016    1.836835   -0.826806   0.886330\n",
              "..         ...         ...         ...         ...        ...\n",
              "495   1.677248    1.094325    0.849188   -3.147401   0.669455\n",
              "496   1.350929   -2.041752    2.560444    2.364255  -0.117763\n",
              "497  -0.517229    0.535492   -0.697226    0.588666  -0.655519\n",
              "498   0.631710   -0.993230    0.805001   -2.436001   2.088449\n",
              "499   0.846882    1.183327    0.020544   -2.675067   0.496900\n",
              "\n",
              "[500 rows x 5 columns]"
            ],
            "text/html": [
              "\n",
              "  <div id=\"df-112a9492-81e7-4f46-af78-f757cf27fd66\">\n",
              "    <div class=\"colab-df-container\">\n",
              "      <div>\n",
              "<style scoped>\n",
              "    .dataframe tbody tr th:only-of-type {\n",
              "        vertical-align: middle;\n",
              "    }\n",
              "\n",
              "    .dataframe tbody tr th {\n",
              "        vertical-align: top;\n",
              "    }\n",
              "\n",
              "    .dataframe thead th {\n",
              "        text-align: right;\n",
              "    }\n",
              "</style>\n",
              "<table border=\"1\" class=\"dataframe\">\n",
              "  <thead>\n",
              "    <tr style=\"text-align: right;\">\n",
              "      <th></th>\n",
              "      <th>feature_6</th>\n",
              "      <th>feature_16</th>\n",
              "      <th>feature_18</th>\n",
              "      <th>feature_15</th>\n",
              "      <th>feature_0</th>\n",
              "    </tr>\n",
              "  </thead>\n",
              "  <tbody>\n",
              "    <tr>\n",
              "      <th>0</th>\n",
              "      <td>1.244775</td>\n",
              "      <td>-1.507347</td>\n",
              "      <td>1.908254</td>\n",
              "      <td>-0.272394</td>\n",
              "      <td>1.064192</td>\n",
              "    </tr>\n",
              "    <tr>\n",
              "      <th>1</th>\n",
              "      <td>0.790185</td>\n",
              "      <td>-1.666672</td>\n",
              "      <td>1.850964</td>\n",
              "      <td>2.607526</td>\n",
              "      <td>-0.433390</td>\n",
              "    </tr>\n",
              "    <tr>\n",
              "      <th>2</th>\n",
              "      <td>1.517552</td>\n",
              "      <td>-0.691338</td>\n",
              "      <td>1.776817</td>\n",
              "      <td>-0.642691</td>\n",
              "      <td>0.593751</td>\n",
              "    </tr>\n",
              "    <tr>\n",
              "      <th>3</th>\n",
              "      <td>-1.101084</td>\n",
              "      <td>-1.350404</td>\n",
              "      <td>-0.288665</td>\n",
              "      <td>1.941699</td>\n",
              "      <td>0.124968</td>\n",
              "    </tr>\n",
              "    <tr>\n",
              "      <th>4</th>\n",
              "      <td>1.496271</td>\n",
              "      <td>-0.921016</td>\n",
              "      <td>1.836835</td>\n",
              "      <td>-0.826806</td>\n",
              "      <td>0.886330</td>\n",
              "    </tr>\n",
              "    <tr>\n",
              "      <th>...</th>\n",
              "      <td>...</td>\n",
              "      <td>...</td>\n",
              "      <td>...</td>\n",
              "      <td>...</td>\n",
              "      <td>...</td>\n",
              "    </tr>\n",
              "    <tr>\n",
              "      <th>495</th>\n",
              "      <td>1.677248</td>\n",
              "      <td>1.094325</td>\n",
              "      <td>0.849188</td>\n",
              "      <td>-3.147401</td>\n",
              "      <td>0.669455</td>\n",
              "    </tr>\n",
              "    <tr>\n",
              "      <th>496</th>\n",
              "      <td>1.350929</td>\n",
              "      <td>-2.041752</td>\n",
              "      <td>2.560444</td>\n",
              "      <td>2.364255</td>\n",
              "      <td>-0.117763</td>\n",
              "    </tr>\n",
              "    <tr>\n",
              "      <th>497</th>\n",
              "      <td>-0.517229</td>\n",
              "      <td>0.535492</td>\n",
              "      <td>-0.697226</td>\n",
              "      <td>0.588666</td>\n",
              "      <td>-0.655519</td>\n",
              "    </tr>\n",
              "    <tr>\n",
              "      <th>498</th>\n",
              "      <td>0.631710</td>\n",
              "      <td>-0.993230</td>\n",
              "      <td>0.805001</td>\n",
              "      <td>-2.436001</td>\n",
              "      <td>2.088449</td>\n",
              "    </tr>\n",
              "    <tr>\n",
              "      <th>499</th>\n",
              "      <td>0.846882</td>\n",
              "      <td>1.183327</td>\n",
              "      <td>0.020544</td>\n",
              "      <td>-2.675067</td>\n",
              "      <td>0.496900</td>\n",
              "    </tr>\n",
              "  </tbody>\n",
              "</table>\n",
              "<p>500 rows × 5 columns</p>\n",
              "</div>\n",
              "      <button class=\"colab-df-convert\" onclick=\"convertToInteractive('df-112a9492-81e7-4f46-af78-f757cf27fd66')\"\n",
              "              title=\"Convert this dataframe to an interactive table.\"\n",
              "              style=\"display:none;\">\n",
              "        \n",
              "  <svg xmlns=\"http://www.w3.org/2000/svg\" height=\"24px\"viewBox=\"0 0 24 24\"\n",
              "       width=\"24px\">\n",
              "    <path d=\"M0 0h24v24H0V0z\" fill=\"none\"/>\n",
              "    <path d=\"M18.56 5.44l.94 2.06.94-2.06 2.06-.94-2.06-.94-.94-2.06-.94 2.06-2.06.94zm-11 1L8.5 8.5l.94-2.06 2.06-.94-2.06-.94L8.5 2.5l-.94 2.06-2.06.94zm10 10l.94 2.06.94-2.06 2.06-.94-2.06-.94-.94-2.06-.94 2.06-2.06.94z\"/><path d=\"M17.41 7.96l-1.37-1.37c-.4-.4-.92-.59-1.43-.59-.52 0-1.04.2-1.43.59L10.3 9.45l-7.72 7.72c-.78.78-.78 2.05 0 2.83L4 21.41c.39.39.9.59 1.41.59.51 0 1.02-.2 1.41-.59l7.78-7.78 2.81-2.81c.8-.78.8-2.07 0-2.86zM5.41 20L4 18.59l7.72-7.72 1.47 1.35L5.41 20z\"/>\n",
              "  </svg>\n",
              "      </button>\n",
              "      \n",
              "  <style>\n",
              "    .colab-df-container {\n",
              "      display:flex;\n",
              "      flex-wrap:wrap;\n",
              "      gap: 12px;\n",
              "    }\n",
              "\n",
              "    .colab-df-convert {\n",
              "      background-color: #E8F0FE;\n",
              "      border: none;\n",
              "      border-radius: 50%;\n",
              "      cursor: pointer;\n",
              "      display: none;\n",
              "      fill: #1967D2;\n",
              "      height: 32px;\n",
              "      padding: 0 0 0 0;\n",
              "      width: 32px;\n",
              "    }\n",
              "\n",
              "    .colab-df-convert:hover {\n",
              "      background-color: #E2EBFA;\n",
              "      box-shadow: 0px 1px 2px rgba(60, 64, 67, 0.3), 0px 1px 3px 1px rgba(60, 64, 67, 0.15);\n",
              "      fill: #174EA6;\n",
              "    }\n",
              "\n",
              "    [theme=dark] .colab-df-convert {\n",
              "      background-color: #3B4455;\n",
              "      fill: #D2E3FC;\n",
              "    }\n",
              "\n",
              "    [theme=dark] .colab-df-convert:hover {\n",
              "      background-color: #434B5C;\n",
              "      box-shadow: 0px 1px 3px 1px rgba(0, 0, 0, 0.15);\n",
              "      filter: drop-shadow(0px 1px 2px rgba(0, 0, 0, 0.3));\n",
              "      fill: #FFFFFF;\n",
              "    }\n",
              "  </style>\n",
              "\n",
              "      <script>\n",
              "        const buttonEl =\n",
              "          document.querySelector('#df-112a9492-81e7-4f46-af78-f757cf27fd66 button.colab-df-convert');\n",
              "        buttonEl.style.display =\n",
              "          google.colab.kernel.accessAllowed ? 'block' : 'none';\n",
              "\n",
              "        async function convertToInteractive(key) {\n",
              "          const element = document.querySelector('#df-112a9492-81e7-4f46-af78-f757cf27fd66');\n",
              "          const dataTable =\n",
              "            await google.colab.kernel.invokeFunction('convertToInteractive',\n",
              "                                                     [key], {});\n",
              "          if (!dataTable) return;\n",
              "\n",
              "          const docLinkHtml = 'Like what you see? Visit the ' +\n",
              "            '<a target=\"_blank\" href=https://colab.research.google.com/notebooks/data_table.ipynb>data table notebook</a>'\n",
              "            + ' to learn more about interactive tables.';\n",
              "          element.innerHTML = '';\n",
              "          dataTable['output_type'] = 'display_data';\n",
              "          await google.colab.output.renderOutput(dataTable, element);\n",
              "          const docLink = document.createElement('div');\n",
              "          docLink.innerHTML = docLinkHtml;\n",
              "          element.appendChild(docLink);\n",
              "        }\n",
              "      </script>\n",
              "    </div>\n",
              "  </div>\n",
              "  "
            ]
          },
          "metadata": {},
          "execution_count": 112
        }
      ]
    },
    {
      "cell_type": "code",
      "source": [
        "X_train, X_test, y_train, y_test = train_test_split(X,\n",
        "                                                    y,\n",
        "                                                    test_size=0.25,\n",
        "                                                    stratify=y,\n",
        "                                                    random_state=43)"
      ],
      "metadata": {
        "id": "ezf-y8Pqc7UX"
      },
      "execution_count": null,
      "outputs": []
    },
    {
      "cell_type": "code",
      "source": [
        "scores = cross_val_score(model, X, y, cv=5)"
      ],
      "metadata": {
        "id": "Y2ungOX7c7UX"
      },
      "execution_count": null,
      "outputs": []
    },
    {
      "cell_type": "code",
      "source": [
        "scores"
      ],
      "metadata": {
        "colab": {
          "base_uri": "https://localhost:8080/"
        },
        "id": "3nuu3SnmfYl6",
        "outputId": "01da6651-40ca-4370-e076-5e4d2306f01b"
      },
      "execution_count": null,
      "outputs": [
        {
          "output_type": "execute_result",
          "data": {
            "text/plain": [
              "array([0.84, 0.86, 0.84, 0.88, 0.85])"
            ]
          },
          "metadata": {},
          "execution_count": 123
        }
      ]
    },
    {
      "cell_type": "code",
      "source": [
        "scores.mean()"
      ],
      "metadata": {
        "colab": {
          "base_uri": "https://localhost:8080/"
        },
        "outputId": "85d3cdad-e897-4eaa-bb36-e765920ac43e",
        "id": "QRXGrsiWc7UX"
      },
      "execution_count": null,
      "outputs": [
        {
          "output_type": "execute_result",
          "data": {
            "text/plain": [
              "0.8539999999999999"
            ]
          },
          "metadata": {},
          "execution_count": 120
        }
      ]
    },
    {
      "cell_type": "code",
      "source": [
        "model.fit(X_train, y_train)"
      ],
      "metadata": {
        "colab": {
          "base_uri": "https://localhost:8080/"
        },
        "outputId": "2344d240-19d7-4eae-e5ba-441852331733",
        "id": "AWx4_xOPc7UY"
      },
      "execution_count": null,
      "outputs": [
        {
          "output_type": "execute_result",
          "data": {
            "text/plain": [
              "LGBMClassifier(max_depth=5, n_estimators=500)"
            ]
          },
          "metadata": {},
          "execution_count": 121
        }
      ]
    },
    {
      "cell_type": "code",
      "source": [
        "metrics.f1_score(model.predict(X_test), y_test)"
      ],
      "metadata": {
        "colab": {
          "base_uri": "https://localhost:8080/"
        },
        "outputId": "93f7ed20-e0eb-4898-e510-f1365f85bb5e",
        "id": "8YSVlUQQc7UY"
      },
      "execution_count": null,
      "outputs": [
        {
          "output_type": "execute_result",
          "data": {
            "text/plain": [
              "0.9090909090909092"
            ]
          },
          "metadata": {},
          "execution_count": 122
        }
      ]
    },
    {
      "cell_type": "code",
      "source": [
        "selected_features"
      ],
      "metadata": {
        "colab": {
          "base_uri": "https://localhost:8080/"
        },
        "id": "iCR95tT8WJUs",
        "outputId": "881d8243-07ca-4b0a-c57e-338845a28ce6"
      },
      "execution_count": null,
      "outputs": [
        {
          "output_type": "execute_result",
          "data": {
            "text/plain": [
              "['feature_0',\n",
              " 'feature_8',\n",
              " 'feature_13',\n",
              " 'feature_15',\n",
              " 'feature_16',\n",
              " 'feature_6',\n",
              " 'feature_19',\n",
              " 'feature_18']"
            ]
          },
          "metadata": {},
          "execution_count": 16
        }
      ]
    },
    {
      "cell_type": "code",
      "source": [
        "!pip install optuna"
      ],
      "metadata": {
        "colab": {
          "base_uri": "https://localhost:8080/"
        },
        "id": "hsOqnQJ4WKOe",
        "outputId": "1b535d3b-97b5-4c38-c266-329a9e243da3"
      },
      "execution_count": null,
      "outputs": [
        {
          "output_type": "stream",
          "name": "stdout",
          "text": [
            "Looking in indexes: https://pypi.org/simple, https://us-python.pkg.dev/colab-wheels/public/simple/\n",
            "Collecting optuna\n",
            "  Downloading optuna-3.1.1-py3-none-any.whl (365 kB)\n",
            "\u001b[2K     \u001b[90m━━━━━━━━━━━━━━━━━━━━━━━━━━━━━━━━━━━━━━━\u001b[0m \u001b[32m365.7/365.7 kB\u001b[0m \u001b[31m6.9 MB/s\u001b[0m eta \u001b[36m0:00:00\u001b[0m\n",
            "\u001b[?25hRequirement already satisfied: numpy in /usr/local/lib/python3.9/dist-packages (from optuna) (1.22.4)\n",
            "Collecting alembic>=1.5.0\n",
            "  Downloading alembic-1.10.3-py3-none-any.whl (212 kB)\n",
            "\u001b[2K     \u001b[90m━━━━━━━━━━━━━━━━━━━━━━━━━━━━━━━━━━━━━━\u001b[0m \u001b[32m212.3/212.3 kB\u001b[0m \u001b[31m15.0 MB/s\u001b[0m eta \u001b[36m0:00:00\u001b[0m\n",
            "\u001b[?25hCollecting cmaes>=0.9.1\n",
            "  Downloading cmaes-0.9.1-py3-none-any.whl (21 kB)\n",
            "Requirement already satisfied: tqdm in /usr/local/lib/python3.9/dist-packages (from optuna) (4.65.0)\n",
            "Requirement already satisfied: sqlalchemy>=1.3.0 in /usr/local/lib/python3.9/dist-packages (from optuna) (2.0.9)\n",
            "Requirement already satisfied: packaging>=20.0 in /usr/local/lib/python3.9/dist-packages (from optuna) (23.0)\n",
            "Collecting colorlog\n",
            "  Downloading colorlog-6.7.0-py2.py3-none-any.whl (11 kB)\n",
            "Requirement already satisfied: PyYAML in /usr/local/lib/python3.9/dist-packages (from optuna) (6.0)\n",
            "Collecting Mako\n",
            "  Downloading Mako-1.2.4-py3-none-any.whl (78 kB)\n",
            "\u001b[2K     \u001b[90m━━━━━━━━━━━━━━━━━━━━━━━━━━━━━━━━━━━━━━━━\u001b[0m \u001b[32m78.7/78.7 kB\u001b[0m \u001b[31m6.6 MB/s\u001b[0m eta \u001b[36m0:00:00\u001b[0m\n",
            "\u001b[?25hRequirement already satisfied: typing-extensions>=4 in /usr/local/lib/python3.9/dist-packages (from alembic>=1.5.0->optuna) (4.5.0)\n",
            "Requirement already satisfied: greenlet!=0.4.17 in /usr/local/lib/python3.9/dist-packages (from sqlalchemy>=1.3.0->optuna) (2.0.2)\n",
            "Requirement already satisfied: MarkupSafe>=0.9.2 in /usr/local/lib/python3.9/dist-packages (from Mako->alembic>=1.5.0->optuna) (2.1.2)\n",
            "Installing collected packages: Mako, colorlog, cmaes, alembic, optuna\n",
            "Successfully installed Mako-1.2.4 alembic-1.10.3 cmaes-0.9.1 colorlog-6.7.0 optuna-3.1.1\n"
          ]
        }
      ]
    },
    {
      "cell_type": "code",
      "source": [
        "import optuna  # pip install optuna\n",
        "from sklearn.metrics import f1_score\n",
        "from sklearn.model_selection import StratifiedKFold\n",
        "\n",
        "def objective(trial, X, y):\n",
        "    param_grid = {}  # to be filled in later\n",
        "    cv = StratifiedKFold(n_splits=5, shuffle=True, random_state=42)\n",
        "\n",
        "    scores = []\n",
        "    for idx, (train_idx, test_idx) in enumerate(cv.split(X, y)):\n",
        "        X_train, X_test = X.iloc[train_idx], X.iloc[test_idx]\n",
        "        y_train, y_test = y[train_idx], y[test_idx]\n",
        "\n",
        "        model = LGBMClassifier(objective=\"binary\", **param_grid)\n",
        "        model.fit(\n",
        "            X_train,\n",
        "            y_train,\n",
        "        )\n",
        "        preds = model.predict(X_test)\n",
        "        scores.append(f1_score(preds, y_test))\n",
        "\n",
        "    return np.mean(scores)"
      ],
      "metadata": {
        "id": "Ey6cW82ZWTLu"
      },
      "execution_count": null,
      "outputs": []
    },
    {
      "cell_type": "code",
      "source": [
        "import optuna\n",
        "from sklearn.metrics import f1_score\n",
        "from sklearn.model_selection import StratifiedKFold\n",
        "\n",
        "def objective(trial, X, y):\n",
        "    param_grid = {\n",
        "        \"objective\": 'binary',\n",
        "        \"n_estimators\": trial.suggest_int(\"n_estimators\", 10, 1500, 90),\n",
        "        \"learning_rate\": trial.suggest_float(\"learning_rate\", 0.001, 0.5),\n",
        "        #\"num_leaves\": trial.suggest_int(\"num_leaves\", 20, 3000, step=20), WRONG\n",
        "        \"max_depth\": trial.suggest_int(\"max_depth\", 3, 6),\n",
        "        \"min_data_in_leaf\": trial.suggest_int(\"min_data_in_leaf\", 0, 10000, step=100),\n",
        "        \"lambda_l1\": trial.suggest_float(\"lambda_l1\", 0.001, 1),\n",
        "        \"lambda_l2\": trial.suggest_float(\"lambda_l2\", 0.001, 1),\n",
        "        \"min_gain_to_split\": trial.suggest_float(\"min_gain_to_split\", 0, 15),\n",
        "        \"bagging_fraction\": trial.suggest_float(\n",
        "            \"bagging_fraction\", 0.2, 0.95, step=0.1\n",
        "        )\n",
        "    }\n",
        "\n",
        "    param_grid['num_leaves'] = 2**param_grid['max_depth']\n",
        "\n",
        "    cv = StratifiedKFold(n_splits=5, shuffle=True, random_state=42)\n",
        "\n",
        "    scores = []\n",
        "\n",
        "    for idx, (train_idx, test_idx) in enumerate(cv.split(X, y)):\n",
        "        X_train, X_test = X.iloc[train_idx], X.iloc[test_idx]\n",
        "        y_train, y_test = y[train_idx], y[test_idx]\n",
        "\n",
        "        model = LGBMClassifier(**param_grid)\n",
        "\n",
        "        model.fit(\n",
        "            X_train,\n",
        "            y_train,\n",
        "        )\n",
        "\n",
        "        preds = model.predict(X_test)\n",
        "        scores.append(f1_score(preds, y_test, average='weighted'))\n",
        "\n",
        "    return np.mean(scores)"
      ],
      "metadata": {
        "id": "4PmUcJGwXEyt"
      },
      "execution_count": null,
      "outputs": []
    },
    {
      "cell_type": "code",
      "source": [
        "study = optuna.create_study(direction=\"maximize\", study_name=\"LGBM Classifier\")\n",
        "func = lambda trial: objective(trial, X[selected_features], y)\n",
        "study.optimize(func, n_trials=50)"
      ],
      "metadata": {
        "colab": {
          "base_uri": "https://localhost:8080/"
        },
        "id": "pjTBZDZeZWq6",
        "outputId": "e1e9f38a-cde5-4e46-8b42-b67c44e748f1"
      },
      "execution_count": null,
      "outputs": [
        {
          "output_type": "stream",
          "name": "stderr",
          "text": [
            "\u001b[32m[I 2023-04-19 16:54:14,248]\u001b[0m A new study created in memory with name: LGBM Classifier\u001b[0m\n"
          ]
        },
        {
          "output_type": "stream",
          "name": "stdout",
          "text": [
            "[LightGBM] [Warning] lambda_l1 is set=0.29004467842975307, reg_alpha=0.0 will be ignored. Current value: lambda_l1=0.29004467842975307\n",
            "[LightGBM] [Warning] min_data_in_leaf is set=2700, min_child_samples=20 will be ignored. Current value: min_data_in_leaf=2700\n",
            "[LightGBM] [Warning] min_gain_to_split is set=8.745404121264313, min_split_gain=0.0 will be ignored. Current value: min_gain_to_split=8.745404121264313\n",
            "[LightGBM] [Warning] lambda_l2 is set=0.9301727206492075, reg_lambda=0.0 will be ignored. Current value: lambda_l2=0.9301727206492075\n",
            "[LightGBM] [Warning] bagging_fraction is set=0.30000000000000004, subsample=1.0 will be ignored. Current value: bagging_fraction=0.30000000000000004\n",
            "0.6666666666666665\n",
            "[LightGBM] [Warning] lambda_l1 is set=0.29004467842975307, reg_alpha=0.0 will be ignored. Current value: lambda_l1=0.29004467842975307\n",
            "[LightGBM] [Warning] min_data_in_leaf is set=2700, min_child_samples=20 will be ignored. Current value: min_data_in_leaf=2700\n",
            "[LightGBM] [Warning] min_gain_to_split is set=8.745404121264313, min_split_gain=0.0 will be ignored. Current value: min_gain_to_split=8.745404121264313\n",
            "[LightGBM] [Warning] lambda_l2 is set=0.9301727206492075, reg_lambda=0.0 will be ignored. Current value: lambda_l2=0.9301727206492075\n",
            "[LightGBM] [Warning] bagging_fraction is set=0.30000000000000004, subsample=1.0 will be ignored. Current value: bagging_fraction=0.30000000000000004\n",
            "0.6666666666666665\n",
            "[LightGBM] [Warning] lambda_l1 is set=0.29004467842975307, reg_alpha=0.0 will be ignored. Current value: lambda_l1=0.29004467842975307\n",
            "[LightGBM] [Warning] min_data_in_leaf is set=2700, min_child_samples=20 will be ignored. Current value: min_data_in_leaf=2700\n",
            "[LightGBM] [Warning] min_gain_to_split is set=8.745404121264313, min_split_gain=0.0 will be ignored. Current value: min_gain_to_split=8.745404121264313\n",
            "[LightGBM] [Warning] lambda_l2 is set=0.9301727206492075, reg_lambda=0.0 will be ignored. Current value: lambda_l2=0.9301727206492075\n",
            "[LightGBM] [Warning] bagging_fraction is set=0.30000000000000004, subsample=1.0 will be ignored. Current value: bagging_fraction=0.30000000000000004\n",
            "0.6666666666666665\n",
            "[LightGBM] [Warning] lambda_l1 is set=0.29004467842975307, reg_alpha=0.0 will be ignored. Current value: lambda_l1=0.29004467842975307\n",
            "[LightGBM] [Warning] min_data_in_leaf is set=2700, min_child_samples=20 will be ignored. Current value: min_data_in_leaf=2700\n",
            "[LightGBM] [Warning] min_gain_to_split is set=8.745404121264313, min_split_gain=0.0 will be ignored. Current value: min_gain_to_split=8.745404121264313\n",
            "[LightGBM] [Warning] lambda_l2 is set=0.9301727206492075, reg_lambda=0.0 will be ignored. Current value: lambda_l2=0.9301727206492075\n",
            "[LightGBM] [Warning] bagging_fraction is set=0.30000000000000004, subsample=1.0 will be ignored. Current value: bagging_fraction=0.30000000000000004\n",
            "0.6754966887417219\n",
            "[LightGBM] [Warning] lambda_l1 is set=0.29004467842975307, reg_alpha=0.0 will be ignored. Current value: lambda_l1=0.29004467842975307\n",
            "[LightGBM] [Warning] min_data_in_leaf is set=2700, min_child_samples=20 will be ignored. Current value: min_data_in_leaf=2700\n",
            "[LightGBM] [Warning] min_gain_to_split is set=8.745404121264313, min_split_gain=0.0 will be ignored. Current value: min_gain_to_split=8.745404121264313\n",
            "[LightGBM] [Warning] lambda_l2 is set=0.9301727206492075, reg_lambda=0.0 will be ignored. Current value: lambda_l2=0.9301727206492075\n",
            "[LightGBM] [Warning] bagging_fraction is set=0.30000000000000004, subsample=1.0 will be ignored. Current value: bagging_fraction=0.30000000000000004\n"
          ]
        },
        {
          "output_type": "stream",
          "name": "stderr",
          "text": [
            "\u001b[32m[I 2023-04-19 16:54:15,352]\u001b[0m Trial 0 finished with value: 0.6701986754966887 and parameters: {'n_estimators': 1000, 'learning_rate': 0.42348314259266207, 'max_depth': 3, 'min_data_in_leaf': 2700, 'lambda_l1': 0.29004467842975307, 'lambda_l2': 0.9301727206492075, 'min_gain_to_split': 8.745404121264313, 'bagging_fraction': 0.30000000000000004}. Best is trial 0 with value: 0.6701986754966887.\u001b[0m\n"
          ]
        },
        {
          "output_type": "stream",
          "name": "stdout",
          "text": [
            "0.6754966887417219\n",
            "[LightGBM] [Warning] lambda_l1 is set=0.8555883342485552, reg_alpha=0.0 will be ignored. Current value: lambda_l1=0.8555883342485552\n",
            "[LightGBM] [Warning] min_data_in_leaf is set=1700, min_child_samples=20 will be ignored. Current value: min_data_in_leaf=1700\n",
            "[LightGBM] [Warning] min_gain_to_split is set=0.7830226317779487, min_split_gain=0.0 will be ignored. Current value: min_gain_to_split=0.7830226317779487\n",
            "[LightGBM] [Warning] lambda_l2 is set=0.768609665672991, reg_lambda=0.0 will be ignored. Current value: lambda_l2=0.768609665672991\n",
            "[LightGBM] [Warning] bagging_fraction is set=0.30000000000000004, subsample=1.0 will be ignored. Current value: bagging_fraction=0.30000000000000004\n",
            "0.6666666666666665\n",
            "[LightGBM] [Warning] lambda_l1 is set=0.8555883342485552, reg_alpha=0.0 will be ignored. Current value: lambda_l1=0.8555883342485552\n",
            "[LightGBM] [Warning] min_data_in_leaf is set=1700, min_child_samples=20 will be ignored. Current value: min_data_in_leaf=1700\n",
            "[LightGBM] [Warning] min_gain_to_split is set=0.7830226317779487, min_split_gain=0.0 will be ignored. Current value: min_gain_to_split=0.7830226317779487\n",
            "[LightGBM] [Warning] lambda_l2 is set=0.768609665672991, reg_lambda=0.0 will be ignored. Current value: lambda_l2=0.768609665672991\n",
            "[LightGBM] [Warning] bagging_fraction is set=0.30000000000000004, subsample=1.0 will be ignored. Current value: bagging_fraction=0.30000000000000004\n"
          ]
        },
        {
          "output_type": "stream",
          "name": "stderr",
          "text": [
            "\u001b[32m[I 2023-04-19 16:54:15,798]\u001b[0m Trial 1 finished with value: 0.6701986754966887 and parameters: {'n_estimators': 190, 'learning_rate': 0.1194127832688128, 'max_depth': 5, 'min_data_in_leaf': 1700, 'lambda_l1': 0.8555883342485552, 'lambda_l2': 0.768609665672991, 'min_gain_to_split': 0.7830226317779487, 'bagging_fraction': 0.30000000000000004}. Best is trial 0 with value: 0.6701986754966887.\u001b[0m\n"
          ]
        },
        {
          "output_type": "stream",
          "name": "stdout",
          "text": [
            "0.6666666666666665\n",
            "[LightGBM] [Warning] lambda_l1 is set=0.8555883342485552, reg_alpha=0.0 will be ignored. Current value: lambda_l1=0.8555883342485552\n",
            "[LightGBM] [Warning] min_data_in_leaf is set=1700, min_child_samples=20 will be ignored. Current value: min_data_in_leaf=1700\n",
            "[LightGBM] [Warning] min_gain_to_split is set=0.7830226317779487, min_split_gain=0.0 will be ignored. Current value: min_gain_to_split=0.7830226317779487\n",
            "[LightGBM] [Warning] lambda_l2 is set=0.768609665672991, reg_lambda=0.0 will be ignored. Current value: lambda_l2=0.768609665672991\n",
            "[LightGBM] [Warning] bagging_fraction is set=0.30000000000000004, subsample=1.0 will be ignored. Current value: bagging_fraction=0.30000000000000004\n",
            "0.6666666666666665\n",
            "[LightGBM] [Warning] lambda_l1 is set=0.8555883342485552, reg_alpha=0.0 will be ignored. Current value: lambda_l1=0.8555883342485552\n",
            "[LightGBM] [Warning] min_data_in_leaf is set=1700, min_child_samples=20 will be ignored. Current value: min_data_in_leaf=1700\n",
            "[LightGBM] [Warning] min_gain_to_split is set=0.7830226317779487, min_split_gain=0.0 will be ignored. Current value: min_gain_to_split=0.7830226317779487\n",
            "[LightGBM] [Warning] lambda_l2 is set=0.768609665672991, reg_lambda=0.0 will be ignored. Current value: lambda_l2=0.768609665672991\n",
            "[LightGBM] [Warning] bagging_fraction is set=0.30000000000000004, subsample=1.0 will be ignored. Current value: bagging_fraction=0.30000000000000004\n",
            "0.6754966887417219\n",
            "[LightGBM] [Warning] lambda_l1 is set=0.8555883342485552, reg_alpha=0.0 will be ignored. Current value: lambda_l1=0.8555883342485552\n",
            "[LightGBM] [Warning] min_data_in_leaf is set=1700, min_child_samples=20 will be ignored. Current value: min_data_in_leaf=1700\n",
            "[LightGBM] [Warning] min_gain_to_split is set=0.7830226317779487, min_split_gain=0.0 will be ignored. Current value: min_gain_to_split=0.7830226317779487\n",
            "[LightGBM] [Warning] lambda_l2 is set=0.768609665672991, reg_lambda=0.0 will be ignored. Current value: lambda_l2=0.768609665672991\n",
            "[LightGBM] [Warning] bagging_fraction is set=0.30000000000000004, subsample=1.0 will be ignored. Current value: bagging_fraction=0.30000000000000004\n",
            "0.6754966887417219\n",
            "[LightGBM] [Warning] lambda_l1 is set=0.7468324780404152, reg_alpha=0.0 will be ignored. Current value: lambda_l1=0.7468324780404152\n",
            "[LightGBM] [Warning] min_data_in_leaf is set=0, min_child_samples=20 will be ignored. Current value: min_data_in_leaf=0\n",
            "[LightGBM] [Warning] min_gain_to_split is set=14.207342882337892, min_split_gain=0.0 will be ignored. Current value: min_gain_to_split=14.207342882337892\n",
            "[LightGBM] [Warning] lambda_l2 is set=0.04587509926606138, reg_lambda=0.0 will be ignored. Current value: lambda_l2=0.04587509926606138\n",
            "[LightGBM] [Warning] bagging_fraction is set=0.9, subsample=1.0 will be ignored. Current value: bagging_fraction=0.9\n",
            "0.8101711540386347\n",
            "[LightGBM] [Warning] lambda_l1 is set=0.7468324780404152, reg_alpha=0.0 will be ignored. Current value: lambda_l1=0.7468324780404152\n",
            "[LightGBM] [Warning] min_data_in_leaf is set=0, min_child_samples=20 will be ignored. Current value: min_data_in_leaf=0\n",
            "[LightGBM] [Warning] min_gain_to_split is set=14.207342882337892, min_split_gain=0.0 will be ignored. Current value: min_gain_to_split=14.207342882337892\n",
            "[LightGBM] [Warning] lambda_l2 is set=0.04587509926606138, reg_lambda=0.0 will be ignored. Current value: lambda_l2=0.04587509926606138\n",
            "[LightGBM] [Warning] bagging_fraction is set=0.9, subsample=1.0 will be ignored. Current value: bagging_fraction=0.9\n",
            "0.800080032012805\n",
            "[LightGBM] [Warning] lambda_l1 is set=0.7468324780404152, reg_alpha=0.0 will be ignored. Current value: lambda_l1=0.7468324780404152\n",
            "[LightGBM] [Warning] min_data_in_leaf is set=0, min_child_samples=20 will be ignored. Current value: min_data_in_leaf=0\n",
            "[LightGBM] [Warning] min_gain_to_split is set=14.207342882337892, min_split_gain=0.0 will be ignored. Current value: min_gain_to_split=14.207342882337892\n",
            "[LightGBM] [Warning] lambda_l2 is set=0.04587509926606138, reg_lambda=0.0 will be ignored. Current value: lambda_l2=0.04587509926606138\n",
            "[LightGBM] [Warning] bagging_fraction is set=0.9, subsample=1.0 will be ignored. Current value: bagging_fraction=0.9\n",
            "0.8500150015001501\n",
            "[LightGBM] [Warning] lambda_l1 is set=0.7468324780404152, reg_alpha=0.0 will be ignored. Current value: lambda_l1=0.7468324780404152\n",
            "[LightGBM] [Warning] min_data_in_leaf is set=0, min_child_samples=20 will be ignored. Current value: min_data_in_leaf=0\n",
            "[LightGBM] [Warning] min_gain_to_split is set=14.207342882337892, min_split_gain=0.0 will be ignored. Current value: min_gain_to_split=14.207342882337892\n",
            "[LightGBM] [Warning] lambda_l2 is set=0.04587509926606138, reg_lambda=0.0 will be ignored. Current value: lambda_l2=0.04587509926606138\n",
            "[LightGBM] [Warning] bagging_fraction is set=0.9, subsample=1.0 will be ignored. Current value: bagging_fraction=0.9\n",
            "0.8617045454545454\n",
            "[LightGBM] [Warning] lambda_l1 is set=0.7468324780404152, reg_alpha=0.0 will be ignored. Current value: lambda_l1=0.7468324780404152\n",
            "[LightGBM] [Warning] min_data_in_leaf is set=0, min_child_samples=20 will be ignored. Current value: min_data_in_leaf=0\n",
            "[LightGBM] [Warning] min_gain_to_split is set=14.207342882337892, min_split_gain=0.0 will be ignored. Current value: min_gain_to_split=14.207342882337892\n",
            "[LightGBM] [Warning] lambda_l2 is set=0.04587509926606138, reg_lambda=0.0 will be ignored. Current value: lambda_l2=0.04587509926606138\n",
            "[LightGBM] [Warning] bagging_fraction is set=0.9, subsample=1.0 will be ignored. Current value: bagging_fraction=0.9\n"
          ]
        },
        {
          "output_type": "stream",
          "name": "stderr",
          "text": [
            "\u001b[32m[I 2023-04-19 16:54:16,276]\u001b[0m Trial 2 finished with value: 0.8264055568704693 and parameters: {'n_estimators': 1360, 'learning_rate': 0.37146918275680846, 'max_depth': 4, 'min_data_in_leaf': 0, 'lambda_l1': 0.7468324780404152, 'lambda_l2': 0.04587509926606138, 'min_gain_to_split': 14.207342882337892, 'bagging_fraction': 0.9}. Best is trial 2 with value: 0.8264055568704693.\u001b[0m\n",
            "\u001b[32m[I 2023-04-19 16:54:16,341]\u001b[0m Trial 3 finished with value: 0.6701986754966887 and parameters: {'n_estimators': 10, 'learning_rate': 0.4897081631588428, 'max_depth': 4, 'min_data_in_leaf': 1400, 'lambda_l1': 0.8818417317677141, 'lambda_l2': 0.7528725918624766, 'min_gain_to_split': 10.287409297570306, 'bagging_fraction': 0.4}. Best is trial 2 with value: 0.8264055568704693.\u001b[0m\n",
            "\u001b[32m[I 2023-04-19 16:54:16,467]\u001b[0m Trial 4 finished with value: 0.6701986754966887 and parameters: {'n_estimators': 640, 'learning_rate': 0.005919942831923488, 'max_depth': 5, 'min_data_in_leaf': 1100, 'lambda_l1': 0.45282478220446987, 'lambda_l2': 0.5888918902950288, 'min_gain_to_split': 6.5835189486069465, 'bagging_fraction': 0.5}. Best is trial 2 with value: 0.8264055568704693.\u001b[0m\n"
          ]
        },
        {
          "output_type": "stream",
          "name": "stdout",
          "text": [
            "0.8100570513462115\n",
            "[LightGBM] [Warning] lambda_l1 is set=0.8818417317677141, reg_alpha=0.0 will be ignored. Current value: lambda_l1=0.8818417317677141\n",
            "[LightGBM] [Warning] min_data_in_leaf is set=1400, min_child_samples=20 will be ignored. Current value: min_data_in_leaf=1400\n",
            "[LightGBM] [Warning] min_gain_to_split is set=10.287409297570306, min_split_gain=0.0 will be ignored. Current value: min_gain_to_split=10.287409297570306\n",
            "[LightGBM] [Warning] lambda_l2 is set=0.7528725918624766, reg_lambda=0.0 will be ignored. Current value: lambda_l2=0.7528725918624766\n",
            "[LightGBM] [Warning] bagging_fraction is set=0.4, subsample=1.0 will be ignored. Current value: bagging_fraction=0.4\n",
            "0.6666666666666665\n",
            "[LightGBM] [Warning] lambda_l1 is set=0.8818417317677141, reg_alpha=0.0 will be ignored. Current value: lambda_l1=0.8818417317677141\n",
            "[LightGBM] [Warning] min_data_in_leaf is set=1400, min_child_samples=20 will be ignored. Current value: min_data_in_leaf=1400\n",
            "[LightGBM] [Warning] min_gain_to_split is set=10.287409297570306, min_split_gain=0.0 will be ignored. Current value: min_gain_to_split=10.287409297570306\n",
            "[LightGBM] [Warning] lambda_l2 is set=0.7528725918624766, reg_lambda=0.0 will be ignored. Current value: lambda_l2=0.7528725918624766\n",
            "[LightGBM] [Warning] bagging_fraction is set=0.4, subsample=1.0 will be ignored. Current value: bagging_fraction=0.4\n",
            "0.6666666666666665\n",
            "[LightGBM] [Warning] lambda_l1 is set=0.8818417317677141, reg_alpha=0.0 will be ignored. Current value: lambda_l1=0.8818417317677141\n",
            "[LightGBM] [Warning] min_data_in_leaf is set=1400, min_child_samples=20 will be ignored. Current value: min_data_in_leaf=1400\n",
            "[LightGBM] [Warning] min_gain_to_split is set=10.287409297570306, min_split_gain=0.0 will be ignored. Current value: min_gain_to_split=10.287409297570306\n",
            "[LightGBM] [Warning] lambda_l2 is set=0.7528725918624766, reg_lambda=0.0 will be ignored. Current value: lambda_l2=0.7528725918624766\n",
            "[LightGBM] [Warning] bagging_fraction is set=0.4, subsample=1.0 will be ignored. Current value: bagging_fraction=0.4\n",
            "0.6666666666666665\n",
            "[LightGBM] [Warning] lambda_l1 is set=0.8818417317677141, reg_alpha=0.0 will be ignored. Current value: lambda_l1=0.8818417317677141\n",
            "[LightGBM] [Warning] min_data_in_leaf is set=1400, min_child_samples=20 will be ignored. Current value: min_data_in_leaf=1400\n",
            "[LightGBM] [Warning] min_gain_to_split is set=10.287409297570306, min_split_gain=0.0 will be ignored. Current value: min_gain_to_split=10.287409297570306\n",
            "[LightGBM] [Warning] lambda_l2 is set=0.7528725918624766, reg_lambda=0.0 will be ignored. Current value: lambda_l2=0.7528725918624766\n",
            "[LightGBM] [Warning] bagging_fraction is set=0.4, subsample=1.0 will be ignored. Current value: bagging_fraction=0.4\n",
            "0.6754966887417219\n",
            "[LightGBM] [Warning] lambda_l1 is set=0.8818417317677141, reg_alpha=0.0 will be ignored. Current value: lambda_l1=0.8818417317677141\n",
            "[LightGBM] [Warning] min_data_in_leaf is set=1400, min_child_samples=20 will be ignored. Current value: min_data_in_leaf=1400\n",
            "[LightGBM] [Warning] min_gain_to_split is set=10.287409297570306, min_split_gain=0.0 will be ignored. Current value: min_gain_to_split=10.287409297570306\n",
            "[LightGBM] [Warning] lambda_l2 is set=0.7528725918624766, reg_lambda=0.0 will be ignored. Current value: lambda_l2=0.7528725918624766\n",
            "[LightGBM] [Warning] bagging_fraction is set=0.4, subsample=1.0 will be ignored. Current value: bagging_fraction=0.4\n",
            "0.6754966887417219\n",
            "[LightGBM] [Warning] lambda_l1 is set=0.45282478220446987, reg_alpha=0.0 will be ignored. Current value: lambda_l1=0.45282478220446987\n",
            "[LightGBM] [Warning] min_data_in_leaf is set=1100, min_child_samples=20 will be ignored. Current value: min_data_in_leaf=1100\n",
            "[LightGBM] [Warning] min_gain_to_split is set=6.5835189486069465, min_split_gain=0.0 will be ignored. Current value: min_gain_to_split=6.5835189486069465\n",
            "[LightGBM] [Warning] lambda_l2 is set=0.5888918902950288, reg_lambda=0.0 will be ignored. Current value: lambda_l2=0.5888918902950288\n",
            "[LightGBM] [Warning] bagging_fraction is set=0.5, subsample=1.0 will be ignored. Current value: bagging_fraction=0.5\n",
            "0.6666666666666665\n",
            "[LightGBM] [Warning] lambda_l1 is set=0.45282478220446987, reg_alpha=0.0 will be ignored. Current value: lambda_l1=0.45282478220446987\n",
            "[LightGBM] [Warning] min_data_in_leaf is set=1100, min_child_samples=20 will be ignored. Current value: min_data_in_leaf=1100\n",
            "[LightGBM] [Warning] min_gain_to_split is set=6.5835189486069465, min_split_gain=0.0 will be ignored. Current value: min_gain_to_split=6.5835189486069465\n",
            "[LightGBM] [Warning] lambda_l2 is set=0.5888918902950288, reg_lambda=0.0 will be ignored. Current value: lambda_l2=0.5888918902950288\n",
            "[LightGBM] [Warning] bagging_fraction is set=0.5, subsample=1.0 will be ignored. Current value: bagging_fraction=0.5\n",
            "0.6666666666666665\n",
            "[LightGBM] [Warning] lambda_l1 is set=0.45282478220446987, reg_alpha=0.0 will be ignored. Current value: lambda_l1=0.45282478220446987\n",
            "[LightGBM] [Warning] min_data_in_leaf is set=1100, min_child_samples=20 will be ignored. Current value: min_data_in_leaf=1100\n",
            "[LightGBM] [Warning] min_gain_to_split is set=6.5835189486069465, min_split_gain=0.0 will be ignored. Current value: min_gain_to_split=6.5835189486069465\n",
            "[LightGBM] [Warning] lambda_l2 is set=0.5888918902950288, reg_lambda=0.0 will be ignored. Current value: lambda_l2=0.5888918902950288\n",
            "[LightGBM] [Warning] bagging_fraction is set=0.5, subsample=1.0 will be ignored. Current value: bagging_fraction=0.5\n",
            "0.6666666666666665\n",
            "[LightGBM] [Warning] lambda_l1 is set=0.45282478220446987, reg_alpha=0.0 will be ignored. Current value: lambda_l1=0.45282478220446987\n",
            "[LightGBM] [Warning] min_data_in_leaf is set=1100, min_child_samples=20 will be ignored. Current value: min_data_in_leaf=1100\n",
            "[LightGBM] [Warning] min_gain_to_split is set=6.5835189486069465, min_split_gain=0.0 will be ignored. Current value: min_gain_to_split=6.5835189486069465\n",
            "[LightGBM] [Warning] lambda_l2 is set=0.5888918902950288, reg_lambda=0.0 will be ignored. Current value: lambda_l2=0.5888918902950288\n",
            "[LightGBM] [Warning] bagging_fraction is set=0.5, subsample=1.0 will be ignored. Current value: bagging_fraction=0.5\n",
            "0.6754966887417219\n",
            "[LightGBM] [Warning] lambda_l1 is set=0.45282478220446987, reg_alpha=0.0 will be ignored. Current value: lambda_l1=0.45282478220446987\n",
            "[LightGBM] [Warning] min_data_in_leaf is set=1100, min_child_samples=20 will be ignored. Current value: min_data_in_leaf=1100\n",
            "[LightGBM] [Warning] min_gain_to_split is set=6.5835189486069465, min_split_gain=0.0 will be ignored. Current value: min_gain_to_split=6.5835189486069465\n",
            "[LightGBM] [Warning] lambda_l2 is set=0.5888918902950288, reg_lambda=0.0 will be ignored. Current value: lambda_l2=0.5888918902950288\n",
            "[LightGBM] [Warning] bagging_fraction is set=0.5, subsample=1.0 will be ignored. Current value: bagging_fraction=0.5\n",
            "0.6754966887417219\n"
          ]
        },
        {
          "output_type": "stream",
          "name": "stderr",
          "text": [
            "\u001b[32m[I 2023-04-19 16:54:16,676]\u001b[0m Trial 5 finished with value: 0.6701986754966887 and parameters: {'n_estimators': 1360, 'learning_rate': 0.19154501313465527, 'max_depth': 3, 'min_data_in_leaf': 4200, 'lambda_l1': 0.6723698807921252, 'lambda_l2': 0.03942271835668397, 'min_gain_to_split': 10.54119393211291, 'bagging_fraction': 0.30000000000000004}. Best is trial 2 with value: 0.8264055568704693.\u001b[0m\n"
          ]
        },
        {
          "output_type": "stream",
          "name": "stdout",
          "text": [
            "[LightGBM] [Warning] lambda_l1 is set=0.6723698807921252, reg_alpha=0.0 will be ignored. Current value: lambda_l1=0.6723698807921252\n",
            "[LightGBM] [Warning] min_data_in_leaf is set=4200, min_child_samples=20 will be ignored. Current value: min_data_in_leaf=4200\n",
            "[LightGBM] [Warning] min_gain_to_split is set=10.54119393211291, min_split_gain=0.0 will be ignored. Current value: min_gain_to_split=10.54119393211291\n",
            "[LightGBM] [Warning] lambda_l2 is set=0.03942271835668397, reg_lambda=0.0 will be ignored. Current value: lambda_l2=0.03942271835668397\n",
            "[LightGBM] [Warning] bagging_fraction is set=0.30000000000000004, subsample=1.0 will be ignored. Current value: bagging_fraction=0.30000000000000004\n",
            "0.6666666666666665\n",
            "[LightGBM] [Warning] lambda_l1 is set=0.6723698807921252, reg_alpha=0.0 will be ignored. Current value: lambda_l1=0.6723698807921252\n",
            "[LightGBM] [Warning] min_data_in_leaf is set=4200, min_child_samples=20 will be ignored. Current value: min_data_in_leaf=4200\n",
            "[LightGBM] [Warning] min_gain_to_split is set=10.54119393211291, min_split_gain=0.0 will be ignored. Current value: min_gain_to_split=10.54119393211291\n",
            "[LightGBM] [Warning] lambda_l2 is set=0.03942271835668397, reg_lambda=0.0 will be ignored. Current value: lambda_l2=0.03942271835668397\n",
            "[LightGBM] [Warning] bagging_fraction is set=0.30000000000000004, subsample=1.0 will be ignored. Current value: bagging_fraction=0.30000000000000004\n",
            "0.6666666666666665\n",
            "[LightGBM] [Warning] lambda_l1 is set=0.6723698807921252, reg_alpha=0.0 will be ignored. Current value: lambda_l1=0.6723698807921252\n",
            "[LightGBM] [Warning] min_data_in_leaf is set=4200, min_child_samples=20 will be ignored. Current value: min_data_in_leaf=4200\n",
            "[LightGBM] [Warning] min_gain_to_split is set=10.54119393211291, min_split_gain=0.0 will be ignored. Current value: min_gain_to_split=10.54119393211291\n",
            "[LightGBM] [Warning] lambda_l2 is set=0.03942271835668397, reg_lambda=0.0 will be ignored. Current value: lambda_l2=0.03942271835668397\n",
            "[LightGBM] [Warning] bagging_fraction is set=0.30000000000000004, subsample=1.0 will be ignored. Current value: bagging_fraction=0.30000000000000004\n",
            "0.6666666666666665\n",
            "[LightGBM] [Warning] lambda_l1 is set=0.6723698807921252, reg_alpha=0.0 will be ignored. Current value: lambda_l1=0.6723698807921252\n",
            "[LightGBM] [Warning] min_data_in_leaf is set=4200, min_child_samples=20 will be ignored. Current value: min_data_in_leaf=4200\n",
            "[LightGBM] [Warning] min_gain_to_split is set=10.54119393211291, min_split_gain=0.0 will be ignored. Current value: min_gain_to_split=10.54119393211291\n",
            "[LightGBM] [Warning] lambda_l2 is set=0.03942271835668397, reg_lambda=0.0 will be ignored. Current value: lambda_l2=0.03942271835668397\n",
            "[LightGBM] [Warning] bagging_fraction is set=0.30000000000000004, subsample=1.0 will be ignored. Current value: bagging_fraction=0.30000000000000004\n",
            "0.6754966887417219\n",
            "[LightGBM] [Warning] lambda_l1 is set=0.6723698807921252, reg_alpha=0.0 will be ignored. Current value: lambda_l1=0.6723698807921252\n",
            "[LightGBM] [Warning] min_data_in_leaf is set=4200, min_child_samples=20 will be ignored. Current value: min_data_in_leaf=4200\n",
            "[LightGBM] [Warning] min_gain_to_split is set=10.54119393211291, min_split_gain=0.0 will be ignored. Current value: min_gain_to_split=10.54119393211291\n",
            "[LightGBM] [Warning] lambda_l2 is set=0.03942271835668397, reg_lambda=0.0 will be ignored. Current value: lambda_l2=0.03942271835668397\n",
            "[LightGBM] [Warning] bagging_fraction is set=0.30000000000000004, subsample=1.0 will be ignored. Current value: bagging_fraction=0.30000000000000004\n",
            "0.6754966887417219\n"
          ]
        },
        {
          "output_type": "stream",
          "name": "stderr",
          "text": [
            "\u001b[32m[I 2023-04-19 16:54:16,859]\u001b[0m Trial 6 finished with value: 0.6701986754966887 and parameters: {'n_estimators': 1090, 'learning_rate': 0.05502927471272848, 'max_depth': 5, 'min_data_in_leaf': 3400, 'lambda_l1': 0.0951664031889251, 'lambda_l2': 0.20093011796802768, 'min_gain_to_split': 10.13369297276728, 'bagging_fraction': 0.7}. Best is trial 2 with value: 0.8264055568704693.\u001b[0m\n"
          ]
        },
        {
          "output_type": "stream",
          "name": "stdout",
          "text": [
            "[LightGBM] [Warning] lambda_l1 is set=0.0951664031889251, reg_alpha=0.0 will be ignored. Current value: lambda_l1=0.0951664031889251\n",
            "[LightGBM] [Warning] min_data_in_leaf is set=3400, min_child_samples=20 will be ignored. Current value: min_data_in_leaf=3400\n",
            "[LightGBM] [Warning] min_gain_to_split is set=10.13369297276728, min_split_gain=0.0 will be ignored. Current value: min_gain_to_split=10.13369297276728\n",
            "[LightGBM] [Warning] lambda_l2 is set=0.20093011796802768, reg_lambda=0.0 will be ignored. Current value: lambda_l2=0.20093011796802768\n",
            "[LightGBM] [Warning] bagging_fraction is set=0.7, subsample=1.0 will be ignored. Current value: bagging_fraction=0.7\n",
            "0.6666666666666665\n",
            "[LightGBM] [Warning] lambda_l1 is set=0.0951664031889251, reg_alpha=0.0 will be ignored. Current value: lambda_l1=0.0951664031889251\n",
            "[LightGBM] [Warning] min_data_in_leaf is set=3400, min_child_samples=20 will be ignored. Current value: min_data_in_leaf=3400\n",
            "[LightGBM] [Warning] min_gain_to_split is set=10.13369297276728, min_split_gain=0.0 will be ignored. Current value: min_gain_to_split=10.13369297276728\n",
            "[LightGBM] [Warning] lambda_l2 is set=0.20093011796802768, reg_lambda=0.0 will be ignored. Current value: lambda_l2=0.20093011796802768\n",
            "[LightGBM] [Warning] bagging_fraction is set=0.7, subsample=1.0 will be ignored. Current value: bagging_fraction=0.7\n",
            "0.6666666666666665\n",
            "[LightGBM] [Warning] lambda_l1 is set=0.0951664031889251, reg_alpha=0.0 will be ignored. Current value: lambda_l1=0.0951664031889251\n",
            "[LightGBM] [Warning] min_data_in_leaf is set=3400, min_child_samples=20 will be ignored. Current value: min_data_in_leaf=3400\n",
            "[LightGBM] [Warning] min_gain_to_split is set=10.13369297276728, min_split_gain=0.0 will be ignored. Current value: min_gain_to_split=10.13369297276728\n",
            "[LightGBM] [Warning] lambda_l2 is set=0.20093011796802768, reg_lambda=0.0 will be ignored. Current value: lambda_l2=0.20093011796802768\n",
            "[LightGBM] [Warning] bagging_fraction is set=0.7, subsample=1.0 will be ignored. Current value: bagging_fraction=0.7\n",
            "0.6666666666666665\n",
            "[LightGBM] [Warning] lambda_l1 is set=0.0951664031889251, reg_alpha=0.0 will be ignored. Current value: lambda_l1=0.0951664031889251\n",
            "[LightGBM] [Warning] min_data_in_leaf is set=3400, min_child_samples=20 will be ignored. Current value: min_data_in_leaf=3400\n",
            "[LightGBM] [Warning] min_gain_to_split is set=10.13369297276728, min_split_gain=0.0 will be ignored. Current value: min_gain_to_split=10.13369297276728\n",
            "[LightGBM] [Warning] lambda_l2 is set=0.20093011796802768, reg_lambda=0.0 will be ignored. Current value: lambda_l2=0.20093011796802768\n",
            "[LightGBM] [Warning] bagging_fraction is set=0.7, subsample=1.0 will be ignored. Current value: bagging_fraction=0.7\n",
            "0.6754966887417219\n",
            "[LightGBM] [Warning] lambda_l1 is set=0.0951664031889251, reg_alpha=0.0 will be ignored. Current value: lambda_l1=0.0951664031889251\n",
            "[LightGBM] [Warning] min_data_in_leaf is set=3400, min_child_samples=20 will be ignored. Current value: min_data_in_leaf=3400\n",
            "[LightGBM] [Warning] min_gain_to_split is set=10.13369297276728, min_split_gain=0.0 will be ignored. Current value: min_gain_to_split=10.13369297276728\n",
            "[LightGBM] [Warning] lambda_l2 is set=0.20093011796802768, reg_lambda=0.0 will be ignored. Current value: lambda_l2=0.20093011796802768\n",
            "[LightGBM] [Warning] bagging_fraction is set=0.7, subsample=1.0 will be ignored. Current value: bagging_fraction=0.7\n",
            "0.6754966887417219\n",
            "[LightGBM] [Warning] lambda_l1 is set=0.5440779877842656, reg_alpha=0.0 will be ignored. Current value: lambda_l1=0.5440779877842656\n",
            "[LightGBM] [Warning] min_data_in_leaf is set=4500, min_child_samples=20 will be ignored. Current value: min_data_in_leaf=4500\n",
            "[LightGBM] [Warning] min_gain_to_split is set=8.478927849531152, min_split_gain=0.0 will be ignored. Current value: min_gain_to_split=8.478927849531152\n",
            "[LightGBM] [Warning] lambda_l2 is set=0.06871607094012619, reg_lambda=0.0 will be ignored. Current value: lambda_l2=0.06871607094012619\n",
            "[LightGBM] [Warning] bagging_fraction is set=0.5, subsample=1.0 will be ignored. Current value: bagging_fraction=0.5\n",
            "0.6666666666666665\n"
          ]
        },
        {
          "output_type": "stream",
          "name": "stderr",
          "text": [
            "\u001b[32m[I 2023-04-19 16:54:17,001]\u001b[0m Trial 7 finished with value: 0.6701986754966887 and parameters: {'n_estimators': 640, 'learning_rate': 0.04696775938677541, 'max_depth': 4, 'min_data_in_leaf': 4500, 'lambda_l1': 0.5440779877842656, 'lambda_l2': 0.06871607094012619, 'min_gain_to_split': 8.478927849531152, 'bagging_fraction': 0.5}. Best is trial 2 with value: 0.8264055568704693.\u001b[0m\n"
          ]
        },
        {
          "output_type": "stream",
          "name": "stdout",
          "text": [
            "[LightGBM] [Warning] lambda_l1 is set=0.5440779877842656, reg_alpha=0.0 will be ignored. Current value: lambda_l1=0.5440779877842656\n",
            "[LightGBM] [Warning] min_data_in_leaf is set=4500, min_child_samples=20 will be ignored. Current value: min_data_in_leaf=4500\n",
            "[LightGBM] [Warning] min_gain_to_split is set=8.478927849531152, min_split_gain=0.0 will be ignored. Current value: min_gain_to_split=8.478927849531152\n",
            "[LightGBM] [Warning] lambda_l2 is set=0.06871607094012619, reg_lambda=0.0 will be ignored. Current value: lambda_l2=0.06871607094012619\n",
            "[LightGBM] [Warning] bagging_fraction is set=0.5, subsample=1.0 will be ignored. Current value: bagging_fraction=0.5\n",
            "0.6666666666666665\n",
            "[LightGBM] [Warning] lambda_l1 is set=0.5440779877842656, reg_alpha=0.0 will be ignored. Current value: lambda_l1=0.5440779877842656\n",
            "[LightGBM] [Warning] min_data_in_leaf is set=4500, min_child_samples=20 will be ignored. Current value: min_data_in_leaf=4500\n",
            "[LightGBM] [Warning] min_gain_to_split is set=8.478927849531152, min_split_gain=0.0 will be ignored. Current value: min_gain_to_split=8.478927849531152\n",
            "[LightGBM] [Warning] lambda_l2 is set=0.06871607094012619, reg_lambda=0.0 will be ignored. Current value: lambda_l2=0.06871607094012619\n",
            "[LightGBM] [Warning] bagging_fraction is set=0.5, subsample=1.0 will be ignored. Current value: bagging_fraction=0.5\n",
            "0.6666666666666665\n",
            "[LightGBM] [Warning] lambda_l1 is set=0.5440779877842656, reg_alpha=0.0 will be ignored. Current value: lambda_l1=0.5440779877842656\n",
            "[LightGBM] [Warning] min_data_in_leaf is set=4500, min_child_samples=20 will be ignored. Current value: min_data_in_leaf=4500\n",
            "[LightGBM] [Warning] min_gain_to_split is set=8.478927849531152, min_split_gain=0.0 will be ignored. Current value: min_gain_to_split=8.478927849531152\n",
            "[LightGBM] [Warning] lambda_l2 is set=0.06871607094012619, reg_lambda=0.0 will be ignored. Current value: lambda_l2=0.06871607094012619\n",
            "[LightGBM] [Warning] bagging_fraction is set=0.5, subsample=1.0 will be ignored. Current value: bagging_fraction=0.5\n",
            "0.6754966887417219\n",
            "[LightGBM] [Warning] lambda_l1 is set=0.5440779877842656, reg_alpha=0.0 will be ignored. Current value: lambda_l1=0.5440779877842656\n",
            "[LightGBM] [Warning] min_data_in_leaf is set=4500, min_child_samples=20 will be ignored. Current value: min_data_in_leaf=4500\n",
            "[LightGBM] [Warning] min_gain_to_split is set=8.478927849531152, min_split_gain=0.0 will be ignored. Current value: min_gain_to_split=8.478927849531152\n",
            "[LightGBM] [Warning] lambda_l2 is set=0.06871607094012619, reg_lambda=0.0 will be ignored. Current value: lambda_l2=0.06871607094012619\n",
            "[LightGBM] [Warning] bagging_fraction is set=0.5, subsample=1.0 will be ignored. Current value: bagging_fraction=0.5\n",
            "0.6754966887417219\n",
            "[LightGBM] [Warning] lambda_l1 is set=0.2605508329614818, reg_alpha=0.0 will be ignored. Current value: lambda_l1=0.2605508329614818\n",
            "[LightGBM] [Warning] min_data_in_leaf is set=2300, min_child_samples=20 will be ignored. Current value: min_data_in_leaf=2300\n",
            "[LightGBM] [Warning] min_gain_to_split is set=2.2119992410664935, min_split_gain=0.0 will be ignored. Current value: min_gain_to_split=2.2119992410664935\n",
            "[LightGBM] [Warning] lambda_l2 is set=0.38022096468864475, reg_lambda=0.0 will be ignored. Current value: lambda_l2=0.38022096468864475\n",
            "[LightGBM] [Warning] bagging_fraction is set=0.5, subsample=1.0 will be ignored. Current value: bagging_fraction=0.5\n",
            "0.6666666666666665\n",
            "[LightGBM] [Warning] lambda_l1 is set=0.2605508329614818, reg_alpha=0.0 will be ignored. Current value: lambda_l1=0.2605508329614818\n",
            "[LightGBM] [Warning] min_data_in_leaf is set=2300, min_child_samples=20 will be ignored. Current value: min_data_in_leaf=2300\n",
            "[LightGBM] [Warning] min_gain_to_split is set=2.2119992410664935, min_split_gain=0.0 will be ignored. Current value: min_gain_to_split=2.2119992410664935\n",
            "[LightGBM] [Warning] lambda_l2 is set=0.38022096468864475, reg_lambda=0.0 will be ignored. Current value: lambda_l2=0.38022096468864475\n",
            "[LightGBM] [Warning] bagging_fraction is set=0.5, subsample=1.0 will be ignored. Current value: bagging_fraction=0.5\n",
            "0.6666666666666665\n",
            "[LightGBM] [Warning] lambda_l1 is set=0.2605508329614818, reg_alpha=0.0 will be ignored. Current value: lambda_l1=0.2605508329614818\n",
            "[LightGBM] [Warning] min_data_in_leaf is set=2300, min_child_samples=20 will be ignored. Current value: min_data_in_leaf=2300\n",
            "[LightGBM] [Warning] min_gain_to_split is set=2.2119992410664935, min_split_gain=0.0 will be ignored. Current value: min_gain_to_split=2.2119992410664935\n",
            "[LightGBM] [Warning] lambda_l2 is set=0.38022096468864475, reg_lambda=0.0 will be ignored. Current value: lambda_l2=0.38022096468864475\n",
            "[LightGBM] [Warning] bagging_fraction is set=0.5, subsample=1.0 will be ignored. Current value: bagging_fraction=0.5\n"
          ]
        },
        {
          "output_type": "stream",
          "name": "stderr",
          "text": [
            "\u001b[32m[I 2023-04-19 16:54:17,185]\u001b[0m Trial 8 finished with value: 0.6701986754966887 and parameters: {'n_estimators': 1000, 'learning_rate': 0.325234663248983, 'max_depth': 6, 'min_data_in_leaf': 2300, 'lambda_l1': 0.2605508329614818, 'lambda_l2': 0.38022096468864475, 'min_gain_to_split': 2.2119992410664935, 'bagging_fraction': 0.5}. Best is trial 2 with value: 0.8264055568704693.\u001b[0m\n"
          ]
        },
        {
          "output_type": "stream",
          "name": "stdout",
          "text": [
            "0.6666666666666665\n",
            "[LightGBM] [Warning] lambda_l1 is set=0.2605508329614818, reg_alpha=0.0 will be ignored. Current value: lambda_l1=0.2605508329614818\n",
            "[LightGBM] [Warning] min_data_in_leaf is set=2300, min_child_samples=20 will be ignored. Current value: min_data_in_leaf=2300\n",
            "[LightGBM] [Warning] min_gain_to_split is set=2.2119992410664935, min_split_gain=0.0 will be ignored. Current value: min_gain_to_split=2.2119992410664935\n",
            "[LightGBM] [Warning] lambda_l2 is set=0.38022096468864475, reg_lambda=0.0 will be ignored. Current value: lambda_l2=0.38022096468864475\n",
            "[LightGBM] [Warning] bagging_fraction is set=0.5, subsample=1.0 will be ignored. Current value: bagging_fraction=0.5\n",
            "0.6754966887417219\n",
            "[LightGBM] [Warning] lambda_l1 is set=0.2605508329614818, reg_alpha=0.0 will be ignored. Current value: lambda_l1=0.2605508329614818\n",
            "[LightGBM] [Warning] min_data_in_leaf is set=2300, min_child_samples=20 will be ignored. Current value: min_data_in_leaf=2300\n",
            "[LightGBM] [Warning] min_gain_to_split is set=2.2119992410664935, min_split_gain=0.0 will be ignored. Current value: min_gain_to_split=2.2119992410664935\n",
            "[LightGBM] [Warning] lambda_l2 is set=0.38022096468864475, reg_lambda=0.0 will be ignored. Current value: lambda_l2=0.38022096468864475\n",
            "[LightGBM] [Warning] bagging_fraction is set=0.5, subsample=1.0 will be ignored. Current value: bagging_fraction=0.5\n",
            "0.6754966887417219\n",
            "[LightGBM] [Warning] lambda_l1 is set=0.4246711288242315, reg_alpha=0.0 will be ignored. Current value: lambda_l1=0.4246711288242315\n",
            "[LightGBM] [Warning] min_data_in_leaf is set=8100, min_child_samples=20 will be ignored. Current value: min_data_in_leaf=8100\n",
            "[LightGBM] [Warning] min_gain_to_split is set=11.705184740944043, min_split_gain=0.0 will be ignored. Current value: min_gain_to_split=11.705184740944043\n",
            "[LightGBM] [Warning] lambda_l2 is set=0.8568150171966337, reg_lambda=0.0 will be ignored. Current value: lambda_l2=0.8568150171966337\n",
            "[LightGBM] [Warning] bagging_fraction is set=0.4, subsample=1.0 will be ignored. Current value: bagging_fraction=0.4\n",
            "0.6666666666666665\n",
            "[LightGBM] [Warning] lambda_l1 is set=0.4246711288242315, reg_alpha=0.0 will be ignored. Current value: lambda_l1=0.4246711288242315\n",
            "[LightGBM] [Warning] min_data_in_leaf is set=8100, min_child_samples=20 will be ignored. Current value: min_data_in_leaf=8100\n",
            "[LightGBM] [Warning] min_gain_to_split is set=11.705184740944043, min_split_gain=0.0 will be ignored. Current value: min_gain_to_split=11.705184740944043\n",
            "[LightGBM] [Warning] lambda_l2 is set=0.8568150171966337, reg_lambda=0.0 will be ignored. Current value: lambda_l2=0.8568150171966337\n",
            "[LightGBM] [Warning] bagging_fraction is set=0.4, subsample=1.0 will be ignored. Current value: bagging_fraction=0.4\n",
            "0.6666666666666665\n",
            "[LightGBM] [Warning] lambda_l1 is set=0.4246711288242315, reg_alpha=0.0 will be ignored. Current value: lambda_l1=0.4246711288242315\n",
            "[LightGBM] [Warning] min_data_in_leaf is set=8100, min_child_samples=20 will be ignored. Current value: min_data_in_leaf=8100\n",
            "[LightGBM] [Warning] min_gain_to_split is set=11.705184740944043, min_split_gain=0.0 will be ignored. Current value: min_gain_to_split=11.705184740944043\n",
            "[LightGBM] [Warning] lambda_l2 is set=0.8568150171966337, reg_lambda=0.0 will be ignored. Current value: lambda_l2=0.8568150171966337\n",
            "[LightGBM] [Warning] bagging_fraction is set=0.4, subsample=1.0 will be ignored. Current value: bagging_fraction=0.4\n",
            "0.6666666666666665\n",
            "[LightGBM] [Warning] lambda_l1 is set=0.4246711288242315, reg_alpha=0.0 will be ignored. Current value: lambda_l1=0.4246711288242315\n",
            "[LightGBM] [Warning] min_data_in_leaf is set=8100, min_child_samples=20 will be ignored. Current value: min_data_in_leaf=8100\n",
            "[LightGBM] [Warning] min_gain_to_split is set=11.705184740944043, min_split_gain=0.0 will be ignored. Current value: min_gain_to_split=11.705184740944043\n",
            "[LightGBM] [Warning] lambda_l2 is set=0.8568150171966337, reg_lambda=0.0 will be ignored. Current value: lambda_l2=0.8568150171966337\n",
            "[LightGBM] [Warning] bagging_fraction is set=0.4, subsample=1.0 will be ignored. Current value: bagging_fraction=0.4\n",
            "0.6754966887417219\n",
            "[LightGBM] [Warning] lambda_l1 is set=0.4246711288242315, reg_alpha=0.0 will be ignored. Current value: lambda_l1=0.4246711288242315\n",
            "[LightGBM] [Warning] min_data_in_leaf is set=8100, min_child_samples=20 will be ignored. Current value: min_data_in_leaf=8100\n",
            "[LightGBM] [Warning] min_gain_to_split is set=11.705184740944043, min_split_gain=0.0 will be ignored. Current value: min_gain_to_split=11.705184740944043\n",
            "[LightGBM] [Warning] lambda_l2 is set=0.8568150171966337, reg_lambda=0.0 will be ignored. Current value: lambda_l2=0.8568150171966337\n",
            "[LightGBM] [Warning] bagging_fraction is set=0.4, subsample=1.0 will be ignored. Current value: bagging_fraction=0.4\n"
          ]
        },
        {
          "output_type": "stream",
          "name": "stderr",
          "text": [
            "\u001b[32m[I 2023-04-19 16:54:17,336]\u001b[0m Trial 9 finished with value: 0.6701986754966887 and parameters: {'n_estimators': 550, 'learning_rate': 0.4664220775824604, 'max_depth': 5, 'min_data_in_leaf': 8100, 'lambda_l1': 0.4246711288242315, 'lambda_l2': 0.8568150171966337, 'min_gain_to_split': 11.705184740944043, 'bagging_fraction': 0.4}. Best is trial 2 with value: 0.8264055568704693.\u001b[0m\n"
          ]
        },
        {
          "output_type": "stream",
          "name": "stdout",
          "text": [
            "0.6754966887417219\n",
            "[LightGBM] [Warning] lambda_l1 is set=0.7414926379805341, reg_alpha=0.0 will be ignored. Current value: lambda_l1=0.7414926379805341\n",
            "[LightGBM] [Warning] min_data_in_leaf is set=7700, min_child_samples=20 will be ignored. Current value: min_data_in_leaf=7700\n",
            "[LightGBM] [Warning] min_gain_to_split is set=14.904594272161306, min_split_gain=0.0 will be ignored. Current value: min_gain_to_split=14.904594272161306\n",
            "[LightGBM] [Warning] lambda_l2 is set=0.2947487397972878, reg_lambda=0.0 will be ignored. Current value: lambda_l2=0.2947487397972878\n",
            "[LightGBM] [Warning] bagging_fraction is set=0.9, subsample=1.0 will be ignored. Current value: bagging_fraction=0.9\n",
            "0.6666666666666665\n",
            "[LightGBM] [Warning] lambda_l1 is set=0.7414926379805341, reg_alpha=0.0 will be ignored. Current value: lambda_l1=0.7414926379805341\n",
            "[LightGBM] [Warning] min_data_in_leaf is set=7700, min_child_samples=20 will be ignored. Current value: min_data_in_leaf=7700\n",
            "[LightGBM] [Warning] min_gain_to_split is set=14.904594272161306, min_split_gain=0.0 will be ignored. Current value: min_gain_to_split=14.904594272161306\n",
            "[LightGBM] [Warning] lambda_l2 is set=0.2947487397972878, reg_lambda=0.0 will be ignored. Current value: lambda_l2=0.2947487397972878\n",
            "[LightGBM] [Warning] bagging_fraction is set=0.9, subsample=1.0 will be ignored. Current value: bagging_fraction=0.9\n",
            "0.6666666666666665\n",
            "[LightGBM] [Warning] lambda_l1 is set=0.7414926379805341, reg_alpha=0.0 will be ignored. Current value: lambda_l1=0.7414926379805341\n",
            "[LightGBM] [Warning] min_data_in_leaf is set=7700, min_child_samples=20 will be ignored. Current value: min_data_in_leaf=7700\n",
            "[LightGBM] [Warning] min_gain_to_split is set=14.904594272161306, min_split_gain=0.0 will be ignored. Current value: min_gain_to_split=14.904594272161306\n",
            "[LightGBM] [Warning] lambda_l2 is set=0.2947487397972878, reg_lambda=0.0 will be ignored. Current value: lambda_l2=0.2947487397972878\n",
            "[LightGBM] [Warning] bagging_fraction is set=0.9, subsample=1.0 will be ignored. Current value: bagging_fraction=0.9\n"
          ]
        },
        {
          "output_type": "stream",
          "name": "stderr",
          "text": [
            "\u001b[32m[I 2023-04-19 16:54:17,615]\u001b[0m Trial 10 finished with value: 0.6701986754966887 and parameters: {'n_estimators': 1270, 'learning_rate': 0.3359042095376915, 'max_depth': 6, 'min_data_in_leaf': 7700, 'lambda_l1': 0.7414926379805341, 'lambda_l2': 0.2947487397972878, 'min_gain_to_split': 14.904594272161306, 'bagging_fraction': 0.9}. Best is trial 2 with value: 0.8264055568704693.\u001b[0m\n"
          ]
        },
        {
          "output_type": "stream",
          "name": "stdout",
          "text": [
            "0.6666666666666665\n",
            "[LightGBM] [Warning] lambda_l1 is set=0.7414926379805341, reg_alpha=0.0 will be ignored. Current value: lambda_l1=0.7414926379805341\n",
            "[LightGBM] [Warning] min_data_in_leaf is set=7700, min_child_samples=20 will be ignored. Current value: min_data_in_leaf=7700\n",
            "[LightGBM] [Warning] min_gain_to_split is set=14.904594272161306, min_split_gain=0.0 will be ignored. Current value: min_gain_to_split=14.904594272161306\n",
            "[LightGBM] [Warning] lambda_l2 is set=0.2947487397972878, reg_lambda=0.0 will be ignored. Current value: lambda_l2=0.2947487397972878\n",
            "[LightGBM] [Warning] bagging_fraction is set=0.9, subsample=1.0 will be ignored. Current value: bagging_fraction=0.9\n",
            "0.6754966887417219\n",
            "[LightGBM] [Warning] lambda_l1 is set=0.7414926379805341, reg_alpha=0.0 will be ignored. Current value: lambda_l1=0.7414926379805341\n",
            "[LightGBM] [Warning] min_data_in_leaf is set=7700, min_child_samples=20 will be ignored. Current value: min_data_in_leaf=7700\n",
            "[LightGBM] [Warning] min_gain_to_split is set=14.904594272161306, min_split_gain=0.0 will be ignored. Current value: min_gain_to_split=14.904594272161306\n",
            "[LightGBM] [Warning] lambda_l2 is set=0.2947487397972878, reg_lambda=0.0 will be ignored. Current value: lambda_l2=0.2947487397972878\n",
            "[LightGBM] [Warning] bagging_fraction is set=0.9, subsample=1.0 will be ignored. Current value: bagging_fraction=0.9\n",
            "0.6754966887417219\n",
            "[LightGBM] [Warning] lambda_l1 is set=0.9758202947218342, reg_alpha=0.0 will be ignored. Current value: lambda_l1=0.9758202947218342\n",
            "[LightGBM] [Warning] min_data_in_leaf is set=6100, min_child_samples=20 will be ignored. Current value: min_data_in_leaf=6100\n",
            "[LightGBM] [Warning] min_gain_to_split is set=14.721403069869877, min_split_gain=0.0 will be ignored. Current value: min_gain_to_split=14.721403069869877\n",
            "[LightGBM] [Warning] lambda_l2 is set=0.9740671451496183, reg_lambda=0.0 will be ignored. Current value: lambda_l2=0.9740671451496183\n",
            "[LightGBM] [Warning] bagging_fraction is set=0.9, subsample=1.0 will be ignored. Current value: bagging_fraction=0.9\n",
            "0.6666666666666665\n",
            "[LightGBM] [Warning] lambda_l1 is set=0.9758202947218342, reg_alpha=0.0 will be ignored. Current value: lambda_l1=0.9758202947218342\n",
            "[LightGBM] [Warning] min_data_in_leaf is set=6100, min_child_samples=20 will be ignored. Current value: min_data_in_leaf=6100\n",
            "[LightGBM] [Warning] min_gain_to_split is set=14.721403069869877, min_split_gain=0.0 will be ignored. Current value: min_gain_to_split=14.721403069869877\n",
            "[LightGBM] [Warning] lambda_l2 is set=0.9740671451496183, reg_lambda=0.0 will be ignored. Current value: lambda_l2=0.9740671451496183\n",
            "[LightGBM] [Warning] bagging_fraction is set=0.9, subsample=1.0 will be ignored. Current value: bagging_fraction=0.9\n",
            "0.6666666666666665\n",
            "[LightGBM] [Warning] lambda_l1 is set=0.9758202947218342, reg_alpha=0.0 will be ignored. Current value: lambda_l1=0.9758202947218342\n",
            "[LightGBM] [Warning] min_data_in_leaf is set=6100, min_child_samples=20 will be ignored. Current value: min_data_in_leaf=6100\n",
            "[LightGBM] [Warning] min_gain_to_split is set=14.721403069869877, min_split_gain=0.0 will be ignored. Current value: min_gain_to_split=14.721403069869877\n",
            "[LightGBM] [Warning] lambda_l2 is set=0.9740671451496183, reg_lambda=0.0 will be ignored. Current value: lambda_l2=0.9740671451496183\n",
            "[LightGBM] [Warning] bagging_fraction is set=0.9, subsample=1.0 will be ignored. Current value: bagging_fraction=0.9\n"
          ]
        },
        {
          "output_type": "stream",
          "name": "stderr",
          "text": [
            "\u001b[32m[I 2023-04-19 16:54:17,876]\u001b[0m Trial 11 finished with value: 0.6701986754966887 and parameters: {'n_estimators': 1450, 'learning_rate': 0.3926563295978269, 'max_depth': 3, 'min_data_in_leaf': 6100, 'lambda_l1': 0.9758202947218342, 'lambda_l2': 0.9740671451496183, 'min_gain_to_split': 14.721403069869877, 'bagging_fraction': 0.9}. Best is trial 2 with value: 0.8264055568704693.\u001b[0m\n"
          ]
        },
        {
          "output_type": "stream",
          "name": "stdout",
          "text": [
            "0.6666666666666665\n",
            "[LightGBM] [Warning] lambda_l1 is set=0.9758202947218342, reg_alpha=0.0 will be ignored. Current value: lambda_l1=0.9758202947218342\n",
            "[LightGBM] [Warning] min_data_in_leaf is set=6100, min_child_samples=20 will be ignored. Current value: min_data_in_leaf=6100\n",
            "[LightGBM] [Warning] min_gain_to_split is set=14.721403069869877, min_split_gain=0.0 will be ignored. Current value: min_gain_to_split=14.721403069869877\n",
            "[LightGBM] [Warning] lambda_l2 is set=0.9740671451496183, reg_lambda=0.0 will be ignored. Current value: lambda_l2=0.9740671451496183\n",
            "[LightGBM] [Warning] bagging_fraction is set=0.9, subsample=1.0 will be ignored. Current value: bagging_fraction=0.9\n",
            "0.6754966887417219\n",
            "[LightGBM] [Warning] lambda_l1 is set=0.9758202947218342, reg_alpha=0.0 will be ignored. Current value: lambda_l1=0.9758202947218342\n",
            "[LightGBM] [Warning] min_data_in_leaf is set=6100, min_child_samples=20 will be ignored. Current value: min_data_in_leaf=6100\n",
            "[LightGBM] [Warning] min_gain_to_split is set=14.721403069869877, min_split_gain=0.0 will be ignored. Current value: min_gain_to_split=14.721403069869877\n",
            "[LightGBM] [Warning] lambda_l2 is set=0.9740671451496183, reg_lambda=0.0 will be ignored. Current value: lambda_l2=0.9740671451496183\n",
            "[LightGBM] [Warning] bagging_fraction is set=0.9, subsample=1.0 will be ignored. Current value: bagging_fraction=0.9\n",
            "0.6754966887417219\n",
            "[LightGBM] [Warning] lambda_l1 is set=0.003423575393229128, reg_alpha=0.0 will be ignored. Current value: lambda_l1=0.003423575393229128\n",
            "[LightGBM] [Warning] min_data_in_leaf is set=100, min_child_samples=20 will be ignored. Current value: min_data_in_leaf=100\n",
            "[LightGBM] [Warning] min_gain_to_split is set=6.0145436454393035, min_split_gain=0.0 will be ignored. Current value: min_gain_to_split=6.0145436454393035\n",
            "[LightGBM] [Warning] lambda_l2 is set=0.5288239431067475, reg_lambda=0.0 will be ignored. Current value: lambda_l2=0.5288239431067475\n",
            "[LightGBM] [Warning] bagging_fraction is set=0.7, subsample=1.0 will be ignored. Current value: bagging_fraction=0.7\n",
            "0.8202884615384616\n",
            "[LightGBM] [Warning] lambda_l1 is set=0.003423575393229128, reg_alpha=0.0 will be ignored. Current value: lambda_l1=0.003423575393229128\n",
            "[LightGBM] [Warning] min_data_in_leaf is set=100, min_child_samples=20 will be ignored. Current value: min_data_in_leaf=100\n",
            "[LightGBM] [Warning] min_gain_to_split is set=6.0145436454393035, min_split_gain=0.0 will be ignored. Current value: min_gain_to_split=6.0145436454393035\n",
            "[LightGBM] [Warning] lambda_l2 is set=0.5288239431067475, reg_lambda=0.0 will be ignored. Current value: lambda_l2=0.5288239431067475\n",
            "[LightGBM] [Warning] bagging_fraction is set=0.7, subsample=1.0 will be ignored. Current value: bagging_fraction=0.7\n"
          ]
        },
        {
          "output_type": "stream",
          "name": "stderr",
          "text": [
            "\u001b[32m[I 2023-04-19 16:54:18,229]\u001b[0m Trial 12 finished with value: 0.8322727254011879 and parameters: {'n_estimators': 1000, 'learning_rate': 0.3993943851263649, 'max_depth': 3, 'min_data_in_leaf': 100, 'lambda_l1': 0.003423575393229128, 'lambda_l2': 0.5288239431067475, 'min_gain_to_split': 6.0145436454393035, 'bagging_fraction': 0.7}. Best is trial 12 with value: 0.8322727254011879.\u001b[0m\n"
          ]
        },
        {
          "output_type": "stream",
          "name": "stdout",
          "text": [
            "0.780352564102564\n",
            "[LightGBM] [Warning] lambda_l1 is set=0.003423575393229128, reg_alpha=0.0 will be ignored. Current value: lambda_l1=0.003423575393229128\n",
            "[LightGBM] [Warning] min_data_in_leaf is set=100, min_child_samples=20 will be ignored. Current value: min_data_in_leaf=100\n",
            "[LightGBM] [Warning] min_gain_to_split is set=6.0145436454393035, min_split_gain=0.0 will be ignored. Current value: min_gain_to_split=6.0145436454393035\n",
            "[LightGBM] [Warning] lambda_l2 is set=0.5288239431067475, reg_lambda=0.0 will be ignored. Current value: lambda_l2=0.5288239431067475\n",
            "[LightGBM] [Warning] bagging_fraction is set=0.7, subsample=1.0 will be ignored. Current value: bagging_fraction=0.7\n",
            "0.8599999999999999\n",
            "[LightGBM] [Warning] lambda_l1 is set=0.003423575393229128, reg_alpha=0.0 will be ignored. Current value: lambda_l1=0.003423575393229128\n",
            "[LightGBM] [Warning] min_data_in_leaf is set=100, min_child_samples=20 will be ignored. Current value: min_data_in_leaf=100\n",
            "[LightGBM] [Warning] min_gain_to_split is set=6.0145436454393035, min_split_gain=0.0 will be ignored. Current value: min_gain_to_split=6.0145436454393035\n",
            "[LightGBM] [Warning] lambda_l2 is set=0.5288239431067475, reg_lambda=0.0 will be ignored. Current value: lambda_l2=0.5288239431067475\n",
            "[LightGBM] [Warning] bagging_fraction is set=0.7, subsample=1.0 will be ignored. Current value: bagging_fraction=0.7\n",
            "0.9002408671216378\n",
            "[LightGBM] [Warning] lambda_l1 is set=0.003423575393229128, reg_alpha=0.0 will be ignored. Current value: lambda_l1=0.003423575393229128\n",
            "[LightGBM] [Warning] min_data_in_leaf is set=100, min_child_samples=20 will be ignored. Current value: min_data_in_leaf=100\n",
            "[LightGBM] [Warning] min_gain_to_split is set=6.0145436454393035, min_split_gain=0.0 will be ignored. Current value: min_gain_to_split=6.0145436454393035\n",
            "[LightGBM] [Warning] lambda_l2 is set=0.5288239431067475, reg_lambda=0.0 will be ignored. Current value: lambda_l2=0.5288239431067475\n",
            "[LightGBM] [Warning] bagging_fraction is set=0.7, subsample=1.0 will be ignored. Current value: bagging_fraction=0.7\n",
            "0.8004817342432757\n"
          ]
        },
        {
          "output_type": "stream",
          "name": "stderr",
          "text": [
            "\u001b[32m[I 2023-04-19 16:54:18,484]\u001b[0m Trial 13 finished with value: 0.6701986754966887 and parameters: {'n_estimators': 1180, 'learning_rate': 0.2838112671455497, 'max_depth': 4, 'min_data_in_leaf': 400, 'lambda_l1': 0.050031501469077144, 'lambda_l2': 0.533666324524562, 'min_gain_to_split': 5.712264185533589, 'bagging_fraction': 0.7}. Best is trial 12 with value: 0.8322727254011879.\u001b[0m\n"
          ]
        },
        {
          "output_type": "stream",
          "name": "stdout",
          "text": [
            "[LightGBM] [Warning] lambda_l1 is set=0.050031501469077144, reg_alpha=0.0 will be ignored. Current value: lambda_l1=0.050031501469077144\n",
            "[LightGBM] [Warning] min_data_in_leaf is set=400, min_child_samples=20 will be ignored. Current value: min_data_in_leaf=400\n",
            "[LightGBM] [Warning] min_gain_to_split is set=5.712264185533589, min_split_gain=0.0 will be ignored. Current value: min_gain_to_split=5.712264185533589\n",
            "[LightGBM] [Warning] lambda_l2 is set=0.533666324524562, reg_lambda=0.0 will be ignored. Current value: lambda_l2=0.533666324524562\n",
            "[LightGBM] [Warning] bagging_fraction is set=0.7, subsample=1.0 will be ignored. Current value: bagging_fraction=0.7\n",
            "0.6666666666666665\n",
            "[LightGBM] [Warning] lambda_l1 is set=0.050031501469077144, reg_alpha=0.0 will be ignored. Current value: lambda_l1=0.050031501469077144\n",
            "[LightGBM] [Warning] min_data_in_leaf is set=400, min_child_samples=20 will be ignored. Current value: min_data_in_leaf=400\n",
            "[LightGBM] [Warning] min_gain_to_split is set=5.712264185533589, min_split_gain=0.0 will be ignored. Current value: min_gain_to_split=5.712264185533589\n",
            "[LightGBM] [Warning] lambda_l2 is set=0.533666324524562, reg_lambda=0.0 will be ignored. Current value: lambda_l2=0.533666324524562\n",
            "[LightGBM] [Warning] bagging_fraction is set=0.7, subsample=1.0 will be ignored. Current value: bagging_fraction=0.7\n",
            "0.6666666666666665\n",
            "[LightGBM] [Warning] lambda_l1 is set=0.050031501469077144, reg_alpha=0.0 will be ignored. Current value: lambda_l1=0.050031501469077144\n",
            "[LightGBM] [Warning] min_data_in_leaf is set=400, min_child_samples=20 will be ignored. Current value: min_data_in_leaf=400\n",
            "[LightGBM] [Warning] min_gain_to_split is set=5.712264185533589, min_split_gain=0.0 will be ignored. Current value: min_gain_to_split=5.712264185533589\n",
            "[LightGBM] [Warning] lambda_l2 is set=0.533666324524562, reg_lambda=0.0 will be ignored. Current value: lambda_l2=0.533666324524562\n",
            "[LightGBM] [Warning] bagging_fraction is set=0.7, subsample=1.0 will be ignored. Current value: bagging_fraction=0.7\n",
            "0.6666666666666665\n",
            "[LightGBM] [Warning] lambda_l1 is set=0.050031501469077144, reg_alpha=0.0 will be ignored. Current value: lambda_l1=0.050031501469077144\n",
            "[LightGBM] [Warning] min_data_in_leaf is set=400, min_child_samples=20 will be ignored. Current value: min_data_in_leaf=400\n",
            "[LightGBM] [Warning] min_gain_to_split is set=5.712264185533589, min_split_gain=0.0 will be ignored. Current value: min_gain_to_split=5.712264185533589\n",
            "[LightGBM] [Warning] lambda_l2 is set=0.533666324524562, reg_lambda=0.0 will be ignored. Current value: lambda_l2=0.533666324524562\n",
            "[LightGBM] [Warning] bagging_fraction is set=0.7, subsample=1.0 will be ignored. Current value: bagging_fraction=0.7\n",
            "0.6754966887417219\n",
            "[LightGBM] [Warning] lambda_l1 is set=0.050031501469077144, reg_alpha=0.0 will be ignored. Current value: lambda_l1=0.050031501469077144\n",
            "[LightGBM] [Warning] min_data_in_leaf is set=400, min_child_samples=20 will be ignored. Current value: min_data_in_leaf=400\n",
            "[LightGBM] [Warning] min_gain_to_split is set=5.712264185533589, min_split_gain=0.0 will be ignored. Current value: min_gain_to_split=5.712264185533589\n",
            "[LightGBM] [Warning] lambda_l2 is set=0.533666324524562, reg_lambda=0.0 will be ignored. Current value: lambda_l2=0.533666324524562\n",
            "[LightGBM] [Warning] bagging_fraction is set=0.7, subsample=1.0 will be ignored. Current value: bagging_fraction=0.7\n",
            "0.6754966887417219\n"
          ]
        },
        {
          "output_type": "stream",
          "name": "stderr",
          "text": [
            "\u001b[32m[I 2023-04-19 16:54:18,672]\u001b[0m Trial 14 finished with value: 0.6701986754966887 and parameters: {'n_estimators': 910, 'learning_rate': 0.4040404478528389, 'max_depth': 3, 'min_data_in_leaf': 9900, 'lambda_l1': 0.6644012678569792, 'lambda_l2': 0.38830178660745207, 'min_gain_to_split': 4.603552468898307, 'bagging_fraction': 0.7}. Best is trial 12 with value: 0.8322727254011879.\u001b[0m\n"
          ]
        },
        {
          "output_type": "stream",
          "name": "stdout",
          "text": [
            "[LightGBM] [Warning] lambda_l1 is set=0.6644012678569792, reg_alpha=0.0 will be ignored. Current value: lambda_l1=0.6644012678569792\n",
            "[LightGBM] [Warning] min_data_in_leaf is set=9900, min_child_samples=20 will be ignored. Current value: min_data_in_leaf=9900\n",
            "[LightGBM] [Warning] min_gain_to_split is set=4.603552468898307, min_split_gain=0.0 will be ignored. Current value: min_gain_to_split=4.603552468898307\n",
            "[LightGBM] [Warning] lambda_l2 is set=0.38830178660745207, reg_lambda=0.0 will be ignored. Current value: lambda_l2=0.38830178660745207\n",
            "[LightGBM] [Warning] bagging_fraction is set=0.7, subsample=1.0 will be ignored. Current value: bagging_fraction=0.7\n",
            "0.6666666666666665\n",
            "[LightGBM] [Warning] lambda_l1 is set=0.6644012678569792, reg_alpha=0.0 will be ignored. Current value: lambda_l1=0.6644012678569792\n",
            "[LightGBM] [Warning] min_data_in_leaf is set=9900, min_child_samples=20 will be ignored. Current value: min_data_in_leaf=9900\n",
            "[LightGBM] [Warning] min_gain_to_split is set=4.603552468898307, min_split_gain=0.0 will be ignored. Current value: min_gain_to_split=4.603552468898307\n",
            "[LightGBM] [Warning] lambda_l2 is set=0.38830178660745207, reg_lambda=0.0 will be ignored. Current value: lambda_l2=0.38830178660745207\n",
            "[LightGBM] [Warning] bagging_fraction is set=0.7, subsample=1.0 will be ignored. Current value: bagging_fraction=0.7\n",
            "0.6666666666666665\n",
            "[LightGBM] [Warning] lambda_l1 is set=0.6644012678569792, reg_alpha=0.0 will be ignored. Current value: lambda_l1=0.6644012678569792\n",
            "[LightGBM] [Warning] min_data_in_leaf is set=9900, min_child_samples=20 will be ignored. Current value: min_data_in_leaf=9900\n",
            "[LightGBM] [Warning] min_gain_to_split is set=4.603552468898307, min_split_gain=0.0 will be ignored. Current value: min_gain_to_split=4.603552468898307\n",
            "[LightGBM] [Warning] lambda_l2 is set=0.38830178660745207, reg_lambda=0.0 will be ignored. Current value: lambda_l2=0.38830178660745207\n",
            "[LightGBM] [Warning] bagging_fraction is set=0.7, subsample=1.0 will be ignored. Current value: bagging_fraction=0.7\n",
            "0.6666666666666665\n",
            "[LightGBM] [Warning] lambda_l1 is set=0.6644012678569792, reg_alpha=0.0 will be ignored. Current value: lambda_l1=0.6644012678569792\n",
            "[LightGBM] [Warning] min_data_in_leaf is set=9900, min_child_samples=20 will be ignored. Current value: min_data_in_leaf=9900\n",
            "[LightGBM] [Warning] min_gain_to_split is set=4.603552468898307, min_split_gain=0.0 will be ignored. Current value: min_gain_to_split=4.603552468898307\n",
            "[LightGBM] [Warning] lambda_l2 is set=0.38830178660745207, reg_lambda=0.0 will be ignored. Current value: lambda_l2=0.38830178660745207\n",
            "[LightGBM] [Warning] bagging_fraction is set=0.7, subsample=1.0 will be ignored. Current value: bagging_fraction=0.7\n",
            "0.6754966887417219\n",
            "[LightGBM] [Warning] lambda_l1 is set=0.6644012678569792, reg_alpha=0.0 will be ignored. Current value: lambda_l1=0.6644012678569792\n",
            "[LightGBM] [Warning] min_data_in_leaf is set=9900, min_child_samples=20 will be ignored. Current value: min_data_in_leaf=9900\n",
            "[LightGBM] [Warning] min_gain_to_split is set=4.603552468898307, min_split_gain=0.0 will be ignored. Current value: min_gain_to_split=4.603552468898307\n",
            "[LightGBM] [Warning] lambda_l2 is set=0.38830178660745207, reg_lambda=0.0 will be ignored. Current value: lambda_l2=0.38830178660745207\n",
            "[LightGBM] [Warning] bagging_fraction is set=0.7, subsample=1.0 will be ignored. Current value: bagging_fraction=0.7\n",
            "0.6754966887417219\n",
            "[LightGBM] [Warning] lambda_l1 is set=0.01841116210196534, reg_alpha=0.0 will be ignored. Current value: lambda_l1=0.01841116210196534\n",
            "[LightGBM] [Warning] min_data_in_leaf is set=100, min_child_samples=20 will be ignored. Current value: min_data_in_leaf=100\n",
            "[LightGBM] [Warning] min_gain_to_split is set=3.6309133676291125, min_split_gain=0.0 will be ignored. Current value: min_gain_to_split=3.6309133676291125\n",
            "[LightGBM] [Warning] lambda_l2 is set=0.19190239223411432, reg_lambda=0.0 will be ignored. Current value: lambda_l2=0.19190239223411432\n",
            "[LightGBM] [Warning] bagging_fraction is set=0.8, subsample=1.0 will be ignored. Current value: bagging_fraction=0.8\n",
            "0.8202884615384616\n",
            "[LightGBM] [Warning] lambda_l1 is set=0.01841116210196534, reg_alpha=0.0 will be ignored. Current value: lambda_l1=0.01841116210196534\n",
            "[LightGBM] [Warning] min_data_in_leaf is set=100, min_child_samples=20 will be ignored. Current value: min_data_in_leaf=100\n",
            "[LightGBM] [Warning] min_gain_to_split is set=3.6309133676291125, min_split_gain=0.0 will be ignored. Current value: min_gain_to_split=3.6309133676291125\n",
            "[LightGBM] [Warning] lambda_l2 is set=0.19190239223411432, reg_lambda=0.0 will be ignored. Current value: lambda_l2=0.19190239223411432\n",
            "[LightGBM] [Warning] bagging_fraction is set=0.8, subsample=1.0 will be ignored. Current value: bagging_fraction=0.8\n",
            "0.8300170017001699\n",
            "[LightGBM] [Warning] lambda_l1 is set=0.01841116210196534, reg_alpha=0.0 will be ignored. Current value: lambda_l1=0.01841116210196534\n",
            "[LightGBM] [Warning] min_data_in_leaf is set=100, min_child_samples=20 will be ignored. Current value: min_data_in_leaf=100\n",
            "[LightGBM] [Warning] min_gain_to_split is set=3.6309133676291125, min_split_gain=0.0 will be ignored. Current value: min_gain_to_split=3.6309133676291125\n",
            "[LightGBM] [Warning] lambda_l2 is set=0.19190239223411432, reg_lambda=0.0 will be ignored. Current value: lambda_l2=0.19190239223411432\n",
            "[LightGBM] [Warning] bagging_fraction is set=0.8, subsample=1.0 will be ignored. Current value: bagging_fraction=0.8\n",
            "0.8500150015001501\n",
            "[LightGBM] [Warning] lambda_l1 is set=0.01841116210196534, reg_alpha=0.0 will be ignored. Current value: lambda_l1=0.01841116210196534\n",
            "[LightGBM] [Warning] min_data_in_leaf is set=100, min_child_samples=20 will be ignored. Current value: min_data_in_leaf=100\n",
            "[LightGBM] [Warning] min_gain_to_split is set=3.6309133676291125, min_split_gain=0.0 will be ignored. Current value: min_gain_to_split=3.6309133676291125\n",
            "[LightGBM] [Warning] lambda_l2 is set=0.19190239223411432, reg_lambda=0.0 will be ignored. Current value: lambda_l2=0.19190239223411432\n",
            "[LightGBM] [Warning] bagging_fraction is set=0.8, subsample=1.0 will be ignored. Current value: bagging_fraction=0.8\n",
            "0.8805797101449275\n",
            "[LightGBM] [Warning] lambda_l1 is set=0.01841116210196534, reg_alpha=0.0 will be ignored. Current value: lambda_l1=0.01841116210196534\n",
            "[LightGBM] [Warning] min_data_in_leaf is set=100, min_child_samples=20 will be ignored. Current value: min_data_in_leaf=100\n",
            "[LightGBM] [Warning] min_gain_to_split is set=3.6309133676291125, min_split_gain=0.0 will be ignored. Current value: min_gain_to_split=3.6309133676291125\n",
            "[LightGBM] [Warning] lambda_l2 is set=0.19190239223411432, reg_lambda=0.0 will be ignored. Current value: lambda_l2=0.19190239223411432\n",
            "[LightGBM] [Warning] bagging_fraction is set=0.8, subsample=1.0 will be ignored. Current value: bagging_fraction=0.8\n",
            "0.8009661835748793\n"
          ]
        },
        {
          "output_type": "stream",
          "name": "stderr",
          "text": [
            "\u001b[32m[I 2023-04-19 16:54:18,973]\u001b[0m Trial 15 finished with value: 0.8363732716917177 and parameters: {'n_estimators': 820, 'learning_rate': 0.33454332797460773, 'max_depth': 4, 'min_data_in_leaf': 100, 'lambda_l1': 0.01841116210196534, 'lambda_l2': 0.19190239223411432, 'min_gain_to_split': 3.6309133676291125, 'bagging_fraction': 0.8}. Best is trial 15 with value: 0.8363732716917177.\u001b[0m\n",
            "\u001b[32m[I 2023-04-19 16:54:19,135]\u001b[0m Trial 16 finished with value: 0.6701986754966887 and parameters: {'n_estimators': 370, 'learning_rate': 0.2317895359168867, 'max_depth': 3, 'min_data_in_leaf': 5800, 'lambda_l1': 0.045049354098117944, 'lambda_l2': 0.6095013730374509, 'min_gain_to_split': 4.017008460592715, 'bagging_fraction': 0.8}. Best is trial 15 with value: 0.8363732716917177.\u001b[0m\n"
          ]
        },
        {
          "output_type": "stream",
          "name": "stdout",
          "text": [
            "[LightGBM] [Warning] lambda_l1 is set=0.045049354098117944, reg_alpha=0.0 will be ignored. Current value: lambda_l1=0.045049354098117944\n",
            "[LightGBM] [Warning] min_data_in_leaf is set=5800, min_child_samples=20 will be ignored. Current value: min_data_in_leaf=5800\n",
            "[LightGBM] [Warning] min_gain_to_split is set=4.017008460592715, min_split_gain=0.0 will be ignored. Current value: min_gain_to_split=4.017008460592715\n",
            "[LightGBM] [Warning] lambda_l2 is set=0.6095013730374509, reg_lambda=0.0 will be ignored. Current value: lambda_l2=0.6095013730374509\n",
            "[LightGBM] [Warning] bagging_fraction is set=0.8, subsample=1.0 will be ignored. Current value: bagging_fraction=0.8\n",
            "0.6666666666666665\n",
            "[LightGBM] [Warning] lambda_l1 is set=0.045049354098117944, reg_alpha=0.0 will be ignored. Current value: lambda_l1=0.045049354098117944\n",
            "[LightGBM] [Warning] min_data_in_leaf is set=5800, min_child_samples=20 will be ignored. Current value: min_data_in_leaf=5800\n",
            "[LightGBM] [Warning] min_gain_to_split is set=4.017008460592715, min_split_gain=0.0 will be ignored. Current value: min_gain_to_split=4.017008460592715\n",
            "[LightGBM] [Warning] lambda_l2 is set=0.6095013730374509, reg_lambda=0.0 will be ignored. Current value: lambda_l2=0.6095013730374509\n",
            "[LightGBM] [Warning] bagging_fraction is set=0.8, subsample=1.0 will be ignored. Current value: bagging_fraction=0.8\n",
            "0.6666666666666665\n",
            "[LightGBM] [Warning] lambda_l1 is set=0.045049354098117944, reg_alpha=0.0 will be ignored. Current value: lambda_l1=0.045049354098117944\n",
            "[LightGBM] [Warning] min_data_in_leaf is set=5800, min_child_samples=20 will be ignored. Current value: min_data_in_leaf=5800\n",
            "[LightGBM] [Warning] min_gain_to_split is set=4.017008460592715, min_split_gain=0.0 will be ignored. Current value: min_gain_to_split=4.017008460592715\n",
            "[LightGBM] [Warning] lambda_l2 is set=0.6095013730374509, reg_lambda=0.0 will be ignored. Current value: lambda_l2=0.6095013730374509\n",
            "[LightGBM] [Warning] bagging_fraction is set=0.8, subsample=1.0 will be ignored. Current value: bagging_fraction=0.8\n",
            "0.6666666666666665\n",
            "[LightGBM] [Warning] lambda_l1 is set=0.045049354098117944, reg_alpha=0.0 will be ignored. Current value: lambda_l1=0.045049354098117944\n",
            "[LightGBM] [Warning] min_data_in_leaf is set=5800, min_child_samples=20 will be ignored. Current value: min_data_in_leaf=5800\n",
            "[LightGBM] [Warning] min_gain_to_split is set=4.017008460592715, min_split_gain=0.0 will be ignored. Current value: min_gain_to_split=4.017008460592715\n",
            "[LightGBM] [Warning] lambda_l2 is set=0.6095013730374509, reg_lambda=0.0 will be ignored. Current value: lambda_l2=0.6095013730374509\n",
            "[LightGBM] [Warning] bagging_fraction is set=0.8, subsample=1.0 will be ignored. Current value: bagging_fraction=0.8\n",
            "0.6754966887417219\n",
            "[LightGBM] [Warning] lambda_l1 is set=0.045049354098117944, reg_alpha=0.0 will be ignored. Current value: lambda_l1=0.045049354098117944\n",
            "[LightGBM] [Warning] min_data_in_leaf is set=5800, min_child_samples=20 will be ignored. Current value: min_data_in_leaf=5800\n",
            "[LightGBM] [Warning] min_gain_to_split is set=4.017008460592715, min_split_gain=0.0 will be ignored. Current value: min_gain_to_split=4.017008460592715\n",
            "[LightGBM] [Warning] lambda_l2 is set=0.6095013730374509, reg_lambda=0.0 will be ignored. Current value: lambda_l2=0.6095013730374509\n",
            "[LightGBM] [Warning] bagging_fraction is set=0.8, subsample=1.0 will be ignored. Current value: bagging_fraction=0.8\n",
            "0.6754966887417219\n",
            "[LightGBM] [Warning] lambda_l1 is set=0.14774973388026363, reg_alpha=0.0 will be ignored. Current value: lambda_l1=0.14774973388026363\n",
            "[LightGBM] [Warning] min_data_in_leaf is set=0, min_child_samples=20 will be ignored. Current value: min_data_in_leaf=0\n",
            "[LightGBM] [Warning] min_gain_to_split is set=3.0079115219731367, min_split_gain=0.0 will be ignored. Current value: min_gain_to_split=3.0079115219731367\n",
            "[LightGBM] [Warning] lambda_l2 is set=0.450290956593014, reg_lambda=0.0 will be ignored. Current value: lambda_l2=0.450290956593014\n",
            "[LightGBM] [Warning] bagging_fraction is set=0.6000000000000001, subsample=1.0 will be ignored. Current value: bagging_fraction=0.6000000000000001\n",
            "0.8500150015001501\n",
            "[LightGBM] [Warning] lambda_l1 is set=0.14774973388026363, reg_alpha=0.0 will be ignored. Current value: lambda_l1=0.14774973388026363\n",
            "[LightGBM] [Warning] min_data_in_leaf is set=0, min_child_samples=20 will be ignored. Current value: min_data_in_leaf=0\n",
            "[LightGBM] [Warning] min_gain_to_split is set=3.0079115219731367, min_split_gain=0.0 will be ignored. Current value: min_gain_to_split=3.0079115219731367\n",
            "[LightGBM] [Warning] lambda_l2 is set=0.450290956593014, reg_lambda=0.0 will be ignored. Current value: lambda_l2=0.450290956593014\n",
            "[LightGBM] [Warning] bagging_fraction is set=0.6000000000000001, subsample=1.0 will be ignored. Current value: bagging_fraction=0.6000000000000001\n"
          ]
        },
        {
          "output_type": "stream",
          "name": "stderr",
          "text": [
            "\u001b[32m[I 2023-04-19 16:54:19,377]\u001b[0m Trial 17 finished with value: 0.8543626657902857 and parameters: {'n_estimators': 460, 'learning_rate': 0.2881851200853775, 'max_depth': 4, 'min_data_in_leaf': 0, 'lambda_l1': 0.14774973388026363, 'lambda_l2': 0.450290956593014, 'min_gain_to_split': 3.0079115219731367, 'bagging_fraction': 0.6000000000000001}. Best is trial 17 with value: 0.8543626657902857.\u001b[0m\n"
          ]
        },
        {
          "output_type": "stream",
          "name": "stdout",
          "text": [
            "0.8507386192342478\n",
            "[LightGBM] [Warning] lambda_l1 is set=0.14774973388026363, reg_alpha=0.0 will be ignored. Current value: lambda_l1=0.14774973388026363\n",
            "[LightGBM] [Warning] min_data_in_leaf is set=0, min_child_samples=20 will be ignored. Current value: min_data_in_leaf=0\n",
            "[LightGBM] [Warning] min_gain_to_split is set=3.0079115219731367, min_split_gain=0.0 will be ignored. Current value: min_gain_to_split=3.0079115219731367\n",
            "[LightGBM] [Warning] lambda_l2 is set=0.450290956593014, reg_lambda=0.0 will be ignored. Current value: lambda_l2=0.450290956593014\n",
            "[LightGBM] [Warning] bagging_fraction is set=0.6000000000000001, subsample=1.0 will be ignored. Current value: bagging_fraction=0.6000000000000001\n",
            "0.8602243589743588\n",
            "[LightGBM] [Warning] lambda_l1 is set=0.14774973388026363, reg_alpha=0.0 will be ignored. Current value: lambda_l1=0.14774973388026363\n",
            "[LightGBM] [Warning] min_data_in_leaf is set=0, min_child_samples=20 will be ignored. Current value: min_data_in_leaf=0\n",
            "[LightGBM] [Warning] min_gain_to_split is set=3.0079115219731367, min_split_gain=0.0 will be ignored. Current value: min_gain_to_split=3.0079115219731367\n",
            "[LightGBM] [Warning] lambda_l2 is set=0.450290956593014, reg_lambda=0.0 will be ignored. Current value: lambda_l2=0.450290956593014\n",
            "[LightGBM] [Warning] bagging_fraction is set=0.6000000000000001, subsample=1.0 will be ignored. Current value: bagging_fraction=0.6000000000000001\n",
            "0.8805797101449275\n",
            "[LightGBM] [Warning] lambda_l1 is set=0.14774973388026363, reg_alpha=0.0 will be ignored. Current value: lambda_l1=0.14774973388026363\n",
            "[LightGBM] [Warning] min_data_in_leaf is set=0, min_child_samples=20 will be ignored. Current value: min_data_in_leaf=0\n",
            "[LightGBM] [Warning] min_gain_to_split is set=3.0079115219731367, min_split_gain=0.0 will be ignored. Current value: min_gain_to_split=3.0079115219731367\n",
            "[LightGBM] [Warning] lambda_l2 is set=0.450290956593014, reg_lambda=0.0 will be ignored. Current value: lambda_l2=0.450290956593014\n",
            "[LightGBM] [Warning] bagging_fraction is set=0.6000000000000001, subsample=1.0 will be ignored. Current value: bagging_fraction=0.6000000000000001\n",
            "0.8302556390977444\n",
            "[LightGBM] [Warning] lambda_l1 is set=0.1693224846316739, reg_alpha=0.0 will be ignored. Current value: lambda_l1=0.1693224846316739\n",
            "[LightGBM] [Warning] min_data_in_leaf is set=3200, min_child_samples=20 will be ignored. Current value: min_data_in_leaf=3200\n",
            "[LightGBM] [Warning] min_gain_to_split is set=0.1434411242903142, min_split_gain=0.0 will be ignored. Current value: min_gain_to_split=0.1434411242903142\n",
            "[LightGBM] [Warning] lambda_l2 is set=0.21441557337520556, reg_lambda=0.0 will be ignored. Current value: lambda_l2=0.21441557337520556\n",
            "[LightGBM] [Warning] bagging_fraction is set=0.6000000000000001, subsample=1.0 will be ignored. Current value: bagging_fraction=0.6000000000000001\n",
            "0.6666666666666665\n",
            "[LightGBM] [Warning] lambda_l1 is set=0.1693224846316739, reg_alpha=0.0 will be ignored. Current value: lambda_l1=0.1693224846316739\n",
            "[LightGBM] [Warning] min_data_in_leaf is set=3200, min_child_samples=20 will be ignored. Current value: min_data_in_leaf=3200\n",
            "[LightGBM] [Warning] min_gain_to_split is set=0.1434411242903142, min_split_gain=0.0 will be ignored. Current value: min_gain_to_split=0.1434411242903142\n",
            "[LightGBM] [Warning] lambda_l2 is set=0.21441557337520556, reg_lambda=0.0 will be ignored. Current value: lambda_l2=0.21441557337520556\n",
            "[LightGBM] [Warning] bagging_fraction is set=0.6000000000000001, subsample=1.0 will be ignored. Current value: bagging_fraction=0.6000000000000001\n",
            "0.6666666666666665\n",
            "[LightGBM] [Warning] lambda_l1 is set=0.1693224846316739, reg_alpha=0.0 will be ignored. Current value: lambda_l1=0.1693224846316739\n",
            "[LightGBM] [Warning] min_data_in_leaf is set=3200, min_child_samples=20 will be ignored. Current value: min_data_in_leaf=3200\n",
            "[LightGBM] [Warning] min_gain_to_split is set=0.1434411242903142, min_split_gain=0.0 will be ignored. Current value: min_gain_to_split=0.1434411242903142\n",
            "[LightGBM] [Warning] lambda_l2 is set=0.21441557337520556, reg_lambda=0.0 will be ignored. Current value: lambda_l2=0.21441557337520556\n",
            "[LightGBM] [Warning] bagging_fraction is set=0.6000000000000001, subsample=1.0 will be ignored. Current value: bagging_fraction=0.6000000000000001\n"
          ]
        },
        {
          "output_type": "stream",
          "name": "stderr",
          "text": [
            "\u001b[32m[I 2023-04-19 16:54:19,524]\u001b[0m Trial 18 finished with value: 0.6701986754966887 and parameters: {'n_estimators': 370, 'learning_rate': 0.26644565525677233, 'max_depth': 4, 'min_data_in_leaf': 3200, 'lambda_l1': 0.1693224846316739, 'lambda_l2': 0.21441557337520556, 'min_gain_to_split': 0.1434411242903142, 'bagging_fraction': 0.6000000000000001}. Best is trial 17 with value: 0.8543626657902857.\u001b[0m\n"
          ]
        },
        {
          "output_type": "stream",
          "name": "stdout",
          "text": [
            "0.6666666666666665\n",
            "[LightGBM] [Warning] lambda_l1 is set=0.1693224846316739, reg_alpha=0.0 will be ignored. Current value: lambda_l1=0.1693224846316739\n",
            "[LightGBM] [Warning] min_data_in_leaf is set=3200, min_child_samples=20 will be ignored. Current value: min_data_in_leaf=3200\n",
            "[LightGBM] [Warning] min_gain_to_split is set=0.1434411242903142, min_split_gain=0.0 will be ignored. Current value: min_gain_to_split=0.1434411242903142\n",
            "[LightGBM] [Warning] lambda_l2 is set=0.21441557337520556, reg_lambda=0.0 will be ignored. Current value: lambda_l2=0.21441557337520556\n",
            "[LightGBM] [Warning] bagging_fraction is set=0.6000000000000001, subsample=1.0 will be ignored. Current value: bagging_fraction=0.6000000000000001\n",
            "0.6754966887417219\n",
            "[LightGBM] [Warning] lambda_l1 is set=0.1693224846316739, reg_alpha=0.0 will be ignored. Current value: lambda_l1=0.1693224846316739\n",
            "[LightGBM] [Warning] min_data_in_leaf is set=3200, min_child_samples=20 will be ignored. Current value: min_data_in_leaf=3200\n",
            "[LightGBM] [Warning] min_gain_to_split is set=0.1434411242903142, min_split_gain=0.0 will be ignored. Current value: min_gain_to_split=0.1434411242903142\n",
            "[LightGBM] [Warning] lambda_l2 is set=0.21441557337520556, reg_lambda=0.0 will be ignored. Current value: lambda_l2=0.21441557337520556\n",
            "[LightGBM] [Warning] bagging_fraction is set=0.6000000000000001, subsample=1.0 will be ignored. Current value: bagging_fraction=0.6000000000000001\n",
            "0.6754966887417219\n",
            "[LightGBM] [Warning] lambda_l1 is set=0.14672544250338487, reg_alpha=0.0 will be ignored. Current value: lambda_l1=0.14672544250338487\n",
            "[LightGBM] [Warning] min_data_in_leaf is set=1100, min_child_samples=20 will be ignored. Current value: min_data_in_leaf=1100\n",
            "[LightGBM] [Warning] min_gain_to_split is set=2.8756698875100657, min_split_gain=0.0 will be ignored. Current value: min_gain_to_split=2.8756698875100657\n",
            "[LightGBM] [Warning] lambda_l2 is set=0.4039634047579599, reg_lambda=0.0 will be ignored. Current value: lambda_l2=0.4039634047579599\n",
            "[LightGBM] [Warning] bagging_fraction is set=0.8, subsample=1.0 will be ignored. Current value: bagging_fraction=0.8\n",
            "0.6666666666666665\n",
            "[LightGBM] [Warning] lambda_l1 is set=0.14672544250338487, reg_alpha=0.0 will be ignored. Current value: lambda_l1=0.14672544250338487\n",
            "[LightGBM] [Warning] min_data_in_leaf is set=1100, min_child_samples=20 will be ignored. Current value: min_data_in_leaf=1100\n",
            "[LightGBM] [Warning] min_gain_to_split is set=2.8756698875100657, min_split_gain=0.0 will be ignored. Current value: min_gain_to_split=2.8756698875100657\n",
            "[LightGBM] [Warning] lambda_l2 is set=0.4039634047579599, reg_lambda=0.0 will be ignored. Current value: lambda_l2=0.4039634047579599\n",
            "[LightGBM] [Warning] bagging_fraction is set=0.8, subsample=1.0 will be ignored. Current value: bagging_fraction=0.8\n",
            "0.6666666666666665\n",
            "[LightGBM] [Warning] lambda_l1 is set=0.14672544250338487, reg_alpha=0.0 will be ignored. Current value: lambda_l1=0.14672544250338487\n",
            "[LightGBM] [Warning] min_data_in_leaf is set=1100, min_child_samples=20 will be ignored. Current value: min_data_in_leaf=1100\n",
            "[LightGBM] [Warning] min_gain_to_split is set=2.8756698875100657, min_split_gain=0.0 will be ignored. Current value: min_gain_to_split=2.8756698875100657\n",
            "[LightGBM] [Warning] lambda_l2 is set=0.4039634047579599, reg_lambda=0.0 will be ignored. Current value: lambda_l2=0.4039634047579599\n",
            "[LightGBM] [Warning] bagging_fraction is set=0.8, subsample=1.0 will be ignored. Current value: bagging_fraction=0.8\n",
            "0.6666666666666665\n",
            "[LightGBM] [Warning] lambda_l1 is set=0.14672544250338487, reg_alpha=0.0 will be ignored. Current value: lambda_l1=0.14672544250338487\n",
            "[LightGBM] [Warning] min_data_in_leaf is set=1100, min_child_samples=20 will be ignored. Current value: min_data_in_leaf=1100\n",
            "[LightGBM] [Warning] min_gain_to_split is set=2.8756698875100657, min_split_gain=0.0 will be ignored. Current value: min_gain_to_split=2.8756698875100657\n",
            "[LightGBM] [Warning] lambda_l2 is set=0.4039634047579599, reg_lambda=0.0 will be ignored. Current value: lambda_l2=0.4039634047579599\n",
            "[LightGBM] [Warning] bagging_fraction is set=0.8, subsample=1.0 will be ignored. Current value: bagging_fraction=0.8\n",
            "0.6754966887417219\n"
          ]
        },
        {
          "output_type": "stream",
          "name": "stderr",
          "text": [
            "\u001b[32m[I 2023-04-19 16:54:19,718]\u001b[0m Trial 19 finished with value: 0.6701986754966887 and parameters: {'n_estimators': 820, 'learning_rate': 0.31068561968387076, 'max_depth': 4, 'min_data_in_leaf': 1100, 'lambda_l1': 0.14672544250338487, 'lambda_l2': 0.4039634047579599, 'min_gain_to_split': 2.8756698875100657, 'bagging_fraction': 0.8}. Best is trial 17 with value: 0.8543626657902857.\u001b[0m\n",
            "\u001b[32m[I 2023-04-19 16:54:19,881]\u001b[0m Trial 20 finished with value: 0.6701986754966887 and parameters: {'n_estimators': 460, 'learning_rate': 0.2183091254463606, 'max_depth': 5, 'min_data_in_leaf': 2400, 'lambda_l1': 0.2505885816385115, 'lambda_l2': 0.16812557159709363, 'min_gain_to_split': 2.028478529407373, 'bagging_fraction': 0.6000000000000001}. Best is trial 17 with value: 0.8543626657902857.\u001b[0m\n"
          ]
        },
        {
          "output_type": "stream",
          "name": "stdout",
          "text": [
            "[LightGBM] [Warning] lambda_l1 is set=0.14672544250338487, reg_alpha=0.0 will be ignored. Current value: lambda_l1=0.14672544250338487\n",
            "[LightGBM] [Warning] min_data_in_leaf is set=1100, min_child_samples=20 will be ignored. Current value: min_data_in_leaf=1100\n",
            "[LightGBM] [Warning] min_gain_to_split is set=2.8756698875100657, min_split_gain=0.0 will be ignored. Current value: min_gain_to_split=2.8756698875100657\n",
            "[LightGBM] [Warning] lambda_l2 is set=0.4039634047579599, reg_lambda=0.0 will be ignored. Current value: lambda_l2=0.4039634047579599\n",
            "[LightGBM] [Warning] bagging_fraction is set=0.8, subsample=1.0 will be ignored. Current value: bagging_fraction=0.8\n",
            "0.6754966887417219\n",
            "[LightGBM] [Warning] lambda_l1 is set=0.2505885816385115, reg_alpha=0.0 will be ignored. Current value: lambda_l1=0.2505885816385115\n",
            "[LightGBM] [Warning] min_data_in_leaf is set=2400, min_child_samples=20 will be ignored. Current value: min_data_in_leaf=2400\n",
            "[LightGBM] [Warning] min_gain_to_split is set=2.028478529407373, min_split_gain=0.0 will be ignored. Current value: min_gain_to_split=2.028478529407373\n",
            "[LightGBM] [Warning] lambda_l2 is set=0.16812557159709363, reg_lambda=0.0 will be ignored. Current value: lambda_l2=0.16812557159709363\n",
            "[LightGBM] [Warning] bagging_fraction is set=0.6000000000000001, subsample=1.0 will be ignored. Current value: bagging_fraction=0.6000000000000001\n",
            "0.6666666666666665\n",
            "[LightGBM] [Warning] lambda_l1 is set=0.2505885816385115, reg_alpha=0.0 will be ignored. Current value: lambda_l1=0.2505885816385115\n",
            "[LightGBM] [Warning] min_data_in_leaf is set=2400, min_child_samples=20 will be ignored. Current value: min_data_in_leaf=2400\n",
            "[LightGBM] [Warning] min_gain_to_split is set=2.028478529407373, min_split_gain=0.0 will be ignored. Current value: min_gain_to_split=2.028478529407373\n",
            "[LightGBM] [Warning] lambda_l2 is set=0.16812557159709363, reg_lambda=0.0 will be ignored. Current value: lambda_l2=0.16812557159709363\n",
            "[LightGBM] [Warning] bagging_fraction is set=0.6000000000000001, subsample=1.0 will be ignored. Current value: bagging_fraction=0.6000000000000001\n",
            "0.6666666666666665\n",
            "[LightGBM] [Warning] lambda_l1 is set=0.2505885816385115, reg_alpha=0.0 will be ignored. Current value: lambda_l1=0.2505885816385115\n",
            "[LightGBM] [Warning] min_data_in_leaf is set=2400, min_child_samples=20 will be ignored. Current value: min_data_in_leaf=2400\n",
            "[LightGBM] [Warning] min_gain_to_split is set=2.028478529407373, min_split_gain=0.0 will be ignored. Current value: min_gain_to_split=2.028478529407373\n",
            "[LightGBM] [Warning] lambda_l2 is set=0.16812557159709363, reg_lambda=0.0 will be ignored. Current value: lambda_l2=0.16812557159709363\n",
            "[LightGBM] [Warning] bagging_fraction is set=0.6000000000000001, subsample=1.0 will be ignored. Current value: bagging_fraction=0.6000000000000001\n",
            "0.6666666666666665\n",
            "[LightGBM] [Warning] lambda_l1 is set=0.2505885816385115, reg_alpha=0.0 will be ignored. Current value: lambda_l1=0.2505885816385115\n",
            "[LightGBM] [Warning] min_data_in_leaf is set=2400, min_child_samples=20 will be ignored. Current value: min_data_in_leaf=2400\n",
            "[LightGBM] [Warning] min_gain_to_split is set=2.028478529407373, min_split_gain=0.0 will be ignored. Current value: min_gain_to_split=2.028478529407373\n",
            "[LightGBM] [Warning] lambda_l2 is set=0.16812557159709363, reg_lambda=0.0 will be ignored. Current value: lambda_l2=0.16812557159709363\n",
            "[LightGBM] [Warning] bagging_fraction is set=0.6000000000000001, subsample=1.0 will be ignored. Current value: bagging_fraction=0.6000000000000001\n",
            "0.6754966887417219\n",
            "[LightGBM] [Warning] lambda_l1 is set=0.2505885816385115, reg_alpha=0.0 will be ignored. Current value: lambda_l1=0.2505885816385115\n",
            "[LightGBM] [Warning] min_data_in_leaf is set=2400, min_child_samples=20 will be ignored. Current value: min_data_in_leaf=2400\n",
            "[LightGBM] [Warning] min_gain_to_split is set=2.028478529407373, min_split_gain=0.0 will be ignored. Current value: min_gain_to_split=2.028478529407373\n",
            "[LightGBM] [Warning] lambda_l2 is set=0.16812557159709363, reg_lambda=0.0 will be ignored. Current value: lambda_l2=0.16812557159709363\n",
            "[LightGBM] [Warning] bagging_fraction is set=0.6000000000000001, subsample=1.0 will be ignored. Current value: bagging_fraction=0.6000000000000001\n",
            "0.6754966887417219\n",
            "[LightGBM] [Warning] lambda_l1 is set=0.018494909436910862, reg_alpha=0.0 will be ignored. Current value: lambda_l1=0.018494909436910862\n",
            "[LightGBM] [Warning] min_data_in_leaf is set=0, min_child_samples=20 will be ignored. Current value: min_data_in_leaf=0\n",
            "[LightGBM] [Warning] min_gain_to_split is set=5.026530223591372, min_split_gain=0.0 will be ignored. Current value: min_gain_to_split=5.026530223591372\n",
            "[LightGBM] [Warning] lambda_l2 is set=0.49596573428172996, reg_lambda=0.0 will be ignored. Current value: lambda_l2=0.49596573428172996\n",
            "[LightGBM] [Warning] bagging_fraction is set=0.8, subsample=1.0 will be ignored. Current value: bagging_fraction=0.8\n",
            "0.8300170017001699\n",
            "[LightGBM] [Warning] lambda_l1 is set=0.018494909436910862, reg_alpha=0.0 will be ignored. Current value: lambda_l1=0.018494909436910862\n",
            "[LightGBM] [Warning] min_data_in_leaf is set=0, min_child_samples=20 will be ignored. Current value: min_data_in_leaf=0\n",
            "[LightGBM] [Warning] min_gain_to_split is set=5.026530223591372, min_split_gain=0.0 will be ignored. Current value: min_gain_to_split=5.026530223591372\n",
            "[LightGBM] [Warning] lambda_l2 is set=0.49596573428172996, reg_lambda=0.0 will be ignored. Current value: lambda_l2=0.49596573428172996\n",
            "[LightGBM] [Warning] bagging_fraction is set=0.8, subsample=1.0 will be ignored. Current value: bagging_fraction=0.8\n",
            "0.840578081091931\n",
            "[LightGBM] [Warning] lambda_l1 is set=0.018494909436910862, reg_alpha=0.0 will be ignored. Current value: lambda_l1=0.018494909436910862\n",
            "[LightGBM] [Warning] min_data_in_leaf is set=0, min_child_samples=20 will be ignored. Current value: min_data_in_leaf=0\n",
            "[LightGBM] [Warning] min_gain_to_split is set=5.026530223591372, min_split_gain=0.0 will be ignored. Current value: min_gain_to_split=5.026530223591372\n",
            "[LightGBM] [Warning] lambda_l2 is set=0.49596573428172996, reg_lambda=0.0 will be ignored. Current value: lambda_l2=0.49596573428172996\n",
            "[LightGBM] [Warning] bagging_fraction is set=0.8, subsample=1.0 will be ignored. Current value: bagging_fraction=0.8\n",
            "0.8599999999999999\n",
            "[LightGBM] [Warning] lambda_l1 is set=0.018494909436910862, reg_alpha=0.0 will be ignored. Current value: lambda_l1=0.018494909436910862\n",
            "[LightGBM] [Warning] min_data_in_leaf is set=0, min_child_samples=20 will be ignored. Current value: min_data_in_leaf=0\n",
            "[LightGBM] [Warning] min_gain_to_split is set=5.026530223591372, min_split_gain=0.0 will be ignored. Current value: min_gain_to_split=5.026530223591372\n",
            "[LightGBM] [Warning] lambda_l2 is set=0.49596573428172996, reg_lambda=0.0 will be ignored. Current value: lambda_l2=0.49596573428172996\n",
            "[LightGBM] [Warning] bagging_fraction is set=0.8, subsample=1.0 will be ignored. Current value: bagging_fraction=0.8\n"
          ]
        },
        {
          "output_type": "stream",
          "name": "stderr",
          "text": [
            "\u001b[32m[I 2023-04-19 16:54:20,247]\u001b[0m Trial 21 finished with value: 0.8482860864069546 and parameters: {'n_estimators': 820, 'learning_rate': 0.3506072977808239, 'max_depth': 3, 'min_data_in_leaf': 0, 'lambda_l1': 0.018494909436910862, 'lambda_l2': 0.49596573428172996, 'min_gain_to_split': 5.026530223591372, 'bagging_fraction': 0.8}. Best is trial 17 with value: 0.8543626657902857.\u001b[0m\n"
          ]
        },
        {
          "output_type": "stream",
          "name": "stdout",
          "text": [
            "0.8805797101449275\n",
            "[LightGBM] [Warning] lambda_l1 is set=0.018494909436910862, reg_alpha=0.0 will be ignored. Current value: lambda_l1=0.018494909436910862\n",
            "[LightGBM] [Warning] min_data_in_leaf is set=0, min_child_samples=20 will be ignored. Current value: min_data_in_leaf=0\n",
            "[LightGBM] [Warning] min_gain_to_split is set=5.026530223591372, min_split_gain=0.0 will be ignored. Current value: min_gain_to_split=5.026530223591372\n",
            "[LightGBM] [Warning] lambda_l2 is set=0.49596573428172996, reg_lambda=0.0 will be ignored. Current value: lambda_l2=0.49596573428172996\n",
            "[LightGBM] [Warning] bagging_fraction is set=0.8, subsample=1.0 will be ignored. Current value: bagging_fraction=0.8\n",
            "0.8302556390977444\n",
            "[LightGBM] [Warning] lambda_l1 is set=0.13725502711987875, reg_alpha=0.0 will be ignored. Current value: lambda_l1=0.13725502711987875\n",
            "[LightGBM] [Warning] min_data_in_leaf is set=600, min_child_samples=20 will be ignored. Current value: min_data_in_leaf=600\n",
            "[LightGBM] [Warning] min_gain_to_split is set=4.0249913417518215, min_split_gain=0.0 will be ignored. Current value: min_gain_to_split=4.0249913417518215\n",
            "[LightGBM] [Warning] lambda_l2 is set=0.4390493818149719, reg_lambda=0.0 will be ignored. Current value: lambda_l2=0.4390493818149719\n",
            "[LightGBM] [Warning] bagging_fraction is set=0.8, subsample=1.0 will be ignored. Current value: bagging_fraction=0.8\n",
            "0.6666666666666665\n",
            "[LightGBM] [Warning] lambda_l1 is set=0.13725502711987875, reg_alpha=0.0 will be ignored. Current value: lambda_l1=0.13725502711987875\n",
            "[LightGBM] [Warning] min_data_in_leaf is set=600, min_child_samples=20 will be ignored. Current value: min_data_in_leaf=600\n",
            "[LightGBM] [Warning] min_gain_to_split is set=4.0249913417518215, min_split_gain=0.0 will be ignored. Current value: min_gain_to_split=4.0249913417518215\n",
            "[LightGBM] [Warning] lambda_l2 is set=0.4390493818149719, reg_lambda=0.0 will be ignored. Current value: lambda_l2=0.4390493818149719\n",
            "[LightGBM] [Warning] bagging_fraction is set=0.8, subsample=1.0 will be ignored. Current value: bagging_fraction=0.8\n",
            "0.6666666666666665\n",
            "[LightGBM] [Warning] lambda_l1 is set=0.13725502711987875, reg_alpha=0.0 will be ignored. Current value: lambda_l1=0.13725502711987875\n",
            "[LightGBM] [Warning] min_data_in_leaf is set=600, min_child_samples=20 will be ignored. Current value: min_data_in_leaf=600\n",
            "[LightGBM] [Warning] min_gain_to_split is set=4.0249913417518215, min_split_gain=0.0 will be ignored. Current value: min_gain_to_split=4.0249913417518215\n",
            "[LightGBM] [Warning] lambda_l2 is set=0.4390493818149719, reg_lambda=0.0 will be ignored. Current value: lambda_l2=0.4390493818149719\n",
            "[LightGBM] [Warning] bagging_fraction is set=0.8, subsample=1.0 will be ignored. Current value: bagging_fraction=0.8\n",
            "0.6666666666666665\n",
            "[LightGBM] [Warning] lambda_l1 is set=0.13725502711987875, reg_alpha=0.0 will be ignored. Current value: lambda_l1=0.13725502711987875\n",
            "[LightGBM] [Warning] min_data_in_leaf is set=600, min_child_samples=20 will be ignored. Current value: min_data_in_leaf=600\n",
            "[LightGBM] [Warning] min_gain_to_split is set=4.0249913417518215, min_split_gain=0.0 will be ignored. Current value: min_gain_to_split=4.0249913417518215\n",
            "[LightGBM] [Warning] lambda_l2 is set=0.4390493818149719, reg_lambda=0.0 will be ignored. Current value: lambda_l2=0.4390493818149719\n",
            "[LightGBM] [Warning] bagging_fraction is set=0.8, subsample=1.0 will be ignored. Current value: bagging_fraction=0.8\n"
          ]
        },
        {
          "output_type": "stream",
          "name": "stderr",
          "text": [
            "\u001b[32m[I 2023-04-19 16:54:20,431]\u001b[0m Trial 22 finished with value: 0.6701986754966887 and parameters: {'n_estimators': 820, 'learning_rate': 0.3310633754454654, 'max_depth': 4, 'min_data_in_leaf': 600, 'lambda_l1': 0.13725502711987875, 'lambda_l2': 0.4390493818149719, 'min_gain_to_split': 4.0249913417518215, 'bagging_fraction': 0.8}. Best is trial 17 with value: 0.8543626657902857.\u001b[0m\n"
          ]
        },
        {
          "output_type": "stream",
          "name": "stdout",
          "text": [
            "0.6754966887417219\n",
            "[LightGBM] [Warning] lambda_l1 is set=0.13725502711987875, reg_alpha=0.0 will be ignored. Current value: lambda_l1=0.13725502711987875\n",
            "[LightGBM] [Warning] min_data_in_leaf is set=600, min_child_samples=20 will be ignored. Current value: min_data_in_leaf=600\n",
            "[LightGBM] [Warning] min_gain_to_split is set=4.0249913417518215, min_split_gain=0.0 will be ignored. Current value: min_gain_to_split=4.0249913417518215\n",
            "[LightGBM] [Warning] lambda_l2 is set=0.4390493818149719, reg_lambda=0.0 will be ignored. Current value: lambda_l2=0.4390493818149719\n",
            "[LightGBM] [Warning] bagging_fraction is set=0.8, subsample=1.0 will be ignored. Current value: bagging_fraction=0.8\n",
            "0.6754966887417219\n",
            "[LightGBM] [Warning] lambda_l1 is set=0.04094533896177682, reg_alpha=0.0 will be ignored. Current value: lambda_l1=0.04094533896177682\n",
            "[LightGBM] [Warning] min_data_in_leaf is set=1900, min_child_samples=20 will be ignored. Current value: min_data_in_leaf=1900\n",
            "[LightGBM] [Warning] min_gain_to_split is set=4.761406005936233, min_split_gain=0.0 will be ignored. Current value: min_gain_to_split=4.761406005936233\n",
            "[LightGBM] [Warning] lambda_l2 is set=0.27185334294374364, reg_lambda=0.0 will be ignored. Current value: lambda_l2=0.27185334294374364\n",
            "[LightGBM] [Warning] bagging_fraction is set=0.8, subsample=1.0 will be ignored. Current value: bagging_fraction=0.8\n",
            "0.6666666666666665\n",
            "[LightGBM] [Warning] lambda_l1 is set=0.04094533896177682, reg_alpha=0.0 will be ignored. Current value: lambda_l1=0.04094533896177682\n",
            "[LightGBM] [Warning] min_data_in_leaf is set=1900, min_child_samples=20 will be ignored. Current value: min_data_in_leaf=1900\n",
            "[LightGBM] [Warning] min_gain_to_split is set=4.761406005936233, min_split_gain=0.0 will be ignored. Current value: min_gain_to_split=4.761406005936233\n",
            "[LightGBM] [Warning] lambda_l2 is set=0.27185334294374364, reg_lambda=0.0 will be ignored. Current value: lambda_l2=0.27185334294374364\n",
            "[LightGBM] [Warning] bagging_fraction is set=0.8, subsample=1.0 will be ignored. Current value: bagging_fraction=0.8\n",
            "0.6666666666666665\n",
            "[LightGBM] [Warning] lambda_l1 is set=0.04094533896177682, reg_alpha=0.0 will be ignored. Current value: lambda_l1=0.04094533896177682\n",
            "[LightGBM] [Warning] min_data_in_leaf is set=1900, min_child_samples=20 will be ignored. Current value: min_data_in_leaf=1900\n",
            "[LightGBM] [Warning] min_gain_to_split is set=4.761406005936233, min_split_gain=0.0 will be ignored. Current value: min_gain_to_split=4.761406005936233\n",
            "[LightGBM] [Warning] lambda_l2 is set=0.27185334294374364, reg_lambda=0.0 will be ignored. Current value: lambda_l2=0.27185334294374364\n",
            "[LightGBM] [Warning] bagging_fraction is set=0.8, subsample=1.0 will be ignored. Current value: bagging_fraction=0.8\n",
            "0.6666666666666665\n",
            "[LightGBM] [Warning] lambda_l1 is set=0.04094533896177682, reg_alpha=0.0 will be ignored. Current value: lambda_l1=0.04094533896177682\n",
            "[LightGBM] [Warning] min_data_in_leaf is set=1900, min_child_samples=20 will be ignored. Current value: min_data_in_leaf=1900\n",
            "[LightGBM] [Warning] min_gain_to_split is set=4.761406005936233, min_split_gain=0.0 will be ignored. Current value: min_gain_to_split=4.761406005936233\n",
            "[LightGBM] [Warning] lambda_l2 is set=0.27185334294374364, reg_lambda=0.0 will be ignored. Current value: lambda_l2=0.27185334294374364\n",
            "[LightGBM] [Warning] bagging_fraction is set=0.8, subsample=1.0 will be ignored. Current value: bagging_fraction=0.8\n",
            "0.6754966887417219\n",
            "[LightGBM] [Warning] lambda_l1 is set=0.04094533896177682, reg_alpha=0.0 will be ignored. Current value: lambda_l1=0.04094533896177682\n",
            "[LightGBM] [Warning] min_data_in_leaf is set=1900, min_child_samples=20 will be ignored. Current value: min_data_in_leaf=1900\n",
            "[LightGBM] [Warning] min_gain_to_split is set=4.761406005936233, min_split_gain=0.0 will be ignored. Current value: min_gain_to_split=4.761406005936233\n",
            "[LightGBM] [Warning] lambda_l2 is set=0.27185334294374364, reg_lambda=0.0 will be ignored. Current value: lambda_l2=0.27185334294374364\n",
            "[LightGBM] [Warning] bagging_fraction is set=0.8, subsample=1.0 will be ignored. Current value: bagging_fraction=0.8\n"
          ]
        },
        {
          "output_type": "stream",
          "name": "stderr",
          "text": [
            "\u001b[32m[I 2023-04-19 16:54:20,617]\u001b[0m Trial 23 finished with value: 0.6701986754966887 and parameters: {'n_estimators': 730, 'learning_rate': 0.2923764101451561, 'max_depth': 4, 'min_data_in_leaf': 1900, 'lambda_l1': 0.04094533896177682, 'lambda_l2': 0.27185334294374364, 'min_gain_to_split': 4.761406005936233, 'bagging_fraction': 0.8}. Best is trial 17 with value: 0.8543626657902857.\u001b[0m\n",
            "\u001b[32m[I 2023-04-19 16:54:20,748]\u001b[0m Trial 24 finished with value: 0.6701986754966887 and parameters: {'n_estimators': 190, 'learning_rate': 0.2662130712405446, 'max_depth': 3, 'min_data_in_leaf': 900, 'lambda_l1': 0.005180974581107146, 'lambda_l2': 0.4707353845779808, 'min_gain_to_split': 2.9550736844249186, 'bagging_fraction': 0.6000000000000001}. Best is trial 17 with value: 0.8543626657902857.\u001b[0m\n"
          ]
        },
        {
          "output_type": "stream",
          "name": "stdout",
          "text": [
            "0.6754966887417219\n",
            "[LightGBM] [Warning] lambda_l1 is set=0.005180974581107146, reg_alpha=0.0 will be ignored. Current value: lambda_l1=0.005180974581107146\n",
            "[LightGBM] [Warning] min_data_in_leaf is set=900, min_child_samples=20 will be ignored. Current value: min_data_in_leaf=900\n",
            "[LightGBM] [Warning] min_gain_to_split is set=2.9550736844249186, min_split_gain=0.0 will be ignored. Current value: min_gain_to_split=2.9550736844249186\n",
            "[LightGBM] [Warning] lambda_l2 is set=0.4707353845779808, reg_lambda=0.0 will be ignored. Current value: lambda_l2=0.4707353845779808\n",
            "[LightGBM] [Warning] bagging_fraction is set=0.6000000000000001, subsample=1.0 will be ignored. Current value: bagging_fraction=0.6000000000000001\n",
            "0.6666666666666665\n",
            "[LightGBM] [Warning] lambda_l1 is set=0.005180974581107146, reg_alpha=0.0 will be ignored. Current value: lambda_l1=0.005180974581107146\n",
            "[LightGBM] [Warning] min_data_in_leaf is set=900, min_child_samples=20 will be ignored. Current value: min_data_in_leaf=900\n",
            "[LightGBM] [Warning] min_gain_to_split is set=2.9550736844249186, min_split_gain=0.0 will be ignored. Current value: min_gain_to_split=2.9550736844249186\n",
            "[LightGBM] [Warning] lambda_l2 is set=0.4707353845779808, reg_lambda=0.0 will be ignored. Current value: lambda_l2=0.4707353845779808\n",
            "[LightGBM] [Warning] bagging_fraction is set=0.6000000000000001, subsample=1.0 will be ignored. Current value: bagging_fraction=0.6000000000000001\n",
            "0.6666666666666665\n",
            "[LightGBM] [Warning] lambda_l1 is set=0.005180974581107146, reg_alpha=0.0 will be ignored. Current value: lambda_l1=0.005180974581107146\n",
            "[LightGBM] [Warning] min_data_in_leaf is set=900, min_child_samples=20 will be ignored. Current value: min_data_in_leaf=900\n",
            "[LightGBM] [Warning] min_gain_to_split is set=2.9550736844249186, min_split_gain=0.0 will be ignored. Current value: min_gain_to_split=2.9550736844249186\n",
            "[LightGBM] [Warning] lambda_l2 is set=0.4707353845779808, reg_lambda=0.0 will be ignored. Current value: lambda_l2=0.4707353845779808\n",
            "[LightGBM] [Warning] bagging_fraction is set=0.6000000000000001, subsample=1.0 will be ignored. Current value: bagging_fraction=0.6000000000000001\n",
            "0.6666666666666665\n",
            "[LightGBM] [Warning] lambda_l1 is set=0.005180974581107146, reg_alpha=0.0 will be ignored. Current value: lambda_l1=0.005180974581107146\n",
            "[LightGBM] [Warning] min_data_in_leaf is set=900, min_child_samples=20 will be ignored. Current value: min_data_in_leaf=900\n",
            "[LightGBM] [Warning] min_gain_to_split is set=2.9550736844249186, min_split_gain=0.0 will be ignored. Current value: min_gain_to_split=2.9550736844249186\n",
            "[LightGBM] [Warning] lambda_l2 is set=0.4707353845779808, reg_lambda=0.0 will be ignored. Current value: lambda_l2=0.4707353845779808\n",
            "[LightGBM] [Warning] bagging_fraction is set=0.6000000000000001, subsample=1.0 will be ignored. Current value: bagging_fraction=0.6000000000000001\n",
            "0.6754966887417219\n",
            "[LightGBM] [Warning] lambda_l1 is set=0.005180974581107146, reg_alpha=0.0 will be ignored. Current value: lambda_l1=0.005180974581107146\n",
            "[LightGBM] [Warning] min_data_in_leaf is set=900, min_child_samples=20 will be ignored. Current value: min_data_in_leaf=900\n",
            "[LightGBM] [Warning] min_gain_to_split is set=2.9550736844249186, min_split_gain=0.0 will be ignored. Current value: min_gain_to_split=2.9550736844249186\n",
            "[LightGBM] [Warning] lambda_l2 is set=0.4707353845779808, reg_lambda=0.0 will be ignored. Current value: lambda_l2=0.4707353845779808\n",
            "[LightGBM] [Warning] bagging_fraction is set=0.6000000000000001, subsample=1.0 will be ignored. Current value: bagging_fraction=0.6000000000000001\n",
            "0.6754966887417219\n",
            "[LightGBM] [Warning] lambda_l1 is set=0.21404239438287692, reg_alpha=0.0 will be ignored. Current value: lambda_l1=0.21404239438287692\n",
            "[LightGBM] [Warning] min_data_in_leaf is set=100, min_child_samples=20 will be ignored. Current value: min_data_in_leaf=100\n",
            "[LightGBM] [Warning] min_gain_to_split is set=1.3968839460229212, min_split_gain=0.0 will be ignored. Current value: min_gain_to_split=1.3968839460229212\n",
            "[LightGBM] [Warning] lambda_l2 is set=0.33122309819125195, reg_lambda=0.0 will be ignored. Current value: lambda_l2=0.33122309819125195\n",
            "[LightGBM] [Warning] bagging_fraction is set=0.2, subsample=1.0 will be ignored. Current value: bagging_fraction=0.2\n"
          ]
        },
        {
          "output_type": "stream",
          "name": "stderr",
          "text": [
            "\u001b[32m[I 2023-04-19 16:54:21,025]\u001b[0m Trial 25 finished with value: 0.8443166844114007 and parameters: {'n_estimators': 730, 'learning_rate': 0.3494179727502268, 'max_depth': 4, 'min_data_in_leaf': 100, 'lambda_l1': 0.21404239438287692, 'lambda_l2': 0.33122309819125195, 'min_gain_to_split': 1.3968839460229212, 'bagging_fraction': 0.2}. Best is trial 17 with value: 0.8543626657902857.\u001b[0m\n"
          ]
        },
        {
          "output_type": "stream",
          "name": "stdout",
          "text": [
            "0.8400640256102441\n",
            "[LightGBM] [Warning] lambda_l1 is set=0.21404239438287692, reg_alpha=0.0 will be ignored. Current value: lambda_l1=0.21404239438287692\n",
            "[LightGBM] [Warning] min_data_in_leaf is set=100, min_child_samples=20 will be ignored. Current value: min_data_in_leaf=100\n",
            "[LightGBM] [Warning] min_gain_to_split is set=1.3968839460229212, min_split_gain=0.0 will be ignored. Current value: min_gain_to_split=1.3968839460229212\n",
            "[LightGBM] [Warning] lambda_l2 is set=0.33122309819125195, reg_lambda=0.0 will be ignored. Current value: lambda_l2=0.33122309819125195\n",
            "[LightGBM] [Warning] bagging_fraction is set=0.2, subsample=1.0 will be ignored. Current value: bagging_fraction=0.2\n",
            "0.8402564102564102\n",
            "[LightGBM] [Warning] lambda_l1 is set=0.21404239438287692, reg_alpha=0.0 will be ignored. Current value: lambda_l1=0.21404239438287692\n",
            "[LightGBM] [Warning] min_data_in_leaf is set=100, min_child_samples=20 will be ignored. Current value: min_data_in_leaf=100\n",
            "[LightGBM] [Warning] min_gain_to_split is set=1.3968839460229212, min_split_gain=0.0 will be ignored. Current value: min_gain_to_split=1.3968839460229212\n",
            "[LightGBM] [Warning] lambda_l2 is set=0.33122309819125195, reg_lambda=0.0 will be ignored. Current value: lambda_l2=0.33122309819125195\n",
            "[LightGBM] [Warning] bagging_fraction is set=0.2, subsample=1.0 will be ignored. Current value: bagging_fraction=0.2\n",
            "0.8500150015001501\n",
            "[LightGBM] [Warning] lambda_l1 is set=0.21404239438287692, reg_alpha=0.0 will be ignored. Current value: lambda_l1=0.21404239438287692\n",
            "[LightGBM] [Warning] min_data_in_leaf is set=100, min_child_samples=20 will be ignored. Current value: min_data_in_leaf=100\n",
            "[LightGBM] [Warning] min_gain_to_split is set=1.3968839460229212, min_split_gain=0.0 will be ignored. Current value: min_gain_to_split=1.3968839460229212\n",
            "[LightGBM] [Warning] lambda_l2 is set=0.33122309819125195, reg_lambda=0.0 will be ignored. Current value: lambda_l2=0.33122309819125195\n",
            "[LightGBM] [Warning] bagging_fraction is set=0.2, subsample=1.0 will be ignored. Current value: bagging_fraction=0.2\n",
            "0.8805797101449275\n",
            "[LightGBM] [Warning] lambda_l1 is set=0.21404239438287692, reg_alpha=0.0 will be ignored. Current value: lambda_l1=0.21404239438287692\n",
            "[LightGBM] [Warning] min_data_in_leaf is set=100, min_child_samples=20 will be ignored. Current value: min_data_in_leaf=100\n",
            "[LightGBM] [Warning] min_gain_to_split is set=1.3968839460229212, min_split_gain=0.0 will be ignored. Current value: min_gain_to_split=1.3968839460229212\n",
            "[LightGBM] [Warning] lambda_l2 is set=0.33122309819125195, reg_lambda=0.0 will be ignored. Current value: lambda_l2=0.33122309819125195\n",
            "[LightGBM] [Warning] bagging_fraction is set=0.2, subsample=1.0 will be ignored. Current value: bagging_fraction=0.2\n",
            "0.8106682745452719\n"
          ]
        },
        {
          "output_type": "stream",
          "name": "stderr",
          "text": [
            "\u001b[32m[I 2023-04-19 16:54:21,211]\u001b[0m Trial 26 finished with value: 0.6701986754966887 and parameters: {'n_estimators': 550, 'learning_rate': 0.36458613258034445, 'max_depth': 3, 'min_data_in_leaf': 1700, 'lambda_l1': 0.19326465058604214, 'lambda_l2': 0.34124142142569963, 'min_gain_to_split': 1.1640429558742587, 'bagging_fraction': 0.2}. Best is trial 17 with value: 0.8543626657902857.\u001b[0m\n"
          ]
        },
        {
          "output_type": "stream",
          "name": "stdout",
          "text": [
            "[LightGBM] [Warning] lambda_l1 is set=0.19326465058604214, reg_alpha=0.0 will be ignored. Current value: lambda_l1=0.19326465058604214\n",
            "[LightGBM] [Warning] min_data_in_leaf is set=1700, min_child_samples=20 will be ignored. Current value: min_data_in_leaf=1700\n",
            "[LightGBM] [Warning] min_gain_to_split is set=1.1640429558742587, min_split_gain=0.0 will be ignored. Current value: min_gain_to_split=1.1640429558742587\n",
            "[LightGBM] [Warning] lambda_l2 is set=0.34124142142569963, reg_lambda=0.0 will be ignored. Current value: lambda_l2=0.34124142142569963\n",
            "[LightGBM] [Warning] bagging_fraction is set=0.2, subsample=1.0 will be ignored. Current value: bagging_fraction=0.2\n",
            "0.6666666666666665\n",
            "[LightGBM] [Warning] lambda_l1 is set=0.19326465058604214, reg_alpha=0.0 will be ignored. Current value: lambda_l1=0.19326465058604214\n",
            "[LightGBM] [Warning] min_data_in_leaf is set=1700, min_child_samples=20 will be ignored. Current value: min_data_in_leaf=1700\n",
            "[LightGBM] [Warning] min_gain_to_split is set=1.1640429558742587, min_split_gain=0.0 will be ignored. Current value: min_gain_to_split=1.1640429558742587\n",
            "[LightGBM] [Warning] lambda_l2 is set=0.34124142142569963, reg_lambda=0.0 will be ignored. Current value: lambda_l2=0.34124142142569963\n",
            "[LightGBM] [Warning] bagging_fraction is set=0.2, subsample=1.0 will be ignored. Current value: bagging_fraction=0.2\n",
            "0.6666666666666665\n",
            "[LightGBM] [Warning] lambda_l1 is set=0.19326465058604214, reg_alpha=0.0 will be ignored. Current value: lambda_l1=0.19326465058604214\n",
            "[LightGBM] [Warning] min_data_in_leaf is set=1700, min_child_samples=20 will be ignored. Current value: min_data_in_leaf=1700\n",
            "[LightGBM] [Warning] min_gain_to_split is set=1.1640429558742587, min_split_gain=0.0 will be ignored. Current value: min_gain_to_split=1.1640429558742587\n",
            "[LightGBM] [Warning] lambda_l2 is set=0.34124142142569963, reg_lambda=0.0 will be ignored. Current value: lambda_l2=0.34124142142569963\n",
            "[LightGBM] [Warning] bagging_fraction is set=0.2, subsample=1.0 will be ignored. Current value: bagging_fraction=0.2\n",
            "0.6666666666666665\n",
            "[LightGBM] [Warning] lambda_l1 is set=0.19326465058604214, reg_alpha=0.0 will be ignored. Current value: lambda_l1=0.19326465058604214\n",
            "[LightGBM] [Warning] min_data_in_leaf is set=1700, min_child_samples=20 will be ignored. Current value: min_data_in_leaf=1700\n",
            "[LightGBM] [Warning] min_gain_to_split is set=1.1640429558742587, min_split_gain=0.0 will be ignored. Current value: min_gain_to_split=1.1640429558742587\n",
            "[LightGBM] [Warning] lambda_l2 is set=0.34124142142569963, reg_lambda=0.0 will be ignored. Current value: lambda_l2=0.34124142142569963\n",
            "[LightGBM] [Warning] bagging_fraction is set=0.2, subsample=1.0 will be ignored. Current value: bagging_fraction=0.2\n",
            "0.6754966887417219\n",
            "[LightGBM] [Warning] lambda_l1 is set=0.19326465058604214, reg_alpha=0.0 will be ignored. Current value: lambda_l1=0.19326465058604214\n",
            "[LightGBM] [Warning] min_data_in_leaf is set=1700, min_child_samples=20 will be ignored. Current value: min_data_in_leaf=1700\n",
            "[LightGBM] [Warning] min_gain_to_split is set=1.1640429558742587, min_split_gain=0.0 will be ignored. Current value: min_gain_to_split=1.1640429558742587\n",
            "[LightGBM] [Warning] lambda_l2 is set=0.34124142142569963, reg_lambda=0.0 will be ignored. Current value: lambda_l2=0.34124142142569963\n",
            "[LightGBM] [Warning] bagging_fraction is set=0.2, subsample=1.0 will be ignored. Current value: bagging_fraction=0.2\n",
            "0.6754966887417219\n",
            "[LightGBM] [Warning] lambda_l1 is set=0.31217164595846464, reg_alpha=0.0 will be ignored. Current value: lambda_l1=0.31217164595846464\n",
            "[LightGBM] [Warning] min_data_in_leaf is set=3500, min_child_samples=20 will be ignored. Current value: min_data_in_leaf=3500\n",
            "[LightGBM] [Warning] min_gain_to_split is set=1.6028526393685607, min_split_gain=0.0 will be ignored. Current value: min_gain_to_split=1.6028526393685607\n",
            "[LightGBM] [Warning] lambda_l2 is set=0.47077844541814623, reg_lambda=0.0 will be ignored. Current value: lambda_l2=0.47077844541814623\n",
            "[LightGBM] [Warning] bagging_fraction is set=0.2, subsample=1.0 will be ignored. Current value: bagging_fraction=0.2\n"
          ]
        },
        {
          "output_type": "stream",
          "name": "stderr",
          "text": [
            "\u001b[32m[I 2023-04-19 16:54:21,373]\u001b[0m Trial 27 finished with value: 0.6701986754966887 and parameters: {'n_estimators': 370, 'learning_rate': 0.36339455279895283, 'max_depth': 4, 'min_data_in_leaf': 3500, 'lambda_l1': 0.31217164595846464, 'lambda_l2': 0.47077844541814623, 'min_gain_to_split': 1.6028526393685607, 'bagging_fraction': 0.2}. Best is trial 17 with value: 0.8543626657902857.\u001b[0m\n"
          ]
        },
        {
          "output_type": "stream",
          "name": "stdout",
          "text": [
            "0.6666666666666665\n",
            "[LightGBM] [Warning] lambda_l1 is set=0.31217164595846464, reg_alpha=0.0 will be ignored. Current value: lambda_l1=0.31217164595846464\n",
            "[LightGBM] [Warning] min_data_in_leaf is set=3500, min_child_samples=20 will be ignored. Current value: min_data_in_leaf=3500\n",
            "[LightGBM] [Warning] min_gain_to_split is set=1.6028526393685607, min_split_gain=0.0 will be ignored. Current value: min_gain_to_split=1.6028526393685607\n",
            "[LightGBM] [Warning] lambda_l2 is set=0.47077844541814623, reg_lambda=0.0 will be ignored. Current value: lambda_l2=0.47077844541814623\n",
            "[LightGBM] [Warning] bagging_fraction is set=0.2, subsample=1.0 will be ignored. Current value: bagging_fraction=0.2\n",
            "0.6666666666666665\n",
            "[LightGBM] [Warning] lambda_l1 is set=0.31217164595846464, reg_alpha=0.0 will be ignored. Current value: lambda_l1=0.31217164595846464\n",
            "[LightGBM] [Warning] min_data_in_leaf is set=3500, min_child_samples=20 will be ignored. Current value: min_data_in_leaf=3500\n",
            "[LightGBM] [Warning] min_gain_to_split is set=1.6028526393685607, min_split_gain=0.0 will be ignored. Current value: min_gain_to_split=1.6028526393685607\n",
            "[LightGBM] [Warning] lambda_l2 is set=0.47077844541814623, reg_lambda=0.0 will be ignored. Current value: lambda_l2=0.47077844541814623\n",
            "[LightGBM] [Warning] bagging_fraction is set=0.2, subsample=1.0 will be ignored. Current value: bagging_fraction=0.2\n",
            "0.6666666666666665\n",
            "[LightGBM] [Warning] lambda_l1 is set=0.31217164595846464, reg_alpha=0.0 will be ignored. Current value: lambda_l1=0.31217164595846464\n",
            "[LightGBM] [Warning] min_data_in_leaf is set=3500, min_child_samples=20 will be ignored. Current value: min_data_in_leaf=3500\n",
            "[LightGBM] [Warning] min_gain_to_split is set=1.6028526393685607, min_split_gain=0.0 will be ignored. Current value: min_gain_to_split=1.6028526393685607\n",
            "[LightGBM] [Warning] lambda_l2 is set=0.47077844541814623, reg_lambda=0.0 will be ignored. Current value: lambda_l2=0.47077844541814623\n",
            "[LightGBM] [Warning] bagging_fraction is set=0.2, subsample=1.0 will be ignored. Current value: bagging_fraction=0.2\n",
            "0.6754966887417219\n",
            "[LightGBM] [Warning] lambda_l1 is set=0.31217164595846464, reg_alpha=0.0 will be ignored. Current value: lambda_l1=0.31217164595846464\n",
            "[LightGBM] [Warning] min_data_in_leaf is set=3500, min_child_samples=20 will be ignored. Current value: min_data_in_leaf=3500\n",
            "[LightGBM] [Warning] min_gain_to_split is set=1.6028526393685607, min_split_gain=0.0 will be ignored. Current value: min_gain_to_split=1.6028526393685607\n",
            "[LightGBM] [Warning] lambda_l2 is set=0.47077844541814623, reg_lambda=0.0 will be ignored. Current value: lambda_l2=0.47077844541814623\n",
            "[LightGBM] [Warning] bagging_fraction is set=0.2, subsample=1.0 will be ignored. Current value: bagging_fraction=0.2\n",
            "0.6754966887417219\n",
            "[LightGBM] [Warning] lambda_l1 is set=0.11101478263375367, reg_alpha=0.0 will be ignored. Current value: lambda_l1=0.11101478263375367\n",
            "[LightGBM] [Warning] min_data_in_leaf is set=800, min_child_samples=20 will be ignored. Current value: min_data_in_leaf=800\n",
            "[LightGBM] [Warning] min_gain_to_split is set=0.20410808250112678, min_split_gain=0.0 will be ignored. Current value: min_gain_to_split=0.20410808250112678\n",
            "[LightGBM] [Warning] lambda_l2 is set=0.3154239378712394, reg_lambda=0.0 will be ignored. Current value: lambda_l2=0.3154239378712394\n",
            "[LightGBM] [Warning] bagging_fraction is set=0.4, subsample=1.0 will be ignored. Current value: bagging_fraction=0.4\n",
            "0.6666666666666665\n",
            "[LightGBM] [Warning] lambda_l1 is set=0.11101478263375367, reg_alpha=0.0 will be ignored. Current value: lambda_l1=0.11101478263375367\n",
            "[LightGBM] [Warning] min_data_in_leaf is set=800, min_child_samples=20 will be ignored. Current value: min_data_in_leaf=800\n",
            "[LightGBM] [Warning] min_gain_to_split is set=0.20410808250112678, min_split_gain=0.0 will be ignored. Current value: min_gain_to_split=0.20410808250112678\n",
            "[LightGBM] [Warning] lambda_l2 is set=0.3154239378712394, reg_lambda=0.0 will be ignored. Current value: lambda_l2=0.3154239378712394\n",
            "[LightGBM] [Warning] bagging_fraction is set=0.4, subsample=1.0 will be ignored. Current value: bagging_fraction=0.4\n",
            "0.6666666666666665\n",
            "[LightGBM] [Warning] lambda_l1 is set=0.11101478263375367, reg_alpha=0.0 will be ignored. Current value: lambda_l1=0.11101478263375367\n",
            "[LightGBM] [Warning] min_data_in_leaf is set=800, min_child_samples=20 will be ignored. Current value: min_data_in_leaf=800\n",
            "[LightGBM] [Warning] min_gain_to_split is set=0.20410808250112678, min_split_gain=0.0 will be ignored. Current value: min_gain_to_split=0.20410808250112678\n",
            "[LightGBM] [Warning] lambda_l2 is set=0.3154239378712394, reg_lambda=0.0 will be ignored. Current value: lambda_l2=0.3154239378712394\n",
            "[LightGBM] [Warning] bagging_fraction is set=0.4, subsample=1.0 will be ignored. Current value: bagging_fraction=0.4\n",
            "0.6666666666666665\n",
            "[LightGBM] [Warning] lambda_l1 is set=0.11101478263375367, reg_alpha=0.0 will be ignored. Current value: lambda_l1=0.11101478263375367\n",
            "[LightGBM] [Warning] min_data_in_leaf is set=800, min_child_samples=20 will be ignored. Current value: min_data_in_leaf=800\n",
            "[LightGBM] [Warning] min_gain_to_split is set=0.20410808250112678, min_split_gain=0.0 will be ignored. Current value: min_gain_to_split=0.20410808250112678\n",
            "[LightGBM] [Warning] lambda_l2 is set=0.3154239378712394, reg_lambda=0.0 will be ignored. Current value: lambda_l2=0.3154239378712394\n",
            "[LightGBM] [Warning] bagging_fraction is set=0.4, subsample=1.0 will be ignored. Current value: bagging_fraction=0.4\n"
          ]
        },
        {
          "output_type": "stream",
          "name": "stderr",
          "text": [
            "\u001b[32m[I 2023-04-19 16:54:21,555]\u001b[0m Trial 28 finished with value: 0.6701986754966887 and parameters: {'n_estimators': 640, 'learning_rate': 0.44238901927519014, 'max_depth': 5, 'min_data_in_leaf': 800, 'lambda_l1': 0.11101478263375367, 'lambda_l2': 0.3154239378712394, 'min_gain_to_split': 0.20410808250112678, 'bagging_fraction': 0.4}. Best is trial 17 with value: 0.8543626657902857.\u001b[0m\n",
            "\u001b[32m[I 2023-04-19 16:54:21,692]\u001b[0m Trial 29 finished with value: 0.6701986754966887 and parameters: {'n_estimators': 190, 'learning_rate': 0.43368260035617834, 'max_depth': 3, 'min_data_in_leaf': 2800, 'lambda_l1': 0.33091563815401537, 'lambda_l2': 0.6186070615274817, 'min_gain_to_split': 2.8155117472914366, 'bagging_fraction': 0.6000000000000001}. Best is trial 17 with value: 0.8543626657902857.\u001b[0m\n"
          ]
        },
        {
          "output_type": "stream",
          "name": "stdout",
          "text": [
            "0.6754966887417219\n",
            "[LightGBM] [Warning] lambda_l1 is set=0.11101478263375367, reg_alpha=0.0 will be ignored. Current value: lambda_l1=0.11101478263375367\n",
            "[LightGBM] [Warning] min_data_in_leaf is set=800, min_child_samples=20 will be ignored. Current value: min_data_in_leaf=800\n",
            "[LightGBM] [Warning] min_gain_to_split is set=0.20410808250112678, min_split_gain=0.0 will be ignored. Current value: min_gain_to_split=0.20410808250112678\n",
            "[LightGBM] [Warning] lambda_l2 is set=0.3154239378712394, reg_lambda=0.0 will be ignored. Current value: lambda_l2=0.3154239378712394\n",
            "[LightGBM] [Warning] bagging_fraction is set=0.4, subsample=1.0 will be ignored. Current value: bagging_fraction=0.4\n",
            "0.6754966887417219\n",
            "[LightGBM] [Warning] lambda_l1 is set=0.33091563815401537, reg_alpha=0.0 will be ignored. Current value: lambda_l1=0.33091563815401537\n",
            "[LightGBM] [Warning] min_data_in_leaf is set=2800, min_child_samples=20 will be ignored. Current value: min_data_in_leaf=2800\n",
            "[LightGBM] [Warning] min_gain_to_split is set=2.8155117472914366, min_split_gain=0.0 will be ignored. Current value: min_gain_to_split=2.8155117472914366\n",
            "[LightGBM] [Warning] lambda_l2 is set=0.6186070615274817, reg_lambda=0.0 will be ignored. Current value: lambda_l2=0.6186070615274817\n",
            "[LightGBM] [Warning] bagging_fraction is set=0.6000000000000001, subsample=1.0 will be ignored. Current value: bagging_fraction=0.6000000000000001\n",
            "0.6666666666666665\n",
            "[LightGBM] [Warning] lambda_l1 is set=0.33091563815401537, reg_alpha=0.0 will be ignored. Current value: lambda_l1=0.33091563815401537\n",
            "[LightGBM] [Warning] min_data_in_leaf is set=2800, min_child_samples=20 will be ignored. Current value: min_data_in_leaf=2800\n",
            "[LightGBM] [Warning] min_gain_to_split is set=2.8155117472914366, min_split_gain=0.0 will be ignored. Current value: min_gain_to_split=2.8155117472914366\n",
            "[LightGBM] [Warning] lambda_l2 is set=0.6186070615274817, reg_lambda=0.0 will be ignored. Current value: lambda_l2=0.6186070615274817\n",
            "[LightGBM] [Warning] bagging_fraction is set=0.6000000000000001, subsample=1.0 will be ignored. Current value: bagging_fraction=0.6000000000000001\n",
            "0.6666666666666665\n",
            "[LightGBM] [Warning] lambda_l1 is set=0.33091563815401537, reg_alpha=0.0 will be ignored. Current value: lambda_l1=0.33091563815401537\n",
            "[LightGBM] [Warning] min_data_in_leaf is set=2800, min_child_samples=20 will be ignored. Current value: min_data_in_leaf=2800\n",
            "[LightGBM] [Warning] min_gain_to_split is set=2.8155117472914366, min_split_gain=0.0 will be ignored. Current value: min_gain_to_split=2.8155117472914366\n",
            "[LightGBM] [Warning] lambda_l2 is set=0.6186070615274817, reg_lambda=0.0 will be ignored. Current value: lambda_l2=0.6186070615274817\n",
            "[LightGBM] [Warning] bagging_fraction is set=0.6000000000000001, subsample=1.0 will be ignored. Current value: bagging_fraction=0.6000000000000001\n",
            "0.6666666666666665\n",
            "[LightGBM] [Warning] lambda_l1 is set=0.33091563815401537, reg_alpha=0.0 will be ignored. Current value: lambda_l1=0.33091563815401537\n",
            "[LightGBM] [Warning] min_data_in_leaf is set=2800, min_child_samples=20 will be ignored. Current value: min_data_in_leaf=2800\n",
            "[LightGBM] [Warning] min_gain_to_split is set=2.8155117472914366, min_split_gain=0.0 will be ignored. Current value: min_gain_to_split=2.8155117472914366\n",
            "[LightGBM] [Warning] lambda_l2 is set=0.6186070615274817, reg_lambda=0.0 will be ignored. Current value: lambda_l2=0.6186070615274817\n",
            "[LightGBM] [Warning] bagging_fraction is set=0.6000000000000001, subsample=1.0 will be ignored. Current value: bagging_fraction=0.6000000000000001\n",
            "0.6754966887417219\n",
            "[LightGBM] [Warning] lambda_l1 is set=0.33091563815401537, reg_alpha=0.0 will be ignored. Current value: lambda_l1=0.33091563815401537\n",
            "[LightGBM] [Warning] min_data_in_leaf is set=2800, min_child_samples=20 will be ignored. Current value: min_data_in_leaf=2800\n",
            "[LightGBM] [Warning] min_gain_to_split is set=2.8155117472914366, min_split_gain=0.0 will be ignored. Current value: min_gain_to_split=2.8155117472914366\n",
            "[LightGBM] [Warning] lambda_l2 is set=0.6186070615274817, reg_lambda=0.0 will be ignored. Current value: lambda_l2=0.6186070615274817\n",
            "[LightGBM] [Warning] bagging_fraction is set=0.6000000000000001, subsample=1.0 will be ignored. Current value: bagging_fraction=0.6000000000000001\n",
            "0.6754966887417219\n"
          ]
        },
        {
          "output_type": "stream",
          "name": "stderr",
          "text": [
            "\u001b[32m[I 2023-04-19 16:54:21,887]\u001b[0m Trial 30 finished with value: 0.6701986754966887 and parameters: {'n_estimators': 730, 'learning_rate': 0.30416031436287, 'max_depth': 3, 'min_data_in_leaf': 5500, 'lambda_l1': 0.21850378415210625, 'lambda_l2': 0.44584944741466914, 'min_gain_to_split': 1.4254924950339123, 'bagging_fraction': 0.2}. Best is trial 17 with value: 0.8543626657902857.\u001b[0m\n"
          ]
        },
        {
          "output_type": "stream",
          "name": "stdout",
          "text": [
            "[LightGBM] [Warning] lambda_l1 is set=0.21850378415210625, reg_alpha=0.0 will be ignored. Current value: lambda_l1=0.21850378415210625\n",
            "[LightGBM] [Warning] min_data_in_leaf is set=5500, min_child_samples=20 will be ignored. Current value: min_data_in_leaf=5500\n",
            "[LightGBM] [Warning] min_gain_to_split is set=1.4254924950339123, min_split_gain=0.0 will be ignored. Current value: min_gain_to_split=1.4254924950339123\n",
            "[LightGBM] [Warning] lambda_l2 is set=0.44584944741466914, reg_lambda=0.0 will be ignored. Current value: lambda_l2=0.44584944741466914\n",
            "[LightGBM] [Warning] bagging_fraction is set=0.2, subsample=1.0 will be ignored. Current value: bagging_fraction=0.2\n",
            "0.6666666666666665\n",
            "[LightGBM] [Warning] lambda_l1 is set=0.21850378415210625, reg_alpha=0.0 will be ignored. Current value: lambda_l1=0.21850378415210625\n",
            "[LightGBM] [Warning] min_data_in_leaf is set=5500, min_child_samples=20 will be ignored. Current value: min_data_in_leaf=5500\n",
            "[LightGBM] [Warning] min_gain_to_split is set=1.4254924950339123, min_split_gain=0.0 will be ignored. Current value: min_gain_to_split=1.4254924950339123\n",
            "[LightGBM] [Warning] lambda_l2 is set=0.44584944741466914, reg_lambda=0.0 will be ignored. Current value: lambda_l2=0.44584944741466914\n",
            "[LightGBM] [Warning] bagging_fraction is set=0.2, subsample=1.0 will be ignored. Current value: bagging_fraction=0.2\n",
            "0.6666666666666665\n",
            "[LightGBM] [Warning] lambda_l1 is set=0.21850378415210625, reg_alpha=0.0 will be ignored. Current value: lambda_l1=0.21850378415210625\n",
            "[LightGBM] [Warning] min_data_in_leaf is set=5500, min_child_samples=20 will be ignored. Current value: min_data_in_leaf=5500\n",
            "[LightGBM] [Warning] min_gain_to_split is set=1.4254924950339123, min_split_gain=0.0 will be ignored. Current value: min_gain_to_split=1.4254924950339123\n",
            "[LightGBM] [Warning] lambda_l2 is set=0.44584944741466914, reg_lambda=0.0 will be ignored. Current value: lambda_l2=0.44584944741466914\n",
            "[LightGBM] [Warning] bagging_fraction is set=0.2, subsample=1.0 will be ignored. Current value: bagging_fraction=0.2\n",
            "0.6666666666666665\n",
            "[LightGBM] [Warning] lambda_l1 is set=0.21850378415210625, reg_alpha=0.0 will be ignored. Current value: lambda_l1=0.21850378415210625\n",
            "[LightGBM] [Warning] min_data_in_leaf is set=5500, min_child_samples=20 will be ignored. Current value: min_data_in_leaf=5500\n",
            "[LightGBM] [Warning] min_gain_to_split is set=1.4254924950339123, min_split_gain=0.0 will be ignored. Current value: min_gain_to_split=1.4254924950339123\n",
            "[LightGBM] [Warning] lambda_l2 is set=0.44584944741466914, reg_lambda=0.0 will be ignored. Current value: lambda_l2=0.44584944741466914\n",
            "[LightGBM] [Warning] bagging_fraction is set=0.2, subsample=1.0 will be ignored. Current value: bagging_fraction=0.2\n",
            "0.6754966887417219\n",
            "[LightGBM] [Warning] lambda_l1 is set=0.21850378415210625, reg_alpha=0.0 will be ignored. Current value: lambda_l1=0.21850378415210625\n",
            "[LightGBM] [Warning] min_data_in_leaf is set=5500, min_child_samples=20 will be ignored. Current value: min_data_in_leaf=5500\n",
            "[LightGBM] [Warning] min_gain_to_split is set=1.4254924950339123, min_split_gain=0.0 will be ignored. Current value: min_gain_to_split=1.4254924950339123\n",
            "[LightGBM] [Warning] lambda_l2 is set=0.44584944741466914, reg_lambda=0.0 will be ignored. Current value: lambda_l2=0.44584944741466914\n",
            "[LightGBM] [Warning] bagging_fraction is set=0.2, subsample=1.0 will be ignored. Current value: bagging_fraction=0.2\n",
            "0.6754966887417219\n",
            "[LightGBM] [Warning] lambda_l1 is set=0.0897368546100393, reg_alpha=0.0 will be ignored. Current value: lambda_l1=0.0897368546100393\n",
            "[LightGBM] [Warning] min_data_in_leaf is set=0, min_child_samples=20 will be ignored. Current value: min_data_in_leaf=0\n",
            "[LightGBM] [Warning] min_gain_to_split is set=3.541270604309898, min_split_gain=0.0 will be ignored. Current value: min_gain_to_split=3.541270604309898\n",
            "[LightGBM] [Warning] lambda_l2 is set=0.3524475941548792, reg_lambda=0.0 will be ignored. Current value: lambda_l2=0.3524475941548792\n",
            "[LightGBM] [Warning] bagging_fraction is set=0.8, subsample=1.0 will be ignored. Current value: bagging_fraction=0.8\n",
            "0.8400640256102441\n",
            "[LightGBM] [Warning] lambda_l1 is set=0.0897368546100393, reg_alpha=0.0 will be ignored. Current value: lambda_l1=0.0897368546100393\n",
            "[LightGBM] [Warning] min_data_in_leaf is set=0, min_child_samples=20 will be ignored. Current value: min_data_in_leaf=0\n",
            "[LightGBM] [Warning] min_gain_to_split is set=3.541270604309898, min_split_gain=0.0 will be ignored. Current value: min_gain_to_split=3.541270604309898\n",
            "[LightGBM] [Warning] lambda_l2 is set=0.3524475941548792, reg_lambda=0.0 will be ignored. Current value: lambda_l2=0.3524475941548792\n",
            "[LightGBM] [Warning] bagging_fraction is set=0.8, subsample=1.0 will be ignored. Current value: bagging_fraction=0.8\n",
            "0.8507386192342478\n",
            "[LightGBM] [Warning] lambda_l1 is set=0.0897368546100393, reg_alpha=0.0 will be ignored. Current value: lambda_l1=0.0897368546100393\n",
            "[LightGBM] [Warning] min_data_in_leaf is set=0, min_child_samples=20 will be ignored. Current value: min_data_in_leaf=0\n",
            "[LightGBM] [Warning] min_gain_to_split is set=3.541270604309898, min_split_gain=0.0 will be ignored. Current value: min_gain_to_split=3.541270604309898\n",
            "[LightGBM] [Warning] lambda_l2 is set=0.3524475941548792, reg_lambda=0.0 will be ignored. Current value: lambda_l2=0.3524475941548792\n",
            "[LightGBM] [Warning] bagging_fraction is set=0.8, subsample=1.0 will be ignored. Current value: bagging_fraction=0.8\n",
            "0.8701171053948553\n",
            "[LightGBM] [Warning] lambda_l1 is set=0.0897368546100393, reg_alpha=0.0 will be ignored. Current value: lambda_l1=0.0897368546100393\n",
            "[LightGBM] [Warning] min_data_in_leaf is set=0, min_child_samples=20 will be ignored. Current value: min_data_in_leaf=0\n",
            "[LightGBM] [Warning] min_gain_to_split is set=3.541270604309898, min_split_gain=0.0 will be ignored. Current value: min_gain_to_split=3.541270604309898\n",
            "[LightGBM] [Warning] lambda_l2 is set=0.3524475941548792, reg_lambda=0.0 will be ignored. Current value: lambda_l2=0.3524475941548792\n",
            "[LightGBM] [Warning] bagging_fraction is set=0.8, subsample=1.0 will be ignored. Current value: bagging_fraction=0.8\n"
          ]
        },
        {
          "output_type": "stream",
          "name": "stderr",
          "text": [
            "\u001b[32m[I 2023-04-19 16:54:22,285]\u001b[0m Trial 31 finished with value: 0.856325533102496 and parameters: {'n_estimators': 910, 'learning_rate': 0.3452321594586532, 'max_depth': 4, 'min_data_in_leaf': 0, 'lambda_l1': 0.0897368546100393, 'lambda_l2': 0.3524475941548792, 'min_gain_to_split': 3.541270604309898, 'bagging_fraction': 0.8}. Best is trial 31 with value: 0.856325533102496.\u001b[0m\n"
          ]
        },
        {
          "output_type": "stream",
          "name": "stdout",
          "text": [
            "0.8805797101449275\n",
            "[LightGBM] [Warning] lambda_l1 is set=0.0897368546100393, reg_alpha=0.0 will be ignored. Current value: lambda_l1=0.0897368546100393\n",
            "[LightGBM] [Warning] min_data_in_leaf is set=0, min_child_samples=20 will be ignored. Current value: min_data_in_leaf=0\n",
            "[LightGBM] [Warning] min_gain_to_split is set=3.541270604309898, min_split_gain=0.0 will be ignored. Current value: min_gain_to_split=3.541270604309898\n",
            "[LightGBM] [Warning] lambda_l2 is set=0.3524475941548792, reg_lambda=0.0 will be ignored. Current value: lambda_l2=0.3524475941548792\n",
            "[LightGBM] [Warning] bagging_fraction is set=0.8, subsample=1.0 will be ignored. Current value: bagging_fraction=0.8\n",
            "0.8401282051282053\n",
            "[LightGBM] [Warning] lambda_l1 is set=0.11002089797059136, reg_alpha=0.0 will be ignored. Current value: lambda_l1=0.11002089797059136\n",
            "[LightGBM] [Warning] min_data_in_leaf is set=0, min_child_samples=20 will be ignored. Current value: min_data_in_leaf=0\n",
            "[LightGBM] [Warning] min_gain_to_split is set=5.16381931010297, min_split_gain=0.0 will be ignored. Current value: min_gain_to_split=5.16381931010297\n",
            "[LightGBM] [Warning] lambda_l2 is set=0.3989263894883081, reg_lambda=0.0 will be ignored. Current value: lambda_l2=0.3989263894883081\n",
            "[LightGBM] [Warning] bagging_fraction is set=0.7, subsample=1.0 will be ignored. Current value: bagging_fraction=0.7\n",
            "0.8400640256102441\n",
            "[LightGBM] [Warning] lambda_l1 is set=0.11002089797059136, reg_alpha=0.0 will be ignored. Current value: lambda_l1=0.11002089797059136\n",
            "[LightGBM] [Warning] min_data_in_leaf is set=0, min_child_samples=20 will be ignored. Current value: min_data_in_leaf=0\n",
            "[LightGBM] [Warning] min_gain_to_split is set=5.16381931010297, min_split_gain=0.0 will be ignored. Current value: min_gain_to_split=5.16381931010297\n",
            "[LightGBM] [Warning] lambda_l2 is set=0.3989263894883081, reg_lambda=0.0 will be ignored. Current value: lambda_l2=0.3989263894883081\n",
            "[LightGBM] [Warning] bagging_fraction is set=0.7, subsample=1.0 will be ignored. Current value: bagging_fraction=0.7\n"
          ]
        },
        {
          "output_type": "stream",
          "name": "stderr",
          "text": [
            "\u001b[32m[I 2023-04-19 16:54:22,639]\u001b[0m Trial 32 finished with value: 0.8503544966121812 and parameters: {'n_estimators': 910, 'learning_rate': 0.3516964116853495, 'max_depth': 4, 'min_data_in_leaf': 0, 'lambda_l1': 0.11002089797059136, 'lambda_l2': 0.3989263894883081, 'min_gain_to_split': 5.16381931010297, 'bagging_fraction': 0.7}. Best is trial 31 with value: 0.856325533102496.\u001b[0m\n"
          ]
        },
        {
          "output_type": "stream",
          "name": "stdout",
          "text": [
            "0.840578081091931\n",
            "[LightGBM] [Warning] lambda_l1 is set=0.11002089797059136, reg_alpha=0.0 will be ignored. Current value: lambda_l1=0.11002089797059136\n",
            "[LightGBM] [Warning] min_data_in_leaf is set=0, min_child_samples=20 will be ignored. Current value: min_data_in_leaf=0\n",
            "[LightGBM] [Warning] min_gain_to_split is set=5.16381931010297, min_split_gain=0.0 will be ignored. Current value: min_gain_to_split=5.16381931010297\n",
            "[LightGBM] [Warning] lambda_l2 is set=0.3989263894883081, reg_lambda=0.0 will be ignored. Current value: lambda_l2=0.3989263894883081\n",
            "[LightGBM] [Warning] bagging_fraction is set=0.7, subsample=1.0 will be ignored. Current value: bagging_fraction=0.7\n",
            "0.8701171053948553\n",
            "[LightGBM] [Warning] lambda_l1 is set=0.11002089797059136, reg_alpha=0.0 will be ignored. Current value: lambda_l1=0.11002089797059136\n",
            "[LightGBM] [Warning] min_data_in_leaf is set=0, min_child_samples=20 will be ignored. Current value: min_data_in_leaf=0\n",
            "[LightGBM] [Warning] min_gain_to_split is set=5.16381931010297, min_split_gain=0.0 will be ignored. Current value: min_gain_to_split=5.16381931010297\n",
            "[LightGBM] [Warning] lambda_l2 is set=0.3989263894883081, reg_lambda=0.0 will be ignored. Current value: lambda_l2=0.3989263894883081\n",
            "[LightGBM] [Warning] bagging_fraction is set=0.7, subsample=1.0 will be ignored. Current value: bagging_fraction=0.7\n",
            "0.8805797101449275\n",
            "[LightGBM] [Warning] lambda_l1 is set=0.11002089797059136, reg_alpha=0.0 will be ignored. Current value: lambda_l1=0.11002089797059136\n",
            "[LightGBM] [Warning] min_data_in_leaf is set=0, min_child_samples=20 will be ignored. Current value: min_data_in_leaf=0\n",
            "[LightGBM] [Warning] min_gain_to_split is set=5.16381931010297, min_split_gain=0.0 will be ignored. Current value: min_gain_to_split=5.16381931010297\n",
            "[LightGBM] [Warning] lambda_l2 is set=0.3989263894883081, reg_lambda=0.0 will be ignored. Current value: lambda_l2=0.3989263894883081\n",
            "[LightGBM] [Warning] bagging_fraction is set=0.7, subsample=1.0 will be ignored. Current value: bagging_fraction=0.7\n",
            "0.8204335608189481\n"
          ]
        },
        {
          "output_type": "stream",
          "name": "stderr",
          "text": [
            "\u001b[32m[I 2023-04-19 16:54:22,858]\u001b[0m Trial 33 finished with value: 0.6701986754966887 and parameters: {'n_estimators': 910, 'learning_rate': 0.37580481927072373, 'max_depth': 4, 'min_data_in_leaf': 1800, 'lambda_l1': 0.10372209639416241, 'lambda_l2': 0.5195330089698944, 'min_gain_to_split': 5.171576448239097, 'bagging_fraction': 0.7}. Best is trial 31 with value: 0.856325533102496.\u001b[0m\n"
          ]
        },
        {
          "output_type": "stream",
          "name": "stdout",
          "text": [
            "[LightGBM] [Warning] lambda_l1 is set=0.10372209639416241, reg_alpha=0.0 will be ignored. Current value: lambda_l1=0.10372209639416241\n",
            "[LightGBM] [Warning] min_data_in_leaf is set=1800, min_child_samples=20 will be ignored. Current value: min_data_in_leaf=1800\n",
            "[LightGBM] [Warning] min_gain_to_split is set=5.171576448239097, min_split_gain=0.0 will be ignored. Current value: min_gain_to_split=5.171576448239097\n",
            "[LightGBM] [Warning] lambda_l2 is set=0.5195330089698944, reg_lambda=0.0 will be ignored. Current value: lambda_l2=0.5195330089698944\n",
            "[LightGBM] [Warning] bagging_fraction is set=0.7, subsample=1.0 will be ignored. Current value: bagging_fraction=0.7\n",
            "0.6666666666666665\n",
            "[LightGBM] [Warning] lambda_l1 is set=0.10372209639416241, reg_alpha=0.0 will be ignored. Current value: lambda_l1=0.10372209639416241\n",
            "[LightGBM] [Warning] min_data_in_leaf is set=1800, min_child_samples=20 will be ignored. Current value: min_data_in_leaf=1800\n",
            "[LightGBM] [Warning] min_gain_to_split is set=5.171576448239097, min_split_gain=0.0 will be ignored. Current value: min_gain_to_split=5.171576448239097\n",
            "[LightGBM] [Warning] lambda_l2 is set=0.5195330089698944, reg_lambda=0.0 will be ignored. Current value: lambda_l2=0.5195330089698944\n",
            "[LightGBM] [Warning] bagging_fraction is set=0.7, subsample=1.0 will be ignored. Current value: bagging_fraction=0.7\n",
            "0.6666666666666665\n",
            "[LightGBM] [Warning] lambda_l1 is set=0.10372209639416241, reg_alpha=0.0 will be ignored. Current value: lambda_l1=0.10372209639416241\n",
            "[LightGBM] [Warning] min_data_in_leaf is set=1800, min_child_samples=20 will be ignored. Current value: min_data_in_leaf=1800\n",
            "[LightGBM] [Warning] min_gain_to_split is set=5.171576448239097, min_split_gain=0.0 will be ignored. Current value: min_gain_to_split=5.171576448239097\n",
            "[LightGBM] [Warning] lambda_l2 is set=0.5195330089698944, reg_lambda=0.0 will be ignored. Current value: lambda_l2=0.5195330089698944\n",
            "[LightGBM] [Warning] bagging_fraction is set=0.7, subsample=1.0 will be ignored. Current value: bagging_fraction=0.7\n",
            "0.6666666666666665\n",
            "[LightGBM] [Warning] lambda_l1 is set=0.10372209639416241, reg_alpha=0.0 will be ignored. Current value: lambda_l1=0.10372209639416241\n",
            "[LightGBM] [Warning] min_data_in_leaf is set=1800, min_child_samples=20 will be ignored. Current value: min_data_in_leaf=1800\n",
            "[LightGBM] [Warning] min_gain_to_split is set=5.171576448239097, min_split_gain=0.0 will be ignored. Current value: min_gain_to_split=5.171576448239097\n",
            "[LightGBM] [Warning] lambda_l2 is set=0.5195330089698944, reg_lambda=0.0 will be ignored. Current value: lambda_l2=0.5195330089698944\n",
            "[LightGBM] [Warning] bagging_fraction is set=0.7, subsample=1.0 will be ignored. Current value: bagging_fraction=0.7\n",
            "0.6754966887417219\n",
            "[LightGBM] [Warning] lambda_l1 is set=0.10372209639416241, reg_alpha=0.0 will be ignored. Current value: lambda_l1=0.10372209639416241\n",
            "[LightGBM] [Warning] min_data_in_leaf is set=1800, min_child_samples=20 will be ignored. Current value: min_data_in_leaf=1800\n",
            "[LightGBM] [Warning] min_gain_to_split is set=5.171576448239097, min_split_gain=0.0 will be ignored. Current value: min_gain_to_split=5.171576448239097\n",
            "[LightGBM] [Warning] lambda_l2 is set=0.5195330089698944, reg_lambda=0.0 will be ignored. Current value: lambda_l2=0.5195330089698944\n",
            "[LightGBM] [Warning] bagging_fraction is set=0.7, subsample=1.0 will be ignored. Current value: bagging_fraction=0.7\n",
            "0.6754966887417219\n",
            "[LightGBM] [Warning] lambda_l1 is set=0.09126321921241308, reg_alpha=0.0 will be ignored. Current value: lambda_l1=0.09126321921241308\n",
            "[LightGBM] [Warning] min_data_in_leaf is set=700, min_child_samples=20 will be ignored. Current value: min_data_in_leaf=700\n",
            "[LightGBM] [Warning] min_gain_to_split is set=6.92890376748013, min_split_gain=0.0 will be ignored. Current value: min_gain_to_split=6.92890376748013\n",
            "[LightGBM] [Warning] lambda_l2 is set=0.4118846223498311, reg_lambda=0.0 will be ignored. Current value: lambda_l2=0.4118846223498311\n",
            "[LightGBM] [Warning] bagging_fraction is set=0.9, subsample=1.0 will be ignored. Current value: bagging_fraction=0.9\n",
            "0.6666666666666665\n",
            "[LightGBM] [Warning] lambda_l1 is set=0.09126321921241308, reg_alpha=0.0 will be ignored. Current value: lambda_l1=0.09126321921241308\n",
            "[LightGBM] [Warning] min_data_in_leaf is set=700, min_child_samples=20 will be ignored. Current value: min_data_in_leaf=700\n",
            "[LightGBM] [Warning] min_gain_to_split is set=6.92890376748013, min_split_gain=0.0 will be ignored. Current value: min_gain_to_split=6.92890376748013\n",
            "[LightGBM] [Warning] lambda_l2 is set=0.4118846223498311, reg_lambda=0.0 will be ignored. Current value: lambda_l2=0.4118846223498311\n",
            "[LightGBM] [Warning] bagging_fraction is set=0.9, subsample=1.0 will be ignored. Current value: bagging_fraction=0.9\n",
            "0.6666666666666665\n",
            "[LightGBM] [Warning] lambda_l1 is set=0.09126321921241308, reg_alpha=0.0 will be ignored. Current value: lambda_l1=0.09126321921241308\n",
            "[LightGBM] [Warning] min_data_in_leaf is set=700, min_child_samples=20 will be ignored. Current value: min_data_in_leaf=700\n",
            "[LightGBM] [Warning] min_gain_to_split is set=6.92890376748013, min_split_gain=0.0 will be ignored. Current value: min_gain_to_split=6.92890376748013\n",
            "[LightGBM] [Warning] lambda_l2 is set=0.4118846223498311, reg_lambda=0.0 will be ignored. Current value: lambda_l2=0.4118846223498311\n",
            "[LightGBM] [Warning] bagging_fraction is set=0.9, subsample=1.0 will be ignored. Current value: bagging_fraction=0.9\n",
            "0.6666666666666665\n",
            "[LightGBM] [Warning] lambda_l1 is set=0.09126321921241308, reg_alpha=0.0 will be ignored. Current value: lambda_l1=0.09126321921241308\n",
            "[LightGBM] [Warning] min_data_in_leaf is set=700, min_child_samples=20 will be ignored. Current value: min_data_in_leaf=700\n",
            "[LightGBM] [Warning] min_gain_to_split is set=6.92890376748013, min_split_gain=0.0 will be ignored. Current value: min_gain_to_split=6.92890376748013\n",
            "[LightGBM] [Warning] lambda_l2 is set=0.4118846223498311, reg_lambda=0.0 will be ignored. Current value: lambda_l2=0.4118846223498311\n",
            "[LightGBM] [Warning] bagging_fraction is set=0.9, subsample=1.0 will be ignored. Current value: bagging_fraction=0.9\n",
            "0.6754966887417219\n",
            "[LightGBM] [Warning] lambda_l1 is set=0.09126321921241308, reg_alpha=0.0 will be ignored. Current value: lambda_l1=0.09126321921241308\n",
            "[LightGBM] [Warning] min_data_in_leaf is set=700, min_child_samples=20 will be ignored. Current value: min_data_in_leaf=700\n",
            "[LightGBM] [Warning] min_gain_to_split is set=6.92890376748013, min_split_gain=0.0 will be ignored. Current value: min_gain_to_split=6.92890376748013\n",
            "[LightGBM] [Warning] lambda_l2 is set=0.4118846223498311, reg_lambda=0.0 will be ignored. Current value: lambda_l2=0.4118846223498311\n",
            "[LightGBM] [Warning] bagging_fraction is set=0.9, subsample=1.0 will be ignored. Current value: bagging_fraction=0.9\n"
          ]
        },
        {
          "output_type": "stream",
          "name": "stderr",
          "text": [
            "\u001b[32m[I 2023-04-19 16:54:23,133]\u001b[0m Trial 34 finished with value: 0.6701986754966887 and parameters: {'n_estimators': 1090, 'learning_rate': 0.2981173153844224, 'max_depth': 4, 'min_data_in_leaf': 700, 'lambda_l1': 0.09126321921241308, 'lambda_l2': 0.4118846223498311, 'min_gain_to_split': 6.92890376748013, 'bagging_fraction': 0.9}. Best is trial 31 with value: 0.856325533102496.\u001b[0m\n"
          ]
        },
        {
          "output_type": "stream",
          "name": "stdout",
          "text": [
            "0.6754966887417219\n",
            "[LightGBM] [Warning] lambda_l1 is set=0.16402799185090103, reg_alpha=0.0 will be ignored. Current value: lambda_l1=0.16402799185090103\n",
            "[LightGBM] [Warning] min_data_in_leaf is set=1300, min_child_samples=20 will be ignored. Current value: min_data_in_leaf=1300\n",
            "[LightGBM] [Warning] min_gain_to_split is set=5.378459584355322, min_split_gain=0.0 will be ignored. Current value: min_gain_to_split=5.378459584355322\n",
            "[LightGBM] [Warning] lambda_l2 is set=0.3637437180089415, reg_lambda=0.0 will be ignored. Current value: lambda_l2=0.3637437180089415\n",
            "[LightGBM] [Warning] bagging_fraction is set=0.7, subsample=1.0 will be ignored. Current value: bagging_fraction=0.7\n",
            "0.6666666666666665\n",
            "[LightGBM] [Warning] lambda_l1 is set=0.16402799185090103, reg_alpha=0.0 will be ignored. Current value: lambda_l1=0.16402799185090103\n",
            "[LightGBM] [Warning] min_data_in_leaf is set=1300, min_child_samples=20 will be ignored. Current value: min_data_in_leaf=1300\n",
            "[LightGBM] [Warning] min_gain_to_split is set=5.378459584355322, min_split_gain=0.0 will be ignored. Current value: min_gain_to_split=5.378459584355322\n",
            "[LightGBM] [Warning] lambda_l2 is set=0.3637437180089415, reg_lambda=0.0 will be ignored. Current value: lambda_l2=0.3637437180089415\n",
            "[LightGBM] [Warning] bagging_fraction is set=0.7, subsample=1.0 will be ignored. Current value: bagging_fraction=0.7\n",
            "0.6666666666666665\n",
            "[LightGBM] [Warning] lambda_l1 is set=0.16402799185090103, reg_alpha=0.0 will be ignored. Current value: lambda_l1=0.16402799185090103\n",
            "[LightGBM] [Warning] min_data_in_leaf is set=1300, min_child_samples=20 will be ignored. Current value: min_data_in_leaf=1300\n",
            "[LightGBM] [Warning] min_gain_to_split is set=5.378459584355322, min_split_gain=0.0 will be ignored. Current value: min_gain_to_split=5.378459584355322\n",
            "[LightGBM] [Warning] lambda_l2 is set=0.3637437180089415, reg_lambda=0.0 will be ignored. Current value: lambda_l2=0.3637437180089415\n",
            "[LightGBM] [Warning] bagging_fraction is set=0.7, subsample=1.0 will be ignored. Current value: bagging_fraction=0.7\n",
            "0.6666666666666665\n",
            "[LightGBM] [Warning] lambda_l1 is set=0.16402799185090103, reg_alpha=0.0 will be ignored. Current value: lambda_l1=0.16402799185090103\n",
            "[LightGBM] [Warning] min_data_in_leaf is set=1300, min_child_samples=20 will be ignored. Current value: min_data_in_leaf=1300\n",
            "[LightGBM] [Warning] min_gain_to_split is set=5.378459584355322, min_split_gain=0.0 will be ignored. Current value: min_gain_to_split=5.378459584355322\n",
            "[LightGBM] [Warning] lambda_l2 is set=0.3637437180089415, reg_lambda=0.0 will be ignored. Current value: lambda_l2=0.3637437180089415\n",
            "[LightGBM] [Warning] bagging_fraction is set=0.7, subsample=1.0 will be ignored. Current value: bagging_fraction=0.7\n",
            "0.6754966887417219\n",
            "[LightGBM] [Warning] lambda_l1 is set=0.16402799185090103, reg_alpha=0.0 will be ignored. Current value: lambda_l1=0.16402799185090103\n",
            "[LightGBM] [Warning] min_data_in_leaf is set=1300, min_child_samples=20 will be ignored. Current value: min_data_in_leaf=1300\n",
            "[LightGBM] [Warning] min_gain_to_split is set=5.378459584355322, min_split_gain=0.0 will be ignored. Current value: min_gain_to_split=5.378459584355322\n",
            "[LightGBM] [Warning] lambda_l2 is set=0.3637437180089415, reg_lambda=0.0 will be ignored. Current value: lambda_l2=0.3637437180089415\n",
            "[LightGBM] [Warning] bagging_fraction is set=0.7, subsample=1.0 will be ignored. Current value: bagging_fraction=0.7\n"
          ]
        },
        {
          "output_type": "stream",
          "name": "stderr",
          "text": [
            "\u001b[32m[I 2023-04-19 16:54:23,348]\u001b[0m Trial 35 finished with value: 0.6701986754966887 and parameters: {'n_estimators': 910, 'learning_rate': 0.40911845200648056, 'max_depth': 5, 'min_data_in_leaf': 1300, 'lambda_l1': 0.16402799185090103, 'lambda_l2': 0.3637437180089415, 'min_gain_to_split': 5.378459584355322, 'bagging_fraction': 0.7}. Best is trial 31 with value: 0.856325533102496.\u001b[0m\n"
          ]
        },
        {
          "output_type": "stream",
          "name": "stdout",
          "text": [
            "0.6754966887417219\n",
            "[LightGBM] [Warning] lambda_l1 is set=0.07489354431214781, reg_alpha=0.0 will be ignored. Current value: lambda_l1=0.07489354431214781\n",
            "[LightGBM] [Warning] min_data_in_leaf is set=0, min_child_samples=20 will be ignored. Current value: min_data_in_leaf=0\n",
            "[LightGBM] [Warning] min_gain_to_split is set=6.294744424971714, min_split_gain=0.0 will be ignored. Current value: min_gain_to_split=6.294744424971714\n",
            "[LightGBM] [Warning] lambda_l2 is set=0.6607777034459628, reg_lambda=0.0 will be ignored. Current value: lambda_l2=0.6607777034459628\n",
            "[LightGBM] [Warning] bagging_fraction is set=0.8, subsample=1.0 will be ignored. Current value: bagging_fraction=0.8\n",
            "0.8400640256102441\n",
            "[LightGBM] [Warning] lambda_l1 is set=0.07489354431214781, reg_alpha=0.0 will be ignored. Current value: lambda_l1=0.07489354431214781\n",
            "[LightGBM] [Warning] min_data_in_leaf is set=0, min_child_samples=20 will be ignored. Current value: min_data_in_leaf=0\n",
            "[LightGBM] [Warning] min_gain_to_split is set=6.294744424971714, min_split_gain=0.0 will be ignored. Current value: min_gain_to_split=6.294744424971714\n",
            "[LightGBM] [Warning] lambda_l2 is set=0.6607777034459628, reg_lambda=0.0 will be ignored. Current value: lambda_l2=0.6607777034459628\n",
            "[LightGBM] [Warning] bagging_fraction is set=0.8, subsample=1.0 will be ignored. Current value: bagging_fraction=0.8\n",
            "0.8300170017001699\n",
            "[LightGBM] [Warning] lambda_l1 is set=0.07489354431214781, reg_alpha=0.0 will be ignored. Current value: lambda_l1=0.07489354431214781\n",
            "[LightGBM] [Warning] min_data_in_leaf is set=0, min_child_samples=20 will be ignored. Current value: min_data_in_leaf=0\n",
            "[LightGBM] [Warning] min_gain_to_split is set=6.294744424971714, min_split_gain=0.0 will be ignored. Current value: min_gain_to_split=6.294744424971714\n",
            "[LightGBM] [Warning] lambda_l2 is set=0.6607777034459628, reg_lambda=0.0 will be ignored. Current value: lambda_l2=0.6607777034459628\n",
            "[LightGBM] [Warning] bagging_fraction is set=0.8, subsample=1.0 will be ignored. Current value: bagging_fraction=0.8\n"
          ]
        },
        {
          "output_type": "stream",
          "name": "stderr",
          "text": [
            "\u001b[32m[I 2023-04-19 16:54:23,749]\u001b[0m Trial 36 finished with value: 0.8463009290480208 and parameters: {'n_estimators': 1090, 'learning_rate': 0.37154104447233866, 'max_depth': 4, 'min_data_in_leaf': 0, 'lambda_l1': 0.07489354431214781, 'lambda_l2': 0.6607777034459628, 'min_gain_to_split': 6.294744424971714, 'bagging_fraction': 0.8}. Best is trial 31 with value: 0.856325533102496.\u001b[0m\n"
          ]
        },
        {
          "output_type": "stream",
          "name": "stdout",
          "text": [
            "0.8599999999999999\n",
            "[LightGBM] [Warning] lambda_l1 is set=0.07489354431214781, reg_alpha=0.0 will be ignored. Current value: lambda_l1=0.07489354431214781\n",
            "[LightGBM] [Warning] min_data_in_leaf is set=0, min_child_samples=20 will be ignored. Current value: min_data_in_leaf=0\n",
            "[LightGBM] [Warning] min_gain_to_split is set=6.294744424971714, min_split_gain=0.0 will be ignored. Current value: min_gain_to_split=6.294744424971714\n",
            "[LightGBM] [Warning] lambda_l2 is set=0.6607777034459628, reg_lambda=0.0 will be ignored. Current value: lambda_l2=0.6607777034459628\n",
            "[LightGBM] [Warning] bagging_fraction is set=0.8, subsample=1.0 will be ignored. Current value: bagging_fraction=0.8\n",
            "0.8708256880733944\n",
            "[LightGBM] [Warning] lambda_l1 is set=0.07489354431214781, reg_alpha=0.0 will be ignored. Current value: lambda_l1=0.07489354431214781\n",
            "[LightGBM] [Warning] min_data_in_leaf is set=0, min_child_samples=20 will be ignored. Current value: min_data_in_leaf=0\n",
            "[LightGBM] [Warning] min_gain_to_split is set=6.294744424971714, min_split_gain=0.0 will be ignored. Current value: min_gain_to_split=6.294744424971714\n",
            "[LightGBM] [Warning] lambda_l2 is set=0.6607777034459628, reg_lambda=0.0 will be ignored. Current value: lambda_l2=0.6607777034459628\n",
            "[LightGBM] [Warning] bagging_fraction is set=0.8, subsample=1.0 will be ignored. Current value: bagging_fraction=0.8\n",
            "0.8305979298562959\n",
            "[LightGBM] [Warning] lambda_l1 is set=0.13906431126572102, reg_alpha=0.0 will be ignored. Current value: lambda_l1=0.13906431126572102\n",
            "[LightGBM] [Warning] min_data_in_leaf is set=1400, min_child_samples=20 will be ignored. Current value: min_data_in_leaf=1400\n",
            "[LightGBM] [Warning] min_gain_to_split is set=7.164522338612288, min_split_gain=0.0 will be ignored. Current value: min_gain_to_split=7.164522338612288\n",
            "[LightGBM] [Warning] lambda_l2 is set=0.4837582664599648, reg_lambda=0.0 will be ignored. Current value: lambda_l2=0.4837582664599648\n",
            "[LightGBM] [Warning] bagging_fraction is set=0.6000000000000001, subsample=1.0 will be ignored. Current value: bagging_fraction=0.6000000000000001\n"
          ]
        },
        {
          "output_type": "stream",
          "name": "stderr",
          "text": [
            "\u001b[32m[I 2023-04-19 16:54:23,920]\u001b[0m Trial 37 finished with value: 0.6701986754966887 and parameters: {'n_estimators': 550, 'learning_rate': 0.247877260284371, 'max_depth': 5, 'min_data_in_leaf': 1400, 'lambda_l1': 0.13906431126572102, 'lambda_l2': 0.4837582664599648, 'min_gain_to_split': 7.164522338612288, 'bagging_fraction': 0.6000000000000001}. Best is trial 31 with value: 0.856325533102496.\u001b[0m\n"
          ]
        },
        {
          "output_type": "stream",
          "name": "stdout",
          "text": [
            "0.6666666666666665\n",
            "[LightGBM] [Warning] lambda_l1 is set=0.13906431126572102, reg_alpha=0.0 will be ignored. Current value: lambda_l1=0.13906431126572102\n",
            "[LightGBM] [Warning] min_data_in_leaf is set=1400, min_child_samples=20 will be ignored. Current value: min_data_in_leaf=1400\n",
            "[LightGBM] [Warning] min_gain_to_split is set=7.164522338612288, min_split_gain=0.0 will be ignored. Current value: min_gain_to_split=7.164522338612288\n",
            "[LightGBM] [Warning] lambda_l2 is set=0.4837582664599648, reg_lambda=0.0 will be ignored. Current value: lambda_l2=0.4837582664599648\n",
            "[LightGBM] [Warning] bagging_fraction is set=0.6000000000000001, subsample=1.0 will be ignored. Current value: bagging_fraction=0.6000000000000001\n",
            "0.6666666666666665\n",
            "[LightGBM] [Warning] lambda_l1 is set=0.13906431126572102, reg_alpha=0.0 will be ignored. Current value: lambda_l1=0.13906431126572102\n",
            "[LightGBM] [Warning] min_data_in_leaf is set=1400, min_child_samples=20 will be ignored. Current value: min_data_in_leaf=1400\n",
            "[LightGBM] [Warning] min_gain_to_split is set=7.164522338612288, min_split_gain=0.0 will be ignored. Current value: min_gain_to_split=7.164522338612288\n",
            "[LightGBM] [Warning] lambda_l2 is set=0.4837582664599648, reg_lambda=0.0 will be ignored. Current value: lambda_l2=0.4837582664599648\n",
            "[LightGBM] [Warning] bagging_fraction is set=0.6000000000000001, subsample=1.0 will be ignored. Current value: bagging_fraction=0.6000000000000001\n",
            "0.6666666666666665\n",
            "[LightGBM] [Warning] lambda_l1 is set=0.13906431126572102, reg_alpha=0.0 will be ignored. Current value: lambda_l1=0.13906431126572102\n",
            "[LightGBM] [Warning] min_data_in_leaf is set=1400, min_child_samples=20 will be ignored. Current value: min_data_in_leaf=1400\n",
            "[LightGBM] [Warning] min_gain_to_split is set=7.164522338612288, min_split_gain=0.0 will be ignored. Current value: min_gain_to_split=7.164522338612288\n",
            "[LightGBM] [Warning] lambda_l2 is set=0.4837582664599648, reg_lambda=0.0 will be ignored. Current value: lambda_l2=0.4837582664599648\n",
            "[LightGBM] [Warning] bagging_fraction is set=0.6000000000000001, subsample=1.0 will be ignored. Current value: bagging_fraction=0.6000000000000001\n",
            "0.6754966887417219\n",
            "[LightGBM] [Warning] lambda_l1 is set=0.13906431126572102, reg_alpha=0.0 will be ignored. Current value: lambda_l1=0.13906431126572102\n",
            "[LightGBM] [Warning] min_data_in_leaf is set=1400, min_child_samples=20 will be ignored. Current value: min_data_in_leaf=1400\n",
            "[LightGBM] [Warning] min_gain_to_split is set=7.164522338612288, min_split_gain=0.0 will be ignored. Current value: min_gain_to_split=7.164522338612288\n",
            "[LightGBM] [Warning] lambda_l2 is set=0.4837582664599648, reg_lambda=0.0 will be ignored. Current value: lambda_l2=0.4837582664599648\n",
            "[LightGBM] [Warning] bagging_fraction is set=0.6000000000000001, subsample=1.0 will be ignored. Current value: bagging_fraction=0.6000000000000001\n",
            "0.6754966887417219\n",
            "[LightGBM] [Warning] lambda_l1 is set=0.07723761925763958, reg_alpha=0.0 will be ignored. Current value: lambda_l1=0.07723761925763958\n",
            "[LightGBM] [Warning] min_data_in_leaf is set=600, min_child_samples=20 will be ignored. Current value: min_data_in_leaf=600\n",
            "[LightGBM] [Warning] min_gain_to_split is set=4.531766217066108, min_split_gain=0.0 will be ignored. Current value: min_gain_to_split=4.531766217066108\n",
            "[LightGBM] [Warning] lambda_l2 is set=0.5697959099646877, reg_lambda=0.0 will be ignored. Current value: lambda_l2=0.5697959099646877\n",
            "[LightGBM] [Warning] bagging_fraction is set=0.9, subsample=1.0 will be ignored. Current value: bagging_fraction=0.9\n",
            "0.6666666666666665\n",
            "[LightGBM] [Warning] lambda_l1 is set=0.07723761925763958, reg_alpha=0.0 will be ignored. Current value: lambda_l1=0.07723761925763958\n",
            "[LightGBM] [Warning] min_data_in_leaf is set=600, min_child_samples=20 will be ignored. Current value: min_data_in_leaf=600\n",
            "[LightGBM] [Warning] min_gain_to_split is set=4.531766217066108, min_split_gain=0.0 will be ignored. Current value: min_gain_to_split=4.531766217066108\n",
            "[LightGBM] [Warning] lambda_l2 is set=0.5697959099646877, reg_lambda=0.0 will be ignored. Current value: lambda_l2=0.5697959099646877\n",
            "[LightGBM] [Warning] bagging_fraction is set=0.9, subsample=1.0 will be ignored. Current value: bagging_fraction=0.9\n",
            "0.6666666666666665\n",
            "[LightGBM] [Warning] lambda_l1 is set=0.07723761925763958, reg_alpha=0.0 will be ignored. Current value: lambda_l1=0.07723761925763958\n",
            "[LightGBM] [Warning] min_data_in_leaf is set=600, min_child_samples=20 will be ignored. Current value: min_data_in_leaf=600\n",
            "[LightGBM] [Warning] min_gain_to_split is set=4.531766217066108, min_split_gain=0.0 will be ignored. Current value: min_gain_to_split=4.531766217066108\n",
            "[LightGBM] [Warning] lambda_l2 is set=0.5697959099646877, reg_lambda=0.0 will be ignored. Current value: lambda_l2=0.5697959099646877\n",
            "[LightGBM] [Warning] bagging_fraction is set=0.9, subsample=1.0 will be ignored. Current value: bagging_fraction=0.9\n",
            "0.6666666666666665\n",
            "[LightGBM] [Warning] lambda_l1 is set=0.07723761925763958, reg_alpha=0.0 will be ignored. Current value: lambda_l1=0.07723761925763958\n",
            "[LightGBM] [Warning] min_data_in_leaf is set=600, min_child_samples=20 will be ignored. Current value: min_data_in_leaf=600\n",
            "[LightGBM] [Warning] min_gain_to_split is set=4.531766217066108, min_split_gain=0.0 will be ignored. Current value: min_gain_to_split=4.531766217066108\n",
            "[LightGBM] [Warning] lambda_l2 is set=0.5697959099646877, reg_lambda=0.0 will be ignored. Current value: lambda_l2=0.5697959099646877\n",
            "[LightGBM] [Warning] bagging_fraction is set=0.9, subsample=1.0 will be ignored. Current value: bagging_fraction=0.9\n",
            "0.6754966887417219\n",
            "[LightGBM] [Warning] lambda_l1 is set=0.07723761925763958, reg_alpha=0.0 will be ignored. Current value: lambda_l1=0.07723761925763958\n"
          ]
        },
        {
          "output_type": "stream",
          "name": "stderr",
          "text": [
            "\u001b[32m[I 2023-04-19 16:54:24,044]\u001b[0m Trial 38 finished with value: 0.6701986754966887 and parameters: {'n_estimators': 100, 'learning_rate': 0.20022651793617322, 'max_depth': 3, 'min_data_in_leaf': 600, 'lambda_l1': 0.07723761925763958, 'lambda_l2': 0.5697959099646877, 'min_gain_to_split': 4.531766217066108, 'bagging_fraction': 0.9}. Best is trial 31 with value: 0.856325533102496.\u001b[0m\n"
          ]
        },
        {
          "output_type": "stream",
          "name": "stdout",
          "text": [
            "[LightGBM] [Warning] min_data_in_leaf is set=600, min_child_samples=20 will be ignored. Current value: min_data_in_leaf=600\n",
            "[LightGBM] [Warning] min_gain_to_split is set=4.531766217066108, min_split_gain=0.0 will be ignored. Current value: min_gain_to_split=4.531766217066108\n",
            "[LightGBM] [Warning] lambda_l2 is set=0.5697959099646877, reg_lambda=0.0 will be ignored. Current value: lambda_l2=0.5697959099646877\n",
            "[LightGBM] [Warning] bagging_fraction is set=0.9, subsample=1.0 will be ignored. Current value: bagging_fraction=0.9\n",
            "0.6754966887417219\n",
            "[LightGBM] [Warning] lambda_l1 is set=0.2753787734236731, reg_alpha=0.0 will be ignored. Current value: lambda_l1=0.2753787734236731\n",
            "[LightGBM] [Warning] min_data_in_leaf is set=2200, min_child_samples=20 will be ignored. Current value: min_data_in_leaf=2200\n",
            "[LightGBM] [Warning] min_gain_to_split is set=3.8261265304068637, min_split_gain=0.0 will be ignored. Current value: min_gain_to_split=3.8261265304068637\n",
            "[LightGBM] [Warning] lambda_l2 is set=0.4227165599738158, reg_lambda=0.0 will be ignored. Current value: lambda_l2=0.4227165599738158\n",
            "[LightGBM] [Warning] bagging_fraction is set=0.7, subsample=1.0 will be ignored. Current value: bagging_fraction=0.7\n",
            "0.6666666666666665\n",
            "[LightGBM] [Warning] lambda_l1 is set=0.2753787734236731, reg_alpha=0.0 will be ignored. Current value: lambda_l1=0.2753787734236731\n",
            "[LightGBM] [Warning] min_data_in_leaf is set=2200, min_child_samples=20 will be ignored. Current value: min_data_in_leaf=2200\n",
            "[LightGBM] [Warning] min_gain_to_split is set=3.8261265304068637, min_split_gain=0.0 will be ignored. Current value: min_gain_to_split=3.8261265304068637\n",
            "[LightGBM] [Warning] lambda_l2 is set=0.4227165599738158, reg_lambda=0.0 will be ignored. Current value: lambda_l2=0.4227165599738158\n",
            "[LightGBM] [Warning] bagging_fraction is set=0.7, subsample=1.0 will be ignored. Current value: bagging_fraction=0.7\n",
            "0.6666666666666665\n",
            "[LightGBM] [Warning] lambda_l1 is set=0.2753787734236731, reg_alpha=0.0 will be ignored. Current value: lambda_l1=0.2753787734236731\n",
            "[LightGBM] [Warning] min_data_in_leaf is set=2200, min_child_samples=20 will be ignored. Current value: min_data_in_leaf=2200\n",
            "[LightGBM] [Warning] min_gain_to_split is set=3.8261265304068637, min_split_gain=0.0 will be ignored. Current value: min_gain_to_split=3.8261265304068637\n",
            "[LightGBM] [Warning] lambda_l2 is set=0.4227165599738158, reg_lambda=0.0 will be ignored. Current value: lambda_l2=0.4227165599738158\n",
            "[LightGBM] [Warning] bagging_fraction is set=0.7, subsample=1.0 will be ignored. Current value: bagging_fraction=0.7\n",
            "0.6666666666666665\n",
            "[LightGBM] [Warning] lambda_l1 is set=0.2753787734236731, reg_alpha=0.0 will be ignored. Current value: lambda_l1=0.2753787734236731\n",
            "[LightGBM] [Warning] min_data_in_leaf is set=2200, min_child_samples=20 will be ignored. Current value: min_data_in_leaf=2200\n",
            "[LightGBM] [Warning] min_gain_to_split is set=3.8261265304068637, min_split_gain=0.0 will be ignored. Current value: min_gain_to_split=3.8261265304068637\n",
            "[LightGBM] [Warning] lambda_l2 is set=0.4227165599738158, reg_lambda=0.0 will be ignored. Current value: lambda_l2=0.4227165599738158\n",
            "[LightGBM] [Warning] bagging_fraction is set=0.7, subsample=1.0 will be ignored. Current value: bagging_fraction=0.7\n",
            "0.6754966887417219\n",
            "[LightGBM] [Warning] lambda_l1 is set=0.2753787734236731, reg_alpha=0.0 will be ignored. Current value: lambda_l1=0.2753787734236731\n",
            "[LightGBM] [Warning] min_data_in_leaf is set=2200, min_child_samples=20 will be ignored. Current value: min_data_in_leaf=2200\n",
            "[LightGBM] [Warning] min_gain_to_split is set=3.8261265304068637, min_split_gain=0.0 will be ignored. Current value: min_gain_to_split=3.8261265304068637\n",
            "[LightGBM] [Warning] lambda_l2 is set=0.4227165599738158, reg_lambda=0.0 will be ignored. Current value: lambda_l2=0.4227165599738158\n",
            "[LightGBM] [Warning] bagging_fraction is set=0.7, subsample=1.0 will be ignored. Current value: bagging_fraction=0.7\n"
          ]
        },
        {
          "output_type": "stream",
          "name": "stderr",
          "text": [
            "\u001b[32m[I 2023-04-19 16:54:24,280]\u001b[0m Trial 39 finished with value: 0.6701986754966887 and parameters: {'n_estimators': 1000, 'learning_rate': 0.49641280585698033, 'max_depth': 4, 'min_data_in_leaf': 2200, 'lambda_l1': 0.2753787734236731, 'lambda_l2': 0.4227165599738158, 'min_gain_to_split': 3.8261265304068637, 'bagging_fraction': 0.7}. Best is trial 31 with value: 0.856325533102496.\u001b[0m\n"
          ]
        },
        {
          "output_type": "stream",
          "name": "stdout",
          "text": [
            "0.6754966887417219\n",
            "[LightGBM] [Warning] lambda_l1 is set=0.19362299831610677, reg_alpha=0.0 will be ignored. Current value: lambda_l1=0.19362299831610677\n",
            "[LightGBM] [Warning] min_data_in_leaf is set=6800, min_child_samples=20 will be ignored. Current value: min_data_in_leaf=6800\n",
            "[LightGBM] [Warning] min_gain_to_split is set=7.96324687127697, min_split_gain=0.0 will be ignored. Current value: min_gain_to_split=7.96324687127697\n",
            "[LightGBM] [Warning] lambda_l2 is set=0.6766511926071854, reg_lambda=0.0 will be ignored. Current value: lambda_l2=0.6766511926071854\n",
            "[LightGBM] [Warning] bagging_fraction is set=0.5, subsample=1.0 will be ignored. Current value: bagging_fraction=0.5\n",
            "0.6666666666666665\n",
            "[LightGBM] [Warning] lambda_l1 is set=0.19362299831610677, reg_alpha=0.0 will be ignored. Current value: lambda_l1=0.19362299831610677\n",
            "[LightGBM] [Warning] min_data_in_leaf is set=6800, min_child_samples=20 will be ignored. Current value: min_data_in_leaf=6800\n",
            "[LightGBM] [Warning] min_gain_to_split is set=7.96324687127697, min_split_gain=0.0 will be ignored. Current value: min_gain_to_split=7.96324687127697\n",
            "[LightGBM] [Warning] lambda_l2 is set=0.6766511926071854, reg_lambda=0.0 will be ignored. Current value: lambda_l2=0.6766511926071854\n",
            "[LightGBM] [Warning] bagging_fraction is set=0.5, subsample=1.0 will be ignored. Current value: bagging_fraction=0.5\n",
            "0.6666666666666665\n",
            "[LightGBM] [Warning] lambda_l1 is set=0.19362299831610677, reg_alpha=0.0 will be ignored. Current value: lambda_l1=0.19362299831610677\n",
            "[LightGBM] [Warning] min_data_in_leaf is set=6800, min_child_samples=20 will be ignored. Current value: min_data_in_leaf=6800\n",
            "[LightGBM] [Warning] min_gain_to_split is set=7.96324687127697, min_split_gain=0.0 will be ignored. Current value: min_gain_to_split=7.96324687127697\n",
            "[LightGBM] [Warning] lambda_l2 is set=0.6766511926071854, reg_lambda=0.0 will be ignored. Current value: lambda_l2=0.6766511926071854\n",
            "[LightGBM] [Warning] bagging_fraction is set=0.5, subsample=1.0 will be ignored. Current value: bagging_fraction=0.5\n",
            "0.6666666666666665\n",
            "[LightGBM] [Warning] lambda_l1 is set=0.19362299831610677, reg_alpha=0.0 will be ignored. Current value: lambda_l1=0.19362299831610677\n",
            "[LightGBM] [Warning] min_data_in_leaf is set=6800, min_child_samples=20 will be ignored. Current value: min_data_in_leaf=6800\n",
            "[LightGBM] [Warning] min_gain_to_split is set=7.96324687127697, min_split_gain=0.0 will be ignored. Current value: min_gain_to_split=7.96324687127697\n",
            "[LightGBM] [Warning] lambda_l2 is set=0.6766511926071854, reg_lambda=0.0 will be ignored. Current value: lambda_l2=0.6766511926071854\n",
            "[LightGBM] [Warning] bagging_fraction is set=0.5, subsample=1.0 will be ignored. Current value: bagging_fraction=0.5\n",
            "0.6754966887417219\n",
            "[LightGBM] [Warning] lambda_l1 is set=0.19362299831610677, reg_alpha=0.0 will be ignored. Current value: lambda_l1=0.19362299831610677\n",
            "[LightGBM] [Warning] min_data_in_leaf is set=6800, min_child_samples=20 will be ignored. Current value: min_data_in_leaf=6800\n",
            "[LightGBM] [Warning] min_gain_to_split is set=7.96324687127697, min_split_gain=0.0 will be ignored. Current value: min_gain_to_split=7.96324687127697\n",
            "[LightGBM] [Warning] lambda_l2 is set=0.6766511926071854, reg_lambda=0.0 will be ignored. Current value: lambda_l2=0.6766511926071854\n",
            "[LightGBM] [Warning] bagging_fraction is set=0.5, subsample=1.0 will be ignored. Current value: bagging_fraction=0.5\n"
          ]
        },
        {
          "output_type": "stream",
          "name": "stderr",
          "text": [
            "\u001b[32m[I 2023-04-19 16:54:24,506]\u001b[0m Trial 40 finished with value: 0.6701986754966887 and parameters: {'n_estimators': 1180, 'learning_rate': 0.31269095866990587, 'max_depth': 5, 'min_data_in_leaf': 6800, 'lambda_l1': 0.19362299831610677, 'lambda_l2': 0.6766511926071854, 'min_gain_to_split': 7.96324687127697, 'bagging_fraction': 0.5}. Best is trial 31 with value: 0.856325533102496.\u001b[0m\n"
          ]
        },
        {
          "output_type": "stream",
          "name": "stdout",
          "text": [
            "0.6754966887417219\n",
            "[LightGBM] [Warning] lambda_l1 is set=0.07020839325906705, reg_alpha=0.0 will be ignored. Current value: lambda_l1=0.07020839325906705\n",
            "[LightGBM] [Warning] min_data_in_leaf is set=100, min_child_samples=20 will be ignored. Current value: min_data_in_leaf=100\n",
            "[LightGBM] [Warning] min_gain_to_split is set=5.902231153388094, min_split_gain=0.0 will be ignored. Current value: min_gain_to_split=5.902231153388094\n",
            "[LightGBM] [Warning] lambda_l2 is set=0.6622872549729193, reg_lambda=0.0 will be ignored. Current value: lambda_l2=0.6622872549729193\n",
            "[LightGBM] [Warning] bagging_fraction is set=0.8, subsample=1.0 will be ignored. Current value: bagging_fraction=0.8\n",
            "0.8202884615384616\n",
            "[LightGBM] [Warning] lambda_l1 is set=0.07020839325906705, reg_alpha=0.0 will be ignored. Current value: lambda_l1=0.07020839325906705\n",
            "[LightGBM] [Warning] min_data_in_leaf is set=100, min_child_samples=20 will be ignored. Current value: min_data_in_leaf=100\n",
            "[LightGBM] [Warning] min_gain_to_split is set=5.902231153388094, min_split_gain=0.0 will be ignored. Current value: min_gain_to_split=5.902231153388094\n",
            "[LightGBM] [Warning] lambda_l2 is set=0.6622872549729193, reg_lambda=0.0 will be ignored. Current value: lambda_l2=0.6622872549729193\n",
            "[LightGBM] [Warning] bagging_fraction is set=0.8, subsample=1.0 will be ignored. Current value: bagging_fraction=0.8\n",
            "0.8202884615384616\n",
            "[LightGBM] [Warning] lambda_l1 is set=0.07020839325906705, reg_alpha=0.0 will be ignored. Current value: lambda_l1=0.07020839325906705\n",
            "[LightGBM] [Warning] min_data_in_leaf is set=100, min_child_samples=20 will be ignored. Current value: min_data_in_leaf=100\n",
            "[LightGBM] [Warning] min_gain_to_split is set=5.902231153388094, min_split_gain=0.0 will be ignored. Current value: min_gain_to_split=5.902231153388094\n",
            "[LightGBM] [Warning] lambda_l2 is set=0.6622872549729193, reg_lambda=0.0 will be ignored. Current value: lambda_l2=0.6622872549729193\n",
            "[LightGBM] [Warning] bagging_fraction is set=0.8, subsample=1.0 will be ignored. Current value: bagging_fraction=0.8\n"
          ]
        },
        {
          "output_type": "stream",
          "name": "stderr",
          "text": [
            "\u001b[32m[I 2023-04-19 16:54:24,884]\u001b[0m Trial 41 finished with value: 0.8323061798597384 and parameters: {'n_estimators': 1090, 'learning_rate': 0.3502210901411179, 'max_depth': 4, 'min_data_in_leaf': 100, 'lambda_l1': 0.07020839325906705, 'lambda_l2': 0.6622872549729193, 'min_gain_to_split': 5.902231153388094, 'bagging_fraction': 0.8}. Best is trial 31 with value: 0.856325533102496.\u001b[0m\n"
          ]
        },
        {
          "output_type": "stream",
          "name": "stdout",
          "text": [
            "0.8500150015001501\n",
            "[LightGBM] [Warning] lambda_l1 is set=0.07020839325906705, reg_alpha=0.0 will be ignored. Current value: lambda_l1=0.07020839325906705\n",
            "[LightGBM] [Warning] min_data_in_leaf is set=100, min_child_samples=20 will be ignored. Current value: min_data_in_leaf=100\n",
            "[LightGBM] [Warning] min_gain_to_split is set=5.902231153388094, min_split_gain=0.0 will be ignored. Current value: min_gain_to_split=5.902231153388094\n",
            "[LightGBM] [Warning] lambda_l2 is set=0.6622872549729193, reg_lambda=0.0 will be ignored. Current value: lambda_l2=0.6622872549729193\n",
            "[LightGBM] [Warning] bagging_fraction is set=0.8, subsample=1.0 will be ignored. Current value: bagging_fraction=0.8\n",
            "0.8704572404783437\n",
            "[LightGBM] [Warning] lambda_l1 is set=0.07020839325906705, reg_alpha=0.0 will be ignored. Current value: lambda_l1=0.07020839325906705\n",
            "[LightGBM] [Warning] min_data_in_leaf is set=100, min_child_samples=20 will be ignored. Current value: min_data_in_leaf=100\n",
            "[LightGBM] [Warning] min_gain_to_split is set=5.902231153388094, min_split_gain=0.0 will be ignored. Current value: min_gain_to_split=5.902231153388094\n",
            "[LightGBM] [Warning] lambda_l2 is set=0.6622872549729193, reg_lambda=0.0 will be ignored. Current value: lambda_l2=0.6622872549729193\n",
            "[LightGBM] [Warning] bagging_fraction is set=0.8, subsample=1.0 will be ignored. Current value: bagging_fraction=0.8\n",
            "0.8004817342432757\n",
            "[LightGBM] [Warning] lambda_l1 is set=0.10302715743520596, reg_alpha=0.0 will be ignored. Current value: lambda_l1=0.10302715743520596\n",
            "[LightGBM] [Warning] min_data_in_leaf is set=1100, min_child_samples=20 will be ignored. Current value: min_data_in_leaf=1100\n",
            "[LightGBM] [Warning] min_gain_to_split is set=6.289778247568283, min_split_gain=0.0 will be ignored. Current value: min_gain_to_split=6.289778247568283\n",
            "[LightGBM] [Warning] lambda_l2 is set=0.4934888046772793, reg_lambda=0.0 will be ignored. Current value: lambda_l2=0.4934888046772793\n",
            "[LightGBM] [Warning] bagging_fraction is set=0.8, subsample=1.0 will be ignored. Current value: bagging_fraction=0.8\n"
          ]
        },
        {
          "output_type": "stream",
          "name": "stderr",
          "text": [
            "\u001b[32m[I 2023-04-19 16:54:25,115]\u001b[0m Trial 42 finished with value: 0.6701986754966887 and parameters: {'n_estimators': 1180, 'learning_rate': 0.3926367088547187, 'max_depth': 4, 'min_data_in_leaf': 1100, 'lambda_l1': 0.10302715743520596, 'lambda_l2': 0.4934888046772793, 'min_gain_to_split': 6.289778247568283, 'bagging_fraction': 0.8}. Best is trial 31 with value: 0.856325533102496.\u001b[0m\n"
          ]
        },
        {
          "output_type": "stream",
          "name": "stdout",
          "text": [
            "0.6666666666666665\n",
            "[LightGBM] [Warning] lambda_l1 is set=0.10302715743520596, reg_alpha=0.0 will be ignored. Current value: lambda_l1=0.10302715743520596\n",
            "[LightGBM] [Warning] min_data_in_leaf is set=1100, min_child_samples=20 will be ignored. Current value: min_data_in_leaf=1100\n",
            "[LightGBM] [Warning] min_gain_to_split is set=6.289778247568283, min_split_gain=0.0 will be ignored. Current value: min_gain_to_split=6.289778247568283\n",
            "[LightGBM] [Warning] lambda_l2 is set=0.4934888046772793, reg_lambda=0.0 will be ignored. Current value: lambda_l2=0.4934888046772793\n",
            "[LightGBM] [Warning] bagging_fraction is set=0.8, subsample=1.0 will be ignored. Current value: bagging_fraction=0.8\n",
            "0.6666666666666665\n",
            "[LightGBM] [Warning] lambda_l1 is set=0.10302715743520596, reg_alpha=0.0 will be ignored. Current value: lambda_l1=0.10302715743520596\n",
            "[LightGBM] [Warning] min_data_in_leaf is set=1100, min_child_samples=20 will be ignored. Current value: min_data_in_leaf=1100\n",
            "[LightGBM] [Warning] min_gain_to_split is set=6.289778247568283, min_split_gain=0.0 will be ignored. Current value: min_gain_to_split=6.289778247568283\n",
            "[LightGBM] [Warning] lambda_l2 is set=0.4934888046772793, reg_lambda=0.0 will be ignored. Current value: lambda_l2=0.4934888046772793\n",
            "[LightGBM] [Warning] bagging_fraction is set=0.8, subsample=1.0 will be ignored. Current value: bagging_fraction=0.8\n",
            "0.6666666666666665\n",
            "[LightGBM] [Warning] lambda_l1 is set=0.10302715743520596, reg_alpha=0.0 will be ignored. Current value: lambda_l1=0.10302715743520596\n",
            "[LightGBM] [Warning] min_data_in_leaf is set=1100, min_child_samples=20 will be ignored. Current value: min_data_in_leaf=1100\n",
            "[LightGBM] [Warning] min_gain_to_split is set=6.289778247568283, min_split_gain=0.0 will be ignored. Current value: min_gain_to_split=6.289778247568283\n",
            "[LightGBM] [Warning] lambda_l2 is set=0.4934888046772793, reg_lambda=0.0 will be ignored. Current value: lambda_l2=0.4934888046772793\n",
            "[LightGBM] [Warning] bagging_fraction is set=0.8, subsample=1.0 will be ignored. Current value: bagging_fraction=0.8\n",
            "0.6754966887417219\n",
            "[LightGBM] [Warning] lambda_l1 is set=0.10302715743520596, reg_alpha=0.0 will be ignored. Current value: lambda_l1=0.10302715743520596\n",
            "[LightGBM] [Warning] min_data_in_leaf is set=1100, min_child_samples=20 will be ignored. Current value: min_data_in_leaf=1100\n",
            "[LightGBM] [Warning] min_gain_to_split is set=6.289778247568283, min_split_gain=0.0 will be ignored. Current value: min_gain_to_split=6.289778247568283\n",
            "[LightGBM] [Warning] lambda_l2 is set=0.4934888046772793, reg_lambda=0.0 will be ignored. Current value: lambda_l2=0.4934888046772793\n",
            "[LightGBM] [Warning] bagging_fraction is set=0.8, subsample=1.0 will be ignored. Current value: bagging_fraction=0.8\n",
            "0.6754966887417219\n",
            "[LightGBM] [Warning] lambda_l1 is set=0.062381582788869946, reg_alpha=0.0 will be ignored. Current value: lambda_l1=0.062381582788869946\n",
            "[LightGBM] [Warning] min_data_in_leaf is set=500, min_child_samples=20 will be ignored. Current value: min_data_in_leaf=500\n",
            "[LightGBM] [Warning] min_gain_to_split is set=6.626166225209471, min_split_gain=0.0 will be ignored. Current value: min_gain_to_split=6.626166225209471\n",
            "[LightGBM] [Warning] lambda_l2 is set=0.5635424814804137, reg_lambda=0.0 will be ignored. Current value: lambda_l2=0.5635424814804137\n",
            "[LightGBM] [Warning] bagging_fraction is set=0.9, subsample=1.0 will be ignored. Current value: bagging_fraction=0.9\n"
          ]
        },
        {
          "output_type": "stream",
          "name": "stderr",
          "text": [
            "\u001b[32m[I 2023-04-19 16:54:25,339]\u001b[0m Trial 43 finished with value: 0.6701986754966887 and parameters: {'n_estimators': 910, 'learning_rate': 0.3803319429453024, 'max_depth': 4, 'min_data_in_leaf': 500, 'lambda_l1': 0.062381582788869946, 'lambda_l2': 0.5635424814804137, 'min_gain_to_split': 6.626166225209471, 'bagging_fraction': 0.9}. Best is trial 31 with value: 0.856325533102496.\u001b[0m\n"
          ]
        },
        {
          "output_type": "stream",
          "name": "stdout",
          "text": [
            "0.6666666666666665\n",
            "[LightGBM] [Warning] lambda_l1 is set=0.062381582788869946, reg_alpha=0.0 will be ignored. Current value: lambda_l1=0.062381582788869946\n",
            "[LightGBM] [Warning] min_data_in_leaf is set=500, min_child_samples=20 will be ignored. Current value: min_data_in_leaf=500\n",
            "[LightGBM] [Warning] min_gain_to_split is set=6.626166225209471, min_split_gain=0.0 will be ignored. Current value: min_gain_to_split=6.626166225209471\n",
            "[LightGBM] [Warning] lambda_l2 is set=0.5635424814804137, reg_lambda=0.0 will be ignored. Current value: lambda_l2=0.5635424814804137\n",
            "[LightGBM] [Warning] bagging_fraction is set=0.9, subsample=1.0 will be ignored. Current value: bagging_fraction=0.9\n",
            "0.6666666666666665\n",
            "[LightGBM] [Warning] lambda_l1 is set=0.062381582788869946, reg_alpha=0.0 will be ignored. Current value: lambda_l1=0.062381582788869946\n",
            "[LightGBM] [Warning] min_data_in_leaf is set=500, min_child_samples=20 will be ignored. Current value: min_data_in_leaf=500\n",
            "[LightGBM] [Warning] min_gain_to_split is set=6.626166225209471, min_split_gain=0.0 will be ignored. Current value: min_gain_to_split=6.626166225209471\n",
            "[LightGBM] [Warning] lambda_l2 is set=0.5635424814804137, reg_lambda=0.0 will be ignored. Current value: lambda_l2=0.5635424814804137\n",
            "[LightGBM] [Warning] bagging_fraction is set=0.9, subsample=1.0 will be ignored. Current value: bagging_fraction=0.9\n",
            "0.6666666666666665\n",
            "[LightGBM] [Warning] lambda_l1 is set=0.062381582788869946, reg_alpha=0.0 will be ignored. Current value: lambda_l1=0.062381582788869946\n",
            "[LightGBM] [Warning] min_data_in_leaf is set=500, min_child_samples=20 will be ignored. Current value: min_data_in_leaf=500\n",
            "[LightGBM] [Warning] min_gain_to_split is set=6.626166225209471, min_split_gain=0.0 will be ignored. Current value: min_gain_to_split=6.626166225209471\n",
            "[LightGBM] [Warning] lambda_l2 is set=0.5635424814804137, reg_lambda=0.0 will be ignored. Current value: lambda_l2=0.5635424814804137\n",
            "[LightGBM] [Warning] bagging_fraction is set=0.9, subsample=1.0 will be ignored. Current value: bagging_fraction=0.9\n",
            "0.6754966887417219\n",
            "[LightGBM] [Warning] lambda_l1 is set=0.062381582788869946, reg_alpha=0.0 will be ignored. Current value: lambda_l1=0.062381582788869946\n",
            "[LightGBM] [Warning] min_data_in_leaf is set=500, min_child_samples=20 will be ignored. Current value: min_data_in_leaf=500\n",
            "[LightGBM] [Warning] min_gain_to_split is set=6.626166225209471, min_split_gain=0.0 will be ignored. Current value: min_gain_to_split=6.626166225209471\n",
            "[LightGBM] [Warning] lambda_l2 is set=0.5635424814804137, reg_lambda=0.0 will be ignored. Current value: lambda_l2=0.5635424814804137\n",
            "[LightGBM] [Warning] bagging_fraction is set=0.9, subsample=1.0 will be ignored. Current value: bagging_fraction=0.9\n",
            "0.6754966887417219\n",
            "[LightGBM] [Warning] lambda_l1 is set=0.1385165706842777, reg_alpha=0.0 will be ignored. Current value: lambda_l1=0.1385165706842777\n",
            "[LightGBM] [Warning] min_data_in_leaf is set=100, min_child_samples=20 will be ignored. Current value: min_data_in_leaf=100\n",
            "[LightGBM] [Warning] min_gain_to_split is set=5.15715920133587, min_split_gain=0.0 will be ignored. Current value: min_gain_to_split=5.15715920133587\n",
            "[LightGBM] [Warning] lambda_l2 is set=0.7593012410345328, reg_lambda=0.0 will be ignored. Current value: lambda_l2=0.7593012410345328\n",
            "[LightGBM] [Warning] bagging_fraction is set=0.7, subsample=1.0 will be ignored. Current value: bagging_fraction=0.7\n",
            "0.8202884615384616\n",
            "[LightGBM] [Warning] lambda_l1 is set=0.1385165706842777, reg_alpha=0.0 will be ignored. Current value: lambda_l1=0.1385165706842777\n",
            "[LightGBM] [Warning] min_data_in_leaf is set=100, min_child_samples=20 will be ignored. Current value: min_data_in_leaf=100\n",
            "[LightGBM] [Warning] min_gain_to_split is set=5.15715920133587, min_split_gain=0.0 will be ignored. Current value: min_gain_to_split=5.15715920133587\n",
            "[LightGBM] [Warning] lambda_l2 is set=0.7593012410345328, reg_lambda=0.0 will be ignored. Current value: lambda_l2=0.7593012410345328\n",
            "[LightGBM] [Warning] bagging_fraction is set=0.7, subsample=1.0 will be ignored. Current value: bagging_fraction=0.7\n",
            "0.8304260651629073\n",
            "[LightGBM] [Warning] lambda_l1 is set=0.1385165706842777, reg_alpha=0.0 will be ignored. Current value: lambda_l1=0.1385165706842777\n",
            "[LightGBM] [Warning] min_data_in_leaf is set=100, min_child_samples=20 will be ignored. Current value: min_data_in_leaf=100\n",
            "[LightGBM] [Warning] min_gain_to_split is set=5.15715920133587, min_split_gain=0.0 will be ignored. Current value: min_gain_to_split=5.15715920133587\n",
            "[LightGBM] [Warning] lambda_l2 is set=0.7593012410345328, reg_lambda=0.0 will be ignored. Current value: lambda_l2=0.7593012410345328\n",
            "[LightGBM] [Warning] bagging_fraction is set=0.7, subsample=1.0 will be ignored. Current value: bagging_fraction=0.7\n",
            "0.8599999999999999\n",
            "[LightGBM] [Warning] lambda_l1 is set=0.1385165706842777, reg_alpha=0.0 will be ignored. Current value: lambda_l1=0.1385165706842777\n",
            "[LightGBM] [Warning] min_data_in_leaf is set=100, min_child_samples=20 will be ignored. Current value: min_data_in_leaf=100\n",
            "[LightGBM] [Warning] min_gain_to_split is set=5.15715920133587, min_split_gain=0.0 will be ignored. Current value: min_gain_to_split=5.15715920133587\n",
            "[LightGBM] [Warning] lambda_l2 is set=0.7593012410345328, reg_lambda=0.0 will be ignored. Current value: lambda_l2=0.7593012410345328\n",
            "[LightGBM] [Warning] bagging_fraction is set=0.7, subsample=1.0 will be ignored. Current value: bagging_fraction=0.7\n"
          ]
        },
        {
          "output_type": "stream",
          "name": "stderr",
          "text": [
            "\u001b[32m[I 2023-04-19 16:54:25,752]\u001b[0m Trial 44 finished with value: 0.8404135212131232 and parameters: {'n_estimators': 1270, 'learning_rate': 0.35490196106910965, 'max_depth': 4, 'min_data_in_leaf': 100, 'lambda_l1': 0.1385165706842777, 'lambda_l2': 0.7593012410345328, 'min_gain_to_split': 5.15715920133587, 'bagging_fraction': 0.7}. Best is trial 31 with value: 0.856325533102496.\u001b[0m\n"
          ]
        },
        {
          "output_type": "stream",
          "name": "stdout",
          "text": [
            "0.8903868957893678\n",
            "[LightGBM] [Warning] lambda_l1 is set=0.1385165706842777, reg_alpha=0.0 will be ignored. Current value: lambda_l1=0.1385165706842777\n",
            "[LightGBM] [Warning] min_data_in_leaf is set=100, min_child_samples=20 will be ignored. Current value: min_data_in_leaf=100\n",
            "[LightGBM] [Warning] min_gain_to_split is set=5.15715920133587, min_split_gain=0.0 will be ignored. Current value: min_gain_to_split=5.15715920133587\n",
            "[LightGBM] [Warning] lambda_l2 is set=0.7593012410345328, reg_lambda=0.0 will be ignored. Current value: lambda_l2=0.7593012410345328\n",
            "[LightGBM] [Warning] bagging_fraction is set=0.7, subsample=1.0 will be ignored. Current value: bagging_fraction=0.7\n",
            "0.8009661835748793\n",
            "[LightGBM] [Warning] lambda_l1 is set=0.0022466957209573007, reg_alpha=0.0 will be ignored. Current value: lambda_l1=0.0022466957209573007\n",
            "[LightGBM] [Warning] min_data_in_leaf is set=1600, min_child_samples=20 will be ignored. Current value: min_data_in_leaf=1600\n",
            "[LightGBM] [Warning] min_gain_to_split is set=7.553070534102327, min_split_gain=0.0 will be ignored. Current value: min_gain_to_split=7.553070534102327\n",
            "[LightGBM] [Warning] lambda_l2 is set=0.5165709502167537, reg_lambda=0.0 will be ignored. Current value: lambda_l2=0.5165709502167537\n",
            "[LightGBM] [Warning] bagging_fraction is set=0.8, subsample=1.0 will be ignored. Current value: bagging_fraction=0.8\n",
            "0.6666666666666665\n",
            "[LightGBM] [Warning] lambda_l1 is set=0.0022466957209573007, reg_alpha=0.0 will be ignored. Current value: lambda_l1=0.0022466957209573007\n",
            "[LightGBM] [Warning] min_data_in_leaf is set=1600, min_child_samples=20 will be ignored. Current value: min_data_in_leaf=1600\n",
            "[LightGBM] [Warning] min_gain_to_split is set=7.553070534102327, min_split_gain=0.0 will be ignored. Current value: min_gain_to_split=7.553070534102327\n",
            "[LightGBM] [Warning] lambda_l2 is set=0.5165709502167537, reg_lambda=0.0 will be ignored. Current value: lambda_l2=0.5165709502167537\n",
            "[LightGBM] [Warning] bagging_fraction is set=0.8, subsample=1.0 will be ignored. Current value: bagging_fraction=0.8\n",
            "0.6666666666666665\n",
            "[LightGBM] [Warning] lambda_l1 is set=0.0022466957209573007, reg_alpha=0.0 will be ignored. Current value: lambda_l1=0.0022466957209573007\n",
            "[LightGBM] [Warning] min_data_in_leaf is set=1600, min_child_samples=20 will be ignored. Current value: min_data_in_leaf=1600\n",
            "[LightGBM] [Warning] min_gain_to_split is set=7.553070534102327, min_split_gain=0.0 will be ignored. Current value: min_gain_to_split=7.553070534102327\n",
            "[LightGBM] [Warning] lambda_l2 is set=0.5165709502167537, reg_lambda=0.0 will be ignored. Current value: lambda_l2=0.5165709502167537\n",
            "[LightGBM] [Warning] bagging_fraction is set=0.8, subsample=1.0 will be ignored. Current value: bagging_fraction=0.8\n"
          ]
        },
        {
          "output_type": "stream",
          "name": "stderr",
          "text": [
            "\u001b[32m[I 2023-04-19 16:54:28,759]\u001b[0m Trial 45 finished with value: 0.6701986754966887 and parameters: {'n_estimators': 820, 'learning_rate': 0.41982742797424943, 'max_depth': 4, 'min_data_in_leaf': 1600, 'lambda_l1': 0.0022466957209573007, 'lambda_l2': 0.5165709502167537, 'min_gain_to_split': 7.553070534102327, 'bagging_fraction': 0.8}. Best is trial 31 with value: 0.856325533102496.\u001b[0m\n"
          ]
        },
        {
          "output_type": "stream",
          "name": "stdout",
          "text": [
            "0.6666666666666665\n",
            "[LightGBM] [Warning] lambda_l1 is set=0.0022466957209573007, reg_alpha=0.0 will be ignored. Current value: lambda_l1=0.0022466957209573007\n",
            "[LightGBM] [Warning] min_data_in_leaf is set=1600, min_child_samples=20 will be ignored. Current value: min_data_in_leaf=1600\n",
            "[LightGBM] [Warning] min_gain_to_split is set=7.553070534102327, min_split_gain=0.0 will be ignored. Current value: min_gain_to_split=7.553070534102327\n",
            "[LightGBM] [Warning] lambda_l2 is set=0.5165709502167537, reg_lambda=0.0 will be ignored. Current value: lambda_l2=0.5165709502167537\n",
            "[LightGBM] [Warning] bagging_fraction is set=0.8, subsample=1.0 will be ignored. Current value: bagging_fraction=0.8\n",
            "0.6754966887417219\n",
            "[LightGBM] [Warning] lambda_l1 is set=0.0022466957209573007, reg_alpha=0.0 will be ignored. Current value: lambda_l1=0.0022466957209573007\n",
            "[LightGBM] [Warning] min_data_in_leaf is set=1600, min_child_samples=20 will be ignored. Current value: min_data_in_leaf=1600\n",
            "[LightGBM] [Warning] min_gain_to_split is set=7.553070534102327, min_split_gain=0.0 will be ignored. Current value: min_gain_to_split=7.553070534102327\n",
            "[LightGBM] [Warning] lambda_l2 is set=0.5165709502167537, reg_lambda=0.0 will be ignored. Current value: lambda_l2=0.5165709502167537\n",
            "[LightGBM] [Warning] bagging_fraction is set=0.8, subsample=1.0 will be ignored. Current value: bagging_fraction=0.8\n",
            "0.6754966887417219\n",
            "[LightGBM] [Warning] lambda_l1 is set=0.3563860863487158, reg_alpha=0.0 will be ignored. Current value: lambda_l1=0.3563860863487158\n",
            "[LightGBM] [Warning] min_data_in_leaf is set=4200, min_child_samples=20 will be ignored. Current value: min_data_in_leaf=4200\n",
            "[LightGBM] [Warning] min_gain_to_split is set=3.371003951739505, min_split_gain=0.0 will be ignored. Current value: min_gain_to_split=3.371003951739505\n",
            "[LightGBM] [Warning] lambda_l2 is set=0.38156883113458834, reg_lambda=0.0 will be ignored. Current value: lambda_l2=0.38156883113458834\n",
            "[LightGBM] [Warning] bagging_fraction is set=0.8, subsample=1.0 will be ignored. Current value: bagging_fraction=0.8\n",
            "0.6666666666666665\n",
            "[LightGBM] [Warning] lambda_l1 is set=0.3563860863487158, reg_alpha=0.0 will be ignored. Current value: lambda_l1=0.3563860863487158\n",
            "[LightGBM] [Warning] min_data_in_leaf is set=4200, min_child_samples=20 will be ignored. Current value: min_data_in_leaf=4200\n",
            "[LightGBM] [Warning] min_gain_to_split is set=3.371003951739505, min_split_gain=0.0 will be ignored. Current value: min_gain_to_split=3.371003951739505\n",
            "[LightGBM] [Warning] lambda_l2 is set=0.38156883113458834, reg_lambda=0.0 will be ignored. Current value: lambda_l2=0.38156883113458834\n",
            "[LightGBM] [Warning] bagging_fraction is set=0.8, subsample=1.0 will be ignored. Current value: bagging_fraction=0.8\n",
            "0.6666666666666665\n",
            "[LightGBM] [Warning] lambda_l1 is set=0.3563860863487158, reg_alpha=0.0 will be ignored. Current value: lambda_l1=0.3563860863487158\n",
            "[LightGBM] [Warning] min_data_in_leaf is set=4200, min_child_samples=20 will be ignored. Current value: min_data_in_leaf=4200\n",
            "[LightGBM] [Warning] min_gain_to_split is set=3.371003951739505, min_split_gain=0.0 will be ignored. Current value: min_gain_to_split=3.371003951739505\n",
            "[LightGBM] [Warning] lambda_l2 is set=0.38156883113458834, reg_lambda=0.0 will be ignored. Current value: lambda_l2=0.38156883113458834\n",
            "[LightGBM] [Warning] bagging_fraction is set=0.8, subsample=1.0 will be ignored. Current value: bagging_fraction=0.8\n"
          ]
        },
        {
          "output_type": "stream",
          "name": "stderr",
          "text": [
            "\u001b[32m[I 2023-04-19 16:54:28,991]\u001b[0m Trial 46 finished with value: 0.6701986754966887 and parameters: {'n_estimators': 1090, 'learning_rate': 0.32535984886128044, 'max_depth': 6, 'min_data_in_leaf': 4200, 'lambda_l1': 0.3563860863487158, 'lambda_l2': 0.38156883113458834, 'min_gain_to_split': 3.371003951739505, 'bagging_fraction': 0.8}. Best is trial 31 with value: 0.856325533102496.\u001b[0m\n"
          ]
        },
        {
          "output_type": "stream",
          "name": "stdout",
          "text": [
            "0.6666666666666665\n",
            "[LightGBM] [Warning] lambda_l1 is set=0.3563860863487158, reg_alpha=0.0 will be ignored. Current value: lambda_l1=0.3563860863487158\n",
            "[LightGBM] [Warning] min_data_in_leaf is set=4200, min_child_samples=20 will be ignored. Current value: min_data_in_leaf=4200\n",
            "[LightGBM] [Warning] min_gain_to_split is set=3.371003951739505, min_split_gain=0.0 will be ignored. Current value: min_gain_to_split=3.371003951739505\n",
            "[LightGBM] [Warning] lambda_l2 is set=0.38156883113458834, reg_lambda=0.0 will be ignored. Current value: lambda_l2=0.38156883113458834\n",
            "[LightGBM] [Warning] bagging_fraction is set=0.8, subsample=1.0 will be ignored. Current value: bagging_fraction=0.8\n",
            "0.6754966887417219\n",
            "[LightGBM] [Warning] lambda_l1 is set=0.3563860863487158, reg_alpha=0.0 will be ignored. Current value: lambda_l1=0.3563860863487158\n",
            "[LightGBM] [Warning] min_data_in_leaf is set=4200, min_child_samples=20 will be ignored. Current value: min_data_in_leaf=4200\n",
            "[LightGBM] [Warning] min_gain_to_split is set=3.371003951739505, min_split_gain=0.0 will be ignored. Current value: min_gain_to_split=3.371003951739505\n",
            "[LightGBM] [Warning] lambda_l2 is set=0.38156883113458834, reg_lambda=0.0 will be ignored. Current value: lambda_l2=0.38156883113458834\n",
            "[LightGBM] [Warning] bagging_fraction is set=0.8, subsample=1.0 will be ignored. Current value: bagging_fraction=0.8\n",
            "0.6754966887417219\n",
            "[LightGBM] [Warning] lambda_l1 is set=0.23503644510545402, reg_alpha=0.0 will be ignored. Current value: lambda_l1=0.23503644510545402\n",
            "[LightGBM] [Warning] min_data_in_leaf is set=0, min_child_samples=20 will be ignored. Current value: min_data_in_leaf=0\n",
            "[LightGBM] [Warning] min_gain_to_split is set=6.321059281491156, min_split_gain=0.0 will be ignored. Current value: min_gain_to_split=6.321059281491156\n",
            "[LightGBM] [Warning] lambda_l2 is set=0.45390660807114086, reg_lambda=0.0 will be ignored. Current value: lambda_l2=0.45390660807114086\n",
            "[LightGBM] [Warning] bagging_fraction is set=0.7, subsample=1.0 will be ignored. Current value: bagging_fraction=0.7\n",
            "0.8202884615384616\n",
            "[LightGBM] [Warning] lambda_l1 is set=0.23503644510545402, reg_alpha=0.0 will be ignored. Current value: lambda_l1=0.23503644510545402\n",
            "[LightGBM] [Warning] min_data_in_leaf is set=0, min_child_samples=20 will be ignored. Current value: min_data_in_leaf=0\n",
            "[LightGBM] [Warning] min_gain_to_split is set=6.321059281491156, min_split_gain=0.0 will be ignored. Current value: min_gain_to_split=6.321059281491156\n",
            "[LightGBM] [Warning] lambda_l2 is set=0.45390660807114086, reg_lambda=0.0 will be ignored. Current value: lambda_l2=0.45390660807114086\n",
            "[LightGBM] [Warning] bagging_fraction is set=0.7, subsample=1.0 will be ignored. Current value: bagging_fraction=0.7\n"
          ]
        },
        {
          "output_type": "stream",
          "name": "stderr",
          "text": [
            "\u001b[32m[I 2023-04-19 16:54:29,368]\u001b[0m Trial 47 finished with value: 0.8383598219559654 and parameters: {'n_estimators': 1000, 'learning_rate': 0.45380619418487383, 'max_depth': 3, 'min_data_in_leaf': 0, 'lambda_l1': 0.23503644510545402, 'lambda_l2': 0.45390660807114086, 'min_gain_to_split': 6.321059281491156, 'bagging_fraction': 0.7}. Best is trial 31 with value: 0.856325533102496.\u001b[0m\n"
          ]
        },
        {
          "output_type": "stream",
          "name": "stdout",
          "text": [
            "0.8200720288115246\n",
            "[LightGBM] [Warning] lambda_l1 is set=0.23503644510545402, reg_alpha=0.0 will be ignored. Current value: lambda_l1=0.23503644510545402\n",
            "[LightGBM] [Warning] min_data_in_leaf is set=0, min_child_samples=20 will be ignored. Current value: min_data_in_leaf=0\n",
            "[LightGBM] [Warning] min_gain_to_split is set=6.321059281491156, min_split_gain=0.0 will be ignored. Current value: min_gain_to_split=6.321059281491156\n",
            "[LightGBM] [Warning] lambda_l2 is set=0.45390660807114086, reg_lambda=0.0 will be ignored. Current value: lambda_l2=0.45390660807114086\n",
            "[LightGBM] [Warning] bagging_fraction is set=0.7, subsample=1.0 will be ignored. Current value: bagging_fraction=0.7\n",
            "0.8500150015001501\n",
            "[LightGBM] [Warning] lambda_l1 is set=0.23503644510545402, reg_alpha=0.0 will be ignored. Current value: lambda_l1=0.23503644510545402\n",
            "[LightGBM] [Warning] min_data_in_leaf is set=0, min_child_samples=20 will be ignored. Current value: min_data_in_leaf=0\n",
            "[LightGBM] [Warning] min_gain_to_split is set=6.321059281491156, min_split_gain=0.0 will be ignored. Current value: min_gain_to_split=6.321059281491156\n",
            "[LightGBM] [Warning] lambda_l2 is set=0.45390660807114086, reg_lambda=0.0 will be ignored. Current value: lambda_l2=0.45390660807114086\n",
            "[LightGBM] [Warning] bagging_fraction is set=0.7, subsample=1.0 will be ignored. Current value: bagging_fraction=0.7\n",
            "0.8708256880733944\n",
            "[LightGBM] [Warning] lambda_l1 is set=0.23503644510545402, reg_alpha=0.0 will be ignored. Current value: lambda_l1=0.23503644510545402\n",
            "[LightGBM] [Warning] min_data_in_leaf is set=0, min_child_samples=20 will be ignored. Current value: min_data_in_leaf=0\n",
            "[LightGBM] [Warning] min_gain_to_split is set=6.321059281491156, min_split_gain=0.0 will be ignored. Current value: min_gain_to_split=6.321059281491156\n",
            "[LightGBM] [Warning] lambda_l2 is set=0.45390660807114086, reg_lambda=0.0 will be ignored. Current value: lambda_l2=0.45390660807114086\n",
            "[LightGBM] [Warning] bagging_fraction is set=0.7, subsample=1.0 will be ignored. Current value: bagging_fraction=0.7\n",
            "0.8305979298562959\n"
          ]
        },
        {
          "output_type": "stream",
          "name": "stderr",
          "text": [
            "\u001b[32m[I 2023-04-19 16:54:29,560]\u001b[0m Trial 48 finished with value: 0.6701986754966887 and parameters: {'n_estimators': 640, 'learning_rate': 0.3800092484673541, 'max_depth': 5, 'min_data_in_leaf': 1100, 'lambda_l1': 0.044642093778903255, 'lambda_l2': 0.8071623561251826, 'min_gain_to_split': 5.686518569740693, 'bagging_fraction': 0.9}. Best is trial 31 with value: 0.856325533102496.\u001b[0m\n"
          ]
        },
        {
          "output_type": "stream",
          "name": "stdout",
          "text": [
            "[LightGBM] [Warning] lambda_l1 is set=0.044642093778903255, reg_alpha=0.0 will be ignored. Current value: lambda_l1=0.044642093778903255\n",
            "[LightGBM] [Warning] min_data_in_leaf is set=1100, min_child_samples=20 will be ignored. Current value: min_data_in_leaf=1100\n",
            "[LightGBM] [Warning] min_gain_to_split is set=5.686518569740693, min_split_gain=0.0 will be ignored. Current value: min_gain_to_split=5.686518569740693\n",
            "[LightGBM] [Warning] lambda_l2 is set=0.8071623561251826, reg_lambda=0.0 will be ignored. Current value: lambda_l2=0.8071623561251826\n",
            "[LightGBM] [Warning] bagging_fraction is set=0.9, subsample=1.0 will be ignored. Current value: bagging_fraction=0.9\n",
            "0.6666666666666665\n",
            "[LightGBM] [Warning] lambda_l1 is set=0.044642093778903255, reg_alpha=0.0 will be ignored. Current value: lambda_l1=0.044642093778903255\n",
            "[LightGBM] [Warning] min_data_in_leaf is set=1100, min_child_samples=20 will be ignored. Current value: min_data_in_leaf=1100\n",
            "[LightGBM] [Warning] min_gain_to_split is set=5.686518569740693, min_split_gain=0.0 will be ignored. Current value: min_gain_to_split=5.686518569740693\n",
            "[LightGBM] [Warning] lambda_l2 is set=0.8071623561251826, reg_lambda=0.0 will be ignored. Current value: lambda_l2=0.8071623561251826\n",
            "[LightGBM] [Warning] bagging_fraction is set=0.9, subsample=1.0 will be ignored. Current value: bagging_fraction=0.9\n",
            "0.6666666666666665\n",
            "[LightGBM] [Warning] lambda_l1 is set=0.044642093778903255, reg_alpha=0.0 will be ignored. Current value: lambda_l1=0.044642093778903255\n",
            "[LightGBM] [Warning] min_data_in_leaf is set=1100, min_child_samples=20 will be ignored. Current value: min_data_in_leaf=1100\n",
            "[LightGBM] [Warning] min_gain_to_split is set=5.686518569740693, min_split_gain=0.0 will be ignored. Current value: min_gain_to_split=5.686518569740693\n",
            "[LightGBM] [Warning] lambda_l2 is set=0.8071623561251826, reg_lambda=0.0 will be ignored. Current value: lambda_l2=0.8071623561251826\n",
            "[LightGBM] [Warning] bagging_fraction is set=0.9, subsample=1.0 will be ignored. Current value: bagging_fraction=0.9\n",
            "0.6666666666666665\n",
            "[LightGBM] [Warning] lambda_l1 is set=0.044642093778903255, reg_alpha=0.0 will be ignored. Current value: lambda_l1=0.044642093778903255\n",
            "[LightGBM] [Warning] min_data_in_leaf is set=1100, min_child_samples=20 will be ignored. Current value: min_data_in_leaf=1100\n",
            "[LightGBM] [Warning] min_gain_to_split is set=5.686518569740693, min_split_gain=0.0 will be ignored. Current value: min_gain_to_split=5.686518569740693\n",
            "[LightGBM] [Warning] lambda_l2 is set=0.8071623561251826, reg_lambda=0.0 will be ignored. Current value: lambda_l2=0.8071623561251826\n",
            "[LightGBM] [Warning] bagging_fraction is set=0.9, subsample=1.0 will be ignored. Current value: bagging_fraction=0.9\n",
            "0.6754966887417219\n",
            "[LightGBM] [Warning] lambda_l1 is set=0.044642093778903255, reg_alpha=0.0 will be ignored. Current value: lambda_l1=0.044642093778903255\n",
            "[LightGBM] [Warning] min_data_in_leaf is set=1100, min_child_samples=20 will be ignored. Current value: min_data_in_leaf=1100\n",
            "[LightGBM] [Warning] min_gain_to_split is set=5.686518569740693, min_split_gain=0.0 will be ignored. Current value: min_gain_to_split=5.686518569740693\n",
            "[LightGBM] [Warning] lambda_l2 is set=0.8071623561251826, reg_lambda=0.0 will be ignored. Current value: lambda_l2=0.8071623561251826\n",
            "[LightGBM] [Warning] bagging_fraction is set=0.9, subsample=1.0 will be ignored. Current value: bagging_fraction=0.9\n",
            "0.6754966887417219\n",
            "[LightGBM] [Warning] lambda_l1 is set=0.18947205234364023, reg_alpha=0.0 will be ignored. Current value: lambda_l1=0.18947205234364023\n",
            "[LightGBM] [Warning] min_data_in_leaf is set=9600, min_child_samples=20 will be ignored. Current value: min_data_in_leaf=9600\n",
            "[LightGBM] [Warning] min_gain_to_split is set=4.422653261625701, min_split_gain=0.0 will be ignored. Current value: min_gain_to_split=4.422653261625701\n",
            "[LightGBM] [Warning] lambda_l2 is set=0.5454589810298848, reg_lambda=0.0 will be ignored. Current value: lambda_l2=0.5454589810298848\n",
            "[LightGBM] [Warning] bagging_fraction is set=0.5, subsample=1.0 will be ignored. Current value: bagging_fraction=0.5\n"
          ]
        },
        {
          "output_type": "stream",
          "name": "stderr",
          "text": [
            "\u001b[32m[I 2023-04-19 16:54:29,789]\u001b[0m Trial 49 finished with value: 0.6701986754966887 and parameters: {'n_estimators': 1000, 'learning_rate': 0.2813149233463683, 'max_depth': 4, 'min_data_in_leaf': 9600, 'lambda_l1': 0.18947205234364023, 'lambda_l2': 0.5454589810298848, 'min_gain_to_split': 4.422653261625701, 'bagging_fraction': 0.5}. Best is trial 31 with value: 0.856325533102496.\u001b[0m\n"
          ]
        },
        {
          "output_type": "stream",
          "name": "stdout",
          "text": [
            "0.6666666666666665\n",
            "[LightGBM] [Warning] lambda_l1 is set=0.18947205234364023, reg_alpha=0.0 will be ignored. Current value: lambda_l1=0.18947205234364023\n",
            "[LightGBM] [Warning] min_data_in_leaf is set=9600, min_child_samples=20 will be ignored. Current value: min_data_in_leaf=9600\n",
            "[LightGBM] [Warning] min_gain_to_split is set=4.422653261625701, min_split_gain=0.0 will be ignored. Current value: min_gain_to_split=4.422653261625701\n",
            "[LightGBM] [Warning] lambda_l2 is set=0.5454589810298848, reg_lambda=0.0 will be ignored. Current value: lambda_l2=0.5454589810298848\n",
            "[LightGBM] [Warning] bagging_fraction is set=0.5, subsample=1.0 will be ignored. Current value: bagging_fraction=0.5\n",
            "0.6666666666666665\n",
            "[LightGBM] [Warning] lambda_l1 is set=0.18947205234364023, reg_alpha=0.0 will be ignored. Current value: lambda_l1=0.18947205234364023\n",
            "[LightGBM] [Warning] min_data_in_leaf is set=9600, min_child_samples=20 will be ignored. Current value: min_data_in_leaf=9600\n",
            "[LightGBM] [Warning] min_gain_to_split is set=4.422653261625701, min_split_gain=0.0 will be ignored. Current value: min_gain_to_split=4.422653261625701\n",
            "[LightGBM] [Warning] lambda_l2 is set=0.5454589810298848, reg_lambda=0.0 will be ignored. Current value: lambda_l2=0.5454589810298848\n",
            "[LightGBM] [Warning] bagging_fraction is set=0.5, subsample=1.0 will be ignored. Current value: bagging_fraction=0.5\n",
            "0.6666666666666665\n",
            "[LightGBM] [Warning] lambda_l1 is set=0.18947205234364023, reg_alpha=0.0 will be ignored. Current value: lambda_l1=0.18947205234364023\n",
            "[LightGBM] [Warning] min_data_in_leaf is set=9600, min_child_samples=20 will be ignored. Current value: min_data_in_leaf=9600\n",
            "[LightGBM] [Warning] min_gain_to_split is set=4.422653261625701, min_split_gain=0.0 will be ignored. Current value: min_gain_to_split=4.422653261625701\n",
            "[LightGBM] [Warning] lambda_l2 is set=0.5454589810298848, reg_lambda=0.0 will be ignored. Current value: lambda_l2=0.5454589810298848\n",
            "[LightGBM] [Warning] bagging_fraction is set=0.5, subsample=1.0 will be ignored. Current value: bagging_fraction=0.5\n",
            "0.6754966887417219\n",
            "[LightGBM] [Warning] lambda_l1 is set=0.18947205234364023, reg_alpha=0.0 will be ignored. Current value: lambda_l1=0.18947205234364023\n",
            "[LightGBM] [Warning] min_data_in_leaf is set=9600, min_child_samples=20 will be ignored. Current value: min_data_in_leaf=9600\n",
            "[LightGBM] [Warning] min_gain_to_split is set=4.422653261625701, min_split_gain=0.0 will be ignored. Current value: min_gain_to_split=4.422653261625701\n",
            "[LightGBM] [Warning] lambda_l2 is set=0.5454589810298848, reg_lambda=0.0 will be ignored. Current value: lambda_l2=0.5454589810298848\n",
            "[LightGBM] [Warning] bagging_fraction is set=0.5, subsample=1.0 will be ignored. Current value: bagging_fraction=0.5\n",
            "0.6754966887417219\n"
          ]
        }
      ]
    },
    {
      "cell_type": "code",
      "source": [
        "best_trial = study.best_trial"
      ],
      "metadata": {
        "id": "qQPzjMKWaHr6"
      },
      "execution_count": null,
      "outputs": []
    },
    {
      "cell_type": "code",
      "source": [
        "best_trial.values"
      ],
      "metadata": {
        "colab": {
          "base_uri": "https://localhost:8080/"
        },
        "id": "pLXUvrWYcPOO",
        "outputId": "3d101399-273d-4eb4-cb73-c8d086968923"
      },
      "execution_count": null,
      "outputs": [
        {
          "output_type": "execute_result",
          "data": {
            "text/plain": [
              "[0.856325533102496]"
            ]
          },
          "metadata": {},
          "execution_count": 49
        }
      ]
    },
    {
      "cell_type": "code",
      "source": [
        "best_trial.params"
      ],
      "metadata": {
        "colab": {
          "base_uri": "https://localhost:8080/"
        },
        "id": "abdSJG0AaI3L",
        "outputId": "f04101a9-f34f-457c-bbf8-16f8a99de431"
      },
      "execution_count": null,
      "outputs": [
        {
          "output_type": "execute_result",
          "data": {
            "text/plain": [
              "{'n_estimators': 910,\n",
              " 'learning_rate': 0.3452321594586532,\n",
              " 'max_depth': 4,\n",
              " 'min_data_in_leaf': 0,\n",
              " 'lambda_l1': 0.0897368546100393,\n",
              " 'lambda_l2': 0.3524475941548792,\n",
              " 'min_gain_to_split': 3.541270604309898,\n",
              " 'bagging_fraction': 0.8}"
            ]
          },
          "metadata": {},
          "execution_count": 47
        }
      ]
    },
    {
      "cell_type": "code",
      "source": [
        "best_params = best_trial.params"
      ],
      "metadata": {
        "id": "_cMwPaC5bAju"
      },
      "execution_count": null,
      "outputs": []
    },
    {
      "cell_type": "code",
      "source": [
        "model = LGBMClassifier(**best_params)"
      ],
      "metadata": {
        "id": "FcuZIZbea3jN"
      },
      "execution_count": null,
      "outputs": []
    },
    {
      "cell_type": "code",
      "source": [
        "model"
      ],
      "metadata": {
        "colab": {
          "base_uri": "https://localhost:8080/"
        },
        "id": "iNqfpMtUbEij",
        "outputId": "b018b316-ccca-4dd4-f0cb-818b3960a348"
      },
      "execution_count": null,
      "outputs": [
        {
          "output_type": "execute_result",
          "data": {
            "text/plain": [
              "LGBMClassifier(bagging_fraction=0.8, lambda_l1=0.0897368546100393,\n",
              "               lambda_l2=0.3524475941548792, learning_rate=0.3452321594586532,\n",
              "               max_depth=4, min_data_in_leaf=0,\n",
              "               min_gain_to_split=3.541270604309898, n_estimators=910)"
            ]
          },
          "metadata": {},
          "execution_count": 52
        }
      ]
    },
    {
      "cell_type": "code",
      "source": [
        "X_train, X_test, y_train, y_test = train_test_split(X[selected_features],\n",
        "                                                    y,\n",
        "                                                    test_size=0.25,\n",
        "                                                    stratify=y,\n",
        "                                                    random_state=43)"
      ],
      "metadata": {
        "id": "uZSSedpOa3jO"
      },
      "execution_count": null,
      "outputs": []
    },
    {
      "cell_type": "code",
      "source": [
        "scores = cross_val_score(model, X, y, cv=5)"
      ],
      "metadata": {
        "colab": {
          "base_uri": "https://localhost:8080/"
        },
        "id": "7vWwDR1_a3jO",
        "outputId": "312a302b-070e-4d36-8f7b-b2bcd3c0064e"
      },
      "execution_count": null,
      "outputs": [
        {
          "output_type": "stream",
          "name": "stdout",
          "text": [
            "[LightGBM] [Warning] lambda_l1 is set=0.0897368546100393, reg_alpha=0.0 will be ignored. Current value: lambda_l1=0.0897368546100393\n",
            "[LightGBM] [Warning] min_data_in_leaf is set=0, min_child_samples=20 will be ignored. Current value: min_data_in_leaf=0\n",
            "[LightGBM] [Warning] min_gain_to_split is set=3.541270604309898, min_split_gain=0.0 will be ignored. Current value: min_gain_to_split=3.541270604309898\n",
            "[LightGBM] [Warning] lambda_l2 is set=0.3524475941548792, reg_lambda=0.0 will be ignored. Current value: lambda_l2=0.3524475941548792\n",
            "[LightGBM] [Warning] bagging_fraction is set=0.8, subsample=1.0 will be ignored. Current value: bagging_fraction=0.8\n",
            "[LightGBM] [Warning] lambda_l1 is set=0.0897368546100393, reg_alpha=0.0 will be ignored. Current value: lambda_l1=0.0897368546100393\n",
            "[LightGBM] [Warning] min_data_in_leaf is set=0, min_child_samples=20 will be ignored. Current value: min_data_in_leaf=0\n",
            "[LightGBM] [Warning] min_gain_to_split is set=3.541270604309898, min_split_gain=0.0 will be ignored. Current value: min_gain_to_split=3.541270604309898\n",
            "[LightGBM] [Warning] lambda_l2 is set=0.3524475941548792, reg_lambda=0.0 will be ignored. Current value: lambda_l2=0.3524475941548792\n",
            "[LightGBM] [Warning] bagging_fraction is set=0.8, subsample=1.0 will be ignored. Current value: bagging_fraction=0.8\n",
            "[LightGBM] [Warning] lambda_l1 is set=0.0897368546100393, reg_alpha=0.0 will be ignored. Current value: lambda_l1=0.0897368546100393\n",
            "[LightGBM] [Warning] min_data_in_leaf is set=0, min_child_samples=20 will be ignored. Current value: min_data_in_leaf=0\n",
            "[LightGBM] [Warning] min_gain_to_split is set=3.541270604309898, min_split_gain=0.0 will be ignored. Current value: min_gain_to_split=3.541270604309898\n",
            "[LightGBM] [Warning] lambda_l2 is set=0.3524475941548792, reg_lambda=0.0 will be ignored. Current value: lambda_l2=0.3524475941548792\n",
            "[LightGBM] [Warning] bagging_fraction is set=0.8, subsample=1.0 will be ignored. Current value: bagging_fraction=0.8\n",
            "[LightGBM] [Warning] lambda_l1 is set=0.0897368546100393, reg_alpha=0.0 will be ignored. Current value: lambda_l1=0.0897368546100393\n",
            "[LightGBM] [Warning] min_data_in_leaf is set=0, min_child_samples=20 will be ignored. Current value: min_data_in_leaf=0\n",
            "[LightGBM] [Warning] min_gain_to_split is set=3.541270604309898, min_split_gain=0.0 will be ignored. Current value: min_gain_to_split=3.541270604309898\n",
            "[LightGBM] [Warning] lambda_l2 is set=0.3524475941548792, reg_lambda=0.0 will be ignored. Current value: lambda_l2=0.3524475941548792\n",
            "[LightGBM] [Warning] bagging_fraction is set=0.8, subsample=1.0 will be ignored. Current value: bagging_fraction=0.8\n",
            "[LightGBM] [Warning] lambda_l1 is set=0.0897368546100393, reg_alpha=0.0 will be ignored. Current value: lambda_l1=0.0897368546100393\n",
            "[LightGBM] [Warning] min_data_in_leaf is set=0, min_child_samples=20 will be ignored. Current value: min_data_in_leaf=0\n",
            "[LightGBM] [Warning] min_gain_to_split is set=3.541270604309898, min_split_gain=0.0 will be ignored. Current value: min_gain_to_split=3.541270604309898\n",
            "[LightGBM] [Warning] lambda_l2 is set=0.3524475941548792, reg_lambda=0.0 will be ignored. Current value: lambda_l2=0.3524475941548792\n",
            "[LightGBM] [Warning] bagging_fraction is set=0.8, subsample=1.0 will be ignored. Current value: bagging_fraction=0.8\n"
          ]
        }
      ]
    },
    {
      "cell_type": "code",
      "source": [
        "scores"
      ],
      "metadata": {
        "colab": {
          "base_uri": "https://localhost:8080/"
        },
        "id": "dIGG0LcbbL8A",
        "outputId": "fadfc01c-c6b7-45f7-cf2d-9f024a137b56"
      },
      "execution_count": null,
      "outputs": [
        {
          "output_type": "execute_result",
          "data": {
            "text/plain": [
              "array([0.89, 0.85, 0.81, 0.85, 0.86])"
            ]
          },
          "metadata": {},
          "execution_count": 55
        }
      ]
    },
    {
      "cell_type": "code",
      "source": [
        "import optuna\n",
        "from sklearn.metrics import f1_score\n",
        "from sklearn.model_selection import StratifiedKFold\n",
        "\n",
        "def objective(trial, X, y):\n",
        "    param_grid = {\n",
        "            \"verbosity\": -1,\n",
        "            \"n_jobs\": 2,\n",
        "            \"bagging_freq\": trial.suggest_int(\"bagging_freq\", 1, 9),\n",
        "            \"num_iterations\": trial.suggest_int(\"num_iterations\", 50, 2500),  # n_trees\n",
        "            \"lambda_l1\": trial.suggest_loguniform(\"lambda_l1\", 1e-8, 10.0),\n",
        "            \"lambda_l2\": trial.suggest_loguniform(\"lambda_l2\", 1e-8, 10.0),\n",
        "            \"feature_fraction\": trial.suggest_uniform(\"feature_fraction\", 0.01, 1.0),\n",
        "            \"bagging_fraction\": trial.suggest_uniform(\"bagging_fraction\", 0.01, 1.0),\n",
        "            \"min_child_samples\": trial.suggest_int(\"min_child_samples\", 5, 5000),\n",
        "            \"max_depth\": trial.suggest_int(\"max_depth\", 3, 8),\n",
        "            \"learning_rate\": trial.suggest_uniform(\"learning_rate\", 0.001, 0.3),\n",
        "        }\n",
        "\n",
        "    param_grid['num_leaves'] = 2**param_grid['max_depth']\n",
        "\n",
        "    cv = StratifiedKFold(n_splits=5, shuffle=True, random_state=42)\n",
        "\n",
        "    scores = []\n",
        "\n",
        "    for idx, (train_idx, test_idx) in enumerate(cv.split(X, y)):\n",
        "        X_train, X_test = X.iloc[train_idx], X.iloc[test_idx]\n",
        "        y_train, y_test = y[train_idx], y[test_idx]\n",
        "\n",
        "        model = LGBMClassifier(**param_grid)\n",
        "\n",
        "        model.fit(\n",
        "            X_train,\n",
        "            y_train,\n",
        "        )\n",
        "\n",
        "        preds = model.predict(X_test)\n",
        "        scores.append(f1_score(preds, y_test, average='weighted'))\n",
        "\n",
        "    return np.mean(scores)"
      ],
      "metadata": {
        "id": "APHiFkTBcpQx"
      },
      "execution_count": null,
      "outputs": []
    },
    {
      "cell_type": "code",
      "source": [
        "study = optuna.create_study(direction=\"maximize\", study_name=\"LGBM Classifier\")\n",
        "func = lambda trial: objective(trial, X[selected_features], y)\n",
        "study.optimize(func, n_trials=50)"
      ],
      "metadata": {
        "colab": {
          "base_uri": "https://localhost:8080/"
        },
        "outputId": "6eee7178-4358-43f0-f263-db479298c7be",
        "id": "Z5ul9oDQcpQy"
      },
      "execution_count": null,
      "outputs": [
        {
          "output_type": "stream",
          "name": "stderr",
          "text": [
            "\u001b[32m[I 2023-04-19 16:56:54,755]\u001b[0m A new study created in memory with name: LGBM Classifier\u001b[0m\n"
          ]
        },
        {
          "output_type": "stream",
          "name": "stdout",
          "text": [
            "[LightGBM] [Warning] bagging_fraction is set=0.4704616798676511, subsample=1.0 will be ignored. Current value: bagging_fraction=0.4704616798676511\n",
            "[LightGBM] [Warning] lambda_l2 is set=6.702705670323744, reg_lambda=0.0 will be ignored. Current value: lambda_l2=6.702705670323744\n",
            "[LightGBM] [Warning] lambda_l1 is set=0.00012419809683618583, reg_alpha=0.0 will be ignored. Current value: lambda_l1=0.00012419809683618583\n",
            "[LightGBM] [Warning] bagging_freq is set=4, subsample_freq=0 will be ignored. Current value: bagging_freq=4\n",
            "[LightGBM] [Warning] feature_fraction is set=0.7841539609082542, colsample_bytree=1.0 will be ignored. Current value: feature_fraction=0.7841539609082542\n",
            "[LightGBM] [Warning] bagging_fraction is set=0.4704616798676511, subsample=1.0 will be ignored. Current value: bagging_fraction=0.4704616798676511\n",
            "[LightGBM] [Warning] lambda_l2 is set=6.702705670323744, reg_lambda=0.0 will be ignored. Current value: lambda_l2=6.702705670323744\n",
            "[LightGBM] [Warning] lambda_l1 is set=0.00012419809683618583, reg_alpha=0.0 will be ignored. Current value: lambda_l1=0.00012419809683618583\n",
            "[LightGBM] [Warning] bagging_freq is set=4, subsample_freq=0 will be ignored. Current value: bagging_freq=4\n",
            "[LightGBM] [Warning] feature_fraction is set=0.7841539609082542, colsample_bytree=1.0 will be ignored. Current value: feature_fraction=0.7841539609082542\n",
            "[LightGBM] [Warning] bagging_fraction is set=0.4704616798676511, subsample=1.0 will be ignored. Current value: bagging_fraction=0.4704616798676511\n",
            "[LightGBM] [Warning] lambda_l2 is set=6.702705670323744, reg_lambda=0.0 will be ignored. Current value: lambda_l2=6.702705670323744\n",
            "[LightGBM] [Warning] lambda_l1 is set=0.00012419809683618583, reg_alpha=0.0 will be ignored. Current value: lambda_l1=0.00012419809683618583\n",
            "[LightGBM] [Warning] bagging_freq is set=4, subsample_freq=0 will be ignored. Current value: bagging_freq=4\n",
            "[LightGBM] [Warning] feature_fraction is set=0.7841539609082542, colsample_bytree=1.0 will be ignored. Current value: feature_fraction=0.7841539609082542\n",
            "[LightGBM] [Warning] bagging_fraction is set=0.4704616798676511, subsample=1.0 will be ignored. Current value: bagging_fraction=0.4704616798676511\n",
            "[LightGBM] [Warning] lambda_l2 is set=6.702705670323744, reg_lambda=0.0 will be ignored. Current value: lambda_l2=6.702705670323744\n",
            "[LightGBM] [Warning] lambda_l1 is set=0.00012419809683618583, reg_alpha=0.0 will be ignored. Current value: lambda_l1=0.00012419809683618583\n",
            "[LightGBM] [Warning] bagging_freq is set=4, subsample_freq=0 will be ignored. Current value: bagging_freq=4\n",
            "[LightGBM] [Warning] feature_fraction is set=0.7841539609082542, colsample_bytree=1.0 will be ignored. Current value: feature_fraction=0.7841539609082542\n"
          ]
        },
        {
          "output_type": "stream",
          "name": "stderr",
          "text": [
            "\u001b[32m[I 2023-04-19 16:56:55,080]\u001b[0m Trial 0 finished with value: 0.6701986754966887 and parameters: {'bagging_freq': 4, 'num_iterations': 1568, 'lambda_l1': 0.00012419809683618583, 'lambda_l2': 6.702705670323744, 'feature_fraction': 0.7841539609082542, 'bagging_fraction': 0.4704616798676511, 'min_child_samples': 235, 'max_depth': 8, 'learning_rate': 0.1606231622486307}. Best is trial 0 with value: 0.6701986754966887.\u001b[0m\n",
            "\u001b[32m[I 2023-04-19 16:56:55,197]\u001b[0m Trial 1 finished with value: 0.6701986754966887 and parameters: {'bagging_freq': 3, 'num_iterations': 460, 'lambda_l1': 0.768488263683602, 'lambda_l2': 9.855305655545008, 'feature_fraction': 0.7256010035005224, 'bagging_fraction': 0.7922964134824224, 'min_child_samples': 4626, 'max_depth': 4, 'learning_rate': 0.22313702395183185}. Best is trial 0 with value: 0.6701986754966887.\u001b[0m\n"
          ]
        },
        {
          "output_type": "stream",
          "name": "stdout",
          "text": [
            "[LightGBM] [Warning] bagging_fraction is set=0.4704616798676511, subsample=1.0 will be ignored. Current value: bagging_fraction=0.4704616798676511\n",
            "[LightGBM] [Warning] lambda_l2 is set=6.702705670323744, reg_lambda=0.0 will be ignored. Current value: lambda_l2=6.702705670323744\n",
            "[LightGBM] [Warning] lambda_l1 is set=0.00012419809683618583, reg_alpha=0.0 will be ignored. Current value: lambda_l1=0.00012419809683618583\n",
            "[LightGBM] [Warning] bagging_freq is set=4, subsample_freq=0 will be ignored. Current value: bagging_freq=4\n",
            "[LightGBM] [Warning] feature_fraction is set=0.7841539609082542, colsample_bytree=1.0 will be ignored. Current value: feature_fraction=0.7841539609082542\n",
            "[LightGBM] [Warning] bagging_fraction is set=0.7922964134824224, subsample=1.0 will be ignored. Current value: bagging_fraction=0.7922964134824224\n",
            "[LightGBM] [Warning] lambda_l2 is set=9.855305655545008, reg_lambda=0.0 will be ignored. Current value: lambda_l2=9.855305655545008\n",
            "[LightGBM] [Warning] lambda_l1 is set=0.768488263683602, reg_alpha=0.0 will be ignored. Current value: lambda_l1=0.768488263683602\n",
            "[LightGBM] [Warning] bagging_freq is set=3, subsample_freq=0 will be ignored. Current value: bagging_freq=3\n",
            "[LightGBM] [Warning] feature_fraction is set=0.7256010035005224, colsample_bytree=1.0 will be ignored. Current value: feature_fraction=0.7256010035005224\n",
            "[LightGBM] [Warning] bagging_fraction is set=0.7922964134824224, subsample=1.0 will be ignored. Current value: bagging_fraction=0.7922964134824224\n",
            "[LightGBM] [Warning] lambda_l2 is set=9.855305655545008, reg_lambda=0.0 will be ignored. Current value: lambda_l2=9.855305655545008\n",
            "[LightGBM] [Warning] lambda_l1 is set=0.768488263683602, reg_alpha=0.0 will be ignored. Current value: lambda_l1=0.768488263683602\n",
            "[LightGBM] [Warning] bagging_freq is set=3, subsample_freq=0 will be ignored. Current value: bagging_freq=3\n",
            "[LightGBM] [Warning] feature_fraction is set=0.7256010035005224, colsample_bytree=1.0 will be ignored. Current value: feature_fraction=0.7256010035005224\n",
            "[LightGBM] [Warning] bagging_fraction is set=0.7922964134824224, subsample=1.0 will be ignored. Current value: bagging_fraction=0.7922964134824224\n",
            "[LightGBM] [Warning] lambda_l2 is set=9.855305655545008, reg_lambda=0.0 will be ignored. Current value: lambda_l2=9.855305655545008\n",
            "[LightGBM] [Warning] lambda_l1 is set=0.768488263683602, reg_alpha=0.0 will be ignored. Current value: lambda_l1=0.768488263683602\n",
            "[LightGBM] [Warning] bagging_freq is set=3, subsample_freq=0 will be ignored. Current value: bagging_freq=3\n",
            "[LightGBM] [Warning] feature_fraction is set=0.7256010035005224, colsample_bytree=1.0 will be ignored. Current value: feature_fraction=0.7256010035005224\n",
            "[LightGBM] [Warning] bagging_fraction is set=0.7922964134824224, subsample=1.0 will be ignored. Current value: bagging_fraction=0.7922964134824224\n",
            "[LightGBM] [Warning] lambda_l2 is set=9.855305655545008, reg_lambda=0.0 will be ignored. Current value: lambda_l2=9.855305655545008\n",
            "[LightGBM] [Warning] lambda_l1 is set=0.768488263683602, reg_alpha=0.0 will be ignored. Current value: lambda_l1=0.768488263683602\n",
            "[LightGBM] [Warning] bagging_freq is set=3, subsample_freq=0 will be ignored. Current value: bagging_freq=3\n",
            "[LightGBM] [Warning] feature_fraction is set=0.7256010035005224, colsample_bytree=1.0 will be ignored. Current value: feature_fraction=0.7256010035005224\n",
            "[LightGBM] [Warning] bagging_fraction is set=0.7922964134824224, subsample=1.0 will be ignored. Current value: bagging_fraction=0.7922964134824224\n",
            "[LightGBM] [Warning] lambda_l2 is set=9.855305655545008, reg_lambda=0.0 will be ignored. Current value: lambda_l2=9.855305655545008\n",
            "[LightGBM] [Warning] lambda_l1 is set=0.768488263683602, reg_alpha=0.0 will be ignored. Current value: lambda_l1=0.768488263683602\n",
            "[LightGBM] [Warning] bagging_freq is set=3, subsample_freq=0 will be ignored. Current value: bagging_freq=3\n",
            "[LightGBM] [Warning] feature_fraction is set=0.7256010035005224, colsample_bytree=1.0 will be ignored. Current value: feature_fraction=0.7256010035005224\n",
            "[LightGBM] [Warning] bagging_fraction is set=0.638368223114891, subsample=1.0 will be ignored. Current value: bagging_fraction=0.638368223114891\n",
            "[LightGBM] [Warning] lambda_l2 is set=7.358900471508407e-07, reg_lambda=0.0 will be ignored. Current value: lambda_l2=7.358900471508407e-07\n",
            "[LightGBM] [Warning] lambda_l1 is set=2.8876351546129227e-08, reg_alpha=0.0 will be ignored. Current value: lambda_l1=2.8876351546129227e-08\n",
            "[LightGBM] [Warning] bagging_freq is set=9, subsample_freq=0 will be ignored. Current value: bagging_freq=9\n",
            "[LightGBM] [Warning] feature_fraction is set=0.4395352653382734, colsample_bytree=1.0 will be ignored. Current value: feature_fraction=0.4395352653382734\n",
            "[LightGBM] [Warning] bagging_fraction is set=0.638368223114891, subsample=1.0 will be ignored. Current value: bagging_fraction=0.638368223114891\n",
            "[LightGBM] [Warning] lambda_l2 is set=7.358900471508407e-07, reg_lambda=0.0 will be ignored. Current value: lambda_l2=7.358900471508407e-07\n",
            "[LightGBM] [Warning] lambda_l1 is set=2.8876351546129227e-08, reg_alpha=0.0 will be ignored. Current value: lambda_l1=2.8876351546129227e-08\n",
            "[LightGBM] [Warning] bagging_freq is set=9, subsample_freq=0 will be ignored. Current value: bagging_freq=9\n",
            "[LightGBM] [Warning] feature_fraction is set=0.4395352653382734, colsample_bytree=1.0 will be ignored. Current value: feature_fraction=0.4395352653382734\n",
            "[LightGBM] [Warning] bagging_fraction is set=0.638368223114891, subsample=1.0 will be ignored. Current value: bagging_fraction=0.638368223114891\n",
            "[LightGBM] [Warning] lambda_l2 is set=7.358900471508407e-07, reg_lambda=0.0 will be ignored. Current value: lambda_l2=7.358900471508407e-07\n",
            "[LightGBM] [Warning] lambda_l1 is set=2.8876351546129227e-08, reg_alpha=0.0 will be ignored. Current value: lambda_l1=2.8876351546129227e-08\n",
            "[LightGBM] [Warning] bagging_freq is set=9, subsample_freq=0 will be ignored. Current value: bagging_freq=9\n",
            "[LightGBM] [Warning] feature_fraction is set=0.4395352653382734, colsample_bytree=1.0 will be ignored. Current value: feature_fraction=0.4395352653382734\n",
            "[LightGBM] [Warning] bagging_fraction is set=0.638368223114891, subsample=1.0 will be ignored. Current value: bagging_fraction=0.638368223114891\n",
            "[LightGBM] [Warning] lambda_l2 is set=7.358900471508407e-07, reg_lambda=0.0 will be ignored. Current value: lambda_l2=7.358900471508407e-07\n",
            "[LightGBM] [Warning] lambda_l1 is set=2.8876351546129227e-08, reg_alpha=0.0 will be ignored. Current value: lambda_l1=2.8876351546129227e-08\n",
            "[LightGBM] [Warning] bagging_freq is set=9, subsample_freq=0 will be ignored. Current value: bagging_freq=9\n",
            "[LightGBM] [Warning] feature_fraction is set=0.4395352653382734, colsample_bytree=1.0 will be ignored. Current value: feature_fraction=0.4395352653382734\n",
            "[LightGBM] [Warning] bagging_fraction is set=0.638368223114891, subsample=1.0 will be ignored. Current value: bagging_fraction=0.638368223114891\n",
            "[LightGBM] [Warning] lambda_l2 is set=7.358900471508407e-07, reg_lambda=0.0 will be ignored. Current value: lambda_l2=7.358900471508407e-07\n",
            "[LightGBM] [Warning] lambda_l1 is set=2.8876351546129227e-08, reg_alpha=0.0 will be ignored. Current value: lambda_l1=2.8876351546129227e-08\n",
            "[LightGBM] [Warning] bagging_freq is set=9, subsample_freq=0 will be ignored. Current value: bagging_freq=9\n",
            "[LightGBM] [Warning] feature_fraction is set=0.4395352653382734, colsample_bytree=1.0 will be ignored. Current value: feature_fraction=0.4395352653382734\n"
          ]
        },
        {
          "output_type": "stream",
          "name": "stderr",
          "text": [
            "\u001b[32m[I 2023-04-19 16:56:55,494]\u001b[0m Trial 2 finished with value: 0.6701986754966887 and parameters: {'bagging_freq': 9, 'num_iterations': 1190, 'lambda_l1': 2.8876351546129227e-08, 'lambda_l2': 7.358900471508407e-07, 'feature_fraction': 0.4395352653382734, 'bagging_fraction': 0.638368223114891, 'min_child_samples': 325, 'max_depth': 4, 'learning_rate': 0.019176309950790168}. Best is trial 0 with value: 0.6701986754966887.\u001b[0m\n"
          ]
        },
        {
          "output_type": "stream",
          "name": "stdout",
          "text": [
            "[LightGBM] [Warning] bagging_fraction is set=0.7945732371175048, subsample=1.0 will be ignored. Current value: bagging_fraction=0.7945732371175048\n",
            "[LightGBM] [Warning] lambda_l2 is set=2.8049931119345235, reg_lambda=0.0 will be ignored. Current value: lambda_l2=2.8049931119345235\n",
            "[LightGBM] [Warning] lambda_l1 is set=0.7805382160386259, reg_alpha=0.0 will be ignored. Current value: lambda_l1=0.7805382160386259\n",
            "[LightGBM] [Warning] bagging_freq is set=2, subsample_freq=0 will be ignored. Current value: bagging_freq=2\n",
            "[LightGBM] [Warning] feature_fraction is set=0.02922490974847721, colsample_bytree=1.0 will be ignored. Current value: feature_fraction=0.02922490974847721\n",
            "[LightGBM] [Warning] bagging_fraction is set=0.7945732371175048, subsample=1.0 will be ignored. Current value: bagging_fraction=0.7945732371175048\n",
            "[LightGBM] [Warning] lambda_l2 is set=2.8049931119345235, reg_lambda=0.0 will be ignored. Current value: lambda_l2=2.8049931119345235\n",
            "[LightGBM] [Warning] lambda_l1 is set=0.7805382160386259, reg_alpha=0.0 will be ignored. Current value: lambda_l1=0.7805382160386259\n",
            "[LightGBM] [Warning] bagging_freq is set=2, subsample_freq=0 will be ignored. Current value: bagging_freq=2\n",
            "[LightGBM] [Warning] feature_fraction is set=0.02922490974847721, colsample_bytree=1.0 will be ignored. Current value: feature_fraction=0.02922490974847721\n",
            "[LightGBM] [Warning] bagging_fraction is set=0.7945732371175048, subsample=1.0 will be ignored. Current value: bagging_fraction=0.7945732371175048\n",
            "[LightGBM] [Warning] lambda_l2 is set=2.8049931119345235, reg_lambda=0.0 will be ignored. Current value: lambda_l2=2.8049931119345235\n",
            "[LightGBM] [Warning] lambda_l1 is set=0.7805382160386259, reg_alpha=0.0 will be ignored. Current value: lambda_l1=0.7805382160386259\n",
            "[LightGBM] [Warning] bagging_freq is set=2, subsample_freq=0 will be ignored. Current value: bagging_freq=2\n",
            "[LightGBM] [Warning] feature_fraction is set=0.02922490974847721, colsample_bytree=1.0 will be ignored. Current value: feature_fraction=0.02922490974847721\n",
            "[LightGBM] [Warning] bagging_fraction is set=0.7945732371175048, subsample=1.0 will be ignored. Current value: bagging_fraction=0.7945732371175048\n",
            "[LightGBM] [Warning] lambda_l2 is set=2.8049931119345235, reg_lambda=0.0 will be ignored. Current value: lambda_l2=2.8049931119345235\n",
            "[LightGBM] [Warning] lambda_l1 is set=0.7805382160386259, reg_alpha=0.0 will be ignored. Current value: lambda_l1=0.7805382160386259\n",
            "[LightGBM] [Warning] bagging_freq is set=2, subsample_freq=0 will be ignored. Current value: bagging_freq=2\n",
            "[LightGBM] [Warning] feature_fraction is set=0.02922490974847721, colsample_bytree=1.0 will be ignored. Current value: feature_fraction=0.02922490974847721\n"
          ]
        },
        {
          "output_type": "stream",
          "name": "stderr",
          "text": [
            "\u001b[32m[I 2023-04-19 16:56:55,808]\u001b[0m Trial 3 finished with value: 0.6701986754966887 and parameters: {'bagging_freq': 2, 'num_iterations': 1538, 'lambda_l1': 0.7805382160386259, 'lambda_l2': 2.8049931119345235, 'feature_fraction': 0.02922490974847721, 'bagging_fraction': 0.7945732371175048, 'min_child_samples': 2119, 'max_depth': 6, 'learning_rate': 0.28096750328873915}. Best is trial 0 with value: 0.6701986754966887.\u001b[0m\n"
          ]
        },
        {
          "output_type": "stream",
          "name": "stdout",
          "text": [
            "[LightGBM] [Warning] bagging_fraction is set=0.7945732371175048, subsample=1.0 will be ignored. Current value: bagging_fraction=0.7945732371175048\n",
            "[LightGBM] [Warning] lambda_l2 is set=2.8049931119345235, reg_lambda=0.0 will be ignored. Current value: lambda_l2=2.8049931119345235\n",
            "[LightGBM] [Warning] lambda_l1 is set=0.7805382160386259, reg_alpha=0.0 will be ignored. Current value: lambda_l1=0.7805382160386259\n",
            "[LightGBM] [Warning] bagging_freq is set=2, subsample_freq=0 will be ignored. Current value: bagging_freq=2\n",
            "[LightGBM] [Warning] feature_fraction is set=0.02922490974847721, colsample_bytree=1.0 will be ignored. Current value: feature_fraction=0.02922490974847721\n",
            "[LightGBM] [Warning] bagging_fraction is set=0.33907590651211217, subsample=1.0 will be ignored. Current value: bagging_fraction=0.33907590651211217\n",
            "[LightGBM] [Warning] lambda_l2 is set=0.00021202008031036398, reg_lambda=0.0 will be ignored. Current value: lambda_l2=0.00021202008031036398\n",
            "[LightGBM] [Warning] lambda_l1 is set=0.06771577450412321, reg_alpha=0.0 will be ignored. Current value: lambda_l1=0.06771577450412321\n",
            "[LightGBM] [Warning] bagging_freq is set=8, subsample_freq=0 will be ignored. Current value: bagging_freq=8\n",
            "[LightGBM] [Warning] feature_fraction is set=0.2876952434402446, colsample_bytree=1.0 will be ignored. Current value: feature_fraction=0.2876952434402446\n",
            "[LightGBM] [Warning] bagging_fraction is set=0.33907590651211217, subsample=1.0 will be ignored. Current value: bagging_fraction=0.33907590651211217\n",
            "[LightGBM] [Warning] lambda_l2 is set=0.00021202008031036398, reg_lambda=0.0 will be ignored. Current value: lambda_l2=0.00021202008031036398\n",
            "[LightGBM] [Warning] lambda_l1 is set=0.06771577450412321, reg_alpha=0.0 will be ignored. Current value: lambda_l1=0.06771577450412321\n",
            "[LightGBM] [Warning] bagging_freq is set=8, subsample_freq=0 will be ignored. Current value: bagging_freq=8\n",
            "[LightGBM] [Warning] feature_fraction is set=0.2876952434402446, colsample_bytree=1.0 will be ignored. Current value: feature_fraction=0.2876952434402446\n",
            "[LightGBM] [Warning] bagging_fraction is set=0.33907590651211217, subsample=1.0 will be ignored. Current value: bagging_fraction=0.33907590651211217\n",
            "[LightGBM] [Warning] lambda_l2 is set=0.00021202008031036398, reg_lambda=0.0 will be ignored. Current value: lambda_l2=0.00021202008031036398\n",
            "[LightGBM] [Warning] lambda_l1 is set=0.06771577450412321, reg_alpha=0.0 will be ignored. Current value: lambda_l1=0.06771577450412321\n",
            "[LightGBM] [Warning] bagging_freq is set=8, subsample_freq=0 will be ignored. Current value: bagging_freq=8\n",
            "[LightGBM] [Warning] feature_fraction is set=0.2876952434402446, colsample_bytree=1.0 will be ignored. Current value: feature_fraction=0.2876952434402446\n",
            "[LightGBM] [Warning] bagging_fraction is set=0.33907590651211217, subsample=1.0 will be ignored. Current value: bagging_fraction=0.33907590651211217\n",
            "[LightGBM] [Warning] lambda_l2 is set=0.00021202008031036398, reg_lambda=0.0 will be ignored. Current value: lambda_l2=0.00021202008031036398\n",
            "[LightGBM] [Warning] lambda_l1 is set=0.06771577450412321, reg_alpha=0.0 will be ignored. Current value: lambda_l1=0.06771577450412321\n",
            "[LightGBM] [Warning] bagging_freq is set=8, subsample_freq=0 will be ignored. Current value: bagging_freq=8\n",
            "[LightGBM] [Warning] feature_fraction is set=0.2876952434402446, colsample_bytree=1.0 will be ignored. Current value: feature_fraction=0.2876952434402446\n",
            "[LightGBM] [Warning] bagging_fraction is set=0.33907590651211217, subsample=1.0 will be ignored. Current value: bagging_fraction=0.33907590651211217\n",
            "[LightGBM] [Warning] lambda_l2 is set=0.00021202008031036398, reg_lambda=0.0 will be ignored. Current value: lambda_l2=0.00021202008031036398\n",
            "[LightGBM] [Warning] lambda_l1 is set=0.06771577450412321, reg_alpha=0.0 will be ignored. Current value: lambda_l1=0.06771577450412321\n",
            "[LightGBM] [Warning] bagging_freq is set=8, subsample_freq=0 will be ignored. Current value: bagging_freq=8\n",
            "[LightGBM] [Warning] feature_fraction is set=0.2876952434402446, colsample_bytree=1.0 will be ignored. Current value: feature_fraction=0.2876952434402446"
          ]
        },
        {
          "output_type": "stream",
          "name": "stderr",
          "text": [
            "\u001b[32m[I 2023-04-19 16:56:55,975]\u001b[0m Trial 4 finished with value: 0.6701986754966887 and parameters: {'bagging_freq': 8, 'num_iterations': 551, 'lambda_l1': 0.06771577450412321, 'lambda_l2': 0.00021202008031036398, 'feature_fraction': 0.2876952434402446, 'bagging_fraction': 0.33907590651211217, 'min_child_samples': 1104, 'max_depth': 8, 'learning_rate': 0.1707261595308276}. Best is trial 0 with value: 0.6701986754966887.\u001b[0m\n",
            "\u001b[32m[I 2023-04-19 16:56:56,057]\u001b[0m Trial 5 finished with value: 0.6701986754966887 and parameters: {'bagging_freq': 9, 'num_iterations': 142, 'lambda_l1': 9.219597017239872, 'lambda_l2': 1.9437610285392727e-08, 'feature_fraction': 0.4776939996512558, 'bagging_fraction': 0.6486469140267647, 'min_child_samples': 468, 'max_depth': 6, 'learning_rate': 0.2412027178745186}. Best is trial 0 with value: 0.6701986754966887.\u001b[0m\n"
          ]
        },
        {
          "output_type": "stream",
          "name": "stdout",
          "text": [
            "\n",
            "[LightGBM] [Warning] bagging_fraction is set=0.6486469140267647, subsample=1.0 will be ignored. Current value: bagging_fraction=0.6486469140267647\n",
            "[LightGBM] [Warning] lambda_l2 is set=1.9437610285392727e-08, reg_lambda=0.0 will be ignored. Current value: lambda_l2=1.9437610285392727e-08\n",
            "[LightGBM] [Warning] lambda_l1 is set=9.219597017239872, reg_alpha=0.0 will be ignored. Current value: lambda_l1=9.219597017239872\n",
            "[LightGBM] [Warning] bagging_freq is set=9, subsample_freq=0 will be ignored. Current value: bagging_freq=9\n",
            "[LightGBM] [Warning] feature_fraction is set=0.4776939996512558, colsample_bytree=1.0 will be ignored. Current value: feature_fraction=0.4776939996512558\n",
            "[LightGBM] [Warning] bagging_fraction is set=0.6486469140267647, subsample=1.0 will be ignored. Current value: bagging_fraction=0.6486469140267647\n",
            "[LightGBM] [Warning] lambda_l2 is set=1.9437610285392727e-08, reg_lambda=0.0 will be ignored. Current value: lambda_l2=1.9437610285392727e-08\n",
            "[LightGBM] [Warning] lambda_l1 is set=9.219597017239872, reg_alpha=0.0 will be ignored. Current value: lambda_l1=9.219597017239872\n",
            "[LightGBM] [Warning] bagging_freq is set=9, subsample_freq=0 will be ignored. Current value: bagging_freq=9\n",
            "[LightGBM] [Warning] feature_fraction is set=0.4776939996512558, colsample_bytree=1.0 will be ignored. Current value: feature_fraction=0.4776939996512558\n",
            "[LightGBM] [Warning] bagging_fraction is set=0.6486469140267647, subsample=1.0 will be ignored. Current value: bagging_fraction=0.6486469140267647\n",
            "[LightGBM] [Warning] lambda_l2 is set=1.9437610285392727e-08, reg_lambda=0.0 will be ignored. Current value: lambda_l2=1.9437610285392727e-08\n",
            "[LightGBM] [Warning] lambda_l1 is set=9.219597017239872, reg_alpha=0.0 will be ignored. Current value: lambda_l1=9.219597017239872\n",
            "[LightGBM] [Warning] bagging_freq is set=9, subsample_freq=0 will be ignored. Current value: bagging_freq=9\n",
            "[LightGBM] [Warning] feature_fraction is set=0.4776939996512558, colsample_bytree=1.0 will be ignored. Current value: feature_fraction=0.4776939996512558\n",
            "[LightGBM] [Warning] bagging_fraction is set=0.6486469140267647, subsample=1.0 will be ignored. Current value: bagging_fraction=0.6486469140267647\n",
            "[LightGBM] [Warning] lambda_l2 is set=1.9437610285392727e-08, reg_lambda=0.0 will be ignored. Current value: lambda_l2=1.9437610285392727e-08\n",
            "[LightGBM] [Warning] lambda_l1 is set=9.219597017239872, reg_alpha=0.0 will be ignored. Current value: lambda_l1=9.219597017239872\n",
            "[LightGBM] [Warning] bagging_freq is set=9, subsample_freq=0 will be ignored. Current value: bagging_freq=9\n",
            "[LightGBM] [Warning] feature_fraction is set=0.4776939996512558, colsample_bytree=1.0 will be ignored. Current value: feature_fraction=0.4776939996512558\n",
            "[LightGBM] [Warning] bagging_fraction is set=0.6486469140267647, subsample=1.0 will be ignored. Current value: bagging_fraction=0.6486469140267647\n",
            "[LightGBM] [Warning] lambda_l2 is set=1.9437610285392727e-08, reg_lambda=0.0 will be ignored. Current value: lambda_l2=1.9437610285392727e-08\n",
            "[LightGBM] [Warning] lambda_l1 is set=9.219597017239872, reg_alpha=0.0 will be ignored. Current value: lambda_l1=9.219597017239872\n",
            "[LightGBM] [Warning] bagging_freq is set=9, subsample_freq=0 will be ignored. Current value: bagging_freq=9\n",
            "[LightGBM] [Warning] feature_fraction is set=0.4776939996512558, colsample_bytree=1.0 will be ignored. Current value: feature_fraction=0.4776939996512558\n",
            "[LightGBM] [Warning] bagging_fraction is set=0.04147723964022553, subsample=1.0 will be ignored. Current value: bagging_fraction=0.04147723964022553\n",
            "[LightGBM] [Warning] lambda_l2 is set=0.09619490470371984, reg_lambda=0.0 will be ignored. Current value: lambda_l2=0.09619490470371984\n",
            "[LightGBM] [Warning] lambda_l1 is set=0.013334162009237715, reg_alpha=0.0 will be ignored. Current value: lambda_l1=0.013334162009237715\n",
            "[LightGBM] [Warning] bagging_freq is set=5, subsample_freq=0 will be ignored. Current value: bagging_freq=5\n",
            "[LightGBM] [Warning] feature_fraction is set=0.14311981535983265, colsample_bytree=1.0 will be ignored. Current value: feature_fraction=0.14311981535983265\n",
            "[LightGBM] [Warning] bagging_fraction is set=0.04147723964022553, subsample=1.0 will be ignored. Current value: bagging_fraction=0.04147723964022553\n",
            "[LightGBM] [Warning] lambda_l2 is set=0.09619490470371984, reg_lambda=0.0 will be ignored. Current value: lambda_l2=0.09619490470371984\n",
            "[LightGBM] [Warning] lambda_l1 is set=0.013334162009237715, reg_alpha=0.0 will be ignored. Current value: lambda_l1=0.013334162009237715\n",
            "[LightGBM] [Warning] bagging_freq is set=5, subsample_freq=0 will be ignored. Current value: bagging_freq=5\n",
            "[LightGBM] [Warning] feature_fraction is set=0.14311981535983265, colsample_bytree=1.0 will be ignored. Current value: feature_fraction=0.14311981535983265\n",
            "[LightGBM] [Warning] bagging_fraction is set=0.04147723964022553, subsample=1.0 will be ignored. Current value: bagging_fraction=0.04147723964022553\n",
            "[LightGBM] [Warning] lambda_l2 is set=0.09619490470371984, reg_lambda=0.0 will be ignored. Current value: lambda_l2=0.09619490470371984\n",
            "[LightGBM] [Warning] lambda_l1 is set=0.013334162009237715, reg_alpha=0.0 will be ignored. Current value: lambda_l1=0.013334162009237715\n",
            "[LightGBM] [Warning] bagging_freq is set=5, subsample_freq=0 will be ignored. Current value: bagging_freq=5\n",
            "[LightGBM] [Warning] feature_fraction is set=0.14311981535983265, colsample_bytree=1.0 will be ignored. Current value: feature_fraction=0.14311981535983265\n"
          ]
        },
        {
          "output_type": "stream",
          "name": "stderr",
          "text": [
            "\u001b[32m[I 2023-04-19 16:56:56,202]\u001b[0m Trial 6 finished with value: 0.6701986754966887 and parameters: {'bagging_freq': 5, 'num_iterations': 602, 'lambda_l1': 0.013334162009237715, 'lambda_l2': 0.09619490470371984, 'feature_fraction': 0.14311981535983265, 'bagging_fraction': 0.04147723964022553, 'min_child_samples': 3946, 'max_depth': 4, 'learning_rate': 0.07633994102403177}. Best is trial 0 with value: 0.6701986754966887.\u001b[0m\n"
          ]
        },
        {
          "output_type": "stream",
          "name": "stdout",
          "text": [
            "[LightGBM] [Warning] bagging_fraction is set=0.04147723964022553, subsample=1.0 will be ignored. Current value: bagging_fraction=0.04147723964022553\n",
            "[LightGBM] [Warning] lambda_l2 is set=0.09619490470371984, reg_lambda=0.0 will be ignored. Current value: lambda_l2=0.09619490470371984\n",
            "[LightGBM] [Warning] lambda_l1 is set=0.013334162009237715, reg_alpha=0.0 will be ignored. Current value: lambda_l1=0.013334162009237715\n",
            "[LightGBM] [Warning] bagging_freq is set=5, subsample_freq=0 will be ignored. Current value: bagging_freq=5\n",
            "[LightGBM] [Warning] feature_fraction is set=0.14311981535983265, colsample_bytree=1.0 will be ignored. Current value: feature_fraction=0.14311981535983265\n",
            "[LightGBM] [Warning] bagging_fraction is set=0.04147723964022553, subsample=1.0 will be ignored. Current value: bagging_fraction=0.04147723964022553\n",
            "[LightGBM] [Warning] lambda_l2 is set=0.09619490470371984, reg_lambda=0.0 will be ignored. Current value: lambda_l2=0.09619490470371984\n",
            "[LightGBM] [Warning] lambda_l1 is set=0.013334162009237715, reg_alpha=0.0 will be ignored. Current value: lambda_l1=0.013334162009237715\n",
            "[LightGBM] [Warning] bagging_freq is set=5, subsample_freq=0 will be ignored. Current value: bagging_freq=5\n",
            "[LightGBM] [Warning] feature_fraction is set=0.14311981535983265, colsample_bytree=1.0 will be ignored. Current value: feature_fraction=0.14311981535983265\n",
            "[LightGBM] [Warning] bagging_fraction is set=0.40269399133865313, subsample=1.0 will be ignored. Current value: bagging_fraction=0.40269399133865313\n",
            "[LightGBM] [Warning] lambda_l2 is set=0.036359008246779116, reg_lambda=0.0 will be ignored. Current value: lambda_l2=0.036359008246779116\n",
            "[LightGBM] [Warning] lambda_l1 is set=0.0002318067960232598, reg_alpha=0.0 will be ignored. Current value: lambda_l1=0.0002318067960232598\n",
            "[LightGBM] [Warning] bagging_freq is set=7, subsample_freq=0 will be ignored. Current value: bagging_freq=7\n",
            "[LightGBM] [Warning] feature_fraction is set=0.572293965976375, colsample_bytree=1.0 will be ignored. Current value: feature_fraction=0.572293965976375\n",
            "[LightGBM] [Warning] bagging_fraction is set=0.40269399133865313, subsample=1.0 will be ignored. Current value: bagging_fraction=0.40269399133865313\n",
            "[LightGBM] [Warning] lambda_l2 is set=0.036359008246779116, reg_lambda=0.0 will be ignored. Current value: lambda_l2=0.036359008246779116\n",
            "[LightGBM] [Warning] lambda_l1 is set=0.0002318067960232598, reg_alpha=0.0 will be ignored. Current value: lambda_l1=0.0002318067960232598\n",
            "[LightGBM] [Warning] bagging_freq is set=7, subsample_freq=0 will be ignored. Current value: bagging_freq=7\n",
            "[LightGBM] [Warning] feature_fraction is set=0.572293965976375, colsample_bytree=1.0 will be ignored. Current value: feature_fraction=0.572293965976375\n",
            "[LightGBM] [Warning] bagging_fraction is set=0.40269399133865313, subsample=1.0 will be ignored. Current value: bagging_fraction=0.40269399133865313\n",
            "[LightGBM] [Warning] lambda_l2 is set=0.036359008246779116, reg_lambda=0.0 will be ignored. Current value: lambda_l2=0.036359008246779116\n",
            "[LightGBM] [Warning] lambda_l1 is set=0.0002318067960232598, reg_alpha=0.0 will be ignored. Current value: lambda_l1=0.0002318067960232598\n",
            "[LightGBM] [Warning] bagging_freq is set=7, subsample_freq=0 will be ignored. Current value: bagging_freq=7\n",
            "[LightGBM] [Warning] feature_fraction is set=0.572293965976375, colsample_bytree=1.0 will be ignored. Current value: feature_fraction=0.572293965976375\n"
          ]
        },
        {
          "output_type": "stream",
          "name": "stderr",
          "text": [
            "\u001b[32m[I 2023-04-19 16:56:56,459]\u001b[0m Trial 7 finished with value: 0.6701986754966887 and parameters: {'bagging_freq': 7, 'num_iterations': 894, 'lambda_l1': 0.0002318067960232598, 'lambda_l2': 0.036359008246779116, 'feature_fraction': 0.572293965976375, 'bagging_fraction': 0.40269399133865313, 'min_child_samples': 1061, 'max_depth': 5, 'learning_rate': 0.22467698349228304}. Best is trial 0 with value: 0.6701986754966887.\u001b[0m\n"
          ]
        },
        {
          "output_type": "stream",
          "name": "stdout",
          "text": [
            "[LightGBM] [Warning] bagging_fraction is set=0.40269399133865313, subsample=1.0 will be ignored. Current value: bagging_fraction=0.40269399133865313\n",
            "[LightGBM] [Warning] lambda_l2 is set=0.036359008246779116, reg_lambda=0.0 will be ignored. Current value: lambda_l2=0.036359008246779116\n",
            "[LightGBM] [Warning] lambda_l1 is set=0.0002318067960232598, reg_alpha=0.0 will be ignored. Current value: lambda_l1=0.0002318067960232598\n",
            "[LightGBM] [Warning] bagging_freq is set=7, subsample_freq=0 will be ignored. Current value: bagging_freq=7\n",
            "[LightGBM] [Warning] feature_fraction is set=0.572293965976375, colsample_bytree=1.0 will be ignored. Current value: feature_fraction=0.572293965976375\n",
            "[LightGBM] [Warning] bagging_fraction is set=0.40269399133865313, subsample=1.0 will be ignored. Current value: bagging_fraction=0.40269399133865313\n",
            "[LightGBM] [Warning] lambda_l2 is set=0.036359008246779116, reg_lambda=0.0 will be ignored. Current value: lambda_l2=0.036359008246779116\n",
            "[LightGBM] [Warning] lambda_l1 is set=0.0002318067960232598, reg_alpha=0.0 will be ignored. Current value: lambda_l1=0.0002318067960232598\n",
            "[LightGBM] [Warning] bagging_freq is set=7, subsample_freq=0 will be ignored. Current value: bagging_freq=7\n",
            "[LightGBM] [Warning] feature_fraction is set=0.572293965976375, colsample_bytree=1.0 will be ignored. Current value: feature_fraction=0.572293965976375\n",
            "[LightGBM] [Warning] bagging_fraction is set=0.5235467056462209, subsample=1.0 will be ignored. Current value: bagging_fraction=0.5235467056462209\n",
            "[LightGBM] [Warning] lambda_l2 is set=1.8120735784696136e-07, reg_lambda=0.0 will be ignored. Current value: lambda_l2=1.8120735784696136e-07\n",
            "[LightGBM] [Warning] lambda_l1 is set=0.0004061523833093355, reg_alpha=0.0 will be ignored. Current value: lambda_l1=0.0004061523833093355\n",
            "[LightGBM] [Warning] bagging_freq is set=5, subsample_freq=0 will be ignored. Current value: bagging_freq=5\n",
            "[LightGBM] [Warning] feature_fraction is set=0.3720444073893519, colsample_bytree=1.0 will be ignored. Current value: feature_fraction=0.3720444073893519\n",
            "[LightGBM] [Warning] bagging_fraction is set=0.5235467056462209, subsample=1.0 will be ignored. Current value: bagging_fraction=0.5235467056462209\n",
            "[LightGBM] [Warning] lambda_l2 is set=1.8120735784696136e-07, reg_lambda=0.0 will be ignored. Current value: lambda_l2=1.8120735784696136e-07\n",
            "[LightGBM] [Warning] lambda_l1 is set=0.0004061523833093355, reg_alpha=0.0 will be ignored. Current value: lambda_l1=0.0004061523833093355\n",
            "[LightGBM] [Warning] bagging_freq is set=5, subsample_freq=0 will be ignored. Current value: bagging_freq=5\n",
            "[LightGBM] [Warning] feature_fraction is set=0.3720444073893519, colsample_bytree=1.0 will be ignored. Current value: feature_fraction=0.3720444073893519\n"
          ]
        },
        {
          "output_type": "stream",
          "name": "stderr",
          "text": [
            "\u001b[32m[I 2023-04-19 16:56:56,754]\u001b[0m Trial 8 finished with value: 0.6701986754966887 and parameters: {'bagging_freq': 5, 'num_iterations': 1324, 'lambda_l1': 0.0004061523833093355, 'lambda_l2': 1.8120735784696136e-07, 'feature_fraction': 0.3720444073893519, 'bagging_fraction': 0.5235467056462209, 'min_child_samples': 2127, 'max_depth': 8, 'learning_rate': 0.12532619663526065}. Best is trial 0 with value: 0.6701986754966887.\u001b[0m\n"
          ]
        },
        {
          "output_type": "stream",
          "name": "stdout",
          "text": [
            "[LightGBM] [Warning] bagging_fraction is set=0.5235467056462209, subsample=1.0 will be ignored. Current value: bagging_fraction=0.5235467056462209\n",
            "[LightGBM] [Warning] lambda_l2 is set=1.8120735784696136e-07, reg_lambda=0.0 will be ignored. Current value: lambda_l2=1.8120735784696136e-07\n",
            "[LightGBM] [Warning] lambda_l1 is set=0.0004061523833093355, reg_alpha=0.0 will be ignored. Current value: lambda_l1=0.0004061523833093355\n",
            "[LightGBM] [Warning] bagging_freq is set=5, subsample_freq=0 will be ignored. Current value: bagging_freq=5\n",
            "[LightGBM] [Warning] feature_fraction is set=0.3720444073893519, colsample_bytree=1.0 will be ignored. Current value: feature_fraction=0.3720444073893519\n",
            "[LightGBM] [Warning] bagging_fraction is set=0.5235467056462209, subsample=1.0 will be ignored. Current value: bagging_fraction=0.5235467056462209\n",
            "[LightGBM] [Warning] lambda_l2 is set=1.8120735784696136e-07, reg_lambda=0.0 will be ignored. Current value: lambda_l2=1.8120735784696136e-07\n",
            "[LightGBM] [Warning] lambda_l1 is set=0.0004061523833093355, reg_alpha=0.0 will be ignored. Current value: lambda_l1=0.0004061523833093355\n",
            "[LightGBM] [Warning] bagging_freq is set=5, subsample_freq=0 will be ignored. Current value: bagging_freq=5\n",
            "[LightGBM] [Warning] feature_fraction is set=0.3720444073893519, colsample_bytree=1.0 will be ignored. Current value: feature_fraction=0.3720444073893519\n",
            "[LightGBM] [Warning] bagging_fraction is set=0.5235467056462209, subsample=1.0 will be ignored. Current value: bagging_fraction=0.5235467056462209\n",
            "[LightGBM] [Warning] lambda_l2 is set=1.8120735784696136e-07, reg_lambda=0.0 will be ignored. Current value: lambda_l2=1.8120735784696136e-07\n",
            "[LightGBM] [Warning] lambda_l1 is set=0.0004061523833093355, reg_alpha=0.0 will be ignored. Current value: lambda_l1=0.0004061523833093355\n",
            "[LightGBM] [Warning] bagging_freq is set=5, subsample_freq=0 will be ignored. Current value: bagging_freq=5\n",
            "[LightGBM] [Warning] feature_fraction is set=0.3720444073893519, colsample_bytree=1.0 will be ignored. Current value: feature_fraction=0.3720444073893519\n",
            "[LightGBM] [Warning] bagging_fraction is set=0.23047571664430336, subsample=1.0 will be ignored. Current value: bagging_fraction=0.23047571664430336\n",
            "[LightGBM] [Warning] lambda_l2 is set=8.147122362104633e-05, reg_lambda=0.0 will be ignored. Current value: lambda_l2=8.147122362104633e-05\n",
            "[LightGBM] [Warning] lambda_l1 is set=0.0043236904773644265, reg_alpha=0.0 will be ignored. Current value: lambda_l1=0.0043236904773644265\n",
            "[LightGBM] [Warning] bagging_freq is set=9, subsample_freq=0 will be ignored. Current value: bagging_freq=9\n",
            "[LightGBM] [Warning] feature_fraction is set=0.3365714906831639, colsample_bytree=1.0 will be ignored. Current value: feature_fraction=0.3365714906831639\n",
            "[LightGBM] [Warning] bagging_fraction is set=0.23047571664430336, subsample=1.0 will be ignored. Current value: bagging_fraction=0.23047571664430336\n",
            "[LightGBM] [Warning] lambda_l2 is set=8.147122362104633e-05, reg_lambda=0.0 will be ignored. Current value: lambda_l2=8.147122362104633e-05\n",
            "[LightGBM] [Warning] lambda_l1 is set=0.0043236904773644265, reg_alpha=0.0 will be ignored. Current value: lambda_l1=0.0043236904773644265\n",
            "[LightGBM] [Warning] bagging_freq is set=9, subsample_freq=0 will be ignored. Current value: bagging_freq=9\n",
            "[LightGBM] [Warning] feature_fraction is set=0.3365714906831639, colsample_bytree=1.0 will be ignored. Current value: feature_fraction=0.3365714906831639\n",
            "[LightGBM] [Warning] bagging_fraction is set=0.23047571664430336, subsample=1.0 will be ignored. Current value: bagging_fraction=0.23047571664430336\n",
            "[LightGBM] [Warning] lambda_l2 is set=8.147122362104633e-05, reg_lambda=0.0 will be ignored. Current value: lambda_l2=8.147122362104633e-05\n",
            "[LightGBM] [Warning] lambda_l1 is set=0.0043236904773644265, reg_alpha=0.0 will be ignored. Current value: lambda_l1=0.0043236904773644265\n",
            "[LightGBM] [Warning] bagging_freq is set=9, subsample_freq=0 will be ignored. Current value: bagging_freq=9\n",
            "[LightGBM] [Warning] feature_fraction is set=0.3365714906831639, colsample_bytree=1.0 will be ignored. Current value: feature_fraction=0.3365714906831639\n",
            "[LightGBM] [Warning] bagging_fraction is set=0.23047571664430336, subsample=1.0 will be ignored. Current value: bagging_fraction=0.23047571664430336\n",
            "[LightGBM] [Warning] lambda_l2 is set=8.147122362104633e-05, reg_lambda=0.0 will be ignored. Current value: lambda_l2=8.147122362104633e-05\n",
            "[LightGBM] [Warning] lambda_l1 is set=0.0043236904773644265, reg_alpha=0.0 will be ignored. Current value: lambda_l1=0.0043236904773644265\n",
            "[LightGBM] [Warning] bagging_freq is set=9, subsample_freq=0 will be ignored. Current value: bagging_freq=9\n",
            "[LightGBM] [Warning] feature_fraction is set=0.3365714906831639, colsample_bytree=1.0 will be ignored. Current value: feature_fraction=0.3365714906831639\n"
          ]
        },
        {
          "output_type": "stream",
          "name": "stderr",
          "text": [
            "\u001b[32m[I 2023-04-19 16:57:00,057]\u001b[0m Trial 9 finished with value: 0.6701986754966887 and parameters: {'bagging_freq': 9, 'num_iterations': 1583, 'lambda_l1': 0.0043236904773644265, 'lambda_l2': 8.147122362104633e-05, 'feature_fraction': 0.3365714906831639, 'bagging_fraction': 0.23047571664430336, 'min_child_samples': 1372, 'max_depth': 4, 'learning_rate': 0.03361600284518572}. Best is trial 0 with value: 0.6701986754966887.\u001b[0m\n"
          ]
        },
        {
          "output_type": "stream",
          "name": "stdout",
          "text": [
            "[LightGBM] [Warning] bagging_fraction is set=0.23047571664430336, subsample=1.0 will be ignored. Current value: bagging_fraction=0.23047571664430336\n",
            "[LightGBM] [Warning] lambda_l2 is set=8.147122362104633e-05, reg_lambda=0.0 will be ignored. Current value: lambda_l2=8.147122362104633e-05\n",
            "[LightGBM] [Warning] lambda_l1 is set=0.0043236904773644265, reg_alpha=0.0 will be ignored. Current value: lambda_l1=0.0043236904773644265\n",
            "[LightGBM] [Warning] bagging_freq is set=9, subsample_freq=0 will be ignored. Current value: bagging_freq=9\n",
            "[LightGBM] [Warning] feature_fraction is set=0.3365714906831639, colsample_bytree=1.0 will be ignored. Current value: feature_fraction=0.3365714906831639\n",
            "[LightGBM] [Warning] bagging_fraction is set=0.9542590558800994, subsample=1.0 will be ignored. Current value: bagging_fraction=0.9542590558800994\n",
            "[LightGBM] [Warning] lambda_l2 is set=0.025165873782758797, reg_lambda=0.0 will be ignored. Current value: lambda_l2=0.025165873782758797\n",
            "[LightGBM] [Warning] lambda_l1 is set=6.618559951836496e-06, reg_alpha=0.0 will be ignored. Current value: lambda_l1=6.618559951836496e-06\n",
            "[LightGBM] [Warning] bagging_freq is set=1, subsample_freq=0 will be ignored. Current value: bagging_freq=1\n",
            "[LightGBM] [Warning] feature_fraction is set=0.9554655109256862, colsample_bytree=1.0 will be ignored. Current value: feature_fraction=0.9554655109256862\n",
            "[LightGBM] [Warning] bagging_fraction is set=0.9542590558800994, subsample=1.0 will be ignored. Current value: bagging_fraction=0.9542590558800994\n",
            "[LightGBM] [Warning] lambda_l2 is set=0.025165873782758797, reg_lambda=0.0 will be ignored. Current value: lambda_l2=0.025165873782758797\n",
            "[LightGBM] [Warning] lambda_l1 is set=6.618559951836496e-06, reg_alpha=0.0 will be ignored. Current value: lambda_l1=6.618559951836496e-06\n",
            "[LightGBM] [Warning] bagging_freq is set=1, subsample_freq=0 will be ignored. Current value: bagging_freq=1\n",
            "[LightGBM] [Warning] feature_fraction is set=0.9554655109256862, colsample_bytree=1.0 will be ignored. Current value: feature_fraction=0.9554655109256862\n",
            "[LightGBM] [Warning] bagging_fraction is set=0.9542590558800994, subsample=1.0 will be ignored. Current value: bagging_fraction=0.9542590558800994\n",
            "[LightGBM] [Warning] lambda_l2 is set=0.025165873782758797, reg_lambda=0.0 will be ignored. Current value: lambda_l2=0.025165873782758797\n",
            "[LightGBM] [Warning] lambda_l1 is set=6.618559951836496e-06, reg_alpha=0.0 will be ignored. Current value: lambda_l1=6.618559951836496e-06\n",
            "[LightGBM] [Warning] bagging_freq is set=1, subsample_freq=0 will be ignored. Current value: bagging_freq=1\n",
            "[LightGBM] [Warning] feature_fraction is set=0.9554655109256862, colsample_bytree=1.0 will be ignored. Current value: feature_fraction=0.9554655109256862\n",
            "[LightGBM] [Warning] bagging_fraction is set=0.9542590558800994, subsample=1.0 will be ignored. Current value: bagging_fraction=0.9542590558800994\n",
            "[LightGBM] [Warning] lambda_l2 is set=0.025165873782758797, reg_lambda=0.0 will be ignored. Current value: lambda_l2=0.025165873782758797\n",
            "[LightGBM] [Warning] lambda_l1 is set=6.618559951836496e-06, reg_alpha=0.0 will be ignored. Current value: lambda_l1=6.618559951836496e-06\n",
            "[LightGBM] [Warning] bagging_freq is set=1, subsample_freq=0 will be ignored. Current value: bagging_freq=1\n",
            "[LightGBM] [Warning] feature_fraction is set=0.9554655109256862, colsample_bytree=1.0 will be ignored. Current value: feature_fraction=0.9554655109256862\n"
          ]
        },
        {
          "output_type": "stream",
          "name": "stderr",
          "text": [
            "\u001b[32m[I 2023-04-19 16:57:00,494]\u001b[0m Trial 10 finished with value: 0.6701986754966887 and parameters: {'bagging_freq': 1, 'num_iterations': 2402, 'lambda_l1': 6.618559951836496e-06, 'lambda_l2': 0.025165873782758797, 'feature_fraction': 0.9554655109256862, 'bagging_fraction': 0.9542590558800994, 'min_child_samples': 3307, 'max_depth': 7, 'learning_rate': 0.14802985468289503}. Best is trial 0 with value: 0.6701986754966887.\u001b[0m\n"
          ]
        },
        {
          "output_type": "stream",
          "name": "stdout",
          "text": [
            "[LightGBM] [Warning] bagging_fraction is set=0.9542590558800994, subsample=1.0 will be ignored. Current value: bagging_fraction=0.9542590558800994\n",
            "[LightGBM] [Warning] lambda_l2 is set=0.025165873782758797, reg_lambda=0.0 will be ignored. Current value: lambda_l2=0.025165873782758797\n",
            "[LightGBM] [Warning] lambda_l1 is set=6.618559951836496e-06, reg_alpha=0.0 will be ignored. Current value: lambda_l1=6.618559951836496e-06\n",
            "[LightGBM] [Warning] bagging_freq is set=1, subsample_freq=0 will be ignored. Current value: bagging_freq=1\n",
            "[LightGBM] [Warning] feature_fraction is set=0.9554655109256862, colsample_bytree=1.0 will be ignored. Current value: feature_fraction=0.9554655109256862\n",
            "[LightGBM] [Warning] bagging_fraction is set=0.9425107977631164, subsample=1.0 will be ignored. Current value: bagging_fraction=0.9425107977631164\n",
            "[LightGBM] [Warning] lambda_l2 is set=6.254716655928693, reg_lambda=0.0 will be ignored. Current value: lambda_l2=6.254716655928693\n",
            "[LightGBM] [Warning] lambda_l1 is set=6.5817340748156905, reg_alpha=0.0 will be ignored. Current value: lambda_l1=6.5817340748156905\n",
            "[LightGBM] [Warning] bagging_freq is set=3, subsample_freq=0 will be ignored. Current value: bagging_freq=3\n",
            "[LightGBM] [Warning] feature_fraction is set=0.7421583301634158, colsample_bytree=1.0 will be ignored. Current value: feature_fraction=0.7421583301634158\n",
            "[LightGBM] [Warning] bagging_fraction is set=0.9425107977631164, subsample=1.0 will be ignored. Current value: bagging_fraction=0.9425107977631164\n",
            "[LightGBM] [Warning] lambda_l2 is set=6.254716655928693, reg_lambda=0.0 will be ignored. Current value: lambda_l2=6.254716655928693\n",
            "[LightGBM] [Warning] lambda_l1 is set=6.5817340748156905, reg_alpha=0.0 will be ignored. Current value: lambda_l1=6.5817340748156905\n",
            "[LightGBM] [Warning] bagging_freq is set=3, subsample_freq=0 will be ignored. Current value: bagging_freq=3\n",
            "[LightGBM] [Warning] feature_fraction is set=0.7421583301634158, colsample_bytree=1.0 will be ignored. Current value: feature_fraction=0.7421583301634158\n",
            "[LightGBM] [Warning] bagging_fraction is set=0.9425107977631164, subsample=1.0 will be ignored. Current value: bagging_fraction=0.9425107977631164\n",
            "[LightGBM] [Warning] lambda_l2 is set=6.254716655928693, reg_lambda=0.0 will be ignored. Current value: lambda_l2=6.254716655928693\n",
            "[LightGBM] [Warning] lambda_l1 is set=6.5817340748156905, reg_alpha=0.0 will be ignored. Current value: lambda_l1=6.5817340748156905\n",
            "[LightGBM] [Warning] bagging_freq is set=3, subsample_freq=0 will be ignored. Current value: bagging_freq=3\n",
            "[LightGBM] [Warning] feature_fraction is set=0.7421583301634158, colsample_bytree=1.0 will be ignored. Current value: feature_fraction=0.7421583301634158\n",
            "[LightGBM] [Warning] bagging_fraction is set=0.9425107977631164, subsample=1.0 will be ignored. Current value: bagging_fraction=0.9425107977631164\n",
            "[LightGBM] [Warning] lambda_l2 is set=6.254716655928693, reg_lambda=0.0 will be ignored. Current value: lambda_l2=6.254716655928693\n",
            "[LightGBM] [Warning] lambda_l1 is set=6.5817340748156905, reg_alpha=0.0 will be ignored. Current value: lambda_l1=6.5817340748156905\n",
            "[LightGBM] [Warning] bagging_freq is set=3, subsample_freq=0 will be ignored. Current value: bagging_freq=3\n",
            "[LightGBM] [Warning] feature_fraction is set=0.7421583301634158, colsample_bytree=1.0 will be ignored. Current value: feature_fraction=0.7421583301634158\n"
          ]
        },
        {
          "output_type": "stream",
          "name": "stderr",
          "text": [
            "\u001b[32m[I 2023-04-19 16:57:00,907]\u001b[0m Trial 11 finished with value: 0.6701986754966887 and parameters: {'bagging_freq': 3, 'num_iterations': 2061, 'lambda_l1': 6.5817340748156905, 'lambda_l2': 6.254716655928693, 'feature_fraction': 0.7421583301634158, 'bagging_fraction': 0.9425107977631164, 'min_child_samples': 4811, 'max_depth': 3, 'learning_rate': 0.19347787654605472}. Best is trial 0 with value: 0.6701986754966887.\u001b[0m\n"
          ]
        },
        {
          "output_type": "stream",
          "name": "stdout",
          "text": [
            "[LightGBM] [Warning] bagging_fraction is set=0.9425107977631164, subsample=1.0 will be ignored. Current value: bagging_fraction=0.9425107977631164\n",
            "[LightGBM] [Warning] lambda_l2 is set=6.254716655928693, reg_lambda=0.0 will be ignored. Current value: lambda_l2=6.254716655928693\n",
            "[LightGBM] [Warning] lambda_l1 is set=6.5817340748156905, reg_alpha=0.0 will be ignored. Current value: lambda_l1=6.5817340748156905\n",
            "[LightGBM] [Warning] bagging_freq is set=3, subsample_freq=0 will be ignored. Current value: bagging_freq=3\n",
            "[LightGBM] [Warning] feature_fraction is set=0.7421583301634158, colsample_bytree=1.0 will be ignored. Current value: feature_fraction=0.7421583301634158\n",
            "[LightGBM] [Warning] bagging_fraction is set=0.7524726312767998, subsample=1.0 will be ignored. Current value: bagging_fraction=0.7524726312767998\n",
            "[LightGBM] [Warning] lambda_l2 is set=6.7531154614111975, reg_lambda=0.0 will be ignored. Current value: lambda_l2=6.7531154614111975\n",
            "[LightGBM] [Warning] lambda_l1 is set=0.07258808673005572, reg_alpha=0.0 will be ignored. Current value: lambda_l1=0.07258808673005572\n",
            "[LightGBM] [Warning] bagging_freq is set=3, subsample_freq=0 will be ignored. Current value: bagging_freq=3\n",
            "[LightGBM] [Warning] feature_fraction is set=0.7532577885681317, colsample_bytree=1.0 will be ignored. Current value: feature_fraction=0.7532577885681317\n",
            "[LightGBM] [Warning] bagging_fraction is set=0.7524726312767998, subsample=1.0 will be ignored. Current value: bagging_fraction=0.7524726312767998\n",
            "[LightGBM] [Warning] lambda_l2 is set=6.7531154614111975, reg_lambda=0.0 will be ignored. Current value: lambda_l2=6.7531154614111975\n",
            "[LightGBM] [Warning] lambda_l1 is set=0.07258808673005572, reg_alpha=0.0 will be ignored. Current value: lambda_l1=0.07258808673005572\n",
            "[LightGBM] [Warning] bagging_freq is set=3, subsample_freq=0 will be ignored. Current value: bagging_freq=3\n",
            "[LightGBM] [Warning] feature_fraction is set=0.7532577885681317, colsample_bytree=1.0 will be ignored. Current value: feature_fraction=0.7532577885681317\n",
            "[LightGBM] [Warning] bagging_fraction is set=0.7524726312767998, subsample=1.0 will be ignored. Current value: bagging_fraction=0.7524726312767998\n",
            "[LightGBM] [Warning] lambda_l2 is set=6.7531154614111975, reg_lambda=0.0 will be ignored. Current value: lambda_l2=6.7531154614111975\n",
            "[LightGBM] [Warning] lambda_l1 is set=0.07258808673005572, reg_alpha=0.0 will be ignored. Current value: lambda_l1=0.07258808673005572\n",
            "[LightGBM] [Warning] bagging_freq is set=3, subsample_freq=0 will be ignored. Current value: bagging_freq=3\n",
            "[LightGBM] [Warning] feature_fraction is set=0.7532577885681317, colsample_bytree=1.0 will be ignored. Current value: feature_fraction=0.7532577885681317\n",
            "[LightGBM] [Warning] bagging_fraction is set=0.7524726312767998, subsample=1.0 will be ignored. Current value: bagging_fraction=0.7524726312767998\n",
            "[LightGBM] [Warning] lambda_l2 is set=6.7531154614111975, reg_lambda=0.0 will be ignored. Current value: lambda_l2=6.7531154614111975\n",
            "[LightGBM] [Warning] lambda_l1 is set=0.07258808673005572, reg_alpha=0.0 will be ignored. Current value: lambda_l1=0.07258808673005572\n",
            "[LightGBM] [Warning] bagging_freq is set=3, subsample_freq=0 will be ignored. Current value: bagging_freq=3\n",
            "[LightGBM] [Warning] feature_fraction is set=0.7532577885681317, colsample_bytree=1.0 will be ignored. Current value: feature_fraction=0.7532577885681317\n",
            "[LightGBM] [Warning] bagging_fraction is set=0.7524726312767998, subsample=1.0 will be ignored. Current value: bagging_fraction=0.7524726312767998\n",
            "[LightGBM] [Warning] lambda_l2 is set=6.7531154614111975, reg_lambda=0.0 will be ignored. Current value: lambda_l2=6.7531154614111975\n",
            "[LightGBM] [Warning] lambda_l1 is set=0.07258808673005572, reg_alpha=0.0 will be ignored. Current value: lambda_l1=0.07258808673005572\n",
            "[LightGBM] [Warning] bagging_freq is set=3, subsample_freq=0 will be ignored. Current value: bagging_freq=3\n",
            "[LightGBM] [Warning] feature_fraction is set=0.7532577885681317, colsample_bytree=1.0 will be ignored. Current value: feature_fraction=0.7532577885681317\n"
          ]
        },
        {
          "output_type": "stream",
          "name": "stderr",
          "text": [
            "\u001b[32m[I 2023-04-19 16:57:01,315]\u001b[0m Trial 12 finished with value: 0.6701986754966887 and parameters: {'bagging_freq': 3, 'num_iterations': 1888, 'lambda_l1': 0.07258808673005572, 'lambda_l2': 6.7531154614111975, 'feature_fraction': 0.7532577885681317, 'bagging_fraction': 0.7524726312767998, 'min_child_samples': 4969, 'max_depth': 5, 'learning_rate': 0.2054367105326276}. Best is trial 0 with value: 0.6701986754966887.\u001b[0m\n",
            "\u001b[32m[I 2023-04-19 16:57:01,437]\u001b[0m Trial 13 finished with value: 0.6701986754966887 and parameters: {'bagging_freq': 4, 'num_iterations': 65, 'lambda_l1': 2.780558981953299e-05, 'lambda_l2': 0.2552450282652852, 'feature_fraction': 0.6423740054656457, 'bagging_fraction': 0.5025967729992524, 'min_child_samples': 3081, 'max_depth': 3, 'learning_rate': 0.12272941093487036}. Best is trial 0 with value: 0.6701986754966887.\u001b[0m\n"
          ]
        },
        {
          "output_type": "stream",
          "name": "stdout",
          "text": [
            "[LightGBM] [Warning] bagging_fraction is set=0.5025967729992524, subsample=1.0 will be ignored. Current value: bagging_fraction=0.5025967729992524\n",
            "[LightGBM] [Warning] lambda_l2 is set=0.2552450282652852, reg_lambda=0.0 will be ignored. Current value: lambda_l2=0.2552450282652852\n",
            "[LightGBM] [Warning] lambda_l1 is set=2.780558981953299e-05, reg_alpha=0.0 will be ignored. Current value: lambda_l1=2.780558981953299e-05\n",
            "[LightGBM] [Warning] bagging_freq is set=4, subsample_freq=0 will be ignored. Current value: bagging_freq=4\n",
            "[LightGBM] [Warning] feature_fraction is set=0.6423740054656457, colsample_bytree=1.0 will be ignored. Current value: feature_fraction=0.6423740054656457\n",
            "[LightGBM] [Warning] bagging_fraction is set=0.5025967729992524, subsample=1.0 will be ignored. Current value: bagging_fraction=0.5025967729992524\n",
            "[LightGBM] [Warning] lambda_l2 is set=0.2552450282652852, reg_lambda=0.0 will be ignored. Current value: lambda_l2=0.2552450282652852\n",
            "[LightGBM] [Warning] lambda_l1 is set=2.780558981953299e-05, reg_alpha=0.0 will be ignored. Current value: lambda_l1=2.780558981953299e-05\n",
            "[LightGBM] [Warning] bagging_freq is set=4, subsample_freq=0 will be ignored. Current value: bagging_freq=4\n",
            "[LightGBM] [Warning] feature_fraction is set=0.6423740054656457, colsample_bytree=1.0 will be ignored. Current value: feature_fraction=0.6423740054656457\n",
            "[LightGBM] [Warning] bagging_fraction is set=0.5025967729992524, subsample=1.0 will be ignored. Current value: bagging_fraction=0.5025967729992524\n",
            "[LightGBM] [Warning] lambda_l2 is set=0.2552450282652852, reg_lambda=0.0 will be ignored. Current value: lambda_l2=0.2552450282652852\n",
            "[LightGBM] [Warning] lambda_l1 is set=2.780558981953299e-05, reg_alpha=0.0 will be ignored. Current value: lambda_l1=2.780558981953299e-05\n",
            "[LightGBM] [Warning] bagging_freq is set=4, subsample_freq=0 will be ignored. Current value: bagging_freq=4\n",
            "[LightGBM] [Warning] feature_fraction is set=0.6423740054656457, colsample_bytree=1.0 will be ignored. Current value: feature_fraction=0.6423740054656457\n",
            "[LightGBM] [Warning] bagging_fraction is set=0.5025967729992524, subsample=1.0 will be ignored. Current value: bagging_fraction=0.5025967729992524\n",
            "[LightGBM] [Warning] lambda_l2 is set=0.2552450282652852, reg_lambda=0.0 will be ignored. Current value: lambda_l2=0.2552450282652852\n",
            "[LightGBM] [Warning] lambda_l1 is set=2.780558981953299e-05, reg_alpha=0.0 will be ignored. Current value: lambda_l1=2.780558981953299e-05\n",
            "[LightGBM] [Warning] bagging_freq is set=4, subsample_freq=0 will be ignored. Current value: bagging_freq=4\n",
            "[LightGBM] [Warning] feature_fraction is set=0.6423740054656457, colsample_bytree=1.0 will be ignored. Current value: feature_fraction=0.6423740054656457\n",
            "[LightGBM] [Warning] bagging_fraction is set=0.5025967729992524, subsample=1.0 will be ignored. Current value: bagging_fraction=0.5025967729992524\n",
            "[LightGBM] [Warning] lambda_l2 is set=0.2552450282652852, reg_lambda=0.0 will be ignored. Current value: lambda_l2=0.2552450282652852\n",
            "[LightGBM] [Warning] lambda_l1 is set=2.780558981953299e-05, reg_alpha=0.0 will be ignored. Current value: lambda_l1=2.780558981953299e-05\n",
            "[LightGBM] [Warning] bagging_freq is set=4, subsample_freq=0 will be ignored. Current value: bagging_freq=4\n",
            "[LightGBM] [Warning] feature_fraction is set=0.6423740054656457, colsample_bytree=1.0 will be ignored. Current value: feature_fraction=0.6423740054656457\n",
            "[LightGBM] [Warning] bagging_fraction is set=0.8307826397246035, subsample=1.0 will be ignored. Current value: bagging_fraction=0.8307826397246035\n",
            "[LightGBM] [Warning] lambda_l2 is set=0.0020897617769798757, reg_lambda=0.0 will be ignored. Current value: lambda_l2=0.0020897617769798757\n",
            "[LightGBM] [Warning] lambda_l1 is set=0.3932317850313308, reg_alpha=0.0 will be ignored. Current value: lambda_l1=0.3932317850313308\n",
            "[LightGBM] [Warning] bagging_freq is set=6, subsample_freq=0 will be ignored. Current value: bagging_freq=6\n",
            "[LightGBM] [Warning] feature_fraction is set=0.974265590171429, colsample_bytree=1.0 will be ignored. Current value: feature_fraction=0.974265590171429\n",
            "[LightGBM] [Warning] bagging_fraction is set=0.8307826397246035, subsample=1.0 will be ignored. Current value: bagging_fraction=0.8307826397246035\n",
            "[LightGBM] [Warning] lambda_l2 is set=0.0020897617769798757, reg_lambda=0.0 will be ignored. Current value: lambda_l2=0.0020897617769798757\n",
            "[LightGBM] [Warning] lambda_l1 is set=0.3932317850313308, reg_alpha=0.0 will be ignored. Current value: lambda_l1=0.3932317850313308\n",
            "[LightGBM] [Warning] bagging_freq is set=6, subsample_freq=0 will be ignored. Current value: bagging_freq=6\n",
            "[LightGBM] [Warning] feature_fraction is set=0.974265590171429, colsample_bytree=1.0 will be ignored. Current value: feature_fraction=0.974265590171429\n"
          ]
        },
        {
          "output_type": "stream",
          "name": "stderr",
          "text": [
            "\u001b[32m[I 2023-04-19 16:57:01,706]\u001b[0m Trial 14 finished with value: 0.6701986754966887 and parameters: {'bagging_freq': 6, 'num_iterations': 867, 'lambda_l1': 0.3932317850313308, 'lambda_l2': 0.0020897617769798757, 'feature_fraction': 0.974265590171429, 'bagging_fraction': 0.8307826397246035, 'min_child_samples': 4089, 'max_depth': 7, 'learning_rate': 0.2997729484580199}. Best is trial 0 with value: 0.6701986754966887.\u001b[0m\n"
          ]
        },
        {
          "output_type": "stream",
          "name": "stdout",
          "text": [
            "[LightGBM] [Warning] bagging_fraction is set=0.8307826397246035, subsample=1.0 will be ignored. Current value: bagging_fraction=0.8307826397246035\n",
            "[LightGBM] [Warning] lambda_l2 is set=0.0020897617769798757, reg_lambda=0.0 will be ignored. Current value: lambda_l2=0.0020897617769798757\n",
            "[LightGBM] [Warning] lambda_l1 is set=0.3932317850313308, reg_alpha=0.0 will be ignored. Current value: lambda_l1=0.3932317850313308\n",
            "[LightGBM] [Warning] bagging_freq is set=6, subsample_freq=0 will be ignored. Current value: bagging_freq=6\n",
            "[LightGBM] [Warning] feature_fraction is set=0.974265590171429, colsample_bytree=1.0 will be ignored. Current value: feature_fraction=0.974265590171429\n",
            "[LightGBM] [Warning] bagging_fraction is set=0.8307826397246035, subsample=1.0 will be ignored. Current value: bagging_fraction=0.8307826397246035\n",
            "[LightGBM] [Warning] lambda_l2 is set=0.0020897617769798757, reg_lambda=0.0 will be ignored. Current value: lambda_l2=0.0020897617769798757\n",
            "[LightGBM] [Warning] lambda_l1 is set=0.3932317850313308, reg_alpha=0.0 will be ignored. Current value: lambda_l1=0.3932317850313308\n",
            "[LightGBM] [Warning] bagging_freq is set=6, subsample_freq=0 will be ignored. Current value: bagging_freq=6\n",
            "[LightGBM] [Warning] feature_fraction is set=0.974265590171429, colsample_bytree=1.0 will be ignored. Current value: feature_fraction=0.974265590171429\n",
            "[LightGBM] [Warning] bagging_fraction is set=0.8307826397246035, subsample=1.0 will be ignored. Current value: bagging_fraction=0.8307826397246035\n",
            "[LightGBM] [Warning] lambda_l2 is set=0.0020897617769798757, reg_lambda=0.0 will be ignored. Current value: lambda_l2=0.0020897617769798757\n",
            "[LightGBM] [Warning] lambda_l1 is set=0.3932317850313308, reg_alpha=0.0 will be ignored. Current value: lambda_l1=0.3932317850313308\n",
            "[LightGBM] [Warning] bagging_freq is set=6, subsample_freq=0 will be ignored. Current value: bagging_freq=6\n",
            "[LightGBM] [Warning] feature_fraction is set=0.974265590171429, colsample_bytree=1.0 will be ignored. Current value: feature_fraction=0.974265590171429\n",
            "[LightGBM] [Warning] bagging_fraction is set=0.6677558053445402, subsample=1.0 will be ignored. Current value: bagging_fraction=0.6677558053445402\n",
            "[LightGBM] [Warning] lambda_l2 is set=0.6951550477195356, reg_lambda=0.0 will be ignored. Current value: lambda_l2=0.6951550477195356\n",
            "[LightGBM] [Warning] lambda_l1 is set=0.0027240138981020415, reg_alpha=0.0 will be ignored. Current value: lambda_l1=0.0027240138981020415\n",
            "[LightGBM] [Warning] bagging_freq is set=3, subsample_freq=0 will be ignored. Current value: bagging_freq=3\n",
            "[LightGBM] [Warning] feature_fraction is set=0.8436970653143018, colsample_bytree=1.0 will be ignored. Current value: feature_fraction=0.8436970653143018\n",
            "[LightGBM] [Warning] bagging_fraction is set=0.6677558053445402, subsample=1.0 will be ignored. Current value: bagging_fraction=0.6677558053445402\n",
            "[LightGBM] [Warning] lambda_l2 is set=0.6951550477195356, reg_lambda=0.0 will be ignored. Current value: lambda_l2=0.6951550477195356\n",
            "[LightGBM] [Warning] lambda_l1 is set=0.0027240138981020415, reg_alpha=0.0 will be ignored. Current value: lambda_l1=0.0027240138981020415\n",
            "[LightGBM] [Warning] bagging_freq is set=3, subsample_freq=0 will be ignored. Current value: bagging_freq=3\n",
            "[LightGBM] [Warning] feature_fraction is set=0.8436970653143018, colsample_bytree=1.0 will be ignored. Current value: feature_fraction=0.8436970653143018\n",
            "[LightGBM] [Warning] bagging_fraction is set=0.6677558053445402, subsample=1.0 will be ignored. Current value: bagging_fraction=0.6677558053445402\n",
            "[LightGBM] [Warning] lambda_l2 is set=0.6951550477195356, reg_lambda=0.0 will be ignored. Current value: lambda_l2=0.6951550477195356\n",
            "[LightGBM] [Warning] lambda_l1 is set=0.0027240138981020415, reg_alpha=0.0 will be ignored. Current value: lambda_l1=0.0027240138981020415\n",
            "[LightGBM] [Warning] bagging_freq is set=3, subsample_freq=0 will be ignored. Current value: bagging_freq=3\n",
            "[LightGBM] [Warning] feature_fraction is set=0.8436970653143018, colsample_bytree=1.0 will be ignored. Current value: feature_fraction=0.8436970653143018\n",
            "[LightGBM] [Warning] bagging_fraction is set=0.6677558053445402, subsample=1.0 will be ignored. Current value: bagging_fraction=0.6677558053445402\n",
            "[LightGBM] [Warning] lambda_l2 is set=0.6951550477195356, reg_lambda=0.0 will be ignored. Current value: lambda_l2=0.6951550477195356\n",
            "[LightGBM] [Warning] lambda_l1 is set=0.0027240138981020415, reg_alpha=0.0 will be ignored. Current value: lambda_l1=0.0027240138981020415\n",
            "[LightGBM] [Warning] bagging_freq is set=3, subsample_freq=0 will be ignored. Current value: bagging_freq=3\n",
            "[LightGBM] [Warning] feature_fraction is set=0.8436970653143018, colsample_bytree=1.0 will be ignored. Current value: feature_fraction=0.8436970653143018\n"
          ]
        },
        {
          "output_type": "stream",
          "name": "stderr",
          "text": [
            "\u001b[32m[I 2023-04-19 16:57:02,200]\u001b[0m Trial 15 finished with value: 0.6701986754966887 and parameters: {'bagging_freq': 3, 'num_iterations': 1856, 'lambda_l1': 0.0027240138981020415, 'lambda_l2': 0.6951550477195356, 'feature_fraction': 0.8436970653143018, 'bagging_fraction': 0.6677558053445402, 'min_child_samples': 2835, 'max_depth': 7, 'learning_rate': 0.2543803519025406}. Best is trial 0 with value: 0.6701986754966887.\u001b[0m\n"
          ]
        },
        {
          "output_type": "stream",
          "name": "stdout",
          "text": [
            "[LightGBM] [Warning] bagging_fraction is set=0.6677558053445402, subsample=1.0 will be ignored. Current value: bagging_fraction=0.6677558053445402\n",
            "[LightGBM] [Warning] lambda_l2 is set=0.6951550477195356, reg_lambda=0.0 will be ignored. Current value: lambda_l2=0.6951550477195356\n",
            "[LightGBM] [Warning] lambda_l1 is set=0.0027240138981020415, reg_alpha=0.0 will be ignored. Current value: lambda_l1=0.0027240138981020415\n",
            "[LightGBM] [Warning] bagging_freq is set=3, subsample_freq=0 will be ignored. Current value: bagging_freq=3\n",
            "[LightGBM] [Warning] feature_fraction is set=0.8436970653143018, colsample_bytree=1.0 will be ignored. Current value: feature_fraction=0.8436970653143018\n",
            "[LightGBM] [Warning] bagging_fraction is set=0.5484773228561526, subsample=1.0 will be ignored. Current value: bagging_fraction=0.5484773228561526\n",
            "[LightGBM] [Warning] lambda_l2 is set=0.5421058803191077, reg_lambda=0.0 will be ignored. Current value: lambda_l2=0.5421058803191077\n",
            "[LightGBM] [Warning] lambda_l1 is set=1.4796701425887952e-06, reg_alpha=0.0 will be ignored. Current value: lambda_l1=1.4796701425887952e-06\n",
            "[LightGBM] [Warning] bagging_freq is set=1, subsample_freq=0 will be ignored. Current value: bagging_freq=1\n",
            "[LightGBM] [Warning] feature_fraction is set=0.6293237849747015, colsample_bytree=1.0 will be ignored. Current value: feature_fraction=0.6293237849747015\n",
            "[LightGBM] [Warning] bagging_fraction is set=0.5484773228561526, subsample=1.0 will be ignored. Current value: bagging_fraction=0.5484773228561526\n",
            "[LightGBM] [Warning] lambda_l2 is set=0.5421058803191077, reg_lambda=0.0 will be ignored. Current value: lambda_l2=0.5421058803191077\n",
            "[LightGBM] [Warning] lambda_l1 is set=1.4796701425887952e-06, reg_alpha=0.0 will be ignored. Current value: lambda_l1=1.4796701425887952e-06\n",
            "[LightGBM] [Warning] bagging_freq is set=1, subsample_freq=0 will be ignored. Current value: bagging_freq=1\n",
            "[LightGBM] [Warning] feature_fraction is set=0.6293237849747015, colsample_bytree=1.0 will be ignored. Current value: feature_fraction=0.6293237849747015\n",
            "[LightGBM] [Warning] bagging_fraction is set=0.5484773228561526, subsample=1.0 will be ignored. Current value: bagging_fraction=0.5484773228561526\n",
            "[LightGBM] [Warning] lambda_l2 is set=0.5421058803191077, reg_lambda=0.0 will be ignored. Current value: lambda_l2=0.5421058803191077\n",
            "[LightGBM] [Warning] lambda_l1 is set=1.4796701425887952e-06, reg_alpha=0.0 will be ignored. Current value: lambda_l1=1.4796701425887952e-06\n",
            "[LightGBM] [Warning] bagging_freq is set=1, subsample_freq=0 will be ignored. Current value: bagging_freq=1\n",
            "[LightGBM] [Warning] feature_fraction is set=0.6293237849747015, colsample_bytree=1.0 will be ignored. Current value: feature_fraction=0.6293237849747015\n"
          ]
        },
        {
          "output_type": "stream",
          "name": "stderr",
          "text": [
            "\u001b[32m[I 2023-04-19 16:57:02,377]\u001b[0m Trial 16 finished with value: 0.6701986754966887 and parameters: {'bagging_freq': 1, 'num_iterations': 398, 'lambda_l1': 1.4796701425887952e-06, 'lambda_l2': 0.5421058803191077, 'feature_fraction': 0.6293237849747015, 'bagging_fraction': 0.5484773228561526, 'min_child_samples': 3722, 'max_depth': 5, 'learning_rate': 0.18880563446823567}. Best is trial 0 with value: 0.6701986754966887.\u001b[0m\n"
          ]
        },
        {
          "output_type": "stream",
          "name": "stdout",
          "text": [
            "[LightGBM] [Warning] bagging_fraction is set=0.5484773228561526, subsample=1.0 will be ignored. Current value: bagging_fraction=0.5484773228561526\n",
            "[LightGBM] [Warning] lambda_l2 is set=0.5421058803191077, reg_lambda=0.0 will be ignored. Current value: lambda_l2=0.5421058803191077\n",
            "[LightGBM] [Warning] lambda_l1 is set=1.4796701425887952e-06, reg_alpha=0.0 will be ignored. Current value: lambda_l1=1.4796701425887952e-06\n",
            "[LightGBM] [Warning] bagging_freq is set=1, subsample_freq=0 will be ignored. Current value: bagging_freq=1\n",
            "[LightGBM] [Warning] feature_fraction is set=0.6293237849747015, colsample_bytree=1.0 will be ignored. Current value: feature_fraction=0.6293237849747015\n",
            "[LightGBM] [Warning] bagging_fraction is set=0.5484773228561526, subsample=1.0 will be ignored. Current value: bagging_fraction=0.5484773228561526\n",
            "[LightGBM] [Warning] lambda_l2 is set=0.5421058803191077, reg_lambda=0.0 will be ignored. Current value: lambda_l2=0.5421058803191077\n",
            "[LightGBM] [Warning] lambda_l1 is set=1.4796701425887952e-06, reg_alpha=0.0 will be ignored. Current value: lambda_l1=1.4796701425887952e-06\n",
            "[LightGBM] [Warning] bagging_freq is set=1, subsample_freq=0 will be ignored. Current value: bagging_freq=1\n",
            "[LightGBM] [Warning] feature_fraction is set=0.6293237849747015, colsample_bytree=1.0 will be ignored. Current value: feature_fraction=0.6293237849747015\n",
            "[LightGBM] [Warning] bagging_fraction is set=0.869735238543808, subsample=1.0 will be ignored. Current value: bagging_fraction=0.869735238543808\n",
            "[LightGBM] [Warning] lambda_l2 is set=9.758276640919696, reg_lambda=0.0 will be ignored. Current value: lambda_l2=9.758276640919696\n",
            "[LightGBM] [Warning] lambda_l1 is set=0.0004576224366679535, reg_alpha=0.0 will be ignored. Current value: lambda_l1=0.0004576224366679535\n",
            "[LightGBM] [Warning] bagging_freq is set=4, subsample_freq=0 will be ignored. Current value: bagging_freq=4\n",
            "[LightGBM] [Warning] feature_fraction is set=0.8380280468926065, colsample_bytree=1.0 will be ignored. Current value: feature_fraction=0.8380280468926065\n",
            "[LightGBM] [Warning] bagging_fraction is set=0.869735238543808, subsample=1.0 will be ignored. Current value: bagging_fraction=0.869735238543808\n",
            "[LightGBM] [Warning] lambda_l2 is set=9.758276640919696, reg_lambda=0.0 will be ignored. Current value: lambda_l2=9.758276640919696\n",
            "[LightGBM] [Warning] lambda_l1 is set=0.0004576224366679535, reg_alpha=0.0 will be ignored. Current value: lambda_l1=0.0004576224366679535\n",
            "[LightGBM] [Warning] bagging_freq is set=4, subsample_freq=0 will be ignored. Current value: bagging_freq=4\n",
            "[LightGBM] [Warning] feature_fraction is set=0.8380280468926065, colsample_bytree=1.0 will be ignored. Current value: feature_fraction=0.8380280468926065\n",
            "[LightGBM] [Warning] bagging_fraction is set=0.869735238543808, subsample=1.0 will be ignored. Current value: bagging_fraction=0.869735238543808\n",
            "[LightGBM] [Warning] lambda_l2 is set=9.758276640919696, reg_lambda=0.0 will be ignored. Current value: lambda_l2=9.758276640919696\n",
            "[LightGBM] [Warning] lambda_l1 is set=0.0004576224366679535, reg_alpha=0.0 will be ignored. Current value: lambda_l1=0.0004576224366679535\n",
            "[LightGBM] [Warning] bagging_freq is set=4, subsample_freq=0 will be ignored. Current value: bagging_freq=4\n",
            "[LightGBM] [Warning] feature_fraction is set=0.8380280468926065, colsample_bytree=1.0 will be ignored. Current value: feature_fraction=0.8380280468926065\n"
          ]
        },
        {
          "output_type": "stream",
          "name": "stderr",
          "text": [
            "\u001b[32m[I 2023-04-19 16:57:02,677]\u001b[0m Trial 17 finished with value: 0.6701986754966887 and parameters: {'bagging_freq': 4, 'num_iterations': 1011, 'lambda_l1': 0.0004576224366679535, 'lambda_l2': 9.758276640919696, 'feature_fraction': 0.8380280468926065, 'bagging_fraction': 0.869735238543808, 'min_child_samples': 1782, 'max_depth': 6, 'learning_rate': 0.22853113731850308}. Best is trial 0 with value: 0.6701986754966887.\u001b[0m\n"
          ]
        },
        {
          "output_type": "stream",
          "name": "stdout",
          "text": [
            "[LightGBM] [Warning] bagging_fraction is set=0.869735238543808, subsample=1.0 will be ignored. Current value: bagging_fraction=0.869735238543808\n",
            "[LightGBM] [Warning] lambda_l2 is set=9.758276640919696, reg_lambda=0.0 will be ignored. Current value: lambda_l2=9.758276640919696\n",
            "[LightGBM] [Warning] lambda_l1 is set=0.0004576224366679535, reg_alpha=0.0 will be ignored. Current value: lambda_l1=0.0004576224366679535\n",
            "[LightGBM] [Warning] bagging_freq is set=4, subsample_freq=0 will be ignored. Current value: bagging_freq=4\n",
            "[LightGBM] [Warning] feature_fraction is set=0.8380280468926065, colsample_bytree=1.0 will be ignored. Current value: feature_fraction=0.8380280468926065\n",
            "[LightGBM] [Warning] bagging_fraction is set=0.869735238543808, subsample=1.0 will be ignored. Current value: bagging_fraction=0.869735238543808\n",
            "[LightGBM] [Warning] lambda_l2 is set=9.758276640919696, reg_lambda=0.0 will be ignored. Current value: lambda_l2=9.758276640919696\n",
            "[LightGBM] [Warning] lambda_l1 is set=0.0004576224366679535, reg_alpha=0.0 will be ignored. Current value: lambda_l1=0.0004576224366679535\n",
            "[LightGBM] [Warning] bagging_freq is set=4, subsample_freq=0 will be ignored. Current value: bagging_freq=4\n",
            "[LightGBM] [Warning] feature_fraction is set=0.8380280468926065, colsample_bytree=1.0 will be ignored. Current value: feature_fraction=0.8380280468926065\n",
            "[LightGBM] [Warning] bagging_fraction is set=0.9915348033523765, subsample=1.0 will be ignored. Current value: bagging_fraction=0.9915348033523765\n",
            "[LightGBM] [Warning] lambda_l2 is set=0.0037525027945557073, reg_lambda=0.0 will be ignored. Current value: lambda_l2=0.0037525027945557073\n",
            "[LightGBM] [Warning] lambda_l1 is set=0.018624963888610097, reg_alpha=0.0 will be ignored. Current value: lambda_l1=0.018624963888610097\n",
            "[LightGBM] [Warning] bagging_freq is set=6, subsample_freq=0 will be ignored. Current value: bagging_freq=6\n",
            "[LightGBM] [Warning] feature_fraction is set=0.5563546808117406, colsample_bytree=1.0 will be ignored. Current value: feature_fraction=0.5563546808117406\n",
            "[LightGBM] [Warning] bagging_fraction is set=0.9915348033523765, subsample=1.0 will be ignored. Current value: bagging_fraction=0.9915348033523765\n",
            "[LightGBM] [Warning] lambda_l2 is set=0.0037525027945557073, reg_lambda=0.0 will be ignored. Current value: lambda_l2=0.0037525027945557073\n",
            "[LightGBM] [Warning] lambda_l1 is set=0.018624963888610097, reg_alpha=0.0 will be ignored. Current value: lambda_l1=0.018624963888610097\n",
            "[LightGBM] [Warning] bagging_freq is set=6, subsample_freq=0 will be ignored. Current value: bagging_freq=6\n",
            "[LightGBM] [Warning] feature_fraction is set=0.5563546808117406, colsample_bytree=1.0 will be ignored. Current value: feature_fraction=0.5563546808117406\n",
            "[LightGBM] [Warning] bagging_fraction is set=0.9915348033523765, subsample=1.0 will be ignored. Current value: bagging_fraction=0.9915348033523765\n",
            "[LightGBM] [Warning] lambda_l2 is set=0.0037525027945557073, reg_lambda=0.0 will be ignored. Current value: lambda_l2=0.0037525027945557073\n",
            "[LightGBM] [Warning] lambda_l1 is set=0.018624963888610097, reg_alpha=0.0 will be ignored. Current value: lambda_l1=0.018624963888610097\n",
            "[LightGBM] [Warning] bagging_freq is set=6, subsample_freq=0 will be ignored. Current value: bagging_freq=6\n",
            "[LightGBM] [Warning] feature_fraction is set=0.5563546808117406, colsample_bytree=1.0 will be ignored. Current value: feature_fraction=0.5563546808117406\n",
            "[LightGBM] [Warning] bagging_fraction is set=0.9915348033523765, subsample=1.0 will be ignored. Current value: bagging_fraction=0.9915348033523765\n",
            "[LightGBM] [Warning] lambda_l2 is set=0.0037525027945557073, reg_lambda=0.0 will be ignored. Current value: lambda_l2=0.0037525027945557073\n",
            "[LightGBM] [Warning] lambda_l1 is set=0.018624963888610097, reg_alpha=0.0 will be ignored. Current value: lambda_l1=0.018624963888610097\n",
            "[LightGBM] [Warning] bagging_freq is set=6, subsample_freq=0 will be ignored. Current value: bagging_freq=6\n",
            "[LightGBM] [Warning] feature_fraction is set=0.5563546808117406, colsample_bytree=1.0 will be ignored. Current value: feature_fraction=0.5563546808117406\n",
            "[LightGBM] [Warning] bagging_fraction is set=0.9915348033523765, subsample=1.0 will be ignored. Current value: bagging_fraction=0.9915348033523765\n",
            "[LightGBM] [Warning] lambda_l2 is set=0.0037525027945557073, reg_lambda=0.0 will be ignored. Current value: lambda_l2=0.0037525027945557073\n",
            "[LightGBM] [Warning] lambda_l1 is set=0.018624963888610097, reg_alpha=0.0 will be ignored. Current value: lambda_l1=0.018624963888610097\n",
            "[LightGBM] [Warning] bagging_freq is set=6, subsample_freq=0 will be ignored. Current value: bagging_freq=6\n",
            "[LightGBM] [Warning] feature_fraction is set=0.5563546808117406, colsample_bytree=1.0 will be ignored. Current value: feature_fraction=0.5563546808117406\n"
          ]
        },
        {
          "output_type": "stream",
          "name": "stderr",
          "text": [
            "\u001b[32m[I 2023-04-19 16:57:04,354]\u001b[0m Trial 18 finished with value: 0.8463662810173357 and parameters: {'bagging_freq': 6, 'num_iterations': 2412, 'lambda_l1': 0.018624963888610097, 'lambda_l2': 0.0037525027945557073, 'feature_fraction': 0.5563546808117406, 'bagging_fraction': 0.9915348033523765, 'min_child_samples': 69, 'max_depth': 4, 'learning_rate': 0.15612249858805524}. Best is trial 18 with value: 0.8463662810173357.\u001b[0m\n"
          ]
        },
        {
          "output_type": "stream",
          "name": "stdout",
          "text": [
            "[LightGBM] [Warning] bagging_fraction is set=0.9795541245584904, subsample=1.0 will be ignored. Current value: bagging_fraction=0.9795541245584904\n",
            "[LightGBM] [Warning] lambda_l2 is set=0.0038677874335667295, reg_lambda=0.0 will be ignored. Current value: lambda_l2=0.0038677874335667295\n",
            "[LightGBM] [Warning] lambda_l1 is set=8.777194523722772e-05, reg_alpha=0.0 will be ignored. Current value: lambda_l1=8.777194523722772e-05\n",
            "[LightGBM] [Warning] bagging_freq is set=6, subsample_freq=0 will be ignored. Current value: bagging_freq=6\n",
            "[LightGBM] [Warning] feature_fraction is set=0.5687162242176066, colsample_bytree=1.0 will be ignored. Current value: feature_fraction=0.5687162242176066\n",
            "[LightGBM] [Warning] bagging_fraction is set=0.9795541245584904, subsample=1.0 will be ignored. Current value: bagging_fraction=0.9795541245584904\n",
            "[LightGBM] [Warning] lambda_l2 is set=0.0038677874335667295, reg_lambda=0.0 will be ignored. Current value: lambda_l2=0.0038677874335667295\n",
            "[LightGBM] [Warning] lambda_l1 is set=8.777194523722772e-05, reg_alpha=0.0 will be ignored. Current value: lambda_l1=8.777194523722772e-05\n",
            "[LightGBM] [Warning] bagging_freq is set=6, subsample_freq=0 will be ignored. Current value: bagging_freq=6\n",
            "[LightGBM] [Warning] feature_fraction is set=0.5687162242176066, colsample_bytree=1.0 will be ignored. Current value: feature_fraction=0.5687162242176066\n",
            "[LightGBM] [Warning] bagging_fraction is set=0.9795541245584904, subsample=1.0 will be ignored. Current value: bagging_fraction=0.9795541245584904\n",
            "[LightGBM] [Warning] lambda_l2 is set=0.0038677874335667295, reg_lambda=0.0 will be ignored. Current value: lambda_l2=0.0038677874335667295\n",
            "[LightGBM] [Warning] lambda_l1 is set=8.777194523722772e-05, reg_alpha=0.0 will be ignored. Current value: lambda_l1=8.777194523722772e-05\n",
            "[LightGBM] [Warning] bagging_freq is set=6, subsample_freq=0 will be ignored. Current value: bagging_freq=6\n",
            "[LightGBM] [Warning] feature_fraction is set=0.5687162242176066, colsample_bytree=1.0 will be ignored. Current value: feature_fraction=0.5687162242176066\n",
            "[LightGBM] [Warning] bagging_fraction is set=0.9795541245584904, subsample=1.0 will be ignored. Current value: bagging_fraction=0.9795541245584904\n",
            "[LightGBM] [Warning] lambda_l2 is set=0.0038677874335667295, reg_lambda=0.0 will be ignored. Current value: lambda_l2=0.0038677874335667295\n",
            "[LightGBM] [Warning] lambda_l1 is set=8.777194523722772e-05, reg_alpha=0.0 will be ignored. Current value: lambda_l1=8.777194523722772e-05\n",
            "[LightGBM] [Warning] bagging_freq is set=6, subsample_freq=0 will be ignored. Current value: bagging_freq=6\n",
            "[LightGBM] [Warning] feature_fraction is set=0.5687162242176066, colsample_bytree=1.0 will be ignored. Current value: feature_fraction=0.5687162242176066\n",
            "[LightGBM] [Warning] bagging_fraction is set=0.9795541245584904, subsample=1.0 will be ignored. Current value: bagging_fraction=0.9795541245584904\n",
            "[LightGBM] [Warning] lambda_l2 is set=0.0038677874335667295, reg_lambda=0.0 will be ignored. Current value: lambda_l2=0.0038677874335667295\n",
            "[LightGBM] [Warning] lambda_l1 is set=8.777194523722772e-05, reg_alpha=0.0 will be ignored. Current value: lambda_l1=8.777194523722772e-05\n",
            "[LightGBM] [Warning] bagging_freq is set=6, subsample_freq=0 will be ignored. Current value: bagging_freq=6\n",
            "[LightGBM] [Warning] feature_fraction is set=0.5687162242176066, colsample_bytree=1.0 will be ignored. Current value: feature_fraction=0.5687162242176066\n"
          ]
        },
        {
          "output_type": "stream",
          "name": "stderr",
          "text": [
            "\u001b[32m[I 2023-04-19 16:57:06,965]\u001b[0m Trial 19 finished with value: 0.842350330676628 and parameters: {'bagging_freq': 6, 'num_iterations': 2482, 'lambda_l1': 8.777194523722772e-05, 'lambda_l2': 0.0038677874335667295, 'feature_fraction': 0.5687162242176066, 'bagging_fraction': 0.9795541245584904, 'min_child_samples': 82, 'max_depth': 8, 'learning_rate': 0.15914848321202582}. Best is trial 18 with value: 0.8463662810173357.\u001b[0m\n"
          ]
        },
        {
          "output_type": "stream",
          "name": "stdout",
          "text": [
            "[LightGBM] [Warning] bagging_fraction is set=0.9989924508112911, subsample=1.0 will be ignored. Current value: bagging_fraction=0.9989924508112911\n",
            "[LightGBM] [Warning] lambda_l2 is set=0.003557038755023179, reg_lambda=0.0 will be ignored. Current value: lambda_l2=0.003557038755023179\n",
            "[LightGBM] [Warning] lambda_l1 is set=0.0022324041958117122, reg_alpha=0.0 will be ignored. Current value: lambda_l1=0.0022324041958117122\n",
            "[LightGBM] [Warning] bagging_freq is set=7, subsample_freq=0 will be ignored. Current value: bagging_freq=7\n",
            "[LightGBM] [Warning] feature_fraction is set=0.5103122174803838, colsample_bytree=1.0 will be ignored. Current value: feature_fraction=0.5103122174803838\n",
            "[LightGBM] [Warning] bagging_fraction is set=0.9989924508112911, subsample=1.0 will be ignored. Current value: bagging_fraction=0.9989924508112911\n",
            "[LightGBM] [Warning] lambda_l2 is set=0.003557038755023179, reg_lambda=0.0 will be ignored. Current value: lambda_l2=0.003557038755023179\n",
            "[LightGBM] [Warning] lambda_l1 is set=0.0022324041958117122, reg_alpha=0.0 will be ignored. Current value: lambda_l1=0.0022324041958117122\n",
            "[LightGBM] [Warning] bagging_freq is set=7, subsample_freq=0 will be ignored. Current value: bagging_freq=7\n",
            "[LightGBM] [Warning] feature_fraction is set=0.5103122174803838, colsample_bytree=1.0 will be ignored. Current value: feature_fraction=0.5103122174803838\n",
            "[LightGBM] [Warning] bagging_fraction is set=0.9989924508112911, subsample=1.0 will be ignored. Current value: bagging_fraction=0.9989924508112911\n",
            "[LightGBM] [Warning] lambda_l2 is set=0.003557038755023179, reg_lambda=0.0 will be ignored. Current value: lambda_l2=0.003557038755023179\n",
            "[LightGBM] [Warning] lambda_l1 is set=0.0022324041958117122, reg_alpha=0.0 will be ignored. Current value: lambda_l1=0.0022324041958117122\n",
            "[LightGBM] [Warning] bagging_freq is set=7, subsample_freq=0 will be ignored. Current value: bagging_freq=7\n",
            "[LightGBM] [Warning] feature_fraction is set=0.5103122174803838, colsample_bytree=1.0 will be ignored. Current value: feature_fraction=0.5103122174803838\n",
            "[LightGBM] [Warning] bagging_fraction is set=0.9989924508112911, subsample=1.0 will be ignored. Current value: bagging_fraction=0.9989924508112911\n",
            "[LightGBM] [Warning] lambda_l2 is set=0.003557038755023179, reg_lambda=0.0 will be ignored. Current value: lambda_l2=0.003557038755023179\n",
            "[LightGBM] [Warning] lambda_l1 is set=0.0022324041958117122, reg_alpha=0.0 will be ignored. Current value: lambda_l1=0.0022324041958117122\n",
            "[LightGBM] [Warning] bagging_freq is set=7, subsample_freq=0 will be ignored. Current value: bagging_freq=7\n",
            "[LightGBM] [Warning] feature_fraction is set=0.5103122174803838, colsample_bytree=1.0 will be ignored. Current value: feature_fraction=0.5103122174803838\n"
          ]
        },
        {
          "output_type": "stream",
          "name": "stderr",
          "text": [
            "\u001b[32m[I 2023-04-19 16:57:07,336]\u001b[0m Trial 20 finished with value: 0.6701986754966887 and parameters: {'bagging_freq': 7, 'num_iterations': 2494, 'lambda_l1': 0.0022324041958117122, 'lambda_l2': 0.003557038755023179, 'feature_fraction': 0.5103122174803838, 'bagging_fraction': 0.9989924508112911, 'min_child_samples': 740, 'max_depth': 3, 'learning_rate': 0.10376595561045046}. Best is trial 18 with value: 0.8463662810173357.\u001b[0m\n"
          ]
        },
        {
          "output_type": "stream",
          "name": "stdout",
          "text": [
            "[LightGBM] [Warning] bagging_fraction is set=0.9989924508112911, subsample=1.0 will be ignored. Current value: bagging_fraction=0.9989924508112911\n",
            "[LightGBM] [Warning] lambda_l2 is set=0.003557038755023179, reg_lambda=0.0 will be ignored. Current value: lambda_l2=0.003557038755023179\n",
            "[LightGBM] [Warning] lambda_l1 is set=0.0022324041958117122, reg_alpha=0.0 will be ignored. Current value: lambda_l1=0.0022324041958117122\n",
            "[LightGBM] [Warning] bagging_freq is set=7, subsample_freq=0 will be ignored. Current value: bagging_freq=7\n",
            "[LightGBM] [Warning] feature_fraction is set=0.5103122174803838, colsample_bytree=1.0 will be ignored. Current value: feature_fraction=0.5103122174803838\n",
            "[LightGBM] [Warning] bagging_fraction is set=0.880615097721379, subsample=1.0 will be ignored. Current value: bagging_fraction=0.880615097721379\n",
            "[LightGBM] [Warning] lambda_l2 is set=0.004006714815537358, reg_lambda=0.0 will be ignored. Current value: lambda_l2=0.004006714815537358\n",
            "[LightGBM] [Warning] lambda_l1 is set=8.604364031175272e-05, reg_alpha=0.0 will be ignored. Current value: lambda_l1=8.604364031175272e-05\n",
            "[LightGBM] [Warning] bagging_freq is set=6, subsample_freq=0 will be ignored. Current value: bagging_freq=6\n",
            "[LightGBM] [Warning] feature_fraction is set=0.5594795534403875, colsample_bytree=1.0 will be ignored. Current value: feature_fraction=0.5594795534403875\n",
            "[LightGBM] [Warning] bagging_fraction is set=0.880615097721379, subsample=1.0 will be ignored. Current value: bagging_fraction=0.880615097721379\n",
            "[LightGBM] [Warning] lambda_l2 is set=0.004006714815537358, reg_lambda=0.0 will be ignored. Current value: lambda_l2=0.004006714815537358\n",
            "[LightGBM] [Warning] lambda_l1 is set=8.604364031175272e-05, reg_alpha=0.0 will be ignored. Current value: lambda_l1=8.604364031175272e-05\n",
            "[LightGBM] [Warning] bagging_freq is set=6, subsample_freq=0 will be ignored. Current value: bagging_freq=6\n",
            "[LightGBM] [Warning] feature_fraction is set=0.5594795534403875, colsample_bytree=1.0 will be ignored. Current value: feature_fraction=0.5594795534403875\n",
            "[LightGBM] [Warning] bagging_fraction is set=0.880615097721379, subsample=1.0 will be ignored. Current value: bagging_fraction=0.880615097721379\n",
            "[LightGBM] [Warning] lambda_l2 is set=0.004006714815537358, reg_lambda=0.0 will be ignored. Current value: lambda_l2=0.004006714815537358\n",
            "[LightGBM] [Warning] lambda_l1 is set=8.604364031175272e-05, reg_alpha=0.0 will be ignored. Current value: lambda_l1=8.604364031175272e-05\n",
            "[LightGBM] [Warning] bagging_freq is set=6, subsample_freq=0 will be ignored. Current value: bagging_freq=6\n",
            "[LightGBM] [Warning] feature_fraction is set=0.5594795534403875, colsample_bytree=1.0 will be ignored. Current value: feature_fraction=0.5594795534403875\n",
            "[LightGBM] [Warning] bagging_fraction is set=0.880615097721379, subsample=1.0 will be ignored. Current value: bagging_fraction=0.880615097721379\n",
            "[LightGBM] [Warning] lambda_l2 is set=0.004006714815537358, reg_lambda=0.0 will be ignored. Current value: lambda_l2=0.004006714815537358\n",
            "[LightGBM] [Warning] lambda_l1 is set=8.604364031175272e-05, reg_alpha=0.0 will be ignored. Current value: lambda_l1=8.604364031175272e-05\n",
            "[LightGBM] [Warning] bagging_freq is set=6, subsample_freq=0 will be ignored. Current value: bagging_freq=6\n",
            "[LightGBM] [Warning] feature_fraction is set=0.5594795534403875, colsample_bytree=1.0 will be ignored. Current value: feature_fraction=0.5594795534403875\n",
            "[LightGBM] [Warning] bagging_fraction is set=0.880615097721379, subsample=1.0 will be ignored. Current value: bagging_fraction=0.880615097721379\n",
            "[LightGBM] [Warning] lambda_l2 is set=0.004006714815537358, reg_lambda=0.0 will be ignored. Current value: lambda_l2=0.004006714815537358\n",
            "[LightGBM] [Warning] lambda_l1 is set=8.604364031175272e-05, reg_alpha=0.0 will be ignored. Current value: lambda_l1=8.604364031175272e-05\n",
            "[LightGBM] [Warning] bagging_freq is set=6, subsample_freq=0 will be ignored. Current value: bagging_freq=6\n",
            "[LightGBM] [Warning] feature_fraction is set=0.5594795534403875, colsample_bytree=1.0 will be ignored. Current value: feature_fraction=0.5594795534403875\n"
          ]
        },
        {
          "output_type": "stream",
          "name": "stderr",
          "text": [
            "\u001b[32m[I 2023-04-19 16:57:12,386]\u001b[0m Trial 21 finished with value: 0.8682506697390329 and parameters: {'bagging_freq': 6, 'num_iterations': 2285, 'lambda_l1': 8.604364031175272e-05, 'lambda_l2': 0.004006714815537358, 'feature_fraction': 0.5594795534403875, 'bagging_fraction': 0.880615097721379, 'min_child_samples': 32, 'max_depth': 8, 'learning_rate': 0.1605192113703202}. Best is trial 21 with value: 0.8682506697390329.\u001b[0m\n"
          ]
        },
        {
          "output_type": "stream",
          "name": "stdout",
          "text": [
            "[LightGBM] [Warning] bagging_fraction is set=0.9037126146020747, subsample=1.0 will be ignored. Current value: bagging_fraction=0.9037126146020747\n",
            "[LightGBM] [Warning] lambda_l2 is set=0.0011722724950372484, reg_lambda=0.0 will be ignored. Current value: lambda_l2=0.0011722724950372484\n",
            "[LightGBM] [Warning] lambda_l1 is set=3.4571344212735726e-05, reg_alpha=0.0 will be ignored. Current value: lambda_l1=3.4571344212735726e-05\n",
            "[LightGBM] [Warning] bagging_freq is set=6, subsample_freq=0 will be ignored. Current value: bagging_freq=6\n",
            "[LightGBM] [Warning] feature_fraction is set=0.5609554942927681, colsample_bytree=1.0 will be ignored. Current value: feature_fraction=0.5609554942927681\n",
            "[LightGBM] [Warning] bagging_fraction is set=0.9037126146020747, subsample=1.0 will be ignored. Current value: bagging_fraction=0.9037126146020747\n",
            "[LightGBM] [Warning] lambda_l2 is set=0.0011722724950372484, reg_lambda=0.0 will be ignored. Current value: lambda_l2=0.0011722724950372484\n",
            "[LightGBM] [Warning] lambda_l1 is set=3.4571344212735726e-05, reg_alpha=0.0 will be ignored. Current value: lambda_l1=3.4571344212735726e-05\n",
            "[LightGBM] [Warning] bagging_freq is set=6, subsample_freq=0 will be ignored. Current value: bagging_freq=6\n",
            "[LightGBM] [Warning] feature_fraction is set=0.5609554942927681, colsample_bytree=1.0 will be ignored. Current value: feature_fraction=0.5609554942927681\n",
            "[LightGBM] [Warning] bagging_fraction is set=0.9037126146020747, subsample=1.0 will be ignored. Current value: bagging_fraction=0.9037126146020747\n",
            "[LightGBM] [Warning] lambda_l2 is set=0.0011722724950372484, reg_lambda=0.0 will be ignored. Current value: lambda_l2=0.0011722724950372484\n",
            "[LightGBM] [Warning] lambda_l1 is set=3.4571344212735726e-05, reg_alpha=0.0 will be ignored. Current value: lambda_l1=3.4571344212735726e-05\n",
            "[LightGBM] [Warning] bagging_freq is set=6, subsample_freq=0 will be ignored. Current value: bagging_freq=6\n",
            "[LightGBM] [Warning] feature_fraction is set=0.5609554942927681, colsample_bytree=1.0 will be ignored. Current value: feature_fraction=0.5609554942927681\n",
            "[LightGBM] [Warning] bagging_fraction is set=0.9037126146020747, subsample=1.0 will be ignored. Current value: bagging_fraction=0.9037126146020747"
          ]
        },
        {
          "output_type": "stream",
          "name": "stderr",
          "text": [
            "\u001b[32m[I 2023-04-19 16:57:13,598]\u001b[0m Trial 22 finished with value: 0.8245181025064273 and parameters: {'bagging_freq': 6, 'num_iterations': 2189, 'lambda_l1': 3.4571344212735726e-05, 'lambda_l2': 0.0011722724950372484, 'feature_fraction': 0.5609554942927681, 'bagging_fraction': 0.9037126146020747, 'min_child_samples': 186, 'max_depth': 7, 'learning_rate': 0.1553105986334153}. Best is trial 21 with value: 0.8682506697390329.\u001b[0m\n"
          ]
        },
        {
          "output_type": "stream",
          "name": "stdout",
          "text": [
            "\n",
            "[LightGBM] [Warning] lambda_l2 is set=0.0011722724950372484, reg_lambda=0.0 will be ignored. Current value: lambda_l2=0.0011722724950372484\n",
            "[LightGBM] [Warning] lambda_l1 is set=3.4571344212735726e-05, reg_alpha=0.0 will be ignored. Current value: lambda_l1=3.4571344212735726e-05\n",
            "[LightGBM] [Warning] bagging_freq is set=6, subsample_freq=0 will be ignored. Current value: bagging_freq=6\n",
            "[LightGBM] [Warning] feature_fraction is set=0.5609554942927681, colsample_bytree=1.0 will be ignored. Current value: feature_fraction=0.5609554942927681\n",
            "[LightGBM] [Warning] bagging_fraction is set=0.9037126146020747, subsample=1.0 will be ignored. Current value: bagging_fraction=0.9037126146020747\n",
            "[LightGBM] [Warning] lambda_l2 is set=0.0011722724950372484, reg_lambda=0.0 will be ignored. Current value: lambda_l2=0.0011722724950372484\n",
            "[LightGBM] [Warning] lambda_l1 is set=3.4571344212735726e-05, reg_alpha=0.0 will be ignored. Current value: lambda_l1=3.4571344212735726e-05\n",
            "[LightGBM] [Warning] bagging_freq is set=6, subsample_freq=0 will be ignored. Current value: bagging_freq=6\n",
            "[LightGBM] [Warning] feature_fraction is set=0.5609554942927681, colsample_bytree=1.0 will be ignored. Current value: feature_fraction=0.5609554942927681\n",
            "[LightGBM] [Warning] bagging_fraction is set=0.9949589892766929, subsample=1.0 will be ignored. Current value: bagging_fraction=0.9949589892766929\n",
            "[LightGBM] [Warning] lambda_l2 is set=0.008832409880058229, reg_lambda=0.0 will be ignored. Current value: lambda_l2=0.008832409880058229\n",
            "[LightGBM] [Warning] lambda_l1 is set=1.4429119725651995e-06, reg_alpha=0.0 will be ignored. Current value: lambda_l1=1.4429119725651995e-06\n",
            "[LightGBM] [Warning] bagging_freq is set=6, subsample_freq=0 will be ignored. Current value: bagging_freq=6\n",
            "[LightGBM] [Warning] feature_fraction is set=0.4313712702763935, colsample_bytree=1.0 will be ignored. Current value: feature_fraction=0.4313712702763935\n",
            "[LightGBM] [Warning] bagging_fraction is set=0.9949589892766929, subsample=1.0 will be ignored. Current value: bagging_fraction=0.9949589892766929\n",
            "[LightGBM] [Warning] lambda_l2 is set=0.008832409880058229, reg_lambda=0.0 will be ignored. Current value: lambda_l2=0.008832409880058229\n",
            "[LightGBM] [Warning] lambda_l1 is set=1.4429119725651995e-06, reg_alpha=0.0 will be ignored. Current value: lambda_l1=1.4429119725651995e-06\n",
            "[LightGBM] [Warning] bagging_freq is set=6, subsample_freq=0 will be ignored. Current value: bagging_freq=6\n",
            "[LightGBM] [Warning] feature_fraction is set=0.4313712702763935, colsample_bytree=1.0 will be ignored. Current value: feature_fraction=0.4313712702763935\n",
            "[LightGBM] [Warning] bagging_fraction is set=0.9949589892766929, subsample=1.0 will be ignored. Current value: bagging_fraction=0.9949589892766929\n",
            "[LightGBM] [Warning] lambda_l2 is set=0.008832409880058229, reg_lambda=0.0 will be ignored. Current value: lambda_l2=0.008832409880058229\n",
            "[LightGBM] [Warning] lambda_l1 is set=1.4429119725651995e-06, reg_alpha=0.0 will be ignored. Current value: lambda_l1=1.4429119725651995e-06\n",
            "[LightGBM] [Warning] bagging_freq is set=6, subsample_freq=0 will be ignored. Current value: bagging_freq=6\n",
            "[LightGBM] [Warning] feature_fraction is set=0.4313712702763935, colsample_bytree=1.0 will be ignored. Current value: feature_fraction=0.4313712702763935\n",
            "[LightGBM] [Warning] bagging_fraction is set=0.9949589892766929, subsample=1.0 will be ignored. Current value: bagging_fraction=0.9949589892766929\n",
            "[LightGBM] [Warning] lambda_l2 is set=0.008832409880058229, reg_lambda=0.0 will be ignored. Current value: lambda_l2=0.008832409880058229\n",
            "[LightGBM] [Warning] lambda_l1 is set=1.4429119725651995e-06, reg_alpha=0.0 will be ignored. Current value: lambda_l1=1.4429119725651995e-06\n",
            "[LightGBM] [Warning] bagging_freq is set=6, subsample_freq=0 will be ignored. Current value: bagging_freq=6\n",
            "[LightGBM] [Warning] feature_fraction is set=0.4313712702763935, colsample_bytree=1.0 will be ignored. Current value: feature_fraction=0.4313712702763935\n",
            "[LightGBM] [Warning] bagging_fraction is set=0.9949589892766929, subsample=1.0 will be ignored. Current value: bagging_fraction=0.9949589892766929\n",
            "[LightGBM] [Warning] lambda_l2 is set=0.008832409880058229, reg_lambda=0.0 will be ignored. Current value: lambda_l2=0.008832409880058229\n",
            "[LightGBM] [Warning] lambda_l1 is set=1.4429119725651995e-06, reg_alpha=0.0 will be ignored. Current value: lambda_l1=1.4429119725651995e-06\n",
            "[LightGBM] [Warning] bagging_freq is set=6, subsample_freq=0 will be ignored. Current value: bagging_freq=6\n",
            "[LightGBM] [Warning] feature_fraction is set=0.4313712702763935, colsample_bytree=1.0 will be ignored. Current value: feature_fraction=0.4313712702763935\n"
          ]
        },
        {
          "output_type": "stream",
          "name": "stderr",
          "text": [
            "\u001b[32m[I 2023-04-19 16:57:17,953]\u001b[0m Trial 23 finished with value: 0.8745242209040629 and parameters: {'bagging_freq': 6, 'num_iterations': 2230, 'lambda_l1': 1.4429119725651995e-06, 'lambda_l2': 0.008832409880058229, 'feature_fraction': 0.4313712702763935, 'bagging_fraction': 0.9949589892766929, 'min_child_samples': 11, 'max_depth': 8, 'learning_rate': 0.18511002849976793}. Best is trial 23 with value: 0.8745242209040629.\u001b[0m\n"
          ]
        },
        {
          "output_type": "stream",
          "name": "stdout",
          "text": [
            "[LightGBM] [Warning] bagging_fraction is set=0.8866142178224787, subsample=1.0 will be ignored. Current value: bagging_fraction=0.8866142178224787\n",
            "[LightGBM] [Warning] lambda_l2 is set=5.6353480874613296e-05, reg_lambda=0.0 will be ignored. Current value: lambda_l2=5.6353480874613296e-05\n",
            "[LightGBM] [Warning] lambda_l1 is set=1.1044347245612236e-06, reg_alpha=0.0 will be ignored. Current value: lambda_l1=1.1044347245612236e-06\n",
            "[LightGBM] [Warning] bagging_freq is set=7, subsample_freq=0 will be ignored. Current value: bagging_freq=7\n",
            "[LightGBM] [Warning] feature_fraction is set=0.4109427400440926, colsample_bytree=1.0 will be ignored. Current value: feature_fraction=0.4109427400440926\n",
            "[LightGBM] [Warning] bagging_fraction is set=0.8866142178224787, subsample=1.0 will be ignored. Current value: bagging_fraction=0.8866142178224787\n",
            "[LightGBM] [Warning] lambda_l2 is set=5.6353480874613296e-05, reg_lambda=0.0 will be ignored. Current value: lambda_l2=5.6353480874613296e-05\n",
            "[LightGBM] [Warning] lambda_l1 is set=1.1044347245612236e-06, reg_alpha=0.0 will be ignored. Current value: lambda_l1=1.1044347245612236e-06\n",
            "[LightGBM] [Warning] bagging_freq is set=7, subsample_freq=0 will be ignored. Current value: bagging_freq=7\n",
            "[LightGBM] [Warning] feature_fraction is set=0.4109427400440926, colsample_bytree=1.0 will be ignored. Current value: feature_fraction=0.4109427400440926\n",
            "[LightGBM] [Warning] bagging_fraction is set=0.8866142178224787, subsample=1.0 will be ignored. Current value: bagging_fraction=0.8866142178224787\n",
            "[LightGBM] [Warning] lambda_l2 is set=5.6353480874613296e-05, reg_lambda=0.0 will be ignored. Current value: lambda_l2=5.6353480874613296e-05\n",
            "[LightGBM] [Warning] lambda_l1 is set=1.1044347245612236e-06, reg_alpha=0.0 will be ignored. Current value: lambda_l1=1.1044347245612236e-06\n",
            "[LightGBM] [Warning] bagging_freq is set=7, subsample_freq=0 will be ignored. Current value: bagging_freq=7\n",
            "[LightGBM] [Warning] feature_fraction is set=0.4109427400440926, colsample_bytree=1.0 will be ignored. Current value: feature_fraction=0.4109427400440926\n"
          ]
        },
        {
          "output_type": "stream",
          "name": "stderr",
          "text": [
            "\u001b[32m[I 2023-04-19 16:57:18,393]\u001b[0m Trial 24 finished with value: 0.6701986754966887 and parameters: {'bagging_freq': 7, 'num_iterations': 2169, 'lambda_l1': 1.1044347245612236e-06, 'lambda_l2': 5.6353480874613296e-05, 'feature_fraction': 0.4109427400440926, 'bagging_fraction': 0.8866142178224787, 'min_child_samples': 722, 'max_depth': 8, 'learning_rate': 0.18489343503671138}. Best is trial 23 with value: 0.8745242209040629.\u001b[0m\n"
          ]
        },
        {
          "output_type": "stream",
          "name": "stdout",
          "text": [
            "[LightGBM] [Warning] bagging_fraction is set=0.8866142178224787, subsample=1.0 will be ignored. Current value: bagging_fraction=0.8866142178224787\n",
            "[LightGBM] [Warning] lambda_l2 is set=5.6353480874613296e-05, reg_lambda=0.0 will be ignored. Current value: lambda_l2=5.6353480874613296e-05\n",
            "[LightGBM] [Warning] lambda_l1 is set=1.1044347245612236e-06, reg_alpha=0.0 will be ignored. Current value: lambda_l1=1.1044347245612236e-06\n",
            "[LightGBM] [Warning] bagging_freq is set=7, subsample_freq=0 will be ignored. Current value: bagging_freq=7\n",
            "[LightGBM] [Warning] feature_fraction is set=0.4109427400440926, colsample_bytree=1.0 will be ignored. Current value: feature_fraction=0.4109427400440926\n",
            "[LightGBM] [Warning] bagging_fraction is set=0.8866142178224787, subsample=1.0 will be ignored. Current value: bagging_fraction=0.8866142178224787\n",
            "[LightGBM] [Warning] lambda_l2 is set=5.6353480874613296e-05, reg_lambda=0.0 will be ignored. Current value: lambda_l2=5.6353480874613296e-05\n",
            "[LightGBM] [Warning] lambda_l1 is set=1.1044347245612236e-06, reg_alpha=0.0 will be ignored. Current value: lambda_l1=1.1044347245612236e-06\n",
            "[LightGBM] [Warning] bagging_freq is set=7, subsample_freq=0 will be ignored. Current value: bagging_freq=7\n",
            "[LightGBM] [Warning] feature_fraction is set=0.4109427400440926, colsample_bytree=1.0 will be ignored. Current value: feature_fraction=0.4109427400440926\n",
            "[LightGBM] [Warning] bagging_fraction is set=0.9904550741537049, subsample=1.0 will be ignored. Current value: bagging_fraction=0.9904550741537049\n",
            "[LightGBM] [Warning] lambda_l2 is set=0.013206924858143874, reg_lambda=0.0 will be ignored. Current value: lambda_l2=0.013206924858143874\n",
            "[LightGBM] [Warning] lambda_l1 is set=1.4240686896315855e-07, reg_alpha=0.0 will be ignored. Current value: lambda_l1=1.4240686896315855e-07\n",
            "[LightGBM] [Warning] bagging_freq is set=6, subsample_freq=0 will be ignored. Current value: bagging_freq=6\n",
            "[LightGBM] [Warning] feature_fraction is set=0.4883100862572621, colsample_bytree=1.0 will be ignored. Current value: feature_fraction=0.4883100862572621\n",
            "[LightGBM] [Warning] bagging_fraction is set=0.9904550741537049, subsample=1.0 will be ignored. Current value: bagging_fraction=0.9904550741537049\n",
            "[LightGBM] [Warning] lambda_l2 is set=0.013206924858143874, reg_lambda=0.0 will be ignored. Current value: lambda_l2=0.013206924858143874\n",
            "[LightGBM] [Warning] lambda_l1 is set=1.4240686896315855e-07, reg_alpha=0.0 will be ignored. Current value: lambda_l1=1.4240686896315855e-07\n",
            "[LightGBM] [Warning] bagging_freq is set=6, subsample_freq=0 will be ignored. Current value: bagging_freq=6\n",
            "[LightGBM] [Warning] feature_fraction is set=0.4883100862572621, colsample_bytree=1.0 will be ignored. Current value: feature_fraction=0.4883100862572621\n",
            "[LightGBM] [Warning] bagging_fraction is set=0.9904550741537049, subsample=1.0 will be ignored. Current value: bagging_fraction=0.9904550741537049\n",
            "[LightGBM] [Warning] lambda_l2 is set=0.013206924858143874, reg_lambda=0.0 will be ignored. Current value: lambda_l2=0.013206924858143874\n",
            "[LightGBM] [Warning] lambda_l1 is set=1.4240686896315855e-07, reg_alpha=0.0 will be ignored. Current value: lambda_l1=1.4240686896315855e-07\n",
            "[LightGBM] [Warning] bagging_freq is set=6, subsample_freq=0 will be ignored. Current value: bagging_freq=6\n",
            "[LightGBM] [Warning] feature_fraction is set=0.4883100862572621, colsample_bytree=1.0 will be ignored. Current value: feature_fraction=0.4883100862572621\n",
            "[LightGBM] [Warning] bagging_fraction is set=0.9904550741537049, subsample=1.0 will be ignored. Current value: bagging_fraction=0.9904550741537049\n",
            "[LightGBM] [Warning] lambda_l2 is set=0.013206924858143874, reg_lambda=0.0 will be ignored. Current value: lambda_l2=0.013206924858143874\n",
            "[LightGBM] [Warning] lambda_l1 is set=1.4240686896315855e-07, reg_alpha=0.0 will be ignored. Current value: lambda_l1=1.4240686896315855e-07\n",
            "[LightGBM] [Warning] bagging_freq is set=6, subsample_freq=0 will be ignored. Current value: bagging_freq=6\n",
            "[LightGBM] [Warning] feature_fraction is set=0.4883100862572621, colsample_bytree=1.0 will be ignored. Current value: feature_fraction=0.4883100862572621\n"
          ]
        },
        {
          "output_type": "stream",
          "name": "stderr",
          "text": [
            "\u001b[32m[I 2023-04-19 16:57:18,749]\u001b[0m Trial 25 finished with value: 0.6701986754966887 and parameters: {'bagging_freq': 6, 'num_iterations': 2308, 'lambda_l1': 1.4240686896315855e-07, 'lambda_l2': 0.013206924858143874, 'feature_fraction': 0.4883100862572621, 'bagging_fraction': 0.9904550741537049, 'min_child_samples': 1487, 'max_depth': 7, 'learning_rate': 0.20024161604248863}. Best is trial 23 with value: 0.8745242209040629.\u001b[0m\n"
          ]
        },
        {
          "output_type": "stream",
          "name": "stdout",
          "text": [
            "[LightGBM] [Warning] bagging_fraction is set=0.9904550741537049, subsample=1.0 will be ignored. Current value: bagging_fraction=0.9904550741537049\n",
            "[LightGBM] [Warning] lambda_l2 is set=0.013206924858143874, reg_lambda=0.0 will be ignored. Current value: lambda_l2=0.013206924858143874\n",
            "[LightGBM] [Warning] lambda_l1 is set=1.4240686896315855e-07, reg_alpha=0.0 will be ignored. Current value: lambda_l1=1.4240686896315855e-07\n",
            "[LightGBM] [Warning] bagging_freq is set=6, subsample_freq=0 will be ignored. Current value: bagging_freq=6\n",
            "[LightGBM] [Warning] feature_fraction is set=0.4883100862572621, colsample_bytree=1.0 will be ignored. Current value: feature_fraction=0.4883100862572621\n",
            "[LightGBM] [Warning] bagging_fraction is set=0.8839448372641877, subsample=1.0 will be ignored. Current value: bagging_fraction=0.8839448372641877\n",
            "[LightGBM] [Warning] lambda_l2 is set=0.00811078834117522, reg_lambda=0.0 will be ignored. Current value: lambda_l2=0.00811078834117522\n",
            "[LightGBM] [Warning] lambda_l1 is set=1.4928866760428085e-05, reg_alpha=0.0 will be ignored. Current value: lambda_l1=1.4928866760428085e-05\n",
            "[LightGBM] [Warning] bagging_freq is set=8, subsample_freq=0 will be ignored. Current value: bagging_freq=8\n",
            "[LightGBM] [Warning] feature_fraction is set=0.28135713999782375, colsample_bytree=1.0 will be ignored. Current value: feature_fraction=0.28135713999782375\n",
            "[LightGBM] [Warning] bagging_fraction is set=0.8839448372641877, subsample=1.0 will be ignored. Current value: bagging_fraction=0.8839448372641877\n",
            "[LightGBM] [Warning] lambda_l2 is set=0.00811078834117522, reg_lambda=0.0 will be ignored. Current value: lambda_l2=0.00811078834117522\n",
            "[LightGBM] [Warning] lambda_l1 is set=1.4928866760428085e-05, reg_alpha=0.0 will be ignored. Current value: lambda_l1=1.4928866760428085e-05\n",
            "[LightGBM] [Warning] bagging_freq is set=8, subsample_freq=0 will be ignored. Current value: bagging_freq=8\n",
            "[LightGBM] [Warning] feature_fraction is set=0.28135713999782375, colsample_bytree=1.0 will be ignored. Current value: feature_fraction=0.28135713999782375\n",
            "[LightGBM] [Warning] bagging_fraction is set=0.8839448372641877, subsample=1.0 will be ignored. Current value: bagging_fraction=0.8839448372641877\n",
            "[LightGBM] [Warning] lambda_l2 is set=0.00811078834117522, reg_lambda=0.0 will be ignored. Current value: lambda_l2=0.00811078834117522\n",
            "[LightGBM] [Warning] lambda_l1 is set=1.4928866760428085e-05, reg_alpha=0.0 will be ignored. Current value: lambda_l1=1.4928866760428085e-05\n",
            "[LightGBM] [Warning] bagging_freq is set=8, subsample_freq=0 will be ignored. Current value: bagging_freq=8\n",
            "[LightGBM] [Warning] feature_fraction is set=0.28135713999782375, colsample_bytree=1.0 will be ignored. Current value: feature_fraction=0.28135713999782375\n",
            "[LightGBM] [Warning] bagging_fraction is set=0.8839448372641877, subsample=1.0 will be ignored. Current value: bagging_fraction=0.8839448372641877\n",
            "[LightGBM] [Warning] lambda_l2 is set=0.00811078834117522, reg_lambda=0.0 will be ignored. Current value: lambda_l2=0.00811078834117522\n",
            "[LightGBM] [Warning] lambda_l1 is set=1.4928866760428085e-05, reg_alpha=0.0 will be ignored. Current value: lambda_l1=1.4928866760428085e-05\n",
            "[LightGBM] [Warning] bagging_freq is set=8, subsample_freq=0 will be ignored. Current value: bagging_freq=8\n",
            "[LightGBM] [Warning] feature_fraction is set=0.28135713999782375, colsample_bytree=1.0 will be ignored. Current value: feature_fraction=0.28135713999782375\n",
            "[LightGBM] [Warning] bagging_fraction is set=0.8839448372641877, subsample=1.0 will be ignored. Current value: bagging_fraction=0.8839448372641877\n",
            "[LightGBM] [Warning] lambda_l2 is set=0.00811078834117522, reg_lambda=0.0 will be ignored. Current value: lambda_l2=0.00811078834117522\n",
            "[LightGBM] [Warning] lambda_l1 is set=1.4928866760428085e-05, reg_alpha=0.0 will be ignored. Current value: lambda_l1=1.4928866760428085e-05\n",
            "[LightGBM] [Warning] bagging_freq is set=8, subsample_freq=0 will be ignored. Current value: bagging_freq=8\n",
            "[LightGBM] [Warning] feature_fraction is set=0.28135713999782375, colsample_bytree=1.0 will be ignored. Current value: feature_fraction=0.28135713999782375\n"
          ]
        },
        {
          "output_type": "stream",
          "name": "stderr",
          "text": [
            "\u001b[32m[I 2023-04-19 16:57:19,162]\u001b[0m Trial 26 finished with value: 0.6701986754966887 and parameters: {'bagging_freq': 8, 'num_iterations': 1947, 'lambda_l1': 1.4928866760428085e-05, 'lambda_l2': 0.00811078834117522, 'feature_fraction': 0.28135713999782375, 'bagging_fraction': 0.8839448372641877, 'min_child_samples': 739, 'max_depth': 6, 'learning_rate': 0.13507465291447013}. Best is trial 23 with value: 0.8745242209040629.\u001b[0m\n"
          ]
        },
        {
          "output_type": "stream",
          "name": "stdout",
          "text": [
            "[LightGBM] [Warning] bagging_fraction is set=0.7340751735776259, subsample=1.0 will be ignored. Current value: bagging_fraction=0.7340751735776259\n",
            "[LightGBM] [Warning] lambda_l2 is set=0.000647872400224513, reg_lambda=0.0 will be ignored. Current value: lambda_l2=0.000647872400224513\n",
            "[LightGBM] [Warning] lambda_l1 is set=4.4766844911561205e-06, reg_alpha=0.0 will be ignored. Current value: lambda_l1=4.4766844911561205e-06\n",
            "[LightGBM] [Warning] bagging_freq is set=5, subsample_freq=0 will be ignored. Current value: bagging_freq=5\n",
            "[LightGBM] [Warning] feature_fraction is set=0.4358179381053826, colsample_bytree=1.0 will be ignored. Current value: feature_fraction=0.4358179381053826\n",
            "[LightGBM] [Warning] bagging_fraction is set=0.7340751735776259, subsample=1.0 will be ignored. Current value: bagging_fraction=0.7340751735776259\n",
            "[LightGBM] [Warning] lambda_l2 is set=0.000647872400224513, reg_lambda=0.0 will be ignored. Current value: lambda_l2=0.000647872400224513\n",
            "[LightGBM] [Warning] lambda_l1 is set=4.4766844911561205e-06, reg_alpha=0.0 will be ignored. Current value: lambda_l1=4.4766844911561205e-06\n",
            "[LightGBM] [Warning] bagging_freq is set=5, subsample_freq=0 will be ignored. Current value: bagging_freq=5\n",
            "[LightGBM] [Warning] feature_fraction is set=0.4358179381053826, colsample_bytree=1.0 will be ignored. Current value: feature_fraction=0.4358179381053826\n",
            "[LightGBM] [Warning] bagging_fraction is set=0.7340751735776259, subsample=1.0 will be ignored. Current value: bagging_fraction=0.7340751735776259\n",
            "[LightGBM] [Warning] lambda_l2 is set=0.000647872400224513, reg_lambda=0.0 will be ignored. Current value: lambda_l2=0.000647872400224513\n",
            "[LightGBM] [Warning] lambda_l1 is set=4.4766844911561205e-06, reg_alpha=0.0 will be ignored. Current value: lambda_l1=4.4766844911561205e-06\n",
            "[LightGBM] [Warning] bagging_freq is set=5, subsample_freq=0 will be ignored. Current value: bagging_freq=5\n",
            "[LightGBM] [Warning] feature_fraction is set=0.4358179381053826, colsample_bytree=1.0 will be ignored. Current value: feature_fraction=0.4358179381053826\n",
            "[LightGBM] [Warning] bagging_fraction is set=0.7340751735776259, subsample=1.0 will be ignored. Current value: bagging_fraction=0.7340751735776259\n",
            "[LightGBM] [Warning] lambda_l2 is set=0.000647872400224513, reg_lambda=0.0 will be ignored. Current value: lambda_l2=0.000647872400224513\n",
            "[LightGBM] [Warning] lambda_l1 is set=4.4766844911561205e-06, reg_alpha=0.0 will be ignored. Current value: lambda_l1=4.4766844911561205e-06\n",
            "[LightGBM] [Warning] bagging_freq is set=5, subsample_freq=0 will be ignored. Current value: bagging_freq=5\n",
            "[LightGBM] [Warning] feature_fraction is set=0.4358179381053826, colsample_bytree=1.0 will be ignored. Current value: feature_fraction=0.4358179381053826\n",
            "[LightGBM] [Warning] bagging_fraction is set=0.7340751735776259, subsample=1.0 will be ignored. Current value: bagging_fraction=0.7340751735776259\n",
            "[LightGBM] [Warning] lambda_l2 is set=0.000647872400224513, reg_lambda=0.0 will be ignored. Current value: lambda_l2=0.000647872400224513\n",
            "[LightGBM] [Warning] lambda_l1 is set=4.4766844911561205e-06, reg_alpha=0.0 will be ignored. Current value: lambda_l1=4.4766844911561205e-06\n",
            "[LightGBM] [Warning] bagging_freq is set=5, subsample_freq=0 will be ignored. Current value: bagging_freq=5\n",
            "[LightGBM] [Warning] feature_fraction is set=0.4358179381053826, colsample_bytree=1.0 will be ignored. Current value: feature_fraction=0.4358179381053826\n"
          ]
        },
        {
          "output_type": "stream",
          "name": "stderr",
          "text": [
            "\u001b[32m[I 2023-04-19 16:57:20,572]\u001b[0m Trial 27 finished with value: 0.8284843577137737 and parameters: {'bagging_freq': 5, 'num_iterations': 1754, 'lambda_l1': 4.4766844911561205e-06, 'lambda_l2': 0.000647872400224513, 'feature_fraction': 0.4358179381053826, 'bagging_fraction': 0.7340751735776259, 'min_child_samples': 71, 'max_depth': 8, 'learning_rate': 0.17718487411036565}. Best is trial 23 with value: 0.8745242209040629.\u001b[0m\n"
          ]
        },
        {
          "output_type": "stream",
          "name": "stdout",
          "text": [
            "[LightGBM] [Warning] bagging_fraction is set=0.8431709348570906, subsample=1.0 will be ignored. Current value: bagging_fraction=0.8431709348570906\n",
            "[LightGBM] [Warning] lambda_l2 is set=0.054505760851133934, reg_lambda=0.0 will be ignored. Current value: lambda_l2=0.054505760851133934\n",
            "[LightGBM] [Warning] lambda_l1 is set=3.9651213725188745e-07, reg_alpha=0.0 will be ignored. Current value: lambda_l1=3.9651213725188745e-07\n",
            "[LightGBM] [Warning] bagging_freq is set=8, subsample_freq=0 will be ignored. Current value: bagging_freq=8\n",
            "[LightGBM] [Warning] feature_fraction is set=0.6819800315160672, colsample_bytree=1.0 will be ignored. Current value: feature_fraction=0.6819800315160672\n",
            "[LightGBM] [Warning] bagging_fraction is set=0.8431709348570906, subsample=1.0 will be ignored. Current value: bagging_fraction=0.8431709348570906\n",
            "[LightGBM] [Warning] lambda_l2 is set=0.054505760851133934, reg_lambda=0.0 will be ignored. Current value: lambda_l2=0.054505760851133934\n",
            "[LightGBM] [Warning] lambda_l1 is set=3.9651213725188745e-07, reg_alpha=0.0 will be ignored. Current value: lambda_l1=3.9651213725188745e-07\n",
            "[LightGBM] [Warning] bagging_freq is set=8, subsample_freq=0 will be ignored. Current value: bagging_freq=8\n",
            "[LightGBM] [Warning] feature_fraction is set=0.6819800315160672, colsample_bytree=1.0 will be ignored. Current value: feature_fraction=0.6819800315160672\n",
            "[LightGBM] [Warning] bagging_fraction is set=0.8431709348570906, subsample=1.0 will be ignored. Current value: bagging_fraction=0.8431709348570906\n",
            "[LightGBM] [Warning] lambda_l2 is set=0.054505760851133934, reg_lambda=0.0 will be ignored. Current value: lambda_l2=0.054505760851133934\n",
            "[LightGBM] [Warning] lambda_l1 is set=3.9651213725188745e-07, reg_alpha=0.0 will be ignored. Current value: lambda_l1=3.9651213725188745e-07\n",
            "[LightGBM] [Warning] bagging_freq is set=8, subsample_freq=0 will be ignored. Current value: bagging_freq=8\n",
            "[LightGBM] [Warning] feature_fraction is set=0.6819800315160672, colsample_bytree=1.0 will be ignored. Current value: feature_fraction=0.6819800315160672\n"
          ]
        },
        {
          "output_type": "stream",
          "name": "stderr",
          "text": [
            "\u001b[32m[I 2023-04-19 16:57:21,052]\u001b[0m Trial 28 finished with value: 0.6701986754966887 and parameters: {'bagging_freq': 8, 'num_iterations': 2258, 'lambda_l1': 3.9651213725188745e-07, 'lambda_l2': 0.054505760851133934, 'feature_fraction': 0.6819800315160672, 'bagging_fraction': 0.8431709348570906, 'min_child_samples': 639, 'max_depth': 5, 'learning_rate': 0.08669692967761239}. Best is trial 23 with value: 0.8745242209040629.\u001b[0m\n"
          ]
        },
        {
          "output_type": "stream",
          "name": "stdout",
          "text": [
            "[LightGBM] [Warning] bagging_fraction is set=0.8431709348570906, subsample=1.0 will be ignored. Current value: bagging_fraction=0.8431709348570906\n",
            "[LightGBM] [Warning] lambda_l2 is set=0.054505760851133934, reg_lambda=0.0 will be ignored. Current value: lambda_l2=0.054505760851133934\n",
            "[LightGBM] [Warning] lambda_l1 is set=3.9651213725188745e-07, reg_alpha=0.0 will be ignored. Current value: lambda_l1=3.9651213725188745e-07\n",
            "[LightGBM] [Warning] bagging_freq is set=8, subsample_freq=0 will be ignored. Current value: bagging_freq=8\n",
            "[LightGBM] [Warning] feature_fraction is set=0.6819800315160672, colsample_bytree=1.0 will be ignored. Current value: feature_fraction=0.6819800315160672\n",
            "[LightGBM] [Warning] bagging_fraction is set=0.8431709348570906, subsample=1.0 will be ignored. Current value: bagging_fraction=0.8431709348570906\n",
            "[LightGBM] [Warning] lambda_l2 is set=0.054505760851133934, reg_lambda=0.0 will be ignored. Current value: lambda_l2=0.054505760851133934\n",
            "[LightGBM] [Warning] lambda_l1 is set=3.9651213725188745e-07, reg_alpha=0.0 will be ignored. Current value: lambda_l1=3.9651213725188745e-07\n",
            "[LightGBM] [Warning] bagging_freq is set=8, subsample_freq=0 will be ignored. Current value: bagging_freq=8\n",
            "[LightGBM] [Warning] feature_fraction is set=0.6819800315160672, colsample_bytree=1.0 will be ignored. Current value: feature_fraction=0.6819800315160672\n",
            "[LightGBM] [Warning] bagging_fraction is set=0.9160584054318969, subsample=1.0 will be ignored. Current value: bagging_fraction=0.9160584054318969\n",
            "[LightGBM] [Warning] lambda_l2 is set=0.010909604640133526, reg_lambda=0.0 will be ignored. Current value: lambda_l2=0.010909604640133526\n",
            "[LightGBM] [Warning] lambda_l1 is set=0.00010242969344135113, reg_alpha=0.0 will be ignored. Current value: lambda_l1=0.00010242969344135113\n",
            "[LightGBM] [Warning] bagging_freq is set=5, subsample_freq=0 will be ignored. Current value: bagging_freq=5\n",
            "[LightGBM] [Warning] feature_fraction is set=0.5243664394225621, colsample_bytree=1.0 will be ignored. Current value: feature_fraction=0.5243664394225621\n",
            "[LightGBM] [Warning] bagging_fraction is set=0.9160584054318969, subsample=1.0 will be ignored. Current value: bagging_fraction=0.9160584054318969\n",
            "[LightGBM] [Warning] lambda_l2 is set=0.010909604640133526, reg_lambda=0.0 will be ignored. Current value: lambda_l2=0.010909604640133526\n",
            "[LightGBM] [Warning] lambda_l1 is set=0.00010242969344135113, reg_alpha=0.0 will be ignored. Current value: lambda_l1=0.00010242969344135113\n",
            "[LightGBM] [Warning] bagging_freq is set=5, subsample_freq=0 will be ignored. Current value: bagging_freq=5\n",
            "[LightGBM] [Warning] feature_fraction is set=0.5243664394225621, colsample_bytree=1.0 will be ignored. Current value: feature_fraction=0.5243664394225621\n",
            "[LightGBM] [Warning] bagging_fraction is set=0.9160584054318969, subsample=1.0 will be ignored. Current value: bagging_fraction=0.9160584054318969\n",
            "[LightGBM] [Warning] lambda_l2 is set=0.010909604640133526, reg_lambda=0.0 will be ignored. Current value: lambda_l2=0.010909604640133526\n",
            "[LightGBM] [Warning] lambda_l1 is set=0.00010242969344135113, reg_alpha=0.0 will be ignored. Current value: lambda_l1=0.00010242969344135113\n",
            "[LightGBM] [Warning] bagging_freq is set=5, subsample_freq=0 will be ignored. Current value: bagging_freq=5\n",
            "[LightGBM] [Warning] feature_fraction is set=0.5243664394225621, colsample_bytree=1.0 will be ignored. Current value: feature_fraction=0.5243664394225621\n"
          ]
        },
        {
          "output_type": "stream",
          "name": "stderr",
          "text": [
            "\u001b[32m[I 2023-04-19 16:57:21,501]\u001b[0m Trial 29 finished with value: 0.6701986754966887 and parameters: {'bagging_freq': 5, 'num_iterations': 2082, 'lambda_l1': 0.00010242969344135113, 'lambda_l2': 0.010909604640133526, 'feature_fraction': 0.5243664394225621, 'bagging_fraction': 0.9160584054318969, 'min_child_samples': 1038, 'max_depth': 8, 'learning_rate': 0.16502241670330836}. Best is trial 23 with value: 0.8745242209040629.\u001b[0m\n"
          ]
        },
        {
          "output_type": "stream",
          "name": "stdout",
          "text": [
            "[LightGBM] [Warning] bagging_fraction is set=0.9160584054318969, subsample=1.0 will be ignored. Current value: bagging_fraction=0.9160584054318969\n",
            "[LightGBM] [Warning] lambda_l2 is set=0.010909604640133526, reg_lambda=0.0 will be ignored. Current value: lambda_l2=0.010909604640133526\n",
            "[LightGBM] [Warning] lambda_l1 is set=0.00010242969344135113, reg_alpha=0.0 will be ignored. Current value: lambda_l1=0.00010242969344135113\n",
            "[LightGBM] [Warning] bagging_freq is set=5, subsample_freq=0 will be ignored. Current value: bagging_freq=5\n",
            "[LightGBM] [Warning] feature_fraction is set=0.5243664394225621, colsample_bytree=1.0 will be ignored. Current value: feature_fraction=0.5243664394225621\n",
            "[LightGBM] [Warning] bagging_fraction is set=0.9160584054318969, subsample=1.0 will be ignored. Current value: bagging_fraction=0.9160584054318969\n",
            "[LightGBM] [Warning] lambda_l2 is set=0.010909604640133526, reg_lambda=0.0 will be ignored. Current value: lambda_l2=0.010909604640133526\n",
            "[LightGBM] [Warning] lambda_l1 is set=0.00010242969344135113, reg_alpha=0.0 will be ignored. Current value: lambda_l1=0.00010242969344135113\n",
            "[LightGBM] [Warning] bagging_freq is set=5, subsample_freq=0 will be ignored. Current value: bagging_freq=5\n",
            "[LightGBM] [Warning] feature_fraction is set=0.5243664394225621, colsample_bytree=1.0 will be ignored. Current value: feature_fraction=0.5243664394225621\n",
            "[LightGBM] [Warning] bagging_fraction is set=0.9177934601910459, subsample=1.0 will be ignored. Current value: bagging_fraction=0.9177934601910459\n",
            "[LightGBM] [Warning] lambda_l2 is set=0.00040429117850772724, reg_lambda=0.0 will be ignored. Current value: lambda_l2=0.00040429117850772724\n",
            "[LightGBM] [Warning] lambda_l1 is set=1.943173177692821e-08, reg_alpha=0.0 will be ignored. Current value: lambda_l1=1.943173177692821e-08\n",
            "[LightGBM] [Warning] bagging_freq is set=7, subsample_freq=0 will be ignored. Current value: bagging_freq=7\n",
            "[LightGBM] [Warning] feature_fraction is set=0.6241175101838792, colsample_bytree=1.0 will be ignored. Current value: feature_fraction=0.6241175101838792\n",
            "[LightGBM] [Warning] bagging_fraction is set=0.9177934601910459, subsample=1.0 will be ignored. Current value: bagging_fraction=0.9177934601910459\n",
            "[LightGBM] [Warning] lambda_l2 is set=0.00040429117850772724, reg_lambda=0.0 will be ignored. Current value: lambda_l2=0.00040429117850772724\n",
            "[LightGBM] [Warning] lambda_l1 is set=1.943173177692821e-08, reg_alpha=0.0 will be ignored. Current value: lambda_l1=1.943173177692821e-08\n",
            "[LightGBM] [Warning] bagging_freq is set=7, subsample_freq=0 will be ignored. Current value: bagging_freq=7\n",
            "[LightGBM] [Warning] feature_fraction is set=0.6241175101838792, colsample_bytree=1.0 will be ignored. Current value: feature_fraction=0.6241175101838792\n",
            "[LightGBM] [Warning] bagging_fraction is set=0.9177934601910459, subsample=1.0 will be ignored. Current value: bagging_fraction=0.9177934601910459\n",
            "[LightGBM] [Warning] lambda_l2 is set=0.00040429117850772724, reg_lambda=0.0 will be ignored. Current value: lambda_l2=0.00040429117850772724\n",
            "[LightGBM] [Warning] lambda_l1 is set=1.943173177692821e-08, reg_alpha=0.0 will be ignored. Current value: lambda_l1=1.943173177692821e-08\n",
            "[LightGBM] [Warning] bagging_freq is set=7, subsample_freq=0 will be ignored. Current value: bagging_freq=7\n",
            "[LightGBM] [Warning] feature_fraction is set=0.6241175101838792, colsample_bytree=1.0 will be ignored. Current value: feature_fraction=0.6241175101838792\n",
            "[LightGBM] [Warning] bagging_fraction is set=0.9177934601910459, subsample=1.0 will be ignored. Current value: bagging_fraction=0.9177934601910459\n",
            "[LightGBM] [Warning] lambda_l2 is set=0.00040429117850772724, reg_lambda=0.0 will be ignored. Current value: lambda_l2=0.00040429117850772724\n",
            "[LightGBM] [Warning] lambda_l1 is set=1.943173177692821e-08, reg_alpha=0.0 will be ignored. Current value: lambda_l1=1.943173177692821e-08\n",
            "[LightGBM] [Warning] bagging_freq is set=7, subsample_freq=0 will be ignored. Current value: bagging_freq=7\n",
            "[LightGBM] [Warning] feature_fraction is set=0.6241175101838792, colsample_bytree=1.0 will be ignored. Current value: feature_fraction=0.6241175101838792\n"
          ]
        },
        {
          "output_type": "stream",
          "name": "stderr",
          "text": [
            "\u001b[32m[I 2023-04-19 16:57:21,869]\u001b[0m Trial 30 finished with value: 0.6701986754966887 and parameters: {'bagging_freq': 7, 'num_iterations': 1653, 'lambda_l1': 1.943173177692821e-08, 'lambda_l2': 0.00040429117850772724, 'feature_fraction': 0.6241175101838792, 'bagging_fraction': 0.9177934601910459, 'min_child_samples': 286, 'max_depth': 7, 'learning_rate': 0.147939965457821}. Best is trial 23 with value: 0.8745242209040629.\u001b[0m\n"
          ]
        },
        {
          "output_type": "stream",
          "name": "stdout",
          "text": [
            "[LightGBM] [Warning] bagging_fraction is set=0.9177934601910459, subsample=1.0 will be ignored. Current value: bagging_fraction=0.9177934601910459\n",
            "[LightGBM] [Warning] lambda_l2 is set=0.00040429117850772724, reg_lambda=0.0 will be ignored. Current value: lambda_l2=0.00040429117850772724\n",
            "[LightGBM] [Warning] lambda_l1 is set=1.943173177692821e-08, reg_alpha=0.0 will be ignored. Current value: lambda_l1=1.943173177692821e-08\n",
            "[LightGBM] [Warning] bagging_freq is set=7, subsample_freq=0 will be ignored. Current value: bagging_freq=7\n",
            "[LightGBM] [Warning] feature_fraction is set=0.6241175101838792, colsample_bytree=1.0 will be ignored. Current value: feature_fraction=0.6241175101838792\n",
            "[LightGBM] [Warning] bagging_fraction is set=0.9870937203261896, subsample=1.0 will be ignored. Current value: bagging_fraction=0.9870937203261896\n",
            "[LightGBM] [Warning] lambda_l2 is set=0.004017916619504552, reg_lambda=0.0 will be ignored. Current value: lambda_l2=0.004017916619504552\n",
            "[LightGBM] [Warning] lambda_l1 is set=8.218171938176094e-05, reg_alpha=0.0 will be ignored. Current value: lambda_l1=8.218171938176094e-05\n",
            "[LightGBM] [Warning] bagging_freq is set=6, subsample_freq=0 will be ignored. Current value: bagging_freq=6\n",
            "[LightGBM] [Warning] feature_fraction is set=0.575552965285115, colsample_bytree=1.0 will be ignored. Current value: feature_fraction=0.575552965285115\n",
            "[LightGBM] [Warning] bagging_fraction is set=0.9870937203261896, subsample=1.0 will be ignored. Current value: bagging_fraction=0.9870937203261896\n",
            "[LightGBM] [Warning] lambda_l2 is set=0.004017916619504552, reg_lambda=0.0 will be ignored. Current value: lambda_l2=0.004017916619504552\n",
            "[LightGBM] [Warning] lambda_l1 is set=8.218171938176094e-05, reg_alpha=0.0 will be ignored. Current value: lambda_l1=8.218171938176094e-05\n",
            "[LightGBM] [Warning] bagging_freq is set=6, subsample_freq=0 will be ignored. Current value: bagging_freq=6\n",
            "[LightGBM] [Warning] feature_fraction is set=0.575552965285115, colsample_bytree=1.0 will be ignored. Current value: feature_fraction=0.575552965285115\n",
            "[LightGBM] [Warning] bagging_fraction is set=0.9870937203261896, subsample=1.0 will be ignored. Current value: bagging_fraction=0.9870937203261896\n",
            "[LightGBM] [Warning] lambda_l2 is set=0.004017916619504552, reg_lambda=0.0 will be ignored. Current value: lambda_l2=0.004017916619504552\n",
            "[LightGBM] [Warning] lambda_l1 is set=8.218171938176094e-05, reg_alpha=0.0 will be ignored. Current value: lambda_l1=8.218171938176094e-05\n",
            "[LightGBM] [Warning] bagging_freq is set=6, subsample_freq=0 will be ignored. Current value: bagging_freq=6\n",
            "[LightGBM] [Warning] feature_fraction is set=0.575552965285115, colsample_bytree=1.0 will be ignored. Current value: feature_fraction=0.575552965285115\n",
            "[LightGBM] [Warning] bagging_fraction is set=0.9870937203261896, subsample=1.0 will be ignored. Current value: bagging_fraction=0.9870937203261896\n",
            "[LightGBM] [Warning] lambda_l2 is set=0.004017916619504552, reg_lambda=0.0 will be ignored. Current value: lambda_l2=0.004017916619504552\n",
            "[LightGBM] [Warning] lambda_l1 is set=8.218171938176094e-05, reg_alpha=0.0 will be ignored. Current value: lambda_l1=8.218171938176094e-05\n",
            "[LightGBM] [Warning] bagging_freq is set=6, subsample_freq=0 will be ignored. Current value: bagging_freq=6\n",
            "[LightGBM] [Warning] feature_fraction is set=0.575552965285115, colsample_bytree=1.0 will be ignored. Current value: feature_fraction=0.575552965285115\n",
            "[LightGBM] [Warning] bagging_fraction is set=0.9870937203261896, subsample=1.0 will be ignored. Current value: bagging_fraction=0.9870937203261896\n",
            "[LightGBM] [Warning] lambda_l2 is set=0.004017916619504552, reg_lambda=0.0 will be ignored. Current value: lambda_l2=0.004017916619504552\n",
            "[LightGBM] [Warning] lambda_l1 is set=8.218171938176094e-05, reg_alpha=0.0 will be ignored. Current value: lambda_l1=8.218171938176094e-05\n",
            "[LightGBM] [Warning] bagging_freq is set=6, subsample_freq=0 will be ignored. Current value: bagging_freq=6\n",
            "[LightGBM] [Warning] feature_fraction is set=0.575552965285115, colsample_bytree=1.0 will be ignored. Current value: feature_fraction=0.575552965285115\n"
          ]
        },
        {
          "output_type": "stream",
          "name": "stderr",
          "text": [
            "\u001b[32m[I 2023-04-19 16:57:28,029]\u001b[0m Trial 31 finished with value: 0.8703269959833246 and parameters: {'bagging_freq': 6, 'num_iterations': 2464, 'lambda_l1': 8.218171938176094e-05, 'lambda_l2': 0.004017916619504552, 'feature_fraction': 0.575552965285115, 'bagging_fraction': 0.9870937203261896, 'min_child_samples': 15, 'max_depth': 8, 'learning_rate': 0.1644646816903801}. Best is trial 23 with value: 0.8745242209040629.\u001b[0m\n"
          ]
        },
        {
          "output_type": "stream",
          "name": "stdout",
          "text": [
            "[LightGBM] [Warning] bagging_fraction is set=0.9958792727047256, subsample=1.0 will be ignored. Current value: bagging_fraction=0.9958792727047256\n",
            "[LightGBM] [Warning] lambda_l2 is set=0.0021925774953572576, reg_lambda=0.0 will be ignored. Current value: lambda_l2=0.0021925774953572576\n",
            "[LightGBM] [Warning] lambda_l1 is set=0.0005860816504529848, reg_alpha=0.0 will be ignored. Current value: lambda_l1=0.0005860816504529848\n",
            "[LightGBM] [Warning] bagging_freq is set=6, subsample_freq=0 will be ignored. Current value: bagging_freq=6\n",
            "[LightGBM] [Warning] feature_fraction is set=0.5829092230910328, colsample_bytree=1.0 will be ignored. Current value: feature_fraction=0.5829092230910328\n",
            "[LightGBM] [Warning] bagging_fraction is set=0.9958792727047256, subsample=1.0 will be ignored. Current value: bagging_fraction=0.9958792727047256\n",
            "[LightGBM] [Warning] lambda_l2 is set=0.0021925774953572576, reg_lambda=0.0 will be ignored. Current value: lambda_l2=0.0021925774953572576\n",
            "[LightGBM] [Warning] lambda_l1 is set=0.0005860816504529848, reg_alpha=0.0 will be ignored. Current value: lambda_l1=0.0005860816504529848\n",
            "[LightGBM] [Warning] bagging_freq is set=6, subsample_freq=0 will be ignored. Current value: bagging_freq=6\n",
            "[LightGBM] [Warning] feature_fraction is set=0.5829092230910328, colsample_bytree=1.0 will be ignored. Current value: feature_fraction=0.5829092230910328\n",
            "[LightGBM] [Warning] bagging_fraction is set=0.9958792727047256, subsample=1.0 will be ignored. Current value: bagging_fraction=0.9958792727047256\n",
            "[LightGBM] [Warning] lambda_l2 is set=0.0021925774953572576, reg_lambda=0.0 will be ignored. Current value: lambda_l2=0.0021925774953572576\n",
            "[LightGBM] [Warning] lambda_l1 is set=0.0005860816504529848, reg_alpha=0.0 will be ignored. Current value: lambda_l1=0.0005860816504529848\n",
            "[LightGBM] [Warning] bagging_freq is set=6, subsample_freq=0 will be ignored. Current value: bagging_freq=6\n",
            "[LightGBM] [Warning] feature_fraction is set=0.5829092230910328, colsample_bytree=1.0 will be ignored. Current value: feature_fraction=0.5829092230910328\n",
            "[LightGBM] [Warning] bagging_fraction is set=0.9958792727047256, subsample=1.0 will be ignored. Current value: bagging_fraction=0.9958792727047256\n",
            "[LightGBM] [Warning] lambda_l2 is set=0.0021925774953572576, reg_lambda=0.0 will be ignored. Current value: lambda_l2=0.0021925774953572576\n",
            "[LightGBM] [Warning] lambda_l1 is set=0.0005860816504529848, reg_alpha=0.0 will be ignored. Current value: lambda_l1=0.0005860816504529848\n",
            "[LightGBM] [Warning] bagging_freq is set=6, subsample_freq=0 will be ignored. Current value: bagging_freq=6\n",
            "[LightGBM] [Warning] feature_fraction is set=0.5829092230910328, colsample_bytree=1.0 will be ignored. Current value: feature_fraction=0.5829092230910328\n"
          ]
        },
        {
          "output_type": "stream",
          "name": "stderr",
          "text": [
            "\u001b[32m[I 2023-04-19 16:57:28,360]\u001b[0m Trial 32 finished with value: 0.6701986754966887 and parameters: {'bagging_freq': 6, 'num_iterations': 2343, 'lambda_l1': 0.0005860816504529848, 'lambda_l2': 0.0021925774953572576, 'feature_fraction': 0.5829092230910328, 'bagging_fraction': 0.9958792727047256, 'min_child_samples': 456, 'max_depth': 8, 'learning_rate': 0.2063512989968586}. Best is trial 23 with value: 0.8745242209040629.\u001b[0m\n"
          ]
        },
        {
          "output_type": "stream",
          "name": "stdout",
          "text": [
            "[LightGBM] [Warning] bagging_fraction is set=0.9958792727047256, subsample=1.0 will be ignored. Current value: bagging_fraction=0.9958792727047256\n",
            "[LightGBM] [Warning] lambda_l2 is set=0.0021925774953572576, reg_lambda=0.0 will be ignored. Current value: lambda_l2=0.0021925774953572576\n",
            "[LightGBM] [Warning] lambda_l1 is set=0.0005860816504529848, reg_alpha=0.0 will be ignored. Current value: lambda_l1=0.0005860816504529848\n",
            "[LightGBM] [Warning] bagging_freq is set=6, subsample_freq=0 will be ignored. Current value: bagging_freq=6\n",
            "[LightGBM] [Warning] feature_fraction is set=0.5829092230910328, colsample_bytree=1.0 will be ignored. Current value: feature_fraction=0.5829092230910328\n",
            "[LightGBM] [Warning] bagging_fraction is set=0.8268955191322778, subsample=1.0 will be ignored. Current value: bagging_fraction=0.8268955191322778\n",
            "[LightGBM] [Warning] lambda_l2 is set=0.09472189164618734, reg_lambda=0.0 will be ignored. Current value: lambda_l2=0.09472189164618734\n",
            "[LightGBM] [Warning] lambda_l1 is set=3.0339574931159045e-05, reg_alpha=0.0 will be ignored. Current value: lambda_l1=3.0339574931159045e-05\n",
            "[LightGBM] [Warning] bagging_freq is set=5, subsample_freq=0 will be ignored. Current value: bagging_freq=5\n",
            "[LightGBM] [Warning] feature_fraction is set=0.676696044103946, colsample_bytree=1.0 will be ignored. Current value: feature_fraction=0.676696044103946\n",
            "[LightGBM] [Warning] bagging_fraction is set=0.8268955191322778, subsample=1.0 will be ignored. Current value: bagging_fraction=0.8268955191322778\n",
            "[LightGBM] [Warning] lambda_l2 is set=0.09472189164618734, reg_lambda=0.0 will be ignored. Current value: lambda_l2=0.09472189164618734\n",
            "[LightGBM] [Warning] lambda_l1 is set=3.0339574931159045e-05, reg_alpha=0.0 will be ignored. Current value: lambda_l1=3.0339574931159045e-05\n",
            "[LightGBM] [Warning] bagging_freq is set=5, subsample_freq=0 will be ignored. Current value: bagging_freq=5\n",
            "[LightGBM] [Warning] feature_fraction is set=0.676696044103946, colsample_bytree=1.0 will be ignored. Current value: feature_fraction=0.676696044103946\n",
            "[LightGBM] [Warning] bagging_fraction is set=0.8268955191322778, subsample=1.0 will be ignored. Current value: bagging_fraction=0.8268955191322778\n",
            "[LightGBM] [Warning] lambda_l2 is set=0.09472189164618734, reg_lambda=0.0 will be ignored. Current value: lambda_l2=0.09472189164618734\n",
            "[LightGBM] [Warning] lambda_l1 is set=3.0339574931159045e-05, reg_alpha=0.0 will be ignored. Current value: lambda_l1=3.0339574931159045e-05\n",
            "[LightGBM] [Warning] bagging_freq is set=5, subsample_freq=0 will be ignored. Current value: bagging_freq=5\n",
            "[LightGBM] [Warning] feature_fraction is set=0.676696044103946, colsample_bytree=1.0 will be ignored. Current value: feature_fraction=0.676696044103946\n",
            "[LightGBM] [Warning] bagging_fraction is set=0.8268955191322778, subsample=1.0 will be ignored. Current value: bagging_fraction=0.8268955191322778\n",
            "[LightGBM] [Warning] lambda_l2 is set=0.09472189164618734, reg_lambda=0.0 will be ignored. Current value: lambda_l2=0.09472189164618734\n",
            "[LightGBM] [Warning] lambda_l1 is set=3.0339574931159045e-05, reg_alpha=0.0 will be ignored. Current value: lambda_l1=3.0339574931159045e-05\n",
            "[LightGBM] [Warning] bagging_freq is set=5, subsample_freq=0 will be ignored. Current value: bagging_freq=5\n",
            "[LightGBM] [Warning] feature_fraction is set=0.676696044103946, colsample_bytree=1.0 will be ignored. Current value: feature_fraction=0.676696044103946\n",
            "[LightGBM] [Warning] bagging_fraction is set=0.8268955191322778, subsample=1.0 will be ignored. Current value: bagging_fraction=0.8268955191322778\n",
            "[LightGBM] [Warning] lambda_l2 is set=0.09472189164618734, reg_lambda=0.0 will be ignored. Current value: lambda_l2=0.09472189164618734\n",
            "[LightGBM] [Warning] lambda_l1 is set=3.0339574931159045e-05, reg_alpha=0.0 will be ignored. Current value: lambda_l1=3.0339574931159045e-05\n",
            "[LightGBM] [Warning] bagging_freq is set=5, subsample_freq=0 will be ignored. Current value: bagging_freq=5\n",
            "[LightGBM] [Warning] feature_fraction is set=0.676696044103946, colsample_bytree=1.0 will be ignored. Current value: feature_fraction=0.676696044103946\n"
          ]
        },
        {
          "output_type": "stream",
          "name": "stderr",
          "text": [
            "\u001b[32m[I 2023-04-19 16:57:29,018]\u001b[0m Trial 33 finished with value: 0.6701986754966887 and parameters: {'bagging_freq': 5, 'num_iterations': 2045, 'lambda_l1': 3.0339574931159045e-05, 'lambda_l2': 0.09472189164618734, 'feature_fraction': 0.676696044103946, 'bagging_fraction': 0.8268955191322778, 'min_child_samples': 181, 'max_depth': 8, 'learning_rate': 0.18076976408612916}. Best is trial 23 with value: 0.8745242209040629.\u001b[0m\n"
          ]
        },
        {
          "output_type": "stream",
          "name": "stdout",
          "text": [
            "[LightGBM] [Warning] bagging_fraction is set=0.9269818213737783, subsample=1.0 will be ignored. Current value: bagging_fraction=0.9269818213737783\n",
            "[LightGBM] [Warning] lambda_l2 is set=0.011876426499261848, reg_lambda=0.0 will be ignored. Current value: lambda_l2=0.011876426499261848\n",
            "[LightGBM] [Warning] lambda_l1 is set=7.714199552538664e-06, reg_alpha=0.0 will be ignored. Current value: lambda_l1=7.714199552538664e-06\n",
            "[LightGBM] [Warning] bagging_freq is set=7, subsample_freq=0 will be ignored. Current value: bagging_freq=7\n",
            "[LightGBM] [Warning] feature_fraction is set=0.4746485708323353, colsample_bytree=1.0 will be ignored. Current value: feature_fraction=0.4746485708323353\n",
            "[LightGBM] [Warning] bagging_fraction is set=0.9269818213737783, subsample=1.0 will be ignored. Current value: bagging_fraction=0.9269818213737783\n",
            "[LightGBM] [Warning] lambda_l2 is set=0.011876426499261848, reg_lambda=0.0 will be ignored. Current value: lambda_l2=0.011876426499261848\n",
            "[LightGBM] [Warning] lambda_l1 is set=7.714199552538664e-06, reg_alpha=0.0 will be ignored. Current value: lambda_l1=7.714199552538664e-06\n",
            "[LightGBM] [Warning] bagging_freq is set=7, subsample_freq=0 will be ignored. Current value: bagging_freq=7\n",
            "[LightGBM] [Warning] feature_fraction is set=0.4746485708323353, colsample_bytree=1.0 will be ignored. Current value: feature_fraction=0.4746485708323353\n",
            "[LightGBM] [Warning] bagging_fraction is set=0.9269818213737783, subsample=1.0 will be ignored. Current value: bagging_fraction=0.9269818213737783\n",
            "[LightGBM] [Warning] lambda_l2 is set=0.011876426499261848, reg_lambda=0.0 will be ignored. Current value: lambda_l2=0.011876426499261848\n",
            "[LightGBM] [Warning] lambda_l1 is set=7.714199552538664e-06, reg_alpha=0.0 will be ignored. Current value: lambda_l1=7.714199552538664e-06\n",
            "[LightGBM] [Warning] bagging_freq is set=7, subsample_freq=0 will be ignored. Current value: bagging_freq=7\n",
            "[LightGBM] [Warning] feature_fraction is set=0.4746485708323353, colsample_bytree=1.0 will be ignored. Current value: feature_fraction=0.4746485708323353\n",
            "[LightGBM] [Warning] bagging_fraction is set=0.9269818213737783, subsample=1.0 will be ignored. Current value: bagging_fraction=0.9269818213737783\n",
            "[LightGBM] [Warning] lambda_l2 is set=0.011876426499261848, reg_lambda=0.0 will be ignored. Current value: lambda_l2=0.011876426499261848\n",
            "[LightGBM] [Warning] lambda_l1 is set=7.714199552538664e-06, reg_alpha=0.0 will be ignored. Current value: lambda_l1=7.714199552538664e-06\n",
            "[LightGBM] [Warning] bagging_freq is set=7, subsample_freq=0 will be ignored. Current value: bagging_freq=7\n",
            "[LightGBM] [Warning] feature_fraction is set=0.4746485708323353, colsample_bytree=1.0 will be ignored. Current value: feature_fraction=0.4746485708323353\n",
            "[LightGBM] [Warning] bagging_fraction is set=0.9269818213737783, subsample=1.0 will be ignored. Current value: bagging_fraction=0.9269818213737783\n",
            "[LightGBM] [Warning] lambda_l2 is set=0.011876426499261848, reg_lambda=0.0 will be ignored. Current value: lambda_l2=0.011876426499261848\n",
            "[LightGBM] [Warning] lambda_l1 is set=7.714199552538664e-06, reg_alpha=0.0 will be ignored. Current value: lambda_l1=7.714199552538664e-06\n",
            "[LightGBM] [Warning] bagging_freq is set=7, subsample_freq=0 will be ignored. Current value: bagging_freq=7\n",
            "[LightGBM] [Warning] feature_fraction is set=0.4746485708323353, colsample_bytree=1.0 will be ignored. Current value: feature_fraction=0.4746485708323353\n"
          ]
        },
        {
          "output_type": "stream",
          "name": "stderr",
          "text": [
            "\u001b[32m[I 2023-04-19 16:57:32,390]\u001b[0m Trial 34 finished with value: 0.860273856284721 and parameters: {'bagging_freq': 7, 'num_iterations': 2252, 'lambda_l1': 7.714199552538664e-06, 'lambda_l2': 0.011876426499261848, 'feature_fraction': 0.4746485708323353, 'bagging_fraction': 0.9269818213737783, 'min_child_samples': 6, 'max_depth': 7, 'learning_rate': 0.13874348907911666}. Best is trial 23 with value: 0.8745242209040629.\u001b[0m\n"
          ]
        },
        {
          "output_type": "stream",
          "name": "stdout",
          "text": [
            "[LightGBM] [Warning] bagging_fraction is set=0.7885302346013068, subsample=1.0 will be ignored. Current value: bagging_fraction=0.7885302346013068\n",
            "[LightGBM] [Warning] lambda_l2 is set=0.014952640073462748, reg_lambda=0.0 will be ignored. Current value: lambda_l2=0.014952640073462748\n",
            "[LightGBM] [Warning] lambda_l1 is set=5.855152643139863e-06, reg_alpha=0.0 will be ignored. Current value: lambda_l1=5.855152643139863e-06\n",
            "[LightGBM] [Warning] bagging_freq is set=7, subsample_freq=0 will be ignored. Current value: bagging_freq=7\n",
            "[LightGBM] [Warning] feature_fraction is set=0.4927156978126186, colsample_bytree=1.0 will be ignored. Current value: feature_fraction=0.4927156978126186\n",
            "[LightGBM] [Warning] bagging_fraction is set=0.7885302346013068, subsample=1.0 will be ignored. Current value: bagging_fraction=0.7885302346013068\n",
            "[LightGBM] [Warning] lambda_l2 is set=0.014952640073462748, reg_lambda=0.0 will be ignored. Current value: lambda_l2=0.014952640073462748\n",
            "[LightGBM] [Warning] lambda_l1 is set=5.855152643139863e-06, reg_alpha=0.0 will be ignored. Current value: lambda_l1=5.855152643139863e-06\n",
            "[LightGBM] [Warning] bagging_freq is set=7, subsample_freq=0 will be ignored. Current value: bagging_freq=7\n",
            "[LightGBM] [Warning] feature_fraction is set=0.4927156978126186, colsample_bytree=1.0 will be ignored. Current value: feature_fraction=0.4927156978126186\n",
            "[LightGBM] [Warning] bagging_fraction is set=0.7885302346013068, subsample=1.0 will be ignored. Current value: bagging_fraction=0.7885302346013068\n",
            "[LightGBM] [Warning] lambda_l2 is set=0.014952640073462748, reg_lambda=0.0 will be ignored. Current value: lambda_l2=0.014952640073462748\n",
            "[LightGBM] [Warning] lambda_l1 is set=5.855152643139863e-06, reg_alpha=0.0 will be ignored. Current value: lambda_l1=5.855152643139863e-06\n",
            "[LightGBM] [Warning] bagging_freq is set=7, subsample_freq=0 will be ignored. Current value: bagging_freq=7\n",
            "[LightGBM] [Warning] feature_fraction is set=0.4927156978126186, colsample_bytree=1.0 will be ignored. Current value: feature_fraction=0.4927156978126186\n"
          ]
        },
        {
          "output_type": "stream",
          "name": "stderr",
          "text": [
            "\u001b[32m[I 2023-04-19 16:57:32,863]\u001b[0m Trial 35 finished with value: 0.6701986754966887 and parameters: {'bagging_freq': 7, 'num_iterations': 2257, 'lambda_l1': 5.855152643139863e-06, 'lambda_l2': 0.014952640073462748, 'feature_fraction': 0.4927156978126186, 'bagging_fraction': 0.7885302346013068, 'min_child_samples': 479, 'max_depth': 7, 'learning_rate': 0.13837881131800492}. Best is trial 23 with value: 0.8745242209040629.\u001b[0m\n"
          ]
        },
        {
          "output_type": "stream",
          "name": "stdout",
          "text": [
            "[LightGBM] [Warning] bagging_fraction is set=0.7885302346013068, subsample=1.0 will be ignored. Current value: bagging_fraction=0.7885302346013068\n",
            "[LightGBM] [Warning] lambda_l2 is set=0.014952640073462748, reg_lambda=0.0 will be ignored. Current value: lambda_l2=0.014952640073462748\n",
            "[LightGBM] [Warning] lambda_l1 is set=5.855152643139863e-06, reg_alpha=0.0 will be ignored. Current value: lambda_l1=5.855152643139863e-06\n",
            "[LightGBM] [Warning] bagging_freq is set=7, subsample_freq=0 will be ignored. Current value: bagging_freq=7\n",
            "[LightGBM] [Warning] feature_fraction is set=0.4927156978126186, colsample_bytree=1.0 will be ignored. Current value: feature_fraction=0.4927156978126186\n",
            "[LightGBM] [Warning] bagging_fraction is set=0.7885302346013068, subsample=1.0 will be ignored. Current value: bagging_fraction=0.7885302346013068\n",
            "[LightGBM] [Warning] lambda_l2 is set=0.014952640073462748, reg_lambda=0.0 will be ignored. Current value: lambda_l2=0.014952640073462748\n",
            "[LightGBM] [Warning] lambda_l1 is set=5.855152643139863e-06, reg_alpha=0.0 will be ignored. Current value: lambda_l1=5.855152643139863e-06\n",
            "[LightGBM] [Warning] bagging_freq is set=7, subsample_freq=0 will be ignored. Current value: bagging_freq=7\n",
            "[LightGBM] [Warning] feature_fraction is set=0.4927156978126186, colsample_bytree=1.0 will be ignored. Current value: feature_fraction=0.4927156978126186\n",
            "[LightGBM] [Warning] bagging_fraction is set=0.87067805684364, subsample=1.0 will be ignored. Current value: bagging_fraction=0.87067805684364\n",
            "[LightGBM] [Warning] lambda_l2 is set=0.001189817509839009, reg_lambda=0.0 will be ignored. Current value: lambda_l2=0.001189817509839009\n",
            "[LightGBM] [Warning] lambda_l1 is set=7.021615953592968e-05, reg_alpha=0.0 will be ignored. Current value: lambda_l1=7.021615953592968e-05\n",
            "[LightGBM] [Warning] bagging_freq is set=8, subsample_freq=0 will be ignored. Current value: bagging_freq=8\n",
            "[LightGBM] [Warning] feature_fraction is set=0.41877637868673184, colsample_bytree=1.0 will be ignored. Current value: feature_fraction=0.41877637868673184\n",
            "[LightGBM] [Warning] bagging_fraction is set=0.87067805684364, subsample=1.0 will be ignored. Current value: bagging_fraction=0.87067805684364\n",
            "[LightGBM] [Warning] lambda_l2 is set=0.001189817509839009, reg_lambda=0.0 will be ignored. Current value: lambda_l2=0.001189817509839009\n",
            "[LightGBM] [Warning] lambda_l1 is set=7.021615953592968e-05, reg_alpha=0.0 will be ignored. Current value: lambda_l1=7.021615953592968e-05\n",
            "[LightGBM] [Warning] bagging_freq is set=8, subsample_freq=0 will be ignored. Current value: bagging_freq=8\n",
            "[LightGBM] [Warning] feature_fraction is set=0.41877637868673184, colsample_bytree=1.0 will be ignored. Current value: feature_fraction=0.41877637868673184\n",
            "[LightGBM] [Warning] bagging_fraction is set=0.87067805684364, subsample=1.0 will be ignored. Current value: bagging_fraction=0.87067805684364\n",
            "[LightGBM] [Warning] lambda_l2 is set=0.001189817509839009, reg_lambda=0.0 will be ignored. Current value: lambda_l2=0.001189817509839009\n",
            "[LightGBM] [Warning] lambda_l1 is set=7.021615953592968e-05, reg_alpha=0.0 will be ignored. Current value: lambda_l1=7.021615953592968e-05\n",
            "[LightGBM] [Warning] bagging_freq is set=8, subsample_freq=0 will be ignored. Current value: bagging_freq=8\n",
            "[LightGBM] [Warning] feature_fraction is set=0.41877637868673184, colsample_bytree=1.0 will be ignored. Current value: feature_fraction=0.41877637868673184\n"
          ]
        },
        {
          "output_type": "stream",
          "name": "stderr",
          "text": [
            "\u001b[32m[I 2023-04-19 16:57:33,296]\u001b[0m Trial 36 finished with value: 0.6701986754966887 and parameters: {'bagging_freq': 8, 'num_iterations': 2024, 'lambda_l1': 7.021615953592968e-05, 'lambda_l2': 0.001189817509839009, 'feature_fraction': 0.41877637868673184, 'bagging_fraction': 0.87067805684364, 'min_child_samples': 891, 'max_depth': 8, 'learning_rate': 0.17104616014574855}. Best is trial 23 with value: 0.8745242209040629.\u001b[0m\n"
          ]
        },
        {
          "output_type": "stream",
          "name": "stdout",
          "text": [
            "[LightGBM] [Warning] bagging_fraction is set=0.87067805684364, subsample=1.0 will be ignored. Current value: bagging_fraction=0.87067805684364\n",
            "[LightGBM] [Warning] lambda_l2 is set=0.001189817509839009, reg_lambda=0.0 will be ignored. Current value: lambda_l2=0.001189817509839009\n",
            "[LightGBM] [Warning] lambda_l1 is set=7.021615953592968e-05, reg_alpha=0.0 will be ignored. Current value: lambda_l1=7.021615953592968e-05\n",
            "[LightGBM] [Warning] bagging_freq is set=8, subsample_freq=0 will be ignored. Current value: bagging_freq=8\n",
            "[LightGBM] [Warning] feature_fraction is set=0.41877637868673184, colsample_bytree=1.0 will be ignored. Current value: feature_fraction=0.41877637868673184\n",
            "[LightGBM] [Warning] bagging_fraction is set=0.87067805684364, subsample=1.0 will be ignored. Current value: bagging_fraction=0.87067805684364\n",
            "[LightGBM] [Warning] lambda_l2 is set=0.001189817509839009, reg_lambda=0.0 will be ignored. Current value: lambda_l2=0.001189817509839009\n",
            "[LightGBM] [Warning] lambda_l1 is set=7.021615953592968e-05, reg_alpha=0.0 will be ignored. Current value: lambda_l1=7.021615953592968e-05\n",
            "[LightGBM] [Warning] bagging_freq is set=8, subsample_freq=0 will be ignored. Current value: bagging_freq=8\n",
            "[LightGBM] [Warning] feature_fraction is set=0.41877637868673184, colsample_bytree=1.0 will be ignored. Current value: feature_fraction=0.41877637868673184\n",
            "[LightGBM] [Warning] bagging_fraction is set=0.9272078690561238, subsample=1.0 will be ignored. Current value: bagging_fraction=0.9272078690561238\n",
            "[LightGBM] [Warning] lambda_l2 is set=0.00020167822620795287, reg_lambda=0.0 will be ignored. Current value: lambda_l2=0.00020167822620795287\n",
            "[LightGBM] [Warning] lambda_l1 is set=1.3820015126122006e-07, reg_alpha=0.0 will be ignored. Current value: lambda_l1=1.3820015126122006e-07\n",
            "[LightGBM] [Warning] bagging_freq is set=7, subsample_freq=0 will be ignored. Current value: bagging_freq=7\n",
            "[LightGBM] [Warning] feature_fraction is set=0.46690359876324333, colsample_bytree=1.0 will be ignored. Current value: feature_fraction=0.46690359876324333\n",
            "[LightGBM] [Warning] bagging_fraction is set=0.9272078690561238, subsample=1.0 will be ignored. Current value: bagging_fraction=0.9272078690561238\n",
            "[LightGBM] [Warning] lambda_l2 is set=0.00020167822620795287, reg_lambda=0.0 will be ignored. Current value: lambda_l2=0.00020167822620795287\n",
            "[LightGBM] [Warning] lambda_l1 is set=1.3820015126122006e-07, reg_alpha=0.0 will be ignored. Current value: lambda_l1=1.3820015126122006e-07\n",
            "[LightGBM] [Warning] bagging_freq is set=7, subsample_freq=0 will be ignored. Current value: bagging_freq=7\n",
            "[LightGBM] [Warning] feature_fraction is set=0.46690359876324333, colsample_bytree=1.0 will be ignored. Current value: feature_fraction=0.46690359876324333\n",
            "[LightGBM] [Warning] bagging_fraction is set=0.9272078690561238, subsample=1.0 will be ignored. Current value: bagging_fraction=0.9272078690561238\n",
            "[LightGBM] [Warning] lambda_l2 is set=0.00020167822620795287, reg_lambda=0.0 will be ignored. Current value: lambda_l2=0.00020167822620795287\n",
            "[LightGBM] [Warning] lambda_l1 is set=1.3820015126122006e-07, reg_alpha=0.0 will be ignored. Current value: lambda_l1=1.3820015126122006e-07\n",
            "[LightGBM] [Warning] bagging_freq is set=7, subsample_freq=0 will be ignored. Current value: bagging_freq=7\n",
            "[LightGBM] [Warning] feature_fraction is set=0.46690359876324333, colsample_bytree=1.0 will be ignored. Current value: feature_fraction=0.46690359876324333\n",
            "[LightGBM] [Warning] bagging_fraction is set=0.9272078690561238, subsample=1.0 will be ignored. Current value: bagging_fraction=0.9272078690561238\n",
            "[LightGBM] [Warning] lambda_l2 is set=0.00020167822620795287, reg_lambda=0.0 will be ignored. Current value: lambda_l2=0.00020167822620795287\n",
            "[LightGBM] [Warning] lambda_l1 is set=1.3820015126122006e-07, reg_alpha=0.0 will be ignored. Current value: lambda_l1=1.3820015126122006e-07\n",
            "[LightGBM] [Warning] bagging_freq is set=7, subsample_freq=0 will be ignored. Current value: bagging_freq=7\n",
            "[LightGBM] [Warning] feature_fraction is set=0.46690359876324333, colsample_bytree=1.0 will be ignored. Current value: feature_fraction=0.46690359876324333\n",
            "[LightGBM] [Warning] bagging_fraction is set=0.9272078690561238, subsample=1.0 will be ignored. Current value: bagging_fraction=0.9272078690561238\n",
            "[LightGBM] [Warning] lambda_l2 is set=0.00020167822620795287, reg_lambda=0.0 will be ignored. Current value: lambda_l2=0.00020167822620795287\n",
            "[LightGBM] [Warning] lambda_l1 is set=1.3820015126122006e-07, reg_alpha=0.0 will be ignored. Current value: lambda_l1=1.3820015126122006e-07\n",
            "[LightGBM] [Warning] bagging_freq is set=7, subsample_freq=0 will be ignored. Current value: bagging_freq=7\n",
            "[LightGBM] [Warning] feature_fraction is set=0.46690359876324333, colsample_bytree=1.0 will be ignored. Current value: feature_fraction=0.46690359876324333\n"
          ]
        },
        {
          "output_type": "stream",
          "name": "stderr",
          "text": [
            "\u001b[32m[I 2023-04-19 16:57:33,633]\u001b[0m Trial 37 finished with value: 0.6701986754966887 and parameters: {'bagging_freq': 7, 'num_iterations': 1391, 'lambda_l1': 1.3820015126122006e-07, 'lambda_l2': 0.00020167822620795287, 'feature_fraction': 0.46690359876324333, 'bagging_fraction': 0.9272078690561238, 'min_child_samples': 1348, 'max_depth': 8, 'learning_rate': 0.21407030250019773}. Best is trial 23 with value: 0.8745242209040629.\u001b[0m\n"
          ]
        },
        {
          "output_type": "stream",
          "name": "stdout",
          "text": [
            "[LightGBM] [Warning] bagging_fraction is set=0.7861322035227527, subsample=1.0 will be ignored. Current value: bagging_fraction=0.7861322035227527\n",
            "[LightGBM] [Warning] lambda_l2 is set=0.1375266867426184, reg_lambda=0.0 will be ignored. Current value: lambda_l2=0.1375266867426184\n",
            "[LightGBM] [Warning] lambda_l1 is set=1.2065626233077597e-05, reg_alpha=0.0 will be ignored. Current value: lambda_l1=1.2065626233077597e-05\n",
            "[LightGBM] [Warning] bagging_freq is set=4, subsample_freq=0 will be ignored. Current value: bagging_freq=4\n",
            "[LightGBM] [Warning] feature_fraction is set=0.35327909644658995, colsample_bytree=1.0 will be ignored. Current value: feature_fraction=0.35327909644658995\n",
            "[LightGBM] [Warning] bagging_fraction is set=0.7861322035227527, subsample=1.0 will be ignored. Current value: bagging_fraction=0.7861322035227527\n",
            "[LightGBM] [Warning] lambda_l2 is set=0.1375266867426184, reg_lambda=0.0 will be ignored. Current value: lambda_l2=0.1375266867426184\n",
            "[LightGBM] [Warning] lambda_l1 is set=1.2065626233077597e-05, reg_alpha=0.0 will be ignored. Current value: lambda_l1=1.2065626233077597e-05\n",
            "[LightGBM] [Warning] bagging_freq is set=4, subsample_freq=0 will be ignored. Current value: bagging_freq=4\n",
            "[LightGBM] [Warning] feature_fraction is set=0.35327909644658995, colsample_bytree=1.0 will be ignored. Current value: feature_fraction=0.35327909644658995\n",
            "[LightGBM] [Warning] bagging_fraction is set=0.7861322035227527, subsample=1.0 will be ignored. Current value: bagging_fraction=0.7861322035227527\n",
            "[LightGBM] [Warning] lambda_l2 is set=0.1375266867426184, reg_lambda=0.0 will be ignored. Current value: lambda_l2=0.1375266867426184\n",
            "[LightGBM] [Warning] lambda_l1 is set=1.2065626233077597e-05, reg_alpha=0.0 will be ignored. Current value: lambda_l1=1.2065626233077597e-05\n",
            "[LightGBM] [Warning] bagging_freq is set=4, subsample_freq=0 will be ignored. Current value: bagging_freq=4\n",
            "[LightGBM] [Warning] feature_fraction is set=0.35327909644658995, colsample_bytree=1.0 will be ignored. Current value: feature_fraction=0.35327909644658995\n",
            "[LightGBM] [Warning] bagging_fraction is set=0.7861322035227527, subsample=1.0 will be ignored. Current value: bagging_fraction=0.7861322035227527\n",
            "[LightGBM] [Warning] lambda_l2 is set=0.1375266867426184, reg_lambda=0.0 will be ignored. Current value: lambda_l2=0.1375266867426184\n",
            "[LightGBM] [Warning] lambda_l1 is set=1.2065626233077597e-05, reg_alpha=0.0 will be ignored. Current value: lambda_l1=1.2065626233077597e-05\n",
            "[LightGBM] [Warning] bagging_freq is set=4, subsample_freq=0 will be ignored. Current value: bagging_freq=4\n",
            "[LightGBM] [Warning] feature_fraction is set=0.35327909644658995, colsample_bytree=1.0 will be ignored. Current value: feature_fraction=0.35327909644658995\n"
          ]
        },
        {
          "output_type": "stream",
          "name": "stderr",
          "text": [
            "\u001b[32m[I 2023-04-19 16:57:34,018]\u001b[0m Trial 38 finished with value: 0.6701986754966887 and parameters: {'bagging_freq': 4, 'num_iterations': 1743, 'lambda_l1': 1.2065626233077597e-05, 'lambda_l2': 0.1375266867426184, 'feature_fraction': 0.35327909644658995, 'bagging_fraction': 0.7861322035227527, 'min_child_samples': 427, 'max_depth': 7, 'learning_rate': 0.16994592383999635}. Best is trial 23 with value: 0.8745242209040629.\u001b[0m\n"
          ]
        },
        {
          "output_type": "stream",
          "name": "stdout",
          "text": [
            "[LightGBM] [Warning] bagging_fraction is set=0.7861322035227527, subsample=1.0 will be ignored. Current value: bagging_fraction=0.7861322035227527\n",
            "[LightGBM] [Warning] lambda_l2 is set=0.1375266867426184, reg_lambda=0.0 will be ignored. Current value: lambda_l2=0.1375266867426184\n",
            "[LightGBM] [Warning] lambda_l1 is set=1.2065626233077597e-05, reg_alpha=0.0 will be ignored. Current value: lambda_l1=1.2065626233077597e-05\n",
            "[LightGBM] [Warning] bagging_freq is set=4, subsample_freq=0 will be ignored. Current value: bagging_freq=4\n",
            "[LightGBM] [Warning] feature_fraction is set=0.35327909644658995, colsample_bytree=1.0 will be ignored. Current value: feature_fraction=0.35327909644658995\n",
            "[LightGBM] [Warning] bagging_fraction is set=0.9383396688282926, subsample=1.0 will be ignored. Current value: bagging_fraction=0.9383396688282926\n",
            "[LightGBM] [Warning] lambda_l2 is set=0.030223971816385736, reg_lambda=0.0 will be ignored. Current value: lambda_l2=0.030223971816385736\n",
            "[LightGBM] [Warning] lambda_l1 is set=1.8782141072907268e-06, reg_alpha=0.0 will be ignored. Current value: lambda_l1=1.8782141072907268e-06\n",
            "[LightGBM] [Warning] bagging_freq is set=6, subsample_freq=0 will be ignored. Current value: bagging_freq=6\n",
            "[LightGBM] [Warning] feature_fraction is set=0.528529372035105, colsample_bytree=1.0 will be ignored. Current value: feature_fraction=0.528529372035105\n",
            "[LightGBM] [Warning] bagging_fraction is set=0.9383396688282926, subsample=1.0 will be ignored. Current value: bagging_fraction=0.9383396688282926\n",
            "[LightGBM] [Warning] lambda_l2 is set=0.030223971816385736, reg_lambda=0.0 will be ignored. Current value: lambda_l2=0.030223971816385736\n",
            "[LightGBM] [Warning] lambda_l1 is set=1.8782141072907268e-06, reg_alpha=0.0 will be ignored. Current value: lambda_l1=1.8782141072907268e-06\n",
            "[LightGBM] [Warning] bagging_freq is set=6, subsample_freq=0 will be ignored. Current value: bagging_freq=6\n",
            "[LightGBM] [Warning] feature_fraction is set=0.528529372035105, colsample_bytree=1.0 will be ignored. Current value: feature_fraction=0.528529372035105\n",
            "[LightGBM] [Warning] bagging_fraction is set=0.9383396688282926, subsample=1.0 will be ignored. Current value: bagging_fraction=0.9383396688282926\n",
            "[LightGBM] [Warning] lambda_l2 is set=0.030223971816385736, reg_lambda=0.0 will be ignored. Current value: lambda_l2=0.030223971816385736\n",
            "[LightGBM] [Warning] lambda_l1 is set=1.8782141072907268e-06, reg_alpha=0.0 will be ignored. Current value: lambda_l1=1.8782141072907268e-06\n",
            "[LightGBM] [Warning] bagging_freq is set=6, subsample_freq=0 will be ignored. Current value: bagging_freq=6\n",
            "[LightGBM] [Warning] feature_fraction is set=0.528529372035105, colsample_bytree=1.0 will be ignored. Current value: feature_fraction=0.528529372035105\n",
            "[LightGBM] [Warning] bagging_fraction is set=0.9383396688282926, subsample=1.0 will be ignored. Current value: bagging_fraction=0.9383396688282926\n",
            "[LightGBM] [Warning] lambda_l2 is set=0.030223971816385736, reg_lambda=0.0 will be ignored. Current value: lambda_l2=0.030223971816385736\n",
            "[LightGBM] [Warning] lambda_l1 is set=1.8782141072907268e-06, reg_alpha=0.0 will be ignored. Current value: lambda_l1=1.8782141072907268e-06\n",
            "[LightGBM] [Warning] bagging_freq is set=6, subsample_freq=0 will be ignored. Current value: bagging_freq=6\n",
            "[LightGBM] [Warning] feature_fraction is set=0.528529372035105, colsample_bytree=1.0 will be ignored. Current value: feature_fraction=0.528529372035105\n"
          ]
        },
        {
          "output_type": "stream",
          "name": "stderr",
          "text": [
            "\u001b[32m[I 2023-04-19 16:57:34,464]\u001b[0m Trial 39 finished with value: 0.6701986754966887 and parameters: {'bagging_freq': 6, 'num_iterations': 2172, 'lambda_l1': 1.8782141072907268e-06, 'lambda_l2': 0.030223971816385736, 'feature_fraction': 0.528529372035105, 'bagging_fraction': 0.9383396688282926, 'min_child_samples': 1809, 'max_depth': 8, 'learning_rate': 0.11883210570493927}. Best is trial 23 with value: 0.8745242209040629.\u001b[0m\n"
          ]
        },
        {
          "output_type": "stream",
          "name": "stdout",
          "text": [
            "[LightGBM] [Warning] bagging_fraction is set=0.9383396688282926, subsample=1.0 will be ignored. Current value: bagging_fraction=0.9383396688282926\n",
            "[LightGBM] [Warning] lambda_l2 is set=0.030223971816385736, reg_lambda=0.0 will be ignored. Current value: lambda_l2=0.030223971816385736\n",
            "[LightGBM] [Warning] lambda_l1 is set=1.8782141072907268e-06, reg_alpha=0.0 will be ignored. Current value: lambda_l1=1.8782141072907268e-06\n",
            "[LightGBM] [Warning] bagging_freq is set=6, subsample_freq=0 will be ignored. Current value: bagging_freq=6\n",
            "[LightGBM] [Warning] feature_fraction is set=0.528529372035105, colsample_bytree=1.0 will be ignored. Current value: feature_fraction=0.528529372035105\n",
            "[LightGBM] [Warning] bagging_fraction is set=0.7136368507713335, subsample=1.0 will be ignored. Current value: bagging_fraction=0.7136368507713335\n",
            "[LightGBM] [Warning] lambda_l2 is set=3.5746671728253004e-05, reg_lambda=0.0 will be ignored. Current value: lambda_l2=3.5746671728253004e-05\n",
            "[LightGBM] [Warning] lambda_l1 is set=0.0001494328703454856, reg_alpha=0.0 will be ignored. Current value: lambda_l1=0.0001494328703454856\n",
            "[LightGBM] [Warning] bagging_freq is set=8, subsample_freq=0 will be ignored. Current value: bagging_freq=8\n",
            "[LightGBM] [Warning] feature_fraction is set=0.44918125715211155, colsample_bytree=1.0 will be ignored. Current value: feature_fraction=0.44918125715211155\n",
            "[LightGBM] [Warning] bagging_fraction is set=0.7136368507713335, subsample=1.0 will be ignored. Current value: bagging_fraction=0.7136368507713335\n",
            "[LightGBM] [Warning] lambda_l2 is set=3.5746671728253004e-05, reg_lambda=0.0 will be ignored. Current value: lambda_l2=3.5746671728253004e-05\n",
            "[LightGBM] [Warning] lambda_l1 is set=0.0001494328703454856, reg_alpha=0.0 will be ignored. Current value: lambda_l1=0.0001494328703454856\n",
            "[LightGBM] [Warning] bagging_freq is set=8, subsample_freq=0 will be ignored. Current value: bagging_freq=8\n",
            "[LightGBM] [Warning] feature_fraction is set=0.44918125715211155, colsample_bytree=1.0 will be ignored. Current value: feature_fraction=0.44918125715211155\n",
            "[LightGBM] [Warning] bagging_fraction is set=0.7136368507713335, subsample=1.0 will be ignored. Current value: bagging_fraction=0.7136368507713335\n",
            "[LightGBM] [Warning] lambda_l2 is set=3.5746671728253004e-05, reg_lambda=0.0 will be ignored. Current value: lambda_l2=3.5746671728253004e-05\n",
            "[LightGBM] [Warning] lambda_l1 is set=0.0001494328703454856, reg_alpha=0.0 will be ignored. Current value: lambda_l1=0.0001494328703454856\n",
            "[LightGBM] [Warning] bagging_freq is set=8, subsample_freq=0 will be ignored. Current value: bagging_freq=8\n",
            "[LightGBM] [Warning] feature_fraction is set=0.44918125715211155, colsample_bytree=1.0 will be ignored. Current value: feature_fraction=0.44918125715211155\n",
            "[LightGBM] [Warning] bagging_fraction is set=0.7136368507713335, subsample=1.0 will be ignored. Current value: bagging_fraction=0.7136368507713335\n",
            "[LightGBM] [Warning] lambda_l2 is set=3.5746671728253004e-05, reg_lambda=0.0 will be ignored. Current value: lambda_l2=3.5746671728253004e-05\n",
            "[LightGBM] [Warning] lambda_l1 is set=0.0001494328703454856, reg_alpha=0.0 will be ignored. Current value: lambda_l1=0.0001494328703454856\n",
            "[LightGBM] [Warning] bagging_freq is set=8, subsample_freq=0 will be ignored. Current value: bagging_freq=8\n",
            "[LightGBM] [Warning] feature_fraction is set=0.44918125715211155, colsample_bytree=1.0 will be ignored. Current value: feature_fraction=0.44918125715211155\n",
            "[LightGBM] [Warning] bagging_fraction is set=0.7136368507713335, subsample=1.0 will be ignored. Current value: bagging_fraction=0.7136368507713335\n",
            "[LightGBM] [Warning] lambda_l2 is set=3.5746671728253004e-05, reg_lambda=0.0 will be ignored. Current value: lambda_l2=3.5746671728253004e-05\n",
            "[LightGBM] [Warning] lambda_l1 is set=0.0001494328703454856, reg_alpha=0.0 will be ignored. Current value: lambda_l1=0.0001494328703454856\n",
            "[LightGBM] [Warning] bagging_freq is set=8, subsample_freq=0 will be ignored. Current value: bagging_freq=8\n",
            "[LightGBM] [Warning] feature_fraction is set=0.44918125715211155, colsample_bytree=1.0 will be ignored. Current value: feature_fraction=0.44918125715211155\n"
          ]
        },
        {
          "output_type": "stream",
          "name": "stderr",
          "text": [
            "\u001b[32m[I 2023-04-19 16:57:39,137]\u001b[0m Trial 40 finished with value: 0.860226754792001 and parameters: {'bagging_freq': 8, 'num_iterations': 2348, 'lambda_l1': 0.0001494328703454856, 'lambda_l2': 3.5746671728253004e-05, 'feature_fraction': 0.44918125715211155, 'bagging_fraction': 0.7136368507713335, 'min_child_samples': 22, 'max_depth': 7, 'learning_rate': 0.19248115005602373}. Best is trial 23 with value: 0.8745242209040629.\u001b[0m\n"
          ]
        },
        {
          "output_type": "stream",
          "name": "stdout",
          "text": [
            "[LightGBM] [Warning] bagging_fraction is set=0.7146501252666941, subsample=1.0 will be ignored. Current value: bagging_fraction=0.7146501252666941\n",
            "[LightGBM] [Warning] lambda_l2 is set=1.1765116425598254e-05, reg_lambda=0.0 will be ignored. Current value: lambda_l2=1.1765116425598254e-05\n",
            "[LightGBM] [Warning] lambda_l1 is set=0.0001894816167691136, reg_alpha=0.0 will be ignored. Current value: lambda_l1=0.0001894816167691136\n",
            "[LightGBM] [Warning] bagging_freq is set=8, subsample_freq=0 will be ignored. Current value: bagging_freq=8\n",
            "[LightGBM] [Warning] feature_fraction is set=0.4527603505114882, colsample_bytree=1.0 will be ignored. Current value: feature_fraction=0.4527603505114882\n",
            "[LightGBM] [Warning] bagging_fraction is set=0.7146501252666941, subsample=1.0 will be ignored. Current value: bagging_fraction=0.7146501252666941\n",
            "[LightGBM] [Warning] lambda_l2 is set=1.1765116425598254e-05, reg_lambda=0.0 will be ignored. Current value: lambda_l2=1.1765116425598254e-05\n",
            "[LightGBM] [Warning] lambda_l1 is set=0.0001894816167691136, reg_alpha=0.0 will be ignored. Current value: lambda_l1=0.0001894816167691136\n",
            "[LightGBM] [Warning] bagging_freq is set=8, subsample_freq=0 will be ignored. Current value: bagging_freq=8\n",
            "[LightGBM] [Warning] feature_fraction is set=0.4527603505114882, colsample_bytree=1.0 will be ignored. Current value: feature_fraction=0.4527603505114882\n",
            "[LightGBM] [Warning] bagging_fraction is set=0.7146501252666941, subsample=1.0 will be ignored. Current value: bagging_fraction=0.7146501252666941\n",
            "[LightGBM] [Warning] lambda_l2 is set=1.1765116425598254e-05, reg_lambda=0.0 will be ignored. Current value: lambda_l2=1.1765116425598254e-05\n",
            "[LightGBM] [Warning] lambda_l1 is set=0.0001894816167691136, reg_alpha=0.0 will be ignored. Current value: lambda_l1=0.0001894816167691136\n",
            "[LightGBM] [Warning] bagging_freq is set=8, subsample_freq=0 will be ignored. Current value: bagging_freq=8\n",
            "[LightGBM] [Warning] feature_fraction is set=0.4527603505114882, colsample_bytree=1.0 will be ignored. Current value: feature_fraction=0.4527603505114882\n",
            "[LightGBM] [Warning] bagging_fraction is set=0.7146501252666941, subsample=1.0 will be ignored. Current value: bagging_fraction=0.7146501252666941\n",
            "[LightGBM] [Warning] lambda_l2 is set=1.1765116425598254e-05, reg_lambda=0.0 will be ignored. Current value: lambda_l2=1.1765116425598254e-05\n",
            "[LightGBM] [Warning] lambda_l1 is set=0.0001894816167691136, reg_alpha=0.0 will be ignored. Current value: lambda_l1=0.0001894816167691136\n",
            "[LightGBM] [Warning] bagging_freq is set=8, subsample_freq=0 will be ignored. Current value: bagging_freq=8\n",
            "[LightGBM] [Warning] feature_fraction is set=0.4527603505114882, colsample_bytree=1.0 will be ignored. Current value: feature_fraction=0.4527603505114882\n",
            "[LightGBM] [Warning] bagging_fraction is set=0.7146501252666941, subsample=1.0 will be ignored. Current value: bagging_fraction=0.7146501252666941\n",
            "[LightGBM] [Warning] lambda_l2 is set=1.1765116425598254e-05, reg_lambda=0.0 will be ignored. Current value: lambda_l2=1.1765116425598254e-05\n",
            "[LightGBM] [Warning] lambda_l1 is set=0.0001894816167691136, reg_alpha=0.0 will be ignored. Current value: lambda_l1=0.0001894816167691136\n",
            "[LightGBM] [Warning] bagging_freq is set=8, subsample_freq=0 will be ignored. Current value: bagging_freq=8\n",
            "[LightGBM] [Warning] feature_fraction is set=0.4527603505114882, colsample_bytree=1.0 will be ignored. Current value: feature_fraction=0.4527603505114882\n"
          ]
        },
        {
          "output_type": "stream",
          "name": "stderr",
          "text": [
            "\u001b[32m[I 2023-04-19 16:57:41,322]\u001b[0m Trial 41 finished with value: 0.8762507925898879 and parameters: {'bagging_freq': 8, 'num_iterations': 2361, 'lambda_l1': 0.0001894816167691136, 'lambda_l2': 1.1765116425598254e-05, 'feature_fraction': 0.4527603505114882, 'bagging_fraction': 0.7146501252666941, 'min_child_samples': 8, 'max_depth': 7, 'learning_rate': 0.18622936748528418}. Best is trial 41 with value: 0.8762507925898879.\u001b[0m\n"
          ]
        },
        {
          "output_type": "stream",
          "name": "stdout",
          "text": [
            "[LightGBM] [Warning] bagging_fraction is set=0.8171846317902121, subsample=1.0 will be ignored. Current value: bagging_fraction=0.8171846317902121\n",
            "[LightGBM] [Warning] lambda_l2 is set=1.8111886630843773e-05, reg_lambda=0.0 will be ignored. Current value: lambda_l2=1.8111886630843773e-05\n",
            "[LightGBM] [Warning] lambda_l1 is set=4.238916644188892e-05, reg_alpha=0.0 will be ignored. Current value: lambda_l1=4.238916644188892e-05\n",
            "[LightGBM] [Warning] bagging_freq is set=9, subsample_freq=0 will be ignored. Current value: bagging_freq=9\n",
            "[LightGBM] [Warning] feature_fraction is set=0.3923598816579552, colsample_bytree=1.0 will be ignored. Current value: feature_fraction=0.3923598816579552\n",
            "[LightGBM] [Warning] bagging_fraction is set=0.8171846317902121, subsample=1.0 will be ignored. Current value: bagging_fraction=0.8171846317902121\n",
            "[LightGBM] [Warning] lambda_l2 is set=1.8111886630843773e-05, reg_lambda=0.0 will be ignored. Current value: lambda_l2=1.8111886630843773e-05\n",
            "[LightGBM] [Warning] lambda_l1 is set=4.238916644188892e-05, reg_alpha=0.0 will be ignored. Current value: lambda_l1=4.238916644188892e-05\n",
            "[LightGBM] [Warning] bagging_freq is set=9, subsample_freq=0 will be ignored. Current value: bagging_freq=9\n",
            "[LightGBM] [Warning] feature_fraction is set=0.3923598816579552, colsample_bytree=1.0 will be ignored. Current value: feature_fraction=0.3923598816579552\n",
            "[LightGBM] [Warning] bagging_fraction is set=0.8171846317902121, subsample=1.0 will be ignored. Current value: bagging_fraction=0.8171846317902121\n",
            "[LightGBM] [Warning] lambda_l2 is set=1.8111886630843773e-05, reg_lambda=0.0 will be ignored. Current value: lambda_l2=1.8111886630843773e-05\n",
            "[LightGBM] [Warning] lambda_l1 is set=4.238916644188892e-05, reg_alpha=0.0 will be ignored. Current value: lambda_l1=4.238916644188892e-05\n",
            "[LightGBM] [Warning] bagging_freq is set=9, subsample_freq=0 will be ignored. Current value: bagging_freq=9\n",
            "[LightGBM] [Warning] feature_fraction is set=0.3923598816579552, colsample_bytree=1.0 will be ignored. Current value: feature_fraction=0.3923598816579552\n"
          ]
        },
        {
          "output_type": "stream",
          "name": "stderr",
          "text": [
            "\u001b[32m[I 2023-04-19 16:57:41,786]\u001b[0m Trial 42 finished with value: 0.6701986754966887 and parameters: {'bagging_freq': 9, 'num_iterations': 2173, 'lambda_l1': 4.238916644188892e-05, 'lambda_l2': 1.8111886630843773e-05, 'feature_fraction': 0.3923598816579552, 'bagging_fraction': 0.8171846317902121, 'min_child_samples': 334, 'max_depth': 6, 'learning_rate': 0.13950559242482521}. Best is trial 41 with value: 0.8762507925898879.\u001b[0m\n"
          ]
        },
        {
          "output_type": "stream",
          "name": "stdout",
          "text": [
            "[LightGBM] [Warning] bagging_fraction is set=0.8171846317902121, subsample=1.0 will be ignored. Current value: bagging_fraction=0.8171846317902121\n",
            "[LightGBM] [Warning] lambda_l2 is set=1.8111886630843773e-05, reg_lambda=0.0 will be ignored. Current value: lambda_l2=1.8111886630843773e-05\n",
            "[LightGBM] [Warning] lambda_l1 is set=4.238916644188892e-05, reg_alpha=0.0 will be ignored. Current value: lambda_l1=4.238916644188892e-05\n",
            "[LightGBM] [Warning] bagging_freq is set=9, subsample_freq=0 will be ignored. Current value: bagging_freq=9\n",
            "[LightGBM] [Warning] feature_fraction is set=0.3923598816579552, colsample_bytree=1.0 will be ignored. Current value: feature_fraction=0.3923598816579552\n",
            "[LightGBM] [Warning] bagging_fraction is set=0.8171846317902121, subsample=1.0 will be ignored. Current value: bagging_fraction=0.8171846317902121\n",
            "[LightGBM] [Warning] lambda_l2 is set=1.8111886630843773e-05, reg_lambda=0.0 will be ignored. Current value: lambda_l2=1.8111886630843773e-05\n",
            "[LightGBM] [Warning] lambda_l1 is set=4.238916644188892e-05, reg_alpha=0.0 will be ignored. Current value: lambda_l1=4.238916644188892e-05\n",
            "[LightGBM] [Warning] bagging_freq is set=9, subsample_freq=0 will be ignored. Current value: bagging_freq=9\n",
            "[LightGBM] [Warning] feature_fraction is set=0.3923598816579552, colsample_bytree=1.0 will be ignored. Current value: feature_fraction=0.3923598816579552\n",
            "[LightGBM] [Warning] bagging_fraction is set=0.9444942757159389, subsample=1.0 will be ignored. Current value: bagging_fraction=0.9444942757159389\n",
            "[LightGBM] [Warning] lambda_l2 is set=1.1221285282532838e-05, reg_lambda=0.0 will be ignored. Current value: lambda_l2=1.1221285282532838e-05\n",
            "[LightGBM] [Warning] lambda_l1 is set=1.2356807261681463e-05, reg_alpha=0.0 will be ignored. Current value: lambda_l1=1.2356807261681463e-05\n",
            "[LightGBM] [Warning] bagging_freq is set=7, subsample_freq=0 will be ignored. Current value: bagging_freq=7\n",
            "[LightGBM] [Warning] feature_fraction is set=0.3165591122526098, colsample_bytree=1.0 will be ignored. Current value: feature_fraction=0.3165591122526098\n",
            "[LightGBM] [Warning] bagging_fraction is set=0.9444942757159389, subsample=1.0 will be ignored. Current value: bagging_fraction=0.9444942757159389\n",
            "[LightGBM] [Warning] lambda_l2 is set=1.1221285282532838e-05, reg_lambda=0.0 will be ignored. Current value: lambda_l2=1.1221285282532838e-05\n",
            "[LightGBM] [Warning] lambda_l1 is set=1.2356807261681463e-05, reg_alpha=0.0 will be ignored. Current value: lambda_l1=1.2356807261681463e-05\n",
            "[LightGBM] [Warning] bagging_freq is set=7, subsample_freq=0 will be ignored. Current value: bagging_freq=7\n",
            "[LightGBM] [Warning] feature_fraction is set=0.3165591122526098, colsample_bytree=1.0 will be ignored. Current value: feature_fraction=0.3165591122526098\n",
            "[LightGBM] [Warning] bagging_fraction is set=0.9444942757159389, subsample=1.0 will be ignored. Current value: bagging_fraction=0.9444942757159389\n",
            "[LightGBM] [Warning] lambda_l2 is set=1.1221285282532838e-05, reg_lambda=0.0 will be ignored. Current value: lambda_l2=1.1221285282532838e-05\n",
            "[LightGBM] [Warning] lambda_l1 is set=1.2356807261681463e-05, reg_alpha=0.0 will be ignored. Current value: lambda_l1=1.2356807261681463e-05\n",
            "[LightGBM] [Warning] bagging_freq is set=7, subsample_freq=0 will be ignored. Current value: bagging_freq=7\n",
            "[LightGBM] [Warning] feature_fraction is set=0.3165591122526098, colsample_bytree=1.0 will be ignored. Current value: feature_fraction=0.3165591122526098\n"
          ]
        },
        {
          "output_type": "stream",
          "name": "stderr",
          "text": [
            "\u001b[32m[I 2023-04-19 16:57:42,270]\u001b[0m Trial 43 finished with value: 0.6701986754966887 and parameters: {'bagging_freq': 7, 'num_iterations': 2447, 'lambda_l1': 1.2356807261681463e-05, 'lambda_l2': 1.1221285282532838e-05, 'feature_fraction': 0.3165591122526098, 'bagging_fraction': 0.9444942757159389, 'min_child_samples': 596, 'max_depth': 8, 'learning_rate': 0.17648588918153607}. Best is trial 41 with value: 0.8762507925898879.\u001b[0m\n"
          ]
        },
        {
          "output_type": "stream",
          "name": "stdout",
          "text": [
            "[LightGBM] [Warning] bagging_fraction is set=0.9444942757159389, subsample=1.0 will be ignored. Current value: bagging_fraction=0.9444942757159389\n",
            "[LightGBM] [Warning] lambda_l2 is set=1.1221285282532838e-05, reg_lambda=0.0 will be ignored. Current value: lambda_l2=1.1221285282532838e-05\n",
            "[LightGBM] [Warning] lambda_l1 is set=1.2356807261681463e-05, reg_alpha=0.0 will be ignored. Current value: lambda_l1=1.2356807261681463e-05\n",
            "[LightGBM] [Warning] bagging_freq is set=7, subsample_freq=0 will be ignored. Current value: bagging_freq=7\n",
            "[LightGBM] [Warning] feature_fraction is set=0.3165591122526098, colsample_bytree=1.0 will be ignored. Current value: feature_fraction=0.3165591122526098\n",
            "[LightGBM] [Warning] bagging_fraction is set=0.9444942757159389, subsample=1.0 will be ignored. Current value: bagging_fraction=0.9444942757159389\n",
            "[LightGBM] [Warning] lambda_l2 is set=1.1221285282532838e-05, reg_lambda=0.0 will be ignored. Current value: lambda_l2=1.1221285282532838e-05\n",
            "[LightGBM] [Warning] lambda_l1 is set=1.2356807261681463e-05, reg_alpha=0.0 will be ignored. Current value: lambda_l1=1.2356807261681463e-05\n",
            "[LightGBM] [Warning] bagging_freq is set=7, subsample_freq=0 will be ignored. Current value: bagging_freq=7\n",
            "[LightGBM] [Warning] feature_fraction is set=0.3165591122526098, colsample_bytree=1.0 will be ignored. Current value: feature_fraction=0.3165591122526098\n",
            "[LightGBM] [Warning] bagging_fraction is set=0.8581053072250159, subsample=1.0 will be ignored. Current value: bagging_fraction=0.8581053072250159\n",
            "[LightGBM] [Warning] lambda_l2 is set=0.0076037611789286355, reg_lambda=0.0 will be ignored. Current value: lambda_l2=0.0076037611789286355\n",
            "[LightGBM] [Warning] lambda_l1 is set=0.0002751910672383098, reg_alpha=0.0 will be ignored. Current value: lambda_l1=0.0002751910672383098\n",
            "[LightGBM] [Warning] bagging_freq is set=8, subsample_freq=0 will be ignored. Current value: bagging_freq=8\n",
            "[LightGBM] [Warning] feature_fraction is set=0.4526992242942687, colsample_bytree=1.0 will be ignored. Current value: feature_fraction=0.4526992242942687\n",
            "[LightGBM] [Warning] bagging_fraction is set=0.8581053072250159, subsample=1.0 will be ignored. Current value: bagging_fraction=0.8581053072250159\n",
            "[LightGBM] [Warning] lambda_l2 is set=0.0076037611789286355, reg_lambda=0.0 will be ignored. Current value: lambda_l2=0.0076037611789286355\n",
            "[LightGBM] [Warning] lambda_l1 is set=0.0002751910672383098, reg_alpha=0.0 will be ignored. Current value: lambda_l1=0.0002751910672383098\n",
            "[LightGBM] [Warning] bagging_freq is set=8, subsample_freq=0 will be ignored. Current value: bagging_freq=8\n",
            "[LightGBM] [Warning] feature_fraction is set=0.4526992242942687, colsample_bytree=1.0 will be ignored. Current value: feature_fraction=0.4526992242942687\n",
            "[LightGBM] [Warning] bagging_fraction is set=0.8581053072250159, subsample=1.0 will be ignored. Current value: bagging_fraction=0.8581053072250159\n",
            "[LightGBM] [Warning] lambda_l2 is set=0.0076037611789286355, reg_lambda=0.0 will be ignored. Current value: lambda_l2=0.0076037611789286355\n",
            "[LightGBM] [Warning] lambda_l1 is set=0.0002751910672383098, reg_alpha=0.0 will be ignored. Current value: lambda_l1=0.0002751910672383098\n",
            "[LightGBM] [Warning] bagging_freq is set=8, subsample_freq=0 will be ignored. Current value: bagging_freq=8\n",
            "[LightGBM] [Warning] feature_fraction is set=0.4526992242942687, colsample_bytree=1.0 will be ignored. Current value: feature_fraction=0.4526992242942687\n"
          ]
        },
        {
          "output_type": "stream",
          "name": "stderr",
          "text": [
            "\u001b[32m[I 2023-04-19 16:57:42,731]\u001b[0m Trial 44 finished with value: 0.6701986754966887 and parameters: {'bagging_freq': 8, 'num_iterations': 2291, 'lambda_l1': 0.0002751910672383098, 'lambda_l2': 0.0076037611789286355, 'feature_fraction': 0.4526992242942687, 'bagging_fraction': 0.8581053072250159, 'min_child_samples': 317, 'max_depth': 7, 'learning_rate': 0.15886917335500655}. Best is trial 41 with value: 0.8762507925898879.\u001b[0m\n"
          ]
        },
        {
          "output_type": "stream",
          "name": "stdout",
          "text": [
            "[LightGBM] [Warning] bagging_fraction is set=0.8581053072250159, subsample=1.0 will be ignored. Current value: bagging_fraction=0.8581053072250159\n",
            "[LightGBM] [Warning] lambda_l2 is set=0.0076037611789286355, reg_lambda=0.0 will be ignored. Current value: lambda_l2=0.0076037611789286355\n",
            "[LightGBM] [Warning] lambda_l1 is set=0.0002751910672383098, reg_alpha=0.0 will be ignored. Current value: lambda_l1=0.0002751910672383098\n",
            "[LightGBM] [Warning] bagging_freq is set=8, subsample_freq=0 will be ignored. Current value: bagging_freq=8\n",
            "[LightGBM] [Warning] feature_fraction is set=0.4526992242942687, colsample_bytree=1.0 will be ignored. Current value: feature_fraction=0.4526992242942687\n",
            "[LightGBM] [Warning] bagging_fraction is set=0.8581053072250159, subsample=1.0 will be ignored. Current value: bagging_fraction=0.8581053072250159\n",
            "[LightGBM] [Warning] lambda_l2 is set=0.0076037611789286355, reg_lambda=0.0 will be ignored. Current value: lambda_l2=0.0076037611789286355\n",
            "[LightGBM] [Warning] lambda_l1 is set=0.0002751910672383098, reg_alpha=0.0 will be ignored. Current value: lambda_l1=0.0002751910672383098\n",
            "[LightGBM] [Warning] bagging_freq is set=8, subsample_freq=0 will be ignored. Current value: bagging_freq=8\n",
            "[LightGBM] [Warning] feature_fraction is set=0.4526992242942687, colsample_bytree=1.0 will be ignored. Current value: feature_fraction=0.4526992242942687\n",
            "[LightGBM] [Warning] bagging_fraction is set=0.7712784074066019, subsample=1.0 will be ignored. Current value: bagging_fraction=0.7712784074066019\n",
            "[LightGBM] [Warning] lambda_l2 is set=0.00017504245192351736, reg_lambda=0.0 will be ignored. Current value: lambda_l2=0.00017504245192351736\n",
            "[LightGBM] [Warning] lambda_l1 is set=3.345302477153285e-06, reg_alpha=0.0 will be ignored. Current value: lambda_l1=3.345302477153285e-06\n",
            "[LightGBM] [Warning] bagging_freq is set=5, subsample_freq=0 will be ignored. Current value: bagging_freq=5\n",
            "[LightGBM] [Warning] feature_fraction is set=0.3900678794215679, colsample_bytree=1.0 will be ignored. Current value: feature_fraction=0.3900678794215679\n",
            "[LightGBM] [Warning] bagging_fraction is set=0.7712784074066019, subsample=1.0 will be ignored. Current value: bagging_fraction=0.7712784074066019\n",
            "[LightGBM] [Warning] lambda_l2 is set=0.00017504245192351736, reg_lambda=0.0 will be ignored. Current value: lambda_l2=0.00017504245192351736\n",
            "[LightGBM] [Warning] lambda_l1 is set=3.345302477153285e-06, reg_alpha=0.0 will be ignored. Current value: lambda_l1=3.345302477153285e-06\n",
            "[LightGBM] [Warning] bagging_freq is set=5, subsample_freq=0 will be ignored. Current value: bagging_freq=5\n",
            "[LightGBM] [Warning] feature_fraction is set=0.3900678794215679, colsample_bytree=1.0 will be ignored. Current value: feature_fraction=0.3900678794215679\n",
            "[LightGBM] [Warning] bagging_fraction is set=0.7712784074066019, subsample=1.0 will be ignored. Current value: bagging_fraction=0.7712784074066019\n",
            "[LightGBM] [Warning] lambda_l2 is set=0.00017504245192351736, reg_lambda=0.0 will be ignored. Current value: lambda_l2=0.00017504245192351736\n",
            "[LightGBM] [Warning] lambda_l1 is set=3.345302477153285e-06, reg_alpha=0.0 will be ignored. Current value: lambda_l1=3.345302477153285e-06\n",
            "[LightGBM] [Warning] bagging_freq is set=5, subsample_freq=0 will be ignored. Current value: bagging_freq=5\n",
            "[LightGBM] [Warning] feature_fraction is set=0.3900678794215679, colsample_bytree=1.0 will be ignored. Current value: feature_fraction=0.3900678794215679\n"
          ]
        },
        {
          "output_type": "stream",
          "name": "stderr",
          "text": [
            "\u001b[32m[I 2023-04-19 16:57:43,171]\u001b[0m Trial 45 finished with value: 0.6701986754966887 and parameters: {'bagging_freq': 5, 'num_iterations': 1980, 'lambda_l1': 3.345302477153285e-06, 'lambda_l2': 0.00017504245192351736, 'feature_fraction': 0.3900678794215679, 'bagging_fraction': 0.7712784074066019, 'min_child_samples': 1186, 'max_depth': 8, 'learning_rate': 0.19237082442343803}. Best is trial 41 with value: 0.8762507925898879.\u001b[0m\n"
          ]
        },
        {
          "output_type": "stream",
          "name": "stdout",
          "text": [
            "[LightGBM] [Warning] bagging_fraction is set=0.7712784074066019, subsample=1.0 will be ignored. Current value: bagging_fraction=0.7712784074066019\n",
            "[LightGBM] [Warning] lambda_l2 is set=0.00017504245192351736, reg_lambda=0.0 will be ignored. Current value: lambda_l2=0.00017504245192351736\n",
            "[LightGBM] [Warning] lambda_l1 is set=3.345302477153285e-06, reg_alpha=0.0 will be ignored. Current value: lambda_l1=3.345302477153285e-06\n",
            "[LightGBM] [Warning] bagging_freq is set=5, subsample_freq=0 will be ignored. Current value: bagging_freq=5\n",
            "[LightGBM] [Warning] feature_fraction is set=0.3900678794215679, colsample_bytree=1.0 will be ignored. Current value: feature_fraction=0.3900678794215679\n",
            "[LightGBM] [Warning] bagging_fraction is set=0.7712784074066019, subsample=1.0 will be ignored. Current value: bagging_fraction=0.7712784074066019\n",
            "[LightGBM] [Warning] lambda_l2 is set=0.00017504245192351736, reg_lambda=0.0 will be ignored. Current value: lambda_l2=0.00017504245192351736\n",
            "[LightGBM] [Warning] lambda_l1 is set=3.345302477153285e-06, reg_alpha=0.0 will be ignored. Current value: lambda_l1=3.345302477153285e-06\n",
            "[LightGBM] [Warning] bagging_freq is set=5, subsample_freq=0 will be ignored. Current value: bagging_freq=5\n",
            "[LightGBM] [Warning] feature_fraction is set=0.3900678794215679, colsample_bytree=1.0 will be ignored. Current value: feature_fraction=0.3900678794215679\n",
            "[LightGBM] [Warning] bagging_fraction is set=0.948204772286998, subsample=1.0 will be ignored. Current value: bagging_fraction=0.948204772286998\n",
            "[LightGBM] [Warning] lambda_l2 is set=0.0007031788631202476, reg_lambda=0.0 will be ignored. Current value: lambda_l2=0.0007031788631202476\n",
            "[LightGBM] [Warning] lambda_l1 is set=0.0006970702532424546, reg_alpha=0.0 will be ignored. Current value: lambda_l1=0.0006970702532424546\n",
            "[LightGBM] [Warning] bagging_freq is set=7, subsample_freq=0 will be ignored. Current value: bagging_freq=7\n",
            "[LightGBM] [Warning] feature_fraction is set=0.5210215797459218, colsample_bytree=1.0 will be ignored. Current value: feature_fraction=0.5210215797459218\n",
            "[LightGBM] [Warning] bagging_fraction is set=0.948204772286998, subsample=1.0 will be ignored. Current value: bagging_fraction=0.948204772286998\n",
            "[LightGBM] [Warning] lambda_l2 is set=0.0007031788631202476, reg_lambda=0.0 will be ignored. Current value: lambda_l2=0.0007031788631202476\n",
            "[LightGBM] [Warning] lambda_l1 is set=0.0006970702532424546, reg_alpha=0.0 will be ignored. Current value: lambda_l1=0.0006970702532424546\n",
            "[LightGBM] [Warning] bagging_freq is set=7, subsample_freq=0 will be ignored. Current value: bagging_freq=7\n",
            "[LightGBM] [Warning] feature_fraction is set=0.5210215797459218, colsample_bytree=1.0 will be ignored. Current value: feature_fraction=0.5210215797459218\n",
            "[LightGBM] [Warning] bagging_fraction is set=0.948204772286998, subsample=1.0 will be ignored. Current value: bagging_fraction=0.948204772286998\n",
            "[LightGBM] [Warning] lambda_l2 is set=0.0007031788631202476, reg_lambda=0.0 will be ignored. Current value: lambda_l2=0.0007031788631202476\n",
            "[LightGBM] [Warning] lambda_l1 is set=0.0006970702532424546, reg_alpha=0.0 will be ignored. Current value: lambda_l1=0.0006970702532424546\n",
            "[LightGBM] [Warning] bagging_freq is set=7, subsample_freq=0 will be ignored. Current value: bagging_freq=7\n",
            "[LightGBM] [Warning] feature_fraction is set=0.5210215797459218, colsample_bytree=1.0 will be ignored. Current value: feature_fraction=0.5210215797459218\n",
            "[LightGBM] [Warning] bagging_fraction is set=0.948204772286998, subsample=1.0 will be ignored. Current value: bagging_fraction=0.948204772286998\n",
            "[LightGBM] [Warning] lambda_l2 is set=0.0007031788631202476, reg_lambda=0.0 will be ignored. Current value: lambda_l2=0.0007031788631202476\n",
            "[LightGBM] [Warning] lambda_l1 is set=0.0006970702532424546, reg_alpha=0.0 will be ignored. Current value: lambda_l1=0.0006970702532424546\n",
            "[LightGBM] [Warning] bagging_freq is set=7, subsample_freq=0 will be ignored. Current value: bagging_freq=7\n",
            "[LightGBM] [Warning] feature_fraction is set=0.5210215797459218, colsample_bytree=1.0 will be ignored. Current value: feature_fraction=0.5210215797459218\n",
            "[LightGBM] [Warning] bagging_fraction is set=0.948204772286998, subsample=1.0 will be ignored. Current value: bagging_fraction=0.948204772286998\n",
            "[LightGBM] [Warning] lambda_l2 is set=0.0007031788631202476, reg_lambda=0.0 will be ignored. Current value: lambda_l2=0.0007031788631202476\n",
            "[LightGBM] [Warning] lambda_l1 is set=0.0006970702532424546, reg_alpha=0.0 will be ignored. Current value: lambda_l1=0.0006970702532424546\n",
            "[LightGBM] [Warning] bagging_freq is set=7, subsample_freq=0 will be ignored. Current value: bagging_freq=7\n",
            "[LightGBM] [Warning] feature_fraction is set=0.5210215797459218, colsample_bytree=1.0 will be ignored. Current value: feature_fraction=0.5210215797459218\n"
          ]
        },
        {
          "output_type": "stream",
          "name": "stderr",
          "text": [
            "\u001b[32m[I 2023-04-19 16:57:43,559]\u001b[0m Trial 46 finished with value: 0.6701986754966887 and parameters: {'bagging_freq': 7, 'num_iterations': 1820, 'lambda_l1': 0.0006970702532424546, 'lambda_l2': 0.0007031788631202476, 'feature_fraction': 0.5210215797459218, 'bagging_fraction': 0.948204772286998, 'min_child_samples': 953, 'max_depth': 6, 'learning_rate': 0.2137962164013402}. Best is trial 41 with value: 0.8762507925898879.\u001b[0m\n"
          ]
        },
        {
          "output_type": "stream",
          "name": "stdout",
          "text": [
            "[LightGBM] [Warning] bagging_fraction is set=0.887651154645101, subsample=1.0 will be ignored. Current value: bagging_fraction=0.887651154645101\n",
            "[LightGBM] [Warning] lambda_l2 is set=0.04518890978618161, reg_lambda=0.0 will be ignored. Current value: lambda_l2=0.04518890978618161\n",
            "[LightGBM] [Warning] lambda_l1 is set=0.00017403379875894484, reg_alpha=0.0 will be ignored. Current value: lambda_l1=0.00017403379875894484\n",
            "[LightGBM] [Warning] bagging_freq is set=9, subsample_freq=0 will be ignored. Current value: bagging_freq=9\n",
            "[LightGBM] [Warning] feature_fraction is set=0.28953128489370783, colsample_bytree=1.0 will be ignored. Current value: feature_fraction=0.28953128489370783\n",
            "[LightGBM] [Warning] bagging_fraction is set=0.887651154645101, subsample=1.0 will be ignored. Current value: bagging_fraction=0.887651154645101\n",
            "[LightGBM] [Warning] lambda_l2 is set=0.04518890978618161, reg_lambda=0.0 will be ignored. Current value: lambda_l2=0.04518890978618161\n",
            "[LightGBM] [Warning] lambda_l1 is set=0.00017403379875894484, reg_alpha=0.0 will be ignored. Current value: lambda_l1=0.00017403379875894484\n",
            "[LightGBM] [Warning] bagging_freq is set=9, subsample_freq=0 will be ignored. Current value: bagging_freq=9\n",
            "[LightGBM] [Warning] feature_fraction is set=0.28953128489370783, colsample_bytree=1.0 will be ignored. Current value: feature_fraction=0.28953128489370783\n",
            "[LightGBM] [Warning] bagging_fraction is set=0.887651154645101, subsample=1.0 will be ignored. Current value: bagging_fraction=0.887651154645101\n",
            "[LightGBM] [Warning] lambda_l2 is set=0.04518890978618161, reg_lambda=0.0 will be ignored. Current value: lambda_l2=0.04518890978618161\n",
            "[LightGBM] [Warning] lambda_l1 is set=0.00017403379875894484, reg_alpha=0.0 will be ignored. Current value: lambda_l1=0.00017403379875894484\n",
            "[LightGBM] [Warning] bagging_freq is set=9, subsample_freq=0 will be ignored. Current value: bagging_freq=9\n",
            "[LightGBM] [Warning] feature_fraction is set=0.28953128489370783, colsample_bytree=1.0 will be ignored. Current value: feature_fraction=0.28953128489370783\n"
          ]
        },
        {
          "output_type": "stream",
          "name": "stderr",
          "text": [
            "\u001b[32m[I 2023-04-19 16:57:43,997]\u001b[0m Trial 47 finished with value: 0.6701986754966887 and parameters: {'bagging_freq': 9, 'num_iterations': 2122, 'lambda_l1': 0.00017403379875894484, 'lambda_l2': 0.04518890978618161, 'feature_fraction': 0.28953128489370783, 'bagging_fraction': 0.887651154645101, 'min_child_samples': 570, 'max_depth': 7, 'learning_rate': 0.14546413736351638}. Best is trial 41 with value: 0.8762507925898879.\u001b[0m\n"
          ]
        },
        {
          "output_type": "stream",
          "name": "stdout",
          "text": [
            "[LightGBM] [Warning] bagging_fraction is set=0.887651154645101, subsample=1.0 will be ignored. Current value: bagging_fraction=0.887651154645101\n",
            "[LightGBM] [Warning] lambda_l2 is set=0.04518890978618161, reg_lambda=0.0 will be ignored. Current value: lambda_l2=0.04518890978618161\n",
            "[LightGBM] [Warning] lambda_l1 is set=0.00017403379875894484, reg_alpha=0.0 will be ignored. Current value: lambda_l1=0.00017403379875894484\n",
            "[LightGBM] [Warning] bagging_freq is set=9, subsample_freq=0 will be ignored. Current value: bagging_freq=9\n",
            "[LightGBM] [Warning] feature_fraction is set=0.28953128489370783, colsample_bytree=1.0 will be ignored. Current value: feature_fraction=0.28953128489370783\n",
            "[LightGBM] [Warning] bagging_fraction is set=0.887651154645101, subsample=1.0 will be ignored. Current value: bagging_fraction=0.887651154645101\n",
            "[LightGBM] [Warning] lambda_l2 is set=0.04518890978618161, reg_lambda=0.0 will be ignored. Current value: lambda_l2=0.04518890978618161\n",
            "[LightGBM] [Warning] lambda_l1 is set=0.00017403379875894484, reg_alpha=0.0 will be ignored. Current value: lambda_l1=0.00017403379875894484\n",
            "[LightGBM] [Warning] bagging_freq is set=9, subsample_freq=0 will be ignored. Current value: bagging_freq=9\n",
            "[LightGBM] [Warning] feature_fraction is set=0.28953128489370783, colsample_bytree=1.0 will be ignored. Current value: feature_fraction=0.28953128489370783\n",
            "[LightGBM] [Warning] bagging_fraction is set=0.8171195030587671, subsample=1.0 will be ignored. Current value: bagging_fraction=0.8171195030587671\n",
            "[LightGBM] [Warning] lambda_l2 is set=5.025091644143086e-06, reg_lambda=0.0 will be ignored. Current value: lambda_l2=5.025091644143086e-06\n",
            "[LightGBM] [Warning] lambda_l1 is set=1.1466876708014225e-05, reg_alpha=0.0 will be ignored. Current value: lambda_l1=1.1466876708014225e-05\n",
            "[LightGBM] [Warning] bagging_freq is set=6, subsample_freq=0 will be ignored. Current value: bagging_freq=6\n",
            "[LightGBM] [Warning] feature_fraction is set=0.599842200285718, colsample_bytree=1.0 will be ignored. Current value: feature_fraction=0.599842200285718\n",
            "[LightGBM] [Warning] bagging_fraction is set=0.8171195030587671, subsample=1.0 will be ignored. Current value: bagging_fraction=0.8171195030587671\n",
            "[LightGBM] [Warning] lambda_l2 is set=5.025091644143086e-06, reg_lambda=0.0 will be ignored. Current value: lambda_l2=5.025091644143086e-06\n",
            "[LightGBM] [Warning] lambda_l1 is set=1.1466876708014225e-05, reg_alpha=0.0 will be ignored. Current value: lambda_l1=1.1466876708014225e-05\n",
            "[LightGBM] [Warning] bagging_freq is set=6, subsample_freq=0 will be ignored. Current value: bagging_freq=6\n",
            "[LightGBM] [Warning] feature_fraction is set=0.599842200285718, colsample_bytree=1.0 will be ignored. Current value: feature_fraction=0.599842200285718\n",
            "[LightGBM] [Warning] bagging_fraction is set=0.8171195030587671, subsample=1.0 will be ignored. Current value: bagging_fraction=0.8171195030587671\n",
            "[LightGBM] [Warning] lambda_l2 is set=5.025091644143086e-06, reg_lambda=0.0 will be ignored. Current value: lambda_l2=5.025091644143086e-06\n",
            "[LightGBM] [Warning] lambda_l1 is set=1.1466876708014225e-05, reg_alpha=0.0 will be ignored. Current value: lambda_l1=1.1466876708014225e-05\n",
            "[LightGBM] [Warning] bagging_freq is set=6, subsample_freq=0 will be ignored. Current value: bagging_freq=6\n",
            "[LightGBM] [Warning] feature_fraction is set=0.599842200285718, colsample_bytree=1.0 will be ignored. Current value: feature_fraction=0.599842200285718\n",
            "[LightGBM] [Warning] bagging_fraction is set=0.8171195030587671, subsample=1.0 will be ignored. Current value: bagging_fraction=0.8171195030587671\n",
            "[LightGBM] [Warning] lambda_l2 is set=5.025091644143086e-06, reg_lambda=0.0 will be ignored. Current value: lambda_l2=5.025091644143086e-06\n",
            "[LightGBM] [Warning] lambda_l1 is set=1.1466876708014225e-05, reg_alpha=0.0 will be ignored. Current value: lambda_l1=1.1466876708014225e-05\n",
            "[LightGBM] [Warning] bagging_freq is set=6, subsample_freq=0 will be ignored. Current value: bagging_freq=6\n",
            "[LightGBM] [Warning] feature_fraction is set=0.599842200285718, colsample_bytree=1.0 will be ignored. Current value: feature_fraction=0.599842200285718\n"
          ]
        },
        {
          "output_type": "stream",
          "name": "stderr",
          "text": [
            "\u001b[32m[I 2023-04-19 16:57:44,362]\u001b[0m Trial 48 finished with value: 0.6701986754966887 and parameters: {'bagging_freq': 6, 'num_iterations': 1499, 'lambda_l1': 1.1466876708014225e-05, 'lambda_l2': 5.025091644143086e-06, 'feature_fraction': 0.599842200285718, 'bagging_fraction': 0.8171195030587671, 'min_child_samples': 2196, 'max_depth': 8, 'learning_rate': 0.1692348137366031}. Best is trial 41 with value: 0.8762507925898879.\u001b[0m\n"
          ]
        },
        {
          "output_type": "stream",
          "name": "stdout",
          "text": [
            "[LightGBM] [Warning] bagging_fraction is set=0.8171195030587671, subsample=1.0 will be ignored. Current value: bagging_fraction=0.8171195030587671\n",
            "[LightGBM] [Warning] lambda_l2 is set=5.025091644143086e-06, reg_lambda=0.0 will be ignored. Current value: lambda_l2=5.025091644143086e-06\n",
            "[LightGBM] [Warning] lambda_l1 is set=1.1466876708014225e-05, reg_alpha=0.0 will be ignored. Current value: lambda_l1=1.1466876708014225e-05\n",
            "[LightGBM] [Warning] bagging_freq is set=6, subsample_freq=0 will be ignored. Current value: bagging_freq=6\n",
            "[LightGBM] [Warning] feature_fraction is set=0.599842200285718, colsample_bytree=1.0 will be ignored. Current value: feature_fraction=0.599842200285718\n",
            "[LightGBM] [Warning] bagging_fraction is set=0.6963566137390984, subsample=1.0 will be ignored. Current value: bagging_fraction=0.6963566137390984\n",
            "[LightGBM] [Warning] lambda_l2 is set=0.024126253858758936, reg_lambda=0.0 will be ignored. Current value: lambda_l2=0.024126253858758936\n",
            "[LightGBM] [Warning] lambda_l1 is set=5.1885323517313445e-05, reg_alpha=0.0 will be ignored. Current value: lambda_l1=5.1885323517313445e-05\n",
            "[LightGBM] [Warning] bagging_freq is set=8, subsample_freq=0 will be ignored. Current value: bagging_freq=8\n",
            "[LightGBM] [Warning] feature_fraction is set=0.46723457097807025, colsample_bytree=1.0 will be ignored. Current value: feature_fraction=0.46723457097807025\n",
            "[LightGBM] [Warning] bagging_fraction is set=0.6963566137390984, subsample=1.0 will be ignored. Current value: bagging_fraction=0.6963566137390984\n",
            "[LightGBM] [Warning] lambda_l2 is set=0.024126253858758936, reg_lambda=0.0 will be ignored. Current value: lambda_l2=0.024126253858758936\n",
            "[LightGBM] [Warning] lambda_l1 is set=5.1885323517313445e-05, reg_alpha=0.0 will be ignored. Current value: lambda_l1=5.1885323517313445e-05\n",
            "[LightGBM] [Warning] bagging_freq is set=8, subsample_freq=0 will be ignored. Current value: bagging_freq=8\n",
            "[LightGBM] [Warning] feature_fraction is set=0.46723457097807025, colsample_bytree=1.0 will be ignored. Current value: feature_fraction=0.46723457097807025\n"
          ]
        },
        {
          "output_type": "stream",
          "name": "stderr",
          "text": [
            "\u001b[32m[I 2023-04-19 16:57:44,679]\u001b[0m Trial 49 finished with value: 0.6701986754966887 and parameters: {'bagging_freq': 8, 'num_iterations': 1164, 'lambda_l1': 5.1885323517313445e-05, 'lambda_l2': 0.024126253858758936, 'feature_fraction': 0.46723457097807025, 'bagging_fraction': 0.6963566137390984, 'min_child_samples': 301, 'max_depth': 7, 'learning_rate': 0.12964517612890739}. Best is trial 41 with value: 0.8762507925898879.\u001b[0m\n"
          ]
        },
        {
          "output_type": "stream",
          "name": "stdout",
          "text": [
            "[LightGBM] [Warning] bagging_fraction is set=0.6963566137390984, subsample=1.0 will be ignored. Current value: bagging_fraction=0.6963566137390984\n",
            "[LightGBM] [Warning] lambda_l2 is set=0.024126253858758936, reg_lambda=0.0 will be ignored. Current value: lambda_l2=0.024126253858758936\n",
            "[LightGBM] [Warning] lambda_l1 is set=5.1885323517313445e-05, reg_alpha=0.0 will be ignored. Current value: lambda_l1=5.1885323517313445e-05\n",
            "[LightGBM] [Warning] bagging_freq is set=8, subsample_freq=0 will be ignored. Current value: bagging_freq=8\n",
            "[LightGBM] [Warning] feature_fraction is set=0.46723457097807025, colsample_bytree=1.0 will be ignored. Current value: feature_fraction=0.46723457097807025\n",
            "[LightGBM] [Warning] bagging_fraction is set=0.6963566137390984, subsample=1.0 will be ignored. Current value: bagging_fraction=0.6963566137390984\n",
            "[LightGBM] [Warning] lambda_l2 is set=0.024126253858758936, reg_lambda=0.0 will be ignored. Current value: lambda_l2=0.024126253858758936\n",
            "[LightGBM] [Warning] lambda_l1 is set=5.1885323517313445e-05, reg_alpha=0.0 will be ignored. Current value: lambda_l1=5.1885323517313445e-05\n",
            "[LightGBM] [Warning] bagging_freq is set=8, subsample_freq=0 will be ignored. Current value: bagging_freq=8\n",
            "[LightGBM] [Warning] feature_fraction is set=0.46723457097807025, colsample_bytree=1.0 will be ignored. Current value: feature_fraction=0.46723457097807025\n",
            "[LightGBM] [Warning] bagging_fraction is set=0.6963566137390984, subsample=1.0 will be ignored. Current value: bagging_fraction=0.6963566137390984\n",
            "[LightGBM] [Warning] lambda_l2 is set=0.024126253858758936, reg_lambda=0.0 will be ignored. Current value: lambda_l2=0.024126253858758936\n",
            "[LightGBM] [Warning] lambda_l1 is set=5.1885323517313445e-05, reg_alpha=0.0 will be ignored. Current value: lambda_l1=5.1885323517313445e-05\n",
            "[LightGBM] [Warning] bagging_freq is set=8, subsample_freq=0 will be ignored. Current value: bagging_freq=8\n",
            "[LightGBM] [Warning] feature_fraction is set=0.46723457097807025, colsample_bytree=1.0 will be ignored. Current value: feature_fraction=0.46723457097807025\n"
          ]
        }
      ]
    },
    {
      "cell_type": "code",
      "source": [
        "best_trial = study.best_trial"
      ],
      "metadata": {
        "id": "BjJdrURicpQy"
      },
      "execution_count": null,
      "outputs": []
    },
    {
      "cell_type": "code",
      "source": [
        "best_trial.values"
      ],
      "metadata": {
        "colab": {
          "base_uri": "https://localhost:8080/"
        },
        "outputId": "4c2c2021-9499-4c25-fa55-9aab43f3ab2b",
        "id": "RaR6VyV-cpQy"
      },
      "execution_count": null,
      "outputs": [
        {
          "output_type": "execute_result",
          "data": {
            "text/plain": [
              "[0.8762507925898879]"
            ]
          },
          "metadata": {},
          "execution_count": 59
        }
      ]
    },
    {
      "cell_type": "code",
      "source": [
        "best_trial.params"
      ],
      "metadata": {
        "colab": {
          "base_uri": "https://localhost:8080/"
        },
        "outputId": "c49bd20a-7f04-42a3-f34d-843192df192c",
        "id": "xfcG-m6JcpQy"
      },
      "execution_count": null,
      "outputs": [
        {
          "output_type": "execute_result",
          "data": {
            "text/plain": [
              "{'bagging_freq': 8,\n",
              " 'num_iterations': 2361,\n",
              " 'lambda_l1': 0.0001894816167691136,\n",
              " 'lambda_l2': 1.1765116425598254e-05,\n",
              " 'feature_fraction': 0.4527603505114882,\n",
              " 'bagging_fraction': 0.7146501252666941,\n",
              " 'min_child_samples': 8,\n",
              " 'max_depth': 7,\n",
              " 'learning_rate': 0.18622936748528418}"
            ]
          },
          "metadata": {},
          "execution_count": 60
        }
      ]
    },
    {
      "cell_type": "code",
      "source": [
        "best_params = best_trial.params"
      ],
      "metadata": {
        "id": "Pv2DR7Y3cpQy"
      },
      "execution_count": null,
      "outputs": []
    },
    {
      "cell_type": "code",
      "source": [
        "model = LGBMClassifier(**best_params)"
      ],
      "metadata": {
        "id": "P4DYo-TEcpQy"
      },
      "execution_count": null,
      "outputs": []
    },
    {
      "cell_type": "code",
      "source": [
        "model"
      ],
      "metadata": {
        "colab": {
          "base_uri": "https://localhost:8080/"
        },
        "outputId": "e18d121e-a0fa-4c45-907d-f13945c33c0b",
        "id": "xQ-J4u-qcpQz"
      },
      "execution_count": null,
      "outputs": [
        {
          "output_type": "execute_result",
          "data": {
            "text/plain": [
              "LGBMClassifier(bagging_fraction=0.7146501252666941, bagging_freq=8,\n",
              "               feature_fraction=0.4527603505114882,\n",
              "               lambda_l1=0.0001894816167691136,\n",
              "               lambda_l2=1.1765116425598254e-05,\n",
              "               learning_rate=0.18622936748528418, max_depth=7,\n",
              "               min_child_samples=8, num_iterations=2361)"
            ]
          },
          "metadata": {},
          "execution_count": 63
        }
      ]
    },
    {
      "cell_type": "code",
      "source": [
        "X_train, X_test, y_train, y_test = train_test_split(X[selected_features],\n",
        "                                                    y,\n",
        "                                                    test_size=0.25,\n",
        "                                                    stratify=y,\n",
        "                                                    random_state=43)"
      ],
      "metadata": {
        "id": "jj9JPubvcpQz"
      },
      "execution_count": null,
      "outputs": []
    },
    {
      "cell_type": "code",
      "source": [
        "scores = cross_val_score(model, X, y, cv=5)"
      ],
      "metadata": {
        "colab": {
          "base_uri": "https://localhost:8080/"
        },
        "outputId": "84b6c5cb-5314-438f-9060-3ee017dca0b5",
        "id": "oxGWqbf7cpQz"
      },
      "execution_count": null,
      "outputs": [
        {
          "output_type": "stream",
          "name": "stdout",
          "text": [
            "[LightGBM] [Warning] lambda_l1 is set=0.0001894816167691136, reg_alpha=0.0 will be ignored. Current value: lambda_l1=0.0001894816167691136\n",
            "[LightGBM] [Warning] feature_fraction is set=0.4527603505114882, colsample_bytree=1.0 will be ignored. Current value: feature_fraction=0.4527603505114882\n",
            "[LightGBM] [Warning] bagging_freq is set=8, subsample_freq=0 will be ignored. Current value: bagging_freq=8\n",
            "[LightGBM] [Warning] lambda_l2 is set=1.1765116425598254e-05, reg_lambda=0.0 will be ignored. Current value: lambda_l2=1.1765116425598254e-05\n",
            "[LightGBM] [Warning] bagging_fraction is set=0.7146501252666941, subsample=1.0 will be ignored. Current value: bagging_fraction=0.7146501252666941\n",
            "[LightGBM] [Warning] lambda_l1 is set=0.0001894816167691136, reg_alpha=0.0 will be ignored. Current value: lambda_l1=0.0001894816167691136\n",
            "[LightGBM] [Warning] feature_fraction is set=0.4527603505114882, colsample_bytree=1.0 will be ignored. Current value: feature_fraction=0.4527603505114882\n",
            "[LightGBM] [Warning] bagging_freq is set=8, subsample_freq=0 will be ignored. Current value: bagging_freq=8\n",
            "[LightGBM] [Warning] lambda_l2 is set=1.1765116425598254e-05, reg_lambda=0.0 will be ignored. Current value: lambda_l2=1.1765116425598254e-05\n",
            "[LightGBM] [Warning] bagging_fraction is set=0.7146501252666941, subsample=1.0 will be ignored. Current value: bagging_fraction=0.7146501252666941\n",
            "[LightGBM] [Warning] lambda_l1 is set=0.0001894816167691136, reg_alpha=0.0 will be ignored. Current value: lambda_l1=0.0001894816167691136\n",
            "[LightGBM] [Warning] feature_fraction is set=0.4527603505114882, colsample_bytree=1.0 will be ignored. Current value: feature_fraction=0.4527603505114882\n",
            "[LightGBM] [Warning] bagging_freq is set=8, subsample_freq=0 will be ignored. Current value: bagging_freq=8\n",
            "[LightGBM] [Warning] lambda_l2 is set=1.1765116425598254e-05, reg_lambda=0.0 will be ignored. Current value: lambda_l2=1.1765116425598254e-05\n",
            "[LightGBM] [Warning] bagging_fraction is set=0.7146501252666941, subsample=1.0 will be ignored. Current value: bagging_fraction=0.7146501252666941\n",
            "[LightGBM] [Warning] lambda_l1 is set=0.0001894816167691136, reg_alpha=0.0 will be ignored. Current value: lambda_l1=0.0001894816167691136\n",
            "[LightGBM] [Warning] feature_fraction is set=0.4527603505114882, colsample_bytree=1.0 will be ignored. Current value: feature_fraction=0.4527603505114882\n",
            "[LightGBM] [Warning] bagging_freq is set=8, subsample_freq=0 will be ignored. Current value: bagging_freq=8\n",
            "[LightGBM] [Warning] lambda_l2 is set=1.1765116425598254e-05, reg_lambda=0.0 will be ignored. Current value: lambda_l2=1.1765116425598254e-05\n",
            "[LightGBM] [Warning] bagging_fraction is set=0.7146501252666941, subsample=1.0 will be ignored. Current value: bagging_fraction=0.7146501252666941\n",
            "[LightGBM] [Warning] lambda_l1 is set=0.0001894816167691136, reg_alpha=0.0 will be ignored. Current value: lambda_l1=0.0001894816167691136\n",
            "[LightGBM] [Warning] feature_fraction is set=0.4527603505114882, colsample_bytree=1.0 will be ignored. Current value: feature_fraction=0.4527603505114882\n",
            "[LightGBM] [Warning] bagging_freq is set=8, subsample_freq=0 will be ignored. Current value: bagging_freq=8\n",
            "[LightGBM] [Warning] lambda_l2 is set=1.1765116425598254e-05, reg_lambda=0.0 will be ignored. Current value: lambda_l2=1.1765116425598254e-05\n",
            "[LightGBM] [Warning] bagging_fraction is set=0.7146501252666941, subsample=1.0 will be ignored. Current value: bagging_fraction=0.7146501252666941\n"
          ]
        }
      ]
    },
    {
      "cell_type": "code",
      "source": [
        "scores"
      ],
      "metadata": {
        "colab": {
          "base_uri": "https://localhost:8080/"
        },
        "outputId": "f4cd4019-73a6-4bd2-92e5-3936a17982b9",
        "id": "wHImd4thcpQz"
      },
      "execution_count": null,
      "outputs": [
        {
          "output_type": "execute_result",
          "data": {
            "text/plain": [
              "array([0.86, 0.85, 0.82, 0.88, 0.87])"
            ]
          },
          "metadata": {},
          "execution_count": 66
        }
      ]
    },
    {
      "cell_type": "code",
      "source": [
        "model.fit(X_train, y_train)"
      ],
      "metadata": {
        "colab": {
          "base_uri": "https://localhost:8080/"
        },
        "outputId": "71a2ad74-db4a-485b-9c37-9ef7ed9e7b07",
        "id": "1mr1J_fnddGH"
      },
      "execution_count": null,
      "outputs": [
        {
          "output_type": "stream",
          "name": "stdout",
          "text": [
            "[LightGBM] [Warning] lambda_l1 is set=0.0001894816167691136, reg_alpha=0.0 will be ignored. Current value: lambda_l1=0.0001894816167691136\n",
            "[LightGBM] [Warning] feature_fraction is set=0.4527603505114882, colsample_bytree=1.0 will be ignored. Current value: feature_fraction=0.4527603505114882\n",
            "[LightGBM] [Warning] bagging_freq is set=8, subsample_freq=0 will be ignored. Current value: bagging_freq=8\n",
            "[LightGBM] [Warning] lambda_l2 is set=1.1765116425598254e-05, reg_lambda=0.0 will be ignored. Current value: lambda_l2=1.1765116425598254e-05\n",
            "[LightGBM] [Warning] bagging_fraction is set=0.7146501252666941, subsample=1.0 will be ignored. Current value: bagging_fraction=0.7146501252666941\n"
          ]
        },
        {
          "output_type": "execute_result",
          "data": {
            "text/plain": [
              "LGBMClassifier(bagging_fraction=0.7146501252666941, bagging_freq=8,\n",
              "               feature_fraction=0.4527603505114882,\n",
              "               lambda_l1=0.0001894816167691136,\n",
              "               lambda_l2=1.1765116425598254e-05,\n",
              "               learning_rate=0.18622936748528418, max_depth=7,\n",
              "               min_child_samples=8, num_iterations=2361)"
            ]
          },
          "metadata": {},
          "execution_count": 68
        }
      ]
    },
    {
      "cell_type": "code",
      "source": [
        "metrics.f1_score(model.predict(X_test), y_test)"
      ],
      "metadata": {
        "colab": {
          "base_uri": "https://localhost:8080/"
        },
        "outputId": "a45e4018-4591-455d-8525-3e5b1d8f88a0",
        "id": "eM4y1emVddGI"
      },
      "execution_count": null,
      "outputs": [
        {
          "output_type": "execute_result",
          "data": {
            "text/plain": [
              "0.9180327868852459"
            ]
          },
          "metadata": {},
          "execution_count": 69
        }
      ]
    }
  ]
}