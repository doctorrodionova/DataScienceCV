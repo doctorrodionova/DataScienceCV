{
  "nbformat": 4,
  "nbformat_minor": 0,
  "metadata": {
    "colab": {
      "provenance": [],
      "machine_shape": "hm"
    },
    "kernelspec": {
      "name": "python3",
      "display_name": "Python 3"
    },
    "language_info": {
      "name": "python"
    }
  },
  "cells": [
    {
      "cell_type": "code",
      "source": [
        "from google.colab import drive\n",
        "import pandas as pd\n",
        "import numpy as np\n",
        "from statistics import mean\n",
        "from itertools import cycle\n",
        "from gensim.models import Word2Vec\n",
        "from tqdm import tqdm\n",
        "import torch\n",
        "import torch.nn as nn\n",
        "import torch.optim as optim\n",
        "from sklearn.metrics.pairwise import cosine_similarity\n",
        "from sklearn.model_selection import LeaveOneOut\n",
        "from sklearn.metrics import recall_score\n",
        "from sklearn.neighbors import NearestNeighbors"
      ],
      "metadata": {
        "id": "QFeLub_1Jrm1"
      },
      "execution_count": null,
      "outputs": []
    },
    {
      "cell_type": "code",
      "source": [
        "pip install gensim"
      ],
      "metadata": {
        "colab": {
          "base_uri": "https://localhost:8080/"
        },
        "id": "oJzZkuyNJ4Vk",
        "outputId": "65bf73cb-1fc6-494a-9c4a-d024144c8433"
      },
      "execution_count": null,
      "outputs": [
        {
          "output_type": "stream",
          "name": "stdout",
          "text": [
            "Requirement already satisfied: gensim in /usr/local/lib/python3.10/dist-packages (4.3.2)\n",
            "Requirement already satisfied: numpy>=1.18.5 in /usr/local/lib/python3.10/dist-packages (from gensim) (1.23.5)\n",
            "Requirement already satisfied: scipy>=1.7.0 in /usr/local/lib/python3.10/dist-packages (from gensim) (1.11.4)\n",
            "Requirement already satisfied: smart-open>=1.8.1 in /usr/local/lib/python3.10/dist-packages (from gensim) (6.4.0)\n"
          ]
        }
      ]
    },
    {
      "cell_type": "markdown",
      "source": [
        "## Загрузка и знакомство с данными"
      ],
      "metadata": {
        "id": "WZCK-8kziMEq"
      }
    },
    {
      "cell_type": "code",
      "source": [
        "drive.mount('/content/gdrive', force_remount=True)"
      ],
      "metadata": {
        "colab": {
          "base_uri": "https://localhost:8080/"
        },
        "id": "363I1xhWFM8X",
        "outputId": "a1dae627-8e50-456b-b8e9-8cb6162b9438"
      },
      "execution_count": null,
      "outputs": [
        {
          "output_type": "stream",
          "name": "stdout",
          "text": [
            "Mounted at /content/gdrive\n"
          ]
        }
      ]
    },
    {
      "cell_type": "code",
      "source": [
        "!cp /content/gdrive/'My Drive'/ML ."
      ],
      "metadata": {
        "colab": {
          "base_uri": "https://localhost:8080/"
        },
        "id": "_sixmUJPFSi5",
        "outputId": "11acb504-89b4-42b9-e8bd-d67390f0916c"
      },
      "execution_count": null,
      "outputs": [
        {
          "output_type": "stream",
          "name": "stdout",
          "text": [
            "cp: -r not specified; omitting directory '/content/gdrive/My Drive/ML'\n"
          ]
        }
      ]
    },
    {
      "cell_type": "code",
      "source": [
        "cols = [\n",
        "    'sale_date_date', 'contact_id', 'shop_id', 'product_id',\n",
        "    'product_sub_category_id', 'product_category_id', 'brand_id', 'quantity'\n",
        "]\n",
        "check_data = pd.read_csv('/content/gdrive/MyDrive/ML/Data_check.csv', usecols=cols)"
      ],
      "metadata": {
        "colab": {
          "base_uri": "https://localhost:8080/"
        },
        "id": "bDixZQiweNfx",
        "outputId": "1ddecea8-135d-48a7-ea7b-ec3d41b00dd0"
      },
      "execution_count": null,
      "outputs": [
        {
          "output_type": "stream",
          "name": "stderr",
          "text": [
            "<ipython-input-7-9b3bf04be5b2>:5: DtypeWarning: Columns (1) have mixed types. Specify dtype option on import or set low_memory=False.\n",
            "  check_data = pd.read_csv('/content/gdrive/MyDrive/ML/Data_check.csv', usecols=cols)\n"
          ]
        }
      ]
    },
    {
      "cell_type": "code",
      "source": [
        "print(check_data.info())"
      ],
      "metadata": {
        "colab": {
          "base_uri": "https://localhost:8080/"
        },
        "id": "9zi7RtLvaaFH",
        "outputId": "f4e0420b-ff6f-4f2c-ef47-4f51c0d6bc9f"
      },
      "execution_count": null,
      "outputs": [
        {
          "output_type": "stream",
          "name": "stdout",
          "text": [
            "<class 'pandas.core.frame.DataFrame'>\n",
            "RangeIndex: 20000003 entries, 0 to 20000002\n",
            "Data columns (total 8 columns):\n",
            " #   Column                   Dtype  \n",
            "---  ------                   -----  \n",
            " 0   sale_date_date           object \n",
            " 1   contact_id               object \n",
            " 2   shop_id                  float64\n",
            " 3   product_id               float64\n",
            " 4   product_sub_category_id  float64\n",
            " 5   product_category_id      float64\n",
            " 6   brand_id                 float64\n",
            " 7   quantity                 object \n",
            "dtypes: float64(5), object(3)\n",
            "memory usage: 1.2+ GB\n",
            "None\n"
          ]
        }
      ]
    },
    {
      "cell_type": "code",
      "source": [
        "check_data['sale_date_date'].value_counts()"
      ],
      "metadata": {
        "colab": {
          "base_uri": "https://localhost:8080/"
        },
        "id": "jtP2ErgGfNLY",
        "outputId": "34005eec-aa5b-4de0-af83-b762d1f1106f"
      },
      "execution_count": null,
      "outputs": [
        {
          "output_type": "execute_result",
          "data": {
            "text/plain": [
              "2018-11-16        168713\n",
              "2018-11-15        167893\n",
              "2018-11-21        167858\n",
              "2018-11-20        164768\n",
              "2018-12-07        164278\n",
              "                   ...  \n",
              "2018-07-02         11067\n",
              "2018-06-22          1824\n",
              "2018-06-26           811\n",
              "2018-12-09           133\n",
              "(затронуто стр         1\n",
              "Name: sale_date_date, Length: 215, dtype: int64"
            ]
          },
          "metadata": {},
          "execution_count": 9
        }
      ]
    },
    {
      "cell_type": "code",
      "source": [
        "check_data['contact_id'].value_counts()"
      ],
      "metadata": {
        "colab": {
          "base_uri": "https://localhost:8080/"
        },
        "id": "qqhX5kpQfNJY",
        "outputId": "5b13ce0b-13b6-45c0-c167-c44a9ad93064"
      },
      "execution_count": null,
      "outputs": [
        {
          "output_type": "execute_result",
          "data": {
            "text/plain": [
              "730404         13905\n",
              "665607          8677\n",
              "795400          8264\n",
              "995207          7455\n",
              "749095          7377\n",
              "               ...  \n",
              "2355885            1\n",
              "925767             1\n",
              "956510             1\n",
              "2682072            1\n",
              "к: 20000000        1\n",
              "Name: contact_id, Length: 1646435, dtype: int64"
            ]
          },
          "metadata": {},
          "execution_count": 10
        }
      ]
    },
    {
      "cell_type": "code",
      "source": [
        "check_data['shop_id'].value_counts()"
      ],
      "metadata": {
        "colab": {
          "base_uri": "https://localhost:8080/"
        },
        "id": "ODSwivx5fNHN",
        "outputId": "a593b068-92f0-403c-e261-8d23bd28ca8a"
      },
      "execution_count": null,
      "outputs": [
        {
          "output_type": "execute_result",
          "data": {
            "text/plain": [
              "313.0     267255\n",
              "323.0     259413\n",
              "350.0     255904\n",
              "316.0     251810\n",
              "269.0     242599\n",
              "           ...  \n",
              "2081.0         1\n",
              "719.0          1\n",
              "1202.0         1\n",
              "1688.0         1\n",
              "1640.0         1\n",
              "Name: shop_id, Length: 851, dtype: int64"
            ]
          },
          "metadata": {},
          "execution_count": 11
        }
      ]
    },
    {
      "cell_type": "code",
      "source": [
        "check_data['product_id'].value_counts()"
      ],
      "metadata": {
        "colab": {
          "base_uri": "https://localhost:8080/"
        },
        "id": "P7Nxkfs2fNEy",
        "outputId": "7080ad7c-246c-4509-e40f-2c2cde61f101"
      },
      "execution_count": null,
      "outputs": [
        {
          "output_type": "execute_result",
          "data": {
            "text/plain": [
              "129195.0    169191\n",
              "168308.0    118106\n",
              "158662.0     89851\n",
              "110629.0     87792\n",
              "137539.0     77153\n",
              "             ...  \n",
              "120494.0         1\n",
              "224621.0         1\n",
              "317844.0         1\n",
              "234526.0         1\n",
              "193550.0         1\n",
              "Name: product_id, Length: 36549, dtype: int64"
            ]
          },
          "metadata": {},
          "execution_count": 12
        }
      ]
    },
    {
      "cell_type": "code",
      "source": [
        "check_data['product_sub_category_id'].value_counts()"
      ],
      "metadata": {
        "colab": {
          "base_uri": "https://localhost:8080/"
        },
        "id": "r8X97qx6fNCA",
        "outputId": "9be7f4f8-0161-4a94-9be3-3cee971387af"
      },
      "execution_count": null,
      "outputs": [
        {
          "output_type": "execute_result",
          "data": {
            "text/plain": [
              " 738.0    2555316\n",
              " 397.0     841103\n",
              " 595.0     749197\n",
              "-1.0       652908\n",
              " 404.0     588604\n",
              "           ...   \n",
              " 832.0          1\n",
              " 886.0          1\n",
              " 809.0          1\n",
              " 483.0          1\n",
              " 660.0          1\n",
              "Name: product_sub_category_id, Length: 440, dtype: int64"
            ]
          },
          "metadata": {},
          "execution_count": 13
        }
      ]
    },
    {
      "cell_type": "code",
      "source": [
        "check_data['product_category_id'].value_counts()"
      ],
      "metadata": {
        "colab": {
          "base_uri": "https://localhost:8080/"
        },
        "id": "YgIqs3aUfM8F",
        "outputId": "49c14452-8ec3-40b7-d4e2-d030e5241194"
      },
      "execution_count": null,
      "outputs": [
        {
          "output_type": "execute_result",
          "data": {
            "text/plain": [
              "170.0    2969444\n",
              "162.0    1906617\n",
              "135.0    1890878\n",
              "101.0    1363400\n",
              "146.0    1009485\n",
              "          ...   \n",
              "184.0          8\n",
              "203.0          6\n",
              "149.0          5\n",
              "207.0          4\n",
              "145.0          4\n",
              "Name: product_category_id, Length: 112, dtype: int64"
            ]
          },
          "metadata": {},
          "execution_count": 14
        }
      ]
    },
    {
      "cell_type": "code",
      "source": [
        "check_data['brand_id'].value_counts()"
      ],
      "metadata": {
        "colab": {
          "base_uri": "https://localhost:8080/"
        },
        "id": "iqeo-5P3fe1e",
        "outputId": "ab7331fc-204d-483c-edbd-8c0d284c0418"
      },
      "execution_count": null,
      "outputs": [
        {
          "output_type": "execute_result",
          "data": {
            "text/plain": [
              "-1.0       16176371\n",
              " 1520.0      881070\n",
              " 1348.0      151294\n",
              " 2038.0      105401\n",
              " 4538.0       97269\n",
              "             ...   \n",
              " 1433.0           1\n",
              " 4877.0           1\n",
              " 932.0            1\n",
              " 1539.0           1\n",
              " 4529.0           1\n",
              "Name: brand_id, Length: 1631, dtype: int64"
            ]
          },
          "metadata": {},
          "execution_count": 15
        }
      ]
    },
    {
      "cell_type": "code",
      "source": [
        "check_data['quantity'].value_counts()"
      ],
      "metadata": {
        "colab": {
          "base_uri": "https://localhost:8080/"
        },
        "id": "lPz-Fcwlfezf",
        "outputId": "5c2027f6-2f50-43a4-da5c-e522f41c4a67"
      },
      "execution_count": null,
      "outputs": [
        {
          "output_type": "execute_result",
          "data": {
            "text/plain": [
              "1,00      16729626\n",
              "2,00       1870682\n",
              "3,00        431410\n",
              "5,00        211800\n",
              "4,00        171686\n",
              "            ...   \n",
              "1,03             1\n",
              "0,945            1\n",
              "202,00           1\n",
              "15,50            1\n",
              "0,562            1\n",
              "Name: quantity, Length: 1244, dtype: int64"
            ]
          },
          "metadata": {},
          "execution_count": 16
        }
      ]
    },
    {
      "cell_type": "markdown",
      "source": [
        "## Проверка данных на предмет аномалий и их исправление"
      ],
      "metadata": {
        "id": "btwpwUNoism_"
      }
    },
    {
      "cell_type": "code",
      "source": [
        "print(\"\\nПропущенные значения в чековых данных:\")\n",
        "print(check_data.isna().sum())"
      ],
      "metadata": {
        "colab": {
          "base_uri": "https://localhost:8080/"
        },
        "id": "X3hy5A3YbRA4",
        "outputId": "c78fde9f-162f-4b38-f2c8-7a9885542ec0"
      },
      "execution_count": null,
      "outputs": [
        {
          "output_type": "stream",
          "name": "stdout",
          "text": [
            "\n",
            "Пропущенные значения в чековых данных:\n",
            "sale_date_date             2\n",
            "contact_id                 2\n",
            "shop_id                    3\n",
            "product_id                 3\n",
            "product_sub_category_id    3\n",
            "product_category_id        3\n",
            "brand_id                   3\n",
            "quantity                   3\n",
            "dtype: int64\n"
          ]
        }
      ]
    },
    {
      "cell_type": "code",
      "source": [
        "check_data.dropna(inplace=True)"
      ],
      "metadata": {
        "id": "raG3NnV3b6kJ"
      },
      "execution_count": null,
      "outputs": []
    },
    {
      "cell_type": "code",
      "source": [
        "print(\"\\nЧековые данные:\")\n",
        "print(check_data)"
      ],
      "metadata": {
        "colab": {
          "base_uri": "https://localhost:8080/"
        },
        "id": "vjR-Wstz1vIg",
        "outputId": "6058e5d6-0d1e-46b3-9567-07a55a76477f"
      },
      "execution_count": null,
      "outputs": [
        {
          "output_type": "stream",
          "name": "stdout",
          "text": [
            "\n",
            "Чековые данные:\n",
            "         sale_date_date contact_id  shop_id  product_id  \\\n",
            "0            2018-12-07    1260627   1455.0    168308.0   \n",
            "1            2018-12-07     198287    279.0    134832.0   \n",
            "2            2018-12-07    2418385    848.0    101384.0   \n",
            "3            2018-12-07    1285774   1511.0    168570.0   \n",
            "4            2018-12-07    1810323   1501.0    168319.0   \n",
            "...                 ...        ...      ...         ...   \n",
            "19999995     2018-06-13    1601618   1499.0     66842.0   \n",
            "19999996     2018-06-13    1394104   1495.0    136795.0   \n",
            "19999997     2018-06-13    1570654   1516.0    119513.0   \n",
            "19999998     2018-06-13    1924036   1485.0     71723.0   \n",
            "19999999     2018-06-13    1788779   1503.0     66164.0   \n",
            "\n",
            "          product_sub_category_id  product_category_id  brand_id quantity  \n",
            "0                           906.0                205.0      -1.0     1,00  \n",
            "1                           404.0                 93.0      -1.0     1,00  \n",
            "2                           404.0                 93.0      -1.0     1,00  \n",
            "3                           906.0                205.0      -1.0     1,00  \n",
            "4                           906.0                205.0      -1.0     1,00  \n",
            "...                           ...                  ...       ...      ...  \n",
            "19999995                    615.0                140.0    1838.0     1,00  \n",
            "19999996                    738.0                170.0      -1.0     1,00  \n",
            "19999997                    738.0                170.0      -1.0     1,00  \n",
            "19999998                    637.0                146.0      -1.0     1,00  \n",
            "19999999                    622.0                142.0      -1.0     1,00  \n",
            "\n",
            "[20000000 rows x 8 columns]\n"
          ]
        }
      ]
    },
    {
      "cell_type": "code",
      "source": [
        "check_data['product_id'] = check_data['product_id'].astype(str)"
      ],
      "metadata": {
        "id": "4DVqwcwFSS1_"
      },
      "execution_count": null,
      "outputs": []
    },
    {
      "cell_type": "code",
      "source": [
        "check_data['quantity'] = check_data['quantity'].str.replace(',', '.').astype(float)\n",
        "\n",
        "# Выводим обновленные данные\n",
        "print(\"\\nЧековые данные после исправлений:\")\n",
        "print(check_data)"
      ],
      "metadata": {
        "colab": {
          "base_uri": "https://localhost:8080/"
        },
        "id": "T0HXLlnt0QUH",
        "outputId": "1e7ee253-8492-4296-d9d7-828d1d744900"
      },
      "execution_count": null,
      "outputs": [
        {
          "output_type": "stream",
          "name": "stdout",
          "text": [
            "\n",
            "Чековые данные после исправлений:\n",
            "         sale_date_date contact_id  shop_id product_id  \\\n",
            "0            2018-12-07    1260627   1455.0   168308.0   \n",
            "1            2018-12-07     198287    279.0   134832.0   \n",
            "2            2018-12-07    2418385    848.0   101384.0   \n",
            "3            2018-12-07    1285774   1511.0   168570.0   \n",
            "4            2018-12-07    1810323   1501.0   168319.0   \n",
            "...                 ...        ...      ...        ...   \n",
            "19999995     2018-06-13    1601618   1499.0    66842.0   \n",
            "19999996     2018-06-13    1394104   1495.0   136795.0   \n",
            "19999997     2018-06-13    1570654   1516.0   119513.0   \n",
            "19999998     2018-06-13    1924036   1485.0    71723.0   \n",
            "19999999     2018-06-13    1788779   1503.0    66164.0   \n",
            "\n",
            "          product_sub_category_id  product_category_id  brand_id  quantity  \n",
            "0                           906.0                205.0      -1.0       1.0  \n",
            "1                           404.0                 93.0      -1.0       1.0  \n",
            "2                           404.0                 93.0      -1.0       1.0  \n",
            "3                           906.0                205.0      -1.0       1.0  \n",
            "4                           906.0                205.0      -1.0       1.0  \n",
            "...                           ...                  ...       ...       ...  \n",
            "19999995                    615.0                140.0    1838.0       1.0  \n",
            "19999996                    738.0                170.0      -1.0       1.0  \n",
            "19999997                    738.0                170.0      -1.0       1.0  \n",
            "19999998                    637.0                146.0      -1.0       1.0  \n",
            "19999999                    622.0                142.0      -1.0       1.0  \n",
            "\n",
            "[20000000 rows x 8 columns]\n"
          ]
        }
      ]
    },
    {
      "cell_type": "code",
      "source": [
        "check_data.info()"
      ],
      "metadata": {
        "colab": {
          "base_uri": "https://localhost:8080/"
        },
        "id": "snW5UEkTie9L",
        "outputId": "04e281e9-66fe-4a20-ac9a-763ff396146e"
      },
      "execution_count": null,
      "outputs": [
        {
          "output_type": "stream",
          "name": "stdout",
          "text": [
            "<class 'pandas.core.frame.DataFrame'>\n",
            "Int64Index: 20000000 entries, 0 to 19999999\n",
            "Data columns (total 8 columns):\n",
            " #   Column                   Dtype  \n",
            "---  ------                   -----  \n",
            " 0   sale_date_date           object \n",
            " 1   contact_id               object \n",
            " 2   shop_id                  float64\n",
            " 3   product_id               object \n",
            " 4   product_sub_category_id  float64\n",
            " 5   product_category_id      float64\n",
            " 6   brand_id                 float64\n",
            " 7   quantity                 float64\n",
            "dtypes: float64(5), object(3)\n",
            "memory usage: 1.3+ GB\n"
          ]
        }
      ]
    },
    {
      "cell_type": "markdown",
      "source": [
        "## Рекомендации с Word2Vec"
      ],
      "metadata": {
        "id": "cgC9HJqnWc3f"
      }
    },
    {
      "cell_type": "code",
      "source": [
        "# Группируем данные по дате, магазину и клиенту, а затем объединениняем 'product_id' в списки\n",
        "grouped_df = check_data.groupby(['sale_date_date', 'shop_id', 'contact_id'])['product_id'].apply(list).reset_index()"
      ],
      "metadata": {
        "id": "95bjVUMQWtYu"
      },
      "execution_count": null,
      "outputs": []
    },
    {
      "cell_type": "code",
      "source": [
        "word2vec_model = Word2Vec(sentences=grouped_df['product_id'], vector_size=100, window=5, min_count=5, workers=4)\n",
        "\n",
        "# Дополнительные параметры Word2Vec:\n",
        "# - vector_size: размер вектора\n",
        "# - window: максимальное расстояние между текущим и предсказываемым словом в предложении\n",
        "# - min_count: игнорировать все слова, которые встречаются менее указанного числа раз"
      ],
      "metadata": {
        "id": "kLSJgdzkbr9U"
      },
      "execution_count": null,
      "outputs": []
    },
    {
      "cell_type": "code",
      "source": [
        "def predict_recommendations(model, product_ids, top_n=3):\n",
        "    \"\"\"\n",
        "    Предсказывает топ-3 рекомендаций для списка клиентов на основе эмбеддингов продуктов.\n",
        "\n",
        "    Parameters:\n",
        "    -----------\n",
        "    model : gensim.models.word2vec.Word2Vec\n",
        "        Обученная модель Word2Vec, содержащая эмбеддинги продуктов.\n",
        "\n",
        "    product_ids : list of list of str\n",
        "        Список списков идентификаторов продуктов для каждого клиента.\n",
        "\n",
        "    top_n : int, optional (default=3)\n",
        "        Количество рекомендаций, которое следует вернуть для каждого клиента.\n",
        "\n",
        "    Returns:\n",
        "    --------\n",
        "    recommendations : list of list of str\n",
        "        Список списков идентификаторов рекомендованных продуктов для каждого клиента.\n",
        "\n",
        "    Examples:\n",
        "    ---------\n",
        "    >>> model = Word2VecModel(sentences=grouped_df['product_id'], vector_size=100, window=5, min_count=5, workers=4).model\n",
        "    >>> product_ids = [['apple', 'banana'], ['orange', 'grape', 'banana']]\n",
        "    >>> recommendations = predict_recommendations(model, product_ids, top_n=2)\n",
        "    >>> print(recommendations)\n",
        "    [['grape', 'orange'], ['apple', 'banana']]\n",
        "    \"\"\"\n",
        "    recommendations = []\n",
        "    for product_list in product_ids:\n",
        "        product_embeddings = [model.wv[pid] for pid in product_list if pid in model.wv]\n",
        "\n",
        "        if not product_embeddings:\n",
        "            recommendations.append([])  # Если для данного клиента нет эмбеддингов продуктов\n",
        "            continue\n",
        "\n",
        "        # Усреднение эмбеддингов продуктов\n",
        "        average_embedding = sum(product_embeddings) / len(product_embeddings)\n",
        "\n",
        "        # Поиск наиболее похожих продуктов\n",
        "        similar_products = model.wv.similar_by_vector(average_embedding, topn=top_n)\n",
        "\n",
        "        # Извлечение только идентификаторов продуктов из результатов\n",
        "        recommended_products = [pid for pid, _ in similar_products]\n",
        "        recommendations.append(recommended_products)\n",
        "\n",
        "    return recommendations"
      ],
      "metadata": {
        "id": "pdJVa-zZeBXY"
      },
      "execution_count": null,
      "outputs": []
    },
    {
      "cell_type": "code",
      "source": [
        "# Пример: возьмем первые 5 записей для теста\n",
        "test_data = grouped_df['product_id'][:5].tolist()\n",
        "predicted_recommendations = predict_recommendations(word2vec_model, test_data)\n",
        "\n",
        "for i, recommendations in enumerate(predicted_recommendations):\n",
        "    print(f\"Для клиента {grouped_df['contact_id'][i]} в магазине {grouped_df['shop_id'][i]} на дату {grouped_df['sale_date_date'][i]} рекомендуемые продукты: {recommendations}\")"
      ],
      "metadata": {
        "colab": {
          "base_uri": "https://localhost:8080/"
        },
        "id": "dPEkqbHucH25",
        "outputId": "f452082d-03d9-43f3-8e69-78c7a8fafbf3"
      },
      "execution_count": null,
      "outputs": [
        {
          "output_type": "stream",
          "name": "stdout",
          "text": [
            "Для клиента 17453 в магазине 43.0 на дату 2018-01-01 рекомендуемые продукты: ['148022.0', '101264.0', '30656.0']\n",
            "Для клиента 28331 в магазине 43.0 на дату 2018-01-01 рекомендуемые продукты: ['54592.0', '115174.0', '160776.0']\n",
            "Для клиента 46184 в магазине 43.0 на дату 2018-01-01 рекомендуемые продукты: ['113585.0', '41890.0', '44789.0']\n",
            "Для клиента 51940 в магазине 43.0 на дату 2018-01-01 рекомендуемые продукты: ['76308.0', '164043.0', '79058.0']\n",
            "Для клиента 78417 в магазине 43.0 на дату 2018-01-01 рекомендуемые продукты: ['146135.0', '132911.0', '40243.0']\n"
          ]
        }
      ]
    },
    {
      "cell_type": "markdown",
      "source": [
        "Оценка качества рекомендаций по метрике Precision@K:"
      ],
      "metadata": {
        "id": "SziqMsn0PtR8"
      }
    },
    {
      "cell_type": "code",
      "source": [
        "# Преобразование списков в последовательности\n",
        "sequences = grouped_df['product_id'].tolist()\n",
        "\n",
        "# Обучение модели Word2Vec\n",
        "word2vec_model = Word2Vec(sentences=sequences, vector_size=100, window=5, min_count=5, workers=4)\n",
        "\n",
        "# Получение эмбеддингов продуктов\n",
        "product_embeddings = [word2vec_model.wv[str(product_id)] for sequence in sequences for product_id in sequence if str(product_id) in word2vec_model.wv]\n",
        "product_ids = [int(float(pid)) for pid in grouped_df['product_id'] if str(pid).replace('.', '', 1).isdigit()]"
      ],
      "metadata": {
        "id": "A-xPY57oSNlq"
      },
      "execution_count": null,
      "outputs": []
    },
    {
      "cell_type": "code",
      "source": [
        "import numpy as np\n",
        "from sklearn.metrics.pairwise import cosine_similarity\n",
        "\n",
        "def evaluate_recommendations(embeddings, product_ids, top_k=3):\n",
        "    \"\"\"\n",
        "    Оценивает качество рекомендаций на основе встроенных представлений продуктов.\n",
        "\n",
        "    Parameters:\n",
        "    - embeddings (numpy.ndarray): Массив с встроенными представлениями продуктов.\n",
        "    - product_ids (list): Список идентификаторов продуктов, для которых оценивается качество.\n",
        "    - top_k (int): Количество ближайших соседей для оценки точности.\n",
        "\n",
        "    Returns:\n",
        "    - float: Значение precision@k, оценка качества рекомендаций.\n",
        "    \"\"\"\n",
        "\n",
        "    # Создаем отображение индексов продуктов\n",
        "    product_id_index_map = {pid: i for i, pid in enumerate(product_ids)}\n",
        "\n",
        "    # Вычисляем матрицу сходства\n",
        "    similarities = cosine_similarity(embeddings, embeddings)\n",
        "\n",
        "    # Инициализируем счетчик точных предсказаний\n",
        "    precision_at_k = 0.0\n",
        "\n",
        "    # Итерируем по исходным продуктам\n",
        "    for i, true_product_id in enumerate(product_ids):\n",
        "        true_index = product_id_index_map[true_product_id]\n",
        "        most_similar_indices = np.argsort(similarities[true_index])[::-1][1:top_k+1]\n",
        "        precision_at_k += int(true_index in most_similar_indices)\n",
        "\n",
        "    precision_at_k /= len(product_ids)\n",
        "    return precision_at_k\n",
        "\n",
        "precision_at_k = evaluate_recommendations(product_embeddings, product_ids, top_k=3)\n",
        "print(f'Precision@3: {precision_at_k}')"
      ],
      "metadata": {
        "id": "f49t1asAZks9"
      },
      "execution_count": null,
      "outputs": []
    },
    {
      "cell_type": "markdown",
      "source": [
        "## Генерируем пары фича-таргет"
      ],
      "metadata": {
        "id": "PSKsiPUq6S8B"
      }
    },
    {
      "cell_type": "code",
      "source": [
        "def generate_batches(check_data, batch_size=32):\n",
        "    \"\"\"\n",
        "    Генерирует батчи пар feature-target для заданного набора данных.\n",
        "\n",
        "    Параметры:\n",
        "    - check_data (pd.DataFrame): Входной DataFrame, содержащий столбцы 'product_id' и 'quantity'.\n",
        "    - batch_size (int, optional): Размер каждого пакета. По умолчанию 32.\n",
        "\n",
        "    Возвращает:\n",
        "    tuple: Кортеж, содержащий список словарей, представляющих признаки, и список списков целевых значений.\n",
        "\n",
        "    Пример:\n",
        "    ```\n",
        "    batch_size = 32\n",
        "    batches_generator = generate_batches(check_data, batch_size=batch_size)\n",
        "    for features, targets in batches_generator:\n",
        "        # Обработка пакета\n",
        "    ```\n",
        "    \"\"\"\n",
        "\n",
        "    # Создаем словарь для хранения частот quantity для каждого продукта\n",
        "    quantity_counts = {}\n",
        "\n",
        "    # Считаем частоты\n",
        "    for _, row in check_data.iterrows():\n",
        "        product_id = row['product_id']\n",
        "        quantity = int(row['quantity'])\n",
        "\n",
        "        if product_id not in quantity_counts:\n",
        "            quantity_counts[product_id] = {}\n",
        "\n",
        "        if quantity not in quantity_counts[product_id]:\n",
        "            quantity_counts[product_id][quantity] = 0\n",
        "\n",
        "        quantity_counts[product_id][quantity] += 1\n",
        "\n",
        "    # Для каждого продукта выбираем 5 самых частых quantity\n",
        "    most_common_quantities = {}\n",
        "    N = 5\n",
        "\n",
        "    for product_id, quantities in quantity_counts.items():\n",
        "        most_common_quantities[product_id] = [\n",
        "            quantity for quantity, count in sorted(quantities.items(), key=lambda x: x[1], reverse=True)[:N]\n",
        "        ]\n",
        "\n",
        "    # Генератор пар фича-таргет и их деление на батчи\n",
        "    while True:\n",
        "        data = data.sample(frac=1).reset_index(drop=True)  # Перемешиваем данные\n",
        "        for i in range(0, len(data), batch_size):\n",
        "            batch = data.iloc[i:i + batch_size]\n",
        "\n",
        "            features = []\n",
        "            targets = []\n",
        "\n",
        "            for _, row in batch.iterrows():\n",
        "                product_id = row['product_id']\n",
        "                quantity = int(row['quantity'])\n",
        "\n",
        "                # Используем one-hot encoding для таргетов\n",
        "                target = [1 if quantity in most_common_quantities[product_id] else 0 for quantity in range(1, N+1)]\n",
        "\n",
        "                features.append({\n",
        "                    'product_id': product_id,\n",
        "                    'quantity': quantity\n",
        "                })\n",
        "                targets.append(target)\n",
        "\n",
        "            yield features, targets\n",
        "\n",
        "batch_size = 32\n",
        "batches_generator = generate_batches(check_data, batch_size=batch_size)"
      ],
      "metadata": {
        "id": "djXaCNdNHK8j"
      },
      "execution_count": null,
      "outputs": []
    },
    {
      "cell_type": "markdown",
      "source": [
        "## Рекомендации по выбранной архитектуре"
      ],
      "metadata": {
        "id": "fwAwM2oZgo-8"
      }
    },
    {
      "cell_type": "code",
      "source": [
        "# Считаем размер словаря для модели\n",
        "unique_product_ids = check_data['product_id'].unique()\n",
        "\n",
        "vocab_size = len(unique_product_ids)\n",
        "\n",
        "print(f\"Размер словаря (vocab_size): {vocab_size}\")"
      ],
      "metadata": {
        "id": "B7EzgM1vhKKo"
      },
      "execution_count": null,
      "outputs": []
    },
    {
      "cell_type": "code",
      "source": [
        "# Определение модели\n",
        "class Recommend(nn.Module):\n",
        "    def __init__(self, vocab_size: int, hidden_size: int):\n",
        "        super(Recommend, self).__init__()\n",
        "        self.hidden = nn.Linear(vocab_size, hidden_size)\n",
        "        self.relu = nn.ReLU()\n",
        "        self.linear = nn.Linear(hidden_size, vocab_size)\n",
        "\n",
        "    def forward(self, x: torch.Tensor):\n",
        "        out = self.hidden(x)\n",
        "        out = self.relu(out)\n",
        "        out = self.linear(out)\n",
        "        return out\n",
        "\n",
        "# Параметры модели и обучения\n",
        "vocab_size = 36549\n",
        "hidden_size = 100\n",
        "learning_rate = 0.001\n",
        "\n",
        "# Инициализация модели, функции потерь и оптимизатора\n",
        "model = Recommend(vocab_size, hidden_size)\n",
        "criterion = nn.CrossEntropyLoss()\n",
        "optimizer = optim.Adam(model.parameters(), lr=learning_rate)\n",
        "\n",
        "# Обучение модели\n",
        "num_epochs = 3\n",
        "for epoch in range(num_epochs):\n",
        "    for batch_features, batch_targets in batches_generator:\n",
        "        features_tensor = torch.Tensor([item['product_id'] for item in batch_features])\n",
        "        targets_tensor = torch.Tensor(batch_targets)\n",
        "\n",
        "        # Прямой проход\n",
        "        outputs = model(features_tensor)\n",
        "\n",
        "        # Рассчет функции потерь\n",
        "        loss = criterion(outputs, targets_tensor.argmax(dim=1))\n",
        "\n",
        "        # Обратный проход и оптимизация\n",
        "        optimizer.zero_grad()\n",
        "        loss.backward()\n",
        "        optimizer.step()\n",
        "\n",
        "    print(f'Epoch [{epoch+1}/{num_epochs}], Loss: {loss.item()}')"
      ],
      "metadata": {
        "id": "mxZzGT0rHK6J"
      },
      "execution_count": null,
      "outputs": []
    },
    {
      "cell_type": "markdown",
      "source": [
        "## Рекомендации по Content-Based Filtering"
      ],
      "metadata": {
        "id": "xuxPmGn4aZIt"
      }
    },
    {
      "cell_type": "code",
      "source": [
        "# Выбор признаков для Content-Based Filtering\n",
        "features = ['product_sub_category_id', 'product_category_id', 'brand_id']\n",
        "\n",
        "# Создание модели Content-Based Filtering\n",
        "model_cb = NearestNeighbors(metric='cosine', algorithm='brute')\n",
        "\n",
        "# LOOCV - Leave One Out Cross-Validation\n",
        "loo = LeaveOneOut()\n",
        "\n",
        "recall_scores = []\n",
        "\n",
        "for train_index, test_index in loo.split(check_data):\n",
        "    # Разделяем данных на train и test для текущей итерации LOOCV\n",
        "    train_data, test_data = check_data.iloc[train_index], check_data.iloc[test_index]\n",
        "\n",
        "    # Обучаем модель Content-Based Filtering\n",
        "    model_cb.fit(train_data[features])\n",
        "\n",
        "    # Получаем рекомендации для текущего пользователя в тестовой выборке\n",
        "    user_profile = test_data[features]\n",
        "    distances, indices = model_cb.kneighbors([user_profile], n_neighbors=5)\n",
        "\n",
        "    # Предсказание на основе ближайших соседей\n",
        "    predicted_indices = indices.flatten()\n",
        "\n",
        "    # Реальные продукты, которые пользователь взаимодействовал в тестовой выборке\n",
        "    true_indices = test_data['product_id']\n",
        "\n",
        "    # Оценка Recall@K\n",
        "    recall_at_k = recall_score(true_indices, predicted_indices[:5], average='micro')\n",
        "    recall_scores.append(recall_at_k)\n",
        "\n",
        "# Средний Recall@K по всем итерациям LOOCV\n",
        "average_recall = sum(recall_scores) / len(recall_scores)\n",
        "\n",
        "print(f'Average Recall@{5}: {average_recall}')"
      ],
      "metadata": {
        "id": "z5_ls_9_I_ih"
      },
      "execution_count": null,
      "outputs": []
    },
    {
      "cell_type": "markdown",
      "source": [
        "## Сравнение качества модели Content-Based Filtering с двумя наивными моделями: случайные рекомендации и рекомендации наиболее популярных айтемов."
      ],
      "metadata": {
        "id": "-xEbugAFJ3ya"
      }
    },
    {
      "cell_type": "code",
      "source": [
        "from sklearn.model_selection import LeaveOneOut\n",
        "from sklearn.metrics import recall_score\n",
        "\n",
        "# Content-Based Filtering\n",
        "model_cb = NearestNeighbors(metric='cosine', algorithm='brute')\n",
        "loo = LeaveOneOut()\n",
        "\n",
        "cb_recall_scores = []\n",
        "\n",
        "for train_index, test_index in loo.split(grouped_df):\n",
        "    train_data, test_data = grouped_df.iloc[train_index], grouped_df.iloc[test_index]\n",
        "    model_cb.fit(train_data[features])\n",
        "\n",
        "    user_profile = test_data[features]\n",
        "    distances, indices = model_cb.kneighbors([user_profile], n_neighbors=5)\n",
        "    predicted_indices = indices.flatten()\n",
        "    true_indices = test_data['product_id']\n",
        "    recall_at_k = recall_score(true_indices, predicted_indices[:5], average='micro')\n",
        "    cb_recall_scores.append(recall_at_k)\n",
        "\n",
        "random_recall_scores = []\n",
        "\n",
        "for _ in range(len(grouped_df)):\n",
        "    # Генерируем случайные рекомендации\n",
        "    random_recommendations = np.random.choice(grouped_df['product_id'], size=3, replace=False)\n",
        "    true_indices = grouped_df.iloc[_]['product_id']\n",
        "    recall_at_k = recall_score([true_indices], random_recommendations, average='micro')\n",
        "    random_recall_scores.append(recall_at_k)\n",
        "\n",
        "popular_items_recall_scores = []\n",
        "\n",
        "most_popular_items = grouped_df['product_id'].value_counts().index[:5]\n",
        "\n",
        "for _ in range(len(grouped_df)):\n",
        "    true_indices = grouped_df.iloc[_]['product_id']\n",
        "    recall_at_k = recall_score([true_indices], most_popular_items, average='micro')\n",
        "    popular_items_recall_scores.append(recall_at_k)\n",
        "\n",
        "# Средний Recall@K по всем итерациям для каждой модели\n",
        "average_cb_recall = mean(cb_recall_scores)\n",
        "average_random_recall = mean(random_recall_scores)\n",
        "average_popular_items_recall = mean(popular_items_recall_scores)\n",
        "\n",
        "print(f'Average Recall@K for Content-Based Filtering: {average_cb_recall}')\n",
        "print(f'Average Recall@K for Random Recommendations: {average_random_recall}')\n",
        "print(f'Average Recall@K for Most Popular Items Recommendations: {average_popular_items_recall}')"
      ],
      "metadata": {
        "id": "hfM6NG0HJ7im"
      },
      "execution_count": null,
      "outputs": []
    }
  ]
}