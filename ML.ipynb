{
  "nbformat": 4,
  "nbformat_minor": 0,
  "metadata": {
    "colab": {
      "provenance": []
    },
    "kernelspec": {
      "name": "python3",
      "display_name": "Python 3"
    },
    "language_info": {
      "name": "python"
    }
  },
  "cells": [
    {
      "cell_type": "code",
      "source": [
        "# добавляем библиотеки\n",
        "import numpy as np\n",
        "import pandas as pd\n",
        "\n",
        "%matplotlib inline"
      ],
      "metadata": {
        "id": "yyJkqRa1SSoN"
      },
      "execution_count": null,
      "outputs": []
    },
    {
      "cell_type": "code",
      "source": [
        "#откроем данные\n",
        "from google.colab import files\n",
        "uploaded = files.upload()"
      ],
      "metadata": {
        "id": "L1G4FFzdSa5r"
      },
      "execution_count": null,
      "outputs": []
    },
    {
      "cell_type": "code",
      "source": [
        "data = pd.read_csv('unconv.csv')\n",
        "data.head()"
      ],
      "metadata": {
        "colab": {
          "base_uri": "https://localhost:8080/",
          "height": 206
        },
        "id": "mHDfpZsX0oON",
        "outputId": "e1a13fd4-c201-43db-f5b8-14697e632b17"
      },
      "execution_count": null,
      "outputs": [
        {
          "output_type": "execute_result",
          "data": {
            "text/plain": [
              "   Well    Por  Perm    AI  Brittle   TOC    VR         Prod\n",
              "0     1  12.08  2.92  2.80    81.40  1.16  2.31  4165.196191\n",
              "1     2  12.38  3.53  3.22    46.17  0.89  1.88  3561.146205\n",
              "2     3  14.02  2.59  4.01    72.80  0.89  2.72  4284.348574\n",
              "3     4  17.67  6.75  2.63    39.81  1.08  1.88  5098.680869\n",
              "4     5  17.52  4.57  3.18    10.94  1.51  1.90  3406.132832"
            ],
            "text/html": [
              "\n",
              "  <div id=\"df-a1d3a5bb-5d12-4b2a-b328-740b4b1e7ebb\">\n",
              "    <div class=\"colab-df-container\">\n",
              "      <div>\n",
              "<style scoped>\n",
              "    .dataframe tbody tr th:only-of-type {\n",
              "        vertical-align: middle;\n",
              "    }\n",
              "\n",
              "    .dataframe tbody tr th {\n",
              "        vertical-align: top;\n",
              "    }\n",
              "\n",
              "    .dataframe thead th {\n",
              "        text-align: right;\n",
              "    }\n",
              "</style>\n",
              "<table border=\"1\" class=\"dataframe\">\n",
              "  <thead>\n",
              "    <tr style=\"text-align: right;\">\n",
              "      <th></th>\n",
              "      <th>Well</th>\n",
              "      <th>Por</th>\n",
              "      <th>Perm</th>\n",
              "      <th>AI</th>\n",
              "      <th>Brittle</th>\n",
              "      <th>TOC</th>\n",
              "      <th>VR</th>\n",
              "      <th>Prod</th>\n",
              "    </tr>\n",
              "  </thead>\n",
              "  <tbody>\n",
              "    <tr>\n",
              "      <th>0</th>\n",
              "      <td>1</td>\n",
              "      <td>12.08</td>\n",
              "      <td>2.92</td>\n",
              "      <td>2.80</td>\n",
              "      <td>81.40</td>\n",
              "      <td>1.16</td>\n",
              "      <td>2.31</td>\n",
              "      <td>4165.196191</td>\n",
              "    </tr>\n",
              "    <tr>\n",
              "      <th>1</th>\n",
              "      <td>2</td>\n",
              "      <td>12.38</td>\n",
              "      <td>3.53</td>\n",
              "      <td>3.22</td>\n",
              "      <td>46.17</td>\n",
              "      <td>0.89</td>\n",
              "      <td>1.88</td>\n",
              "      <td>3561.146205</td>\n",
              "    </tr>\n",
              "    <tr>\n",
              "      <th>2</th>\n",
              "      <td>3</td>\n",
              "      <td>14.02</td>\n",
              "      <td>2.59</td>\n",
              "      <td>4.01</td>\n",
              "      <td>72.80</td>\n",
              "      <td>0.89</td>\n",
              "      <td>2.72</td>\n",
              "      <td>4284.348574</td>\n",
              "    </tr>\n",
              "    <tr>\n",
              "      <th>3</th>\n",
              "      <td>4</td>\n",
              "      <td>17.67</td>\n",
              "      <td>6.75</td>\n",
              "      <td>2.63</td>\n",
              "      <td>39.81</td>\n",
              "      <td>1.08</td>\n",
              "      <td>1.88</td>\n",
              "      <td>5098.680869</td>\n",
              "    </tr>\n",
              "    <tr>\n",
              "      <th>4</th>\n",
              "      <td>5</td>\n",
              "      <td>17.52</td>\n",
              "      <td>4.57</td>\n",
              "      <td>3.18</td>\n",
              "      <td>10.94</td>\n",
              "      <td>1.51</td>\n",
              "      <td>1.90</td>\n",
              "      <td>3406.132832</td>\n",
              "    </tr>\n",
              "  </tbody>\n",
              "</table>\n",
              "</div>\n",
              "      <button class=\"colab-df-convert\" onclick=\"convertToInteractive('df-a1d3a5bb-5d12-4b2a-b328-740b4b1e7ebb')\"\n",
              "              title=\"Convert this dataframe to an interactive table.\"\n",
              "              style=\"display:none;\">\n",
              "        \n",
              "  <svg xmlns=\"http://www.w3.org/2000/svg\" height=\"24px\"viewBox=\"0 0 24 24\"\n",
              "       width=\"24px\">\n",
              "    <path d=\"M0 0h24v24H0V0z\" fill=\"none\"/>\n",
              "    <path d=\"M18.56 5.44l.94 2.06.94-2.06 2.06-.94-2.06-.94-.94-2.06-.94 2.06-2.06.94zm-11 1L8.5 8.5l.94-2.06 2.06-.94-2.06-.94L8.5 2.5l-.94 2.06-2.06.94zm10 10l.94 2.06.94-2.06 2.06-.94-2.06-.94-.94-2.06-.94 2.06-2.06.94z\"/><path d=\"M17.41 7.96l-1.37-1.37c-.4-.4-.92-.59-1.43-.59-.52 0-1.04.2-1.43.59L10.3 9.45l-7.72 7.72c-.78.78-.78 2.05 0 2.83L4 21.41c.39.39.9.59 1.41.59.51 0 1.02-.2 1.41-.59l7.78-7.78 2.81-2.81c.8-.78.8-2.07 0-2.86zM5.41 20L4 18.59l7.72-7.72 1.47 1.35L5.41 20z\"/>\n",
              "  </svg>\n",
              "      </button>\n",
              "      \n",
              "  <style>\n",
              "    .colab-df-container {\n",
              "      display:flex;\n",
              "      flex-wrap:wrap;\n",
              "      gap: 12px;\n",
              "    }\n",
              "\n",
              "    .colab-df-convert {\n",
              "      background-color: #E8F0FE;\n",
              "      border: none;\n",
              "      border-radius: 50%;\n",
              "      cursor: pointer;\n",
              "      display: none;\n",
              "      fill: #1967D2;\n",
              "      height: 32px;\n",
              "      padding: 0 0 0 0;\n",
              "      width: 32px;\n",
              "    }\n",
              "\n",
              "    .colab-df-convert:hover {\n",
              "      background-color: #E2EBFA;\n",
              "      box-shadow: 0px 1px 2px rgba(60, 64, 67, 0.3), 0px 1px 3px 1px rgba(60, 64, 67, 0.15);\n",
              "      fill: #174EA6;\n",
              "    }\n",
              "\n",
              "    [theme=dark] .colab-df-convert {\n",
              "      background-color: #3B4455;\n",
              "      fill: #D2E3FC;\n",
              "    }\n",
              "\n",
              "    [theme=dark] .colab-df-convert:hover {\n",
              "      background-color: #434B5C;\n",
              "      box-shadow: 0px 1px 3px 1px rgba(0, 0, 0, 0.15);\n",
              "      filter: drop-shadow(0px 1px 2px rgba(0, 0, 0, 0.3));\n",
              "      fill: #FFFFFF;\n",
              "    }\n",
              "  </style>\n",
              "\n",
              "      <script>\n",
              "        const buttonEl =\n",
              "          document.querySelector('#df-a1d3a5bb-5d12-4b2a-b328-740b4b1e7ebb button.colab-df-convert');\n",
              "        buttonEl.style.display =\n",
              "          google.colab.kernel.accessAllowed ? 'block' : 'none';\n",
              "\n",
              "        async function convertToInteractive(key) {\n",
              "          const element = document.querySelector('#df-a1d3a5bb-5d12-4b2a-b328-740b4b1e7ebb');\n",
              "          const dataTable =\n",
              "            await google.colab.kernel.invokeFunction('convertToInteractive',\n",
              "                                                     [key], {});\n",
              "          if (!dataTable) return;\n",
              "\n",
              "          const docLinkHtml = 'Like what you see? Visit the ' +\n",
              "            '<a target=\"_blank\" href=https://colab.research.google.com/notebooks/data_table.ipynb>data table notebook</a>'\n",
              "            + ' to learn more about interactive tables.';\n",
              "          element.innerHTML = '';\n",
              "          dataTable['output_type'] = 'display_data';\n",
              "          await google.colab.output.renderOutput(dataTable, element);\n",
              "          const docLink = document.createElement('div');\n",
              "          docLink.innerHTML = docLinkHtml;\n",
              "          element.appendChild(docLink);\n",
              "        }\n",
              "      </script>\n",
              "    </div>\n",
              "  </div>\n",
              "  "
            ]
          },
          "metadata": {},
          "execution_count": 4
        }
      ]
    },
    {
      "cell_type": "code",
      "source": [
        "#Постройте корреляционную матрицу факторов, включив в неё целевой признак.\n",
        "matrix = data.corr()\n",
        "print(data.corr())"
      ],
      "metadata": {
        "id": "1ekGIjkf1-Cd",
        "colab": {
          "base_uri": "https://localhost:8080/"
        },
        "outputId": "40c8e5b8-48a9-4156-de9a-73bb230df42a"
      },
      "execution_count": null,
      "outputs": [
        {
          "output_type": "stream",
          "name": "stdout",
          "text": [
            "             Well       Por      Perm        AI   Brittle       TOC        VR  \\\n",
            "Well     1.000000  0.068927  0.077928  0.041483 -0.079252  0.022624 -0.007279   \n",
            "Por      0.068927  1.000000  0.760546 -0.461549 -0.218570  0.711831  0.111860   \n",
            "Perm     0.077928  0.760546  1.000000 -0.239636 -0.124017  0.471746  0.051023   \n",
            "AI       0.041483 -0.461549 -0.239636  1.000000  0.127599 -0.531864  0.499143   \n",
            "Brittle -0.079252 -0.218570 -0.124017  0.127599  1.000000 -0.214282  0.317929   \n",
            "TOC      0.022624  0.711831  0.471746 -0.531864 -0.214282  1.000000  0.299483   \n",
            "VR      -0.007279  0.111860  0.051023  0.499143  0.317929  0.299483  1.000000   \n",
            "Prod     0.026817  0.861910  0.727426 -0.390835  0.237155  0.654445  0.323182   \n",
            "\n",
            "             Prod  \n",
            "Well     0.026817  \n",
            "Por      0.861910  \n",
            "Perm     0.727426  \n",
            "AI      -0.390835  \n",
            "Brittle  0.237155  \n",
            "TOC      0.654445  \n",
            "VR       0.323182  \n",
            "Prod     1.000000  \n"
          ]
        }
      ]
    },
    {
      "cell_type": "code",
      "source": [
        "#Вычислите ранг полученной матрицы корреляций\n",
        "print('Rank:', np.linalg.matrix_rank(matrix))"
      ],
      "metadata": {
        "id": "MMXd1pj-1-qO",
        "colab": {
          "base_uri": "https://localhost:8080/"
        },
        "outputId": "d0a54496-5639-488f-c88a-de6e4ea497b3"
      },
      "execution_count": null,
      "outputs": [
        {
          "output_type": "stream",
          "name": "stdout",
          "text": [
            "Rank: 8\n"
          ]
        }
      ]
    },
    {
      "cell_type": "code",
      "source": [
        "#Вычислите определитель матрицы корреляций\n",
        "print('Determinant: {:.4f}'.format(np.linalg.det(matrix)))"
      ],
      "metadata": {
        "id": "vJKcyr1J2Bcu",
        "colab": {
          "base_uri": "https://localhost:8080/"
        },
        "outputId": "c349208e-5ceb-4b89-da21-0d8316cb8e57"
      },
      "execution_count": null,
      "outputs": [
        {
          "output_type": "stream",
          "name": "stdout",
          "text": [
            "Determinant: 0.0007\n"
          ]
        }
      ]
    },
    {
      "cell_type": "code",
      "source": [
        "X = np.column_stack((np.ones(200), data.drop('Prod', axis=1)))\n",
        "y = data[['Prod']]"
      ],
      "metadata": {
        "id": "F0kFeo8n4lYy"
      },
      "execution_count": null,
      "outputs": []
    },
    {
      "cell_type": "code",
      "source": [
        "w_hat = np.linalg.inv(X.T@X)@X.T@y\n",
        "print(w_hat.values)"
      ],
      "metadata": {
        "colab": {
          "base_uri": "https://localhost:8080/"
        },
        "id": "wLoNezww5F5K",
        "outputId": "cc0c3115-51a2-4787-d87e-858d89fb203c"
      },
      "execution_count": null,
      "outputs": [
        {
          "output_type": "stream",
          "name": "stdout",
          "text": [
            "[[-1.23230803e+03]\n",
            " [ 5.07003631e-02]\n",
            " [ 2.30179140e+02]\n",
            " [ 1.16239006e+02]\n",
            " [-3.65202301e+02]\n",
            " [ 2.49943700e+01]\n",
            " [-7.84009294e+01]\n",
            " [ 7.85259815e+02]]\n"
          ]
        }
      ]
    },
    {
      "cell_type": "code",
      "source": [
        "from sklearn.model_selection import cross_validate"
      ],
      "metadata": {
        "id": "bLclcaa27tVF"
      },
      "execution_count": null,
      "outputs": []
    },
    {
      "cell_type": "code",
      "source": [
        "from sklearn.preprocessing import PolynomialFeatures"
      ],
      "metadata": {
        "id": "PlyNXJW3X7g3"
      },
      "execution_count": null,
      "outputs": []
    },
    {
      "cell_type": "code",
      "source": [
        "from sklearn.linear_model import LinearRegression"
      ],
      "metadata": {
        "id": "9ZOnrpgdYCL-"
      },
      "execution_count": null,
      "outputs": []
    },
    {
      "cell_type": "code",
      "source": [
        "# добавляем полиномиальные признаки\n",
        "poly = PolynomialFeatures(degree=3, include_bias=False)\n",
        "X = poly.fit_transform(X)\n",
        "\n",
        "# создаём модель линейной регрессии\n",
        "lr = LinearRegression()\n",
        "\n",
        "# оцениваем качество модели на кросс-валидации, метрика — MAPE\n",
        "cv_results = cross_validate(lr, X, y, scoring='neg_mean_absolute_percentage_error', cv=5, return_train_score=True)\n",
        "print('MAPE на тренировочных фолдах: {:.2f} %'.format(-cv_results['train_score'].mean()* 100))\n",
        "print('MAPE на валидационных фолдах: {:.2f} %'.format(-cv_results['test_score'].mean() * 100))"
      ],
      "metadata": {
        "colab": {
          "base_uri": "https://localhost:8080/"
        },
        "id": "ipM7WDG6Wyl9",
        "outputId": "c89afbda-61e4-4175-a7e9-dcdeaeb09d02"
      },
      "execution_count": null,
      "outputs": [
        {
          "output_type": "stream",
          "name": "stdout",
          "text": [
            "MAPE на тренировочных фолдах: 0.34 %\n",
            "MAPE на валидационных фолдах: 2.66 %\n"
          ]
        }
      ]
    },
    {
      "cell_type": "markdown",
      "source": [
        "**3.1**"
      ],
      "metadata": {
        "id": "huj-yaSlmpAE"
      }
    },
    {
      "cell_type": "code",
      "source": [
        "# Сгенерируйте полиномиальные признаки третьего порядка на факторах, которые вы выбрали для обучения моделей\n",
        "X = data[['Por', 'AI', 'Brittle', 'VR']]\n",
        "poly = PolynomialFeatures(degree=3, include_bias=False)\n",
        "X_poly = poly.fit_transform(X)\n",
        "display(pd.DataFrame(X_poly))"
      ],
      "metadata": {
        "colab": {
          "base_uri": "https://localhost:8080/",
          "height": 488
        },
        "id": "ydFcnR-Kmq6f",
        "outputId": "60380fb4-debe-40b4-de53-64cc809b56f1"
      },
      "execution_count": null,
      "outputs": [
        {
          "output_type": "display_data",
          "data": {
            "text/plain": [
              "        0     1      2     3         4        5          6        7        8   \\\n",
              "0    12.08  2.80  81.40  2.31  145.9264  33.8240   983.3120  27.9048   7.8400   \n",
              "1    12.38  3.22  46.17  1.88  153.2644  39.8636   571.5846  23.2744  10.3684   \n",
              "2    14.02  4.01  72.80  2.72  196.5604  56.2202  1020.6560  38.1344  16.0801   \n",
              "3    17.67  2.63  39.81  1.88  312.2289  46.4721   703.4427  33.2196   6.9169   \n",
              "4    17.52  3.18  10.94  1.90  306.9504  55.7136   191.6688  33.2880  10.1124   \n",
              "..     ...   ...    ...   ...       ...      ...        ...      ...      ...   \n",
              "195  11.95  2.97  67.18  2.06  142.8025  35.4915   802.8010  24.6170   8.8209   \n",
              "196  17.99  3.38  44.32  2.08  323.6401  60.8062   797.3168  37.4192  11.4244   \n",
              "197  12.12  3.52  57.07  1.73  146.8944  42.6624   691.6884  20.9676  12.3904   \n",
              "198  15.55  2.48  58.25  2.35  241.8025  38.5640   905.7875  36.5425   6.1504   \n",
              "199  20.89  3.23  46.17  2.27  436.3921  67.4747   964.4913  47.4203  10.4329   \n",
              "\n",
              "           9   ...         24           25         26            27  \\\n",
              "0    227.9200  ...  21.952000   638.176000  18.110400  18552.688000   \n",
              "1    148.6674  ...  33.386248   478.709028  19.492592   6863.973858   \n",
              "2    291.9280  ...  64.481201  1170.631280  43.737872  21252.358400   \n",
              "3    104.7003  ...  18.191447   275.361789  13.003772   4168.118943   \n",
              "4     34.7892  ...  32.157432   110.629656  19.213560    380.593848   \n",
              "..        ...  ...        ...          ...        ...           ...   \n",
              "195  199.5246  ...  26.198073   592.588062  18.171054  13404.062628   \n",
              "196  149.8016  ...  38.614472   506.329408  23.762752   6639.206912   \n",
              "197  200.8864  ...  43.614208   707.120128  21.435392  11464.586848   \n",
              "198  144.4600  ...  15.252992   358.260800  14.453440   8414.795000   \n",
              "199  149.1291  ...  33.698267   481.686993  23.682683   6885.290547   \n",
              "\n",
              "             28         29             30            31          32         33  \n",
              "0    526.495200  14.941080  539353.144000  15305.967600  434.358540  12.326391  \n",
              "1    279.494712  11.380768   98419.153113   4007.537532  163.183248   6.644672  \n",
              "2    794.044160  29.667584  385828.352000  14415.564800  538.603520  20.123648  \n",
              "3    196.836564   9.295472   63092.325141   2979.491868  140.704464   6.644672  \n",
              "4     66.099480  11.479800    1309.338584    227.398840   39.493400   6.859000  \n",
              "..          ...        ...            ...           ...         ...        ...  \n",
              "195  411.020676  12.603492  303193.578232   9297.093944  285.085048   8.741816  \n",
              "196  311.587328  14.623232   87056.109568   4085.665792  191.746048   8.998912  \n",
              "197  347.533472  10.535008  185876.128243   5634.583877  170.804803   5.177717  \n",
              "198  339.481000  13.695800  197645.890625   7973.696875  321.685625  12.977875  \n",
              "199  338.523057  16.643867   98419.153113   4838.888403  237.909393  11.697083  \n",
              "\n",
              "[200 rows x 34 columns]"
            ],
            "text/html": [
              "\n",
              "  <div id=\"df-b4fa0010-c2d8-4d53-b388-cbc71a875bcc\">\n",
              "    <div class=\"colab-df-container\">\n",
              "      <div>\n",
              "<style scoped>\n",
              "    .dataframe tbody tr th:only-of-type {\n",
              "        vertical-align: middle;\n",
              "    }\n",
              "\n",
              "    .dataframe tbody tr th {\n",
              "        vertical-align: top;\n",
              "    }\n",
              "\n",
              "    .dataframe thead th {\n",
              "        text-align: right;\n",
              "    }\n",
              "</style>\n",
              "<table border=\"1\" class=\"dataframe\">\n",
              "  <thead>\n",
              "    <tr style=\"text-align: right;\">\n",
              "      <th></th>\n",
              "      <th>0</th>\n",
              "      <th>1</th>\n",
              "      <th>2</th>\n",
              "      <th>3</th>\n",
              "      <th>4</th>\n",
              "      <th>5</th>\n",
              "      <th>6</th>\n",
              "      <th>7</th>\n",
              "      <th>8</th>\n",
              "      <th>9</th>\n",
              "      <th>...</th>\n",
              "      <th>24</th>\n",
              "      <th>25</th>\n",
              "      <th>26</th>\n",
              "      <th>27</th>\n",
              "      <th>28</th>\n",
              "      <th>29</th>\n",
              "      <th>30</th>\n",
              "      <th>31</th>\n",
              "      <th>32</th>\n",
              "      <th>33</th>\n",
              "    </tr>\n",
              "  </thead>\n",
              "  <tbody>\n",
              "    <tr>\n",
              "      <th>0</th>\n",
              "      <td>12.08</td>\n",
              "      <td>2.80</td>\n",
              "      <td>81.40</td>\n",
              "      <td>2.31</td>\n",
              "      <td>145.9264</td>\n",
              "      <td>33.8240</td>\n",
              "      <td>983.3120</td>\n",
              "      <td>27.9048</td>\n",
              "      <td>7.8400</td>\n",
              "      <td>227.9200</td>\n",
              "      <td>...</td>\n",
              "      <td>21.952000</td>\n",
              "      <td>638.176000</td>\n",
              "      <td>18.110400</td>\n",
              "      <td>18552.688000</td>\n",
              "      <td>526.495200</td>\n",
              "      <td>14.941080</td>\n",
              "      <td>539353.144000</td>\n",
              "      <td>15305.967600</td>\n",
              "      <td>434.358540</td>\n",
              "      <td>12.326391</td>\n",
              "    </tr>\n",
              "    <tr>\n",
              "      <th>1</th>\n",
              "      <td>12.38</td>\n",
              "      <td>3.22</td>\n",
              "      <td>46.17</td>\n",
              "      <td>1.88</td>\n",
              "      <td>153.2644</td>\n",
              "      <td>39.8636</td>\n",
              "      <td>571.5846</td>\n",
              "      <td>23.2744</td>\n",
              "      <td>10.3684</td>\n",
              "      <td>148.6674</td>\n",
              "      <td>...</td>\n",
              "      <td>33.386248</td>\n",
              "      <td>478.709028</td>\n",
              "      <td>19.492592</td>\n",
              "      <td>6863.973858</td>\n",
              "      <td>279.494712</td>\n",
              "      <td>11.380768</td>\n",
              "      <td>98419.153113</td>\n",
              "      <td>4007.537532</td>\n",
              "      <td>163.183248</td>\n",
              "      <td>6.644672</td>\n",
              "    </tr>\n",
              "    <tr>\n",
              "      <th>2</th>\n",
              "      <td>14.02</td>\n",
              "      <td>4.01</td>\n",
              "      <td>72.80</td>\n",
              "      <td>2.72</td>\n",
              "      <td>196.5604</td>\n",
              "      <td>56.2202</td>\n",
              "      <td>1020.6560</td>\n",
              "      <td>38.1344</td>\n",
              "      <td>16.0801</td>\n",
              "      <td>291.9280</td>\n",
              "      <td>...</td>\n",
              "      <td>64.481201</td>\n",
              "      <td>1170.631280</td>\n",
              "      <td>43.737872</td>\n",
              "      <td>21252.358400</td>\n",
              "      <td>794.044160</td>\n",
              "      <td>29.667584</td>\n",
              "      <td>385828.352000</td>\n",
              "      <td>14415.564800</td>\n",
              "      <td>538.603520</td>\n",
              "      <td>20.123648</td>\n",
              "    </tr>\n",
              "    <tr>\n",
              "      <th>3</th>\n",
              "      <td>17.67</td>\n",
              "      <td>2.63</td>\n",
              "      <td>39.81</td>\n",
              "      <td>1.88</td>\n",
              "      <td>312.2289</td>\n",
              "      <td>46.4721</td>\n",
              "      <td>703.4427</td>\n",
              "      <td>33.2196</td>\n",
              "      <td>6.9169</td>\n",
              "      <td>104.7003</td>\n",
              "      <td>...</td>\n",
              "      <td>18.191447</td>\n",
              "      <td>275.361789</td>\n",
              "      <td>13.003772</td>\n",
              "      <td>4168.118943</td>\n",
              "      <td>196.836564</td>\n",
              "      <td>9.295472</td>\n",
              "      <td>63092.325141</td>\n",
              "      <td>2979.491868</td>\n",
              "      <td>140.704464</td>\n",
              "      <td>6.644672</td>\n",
              "    </tr>\n",
              "    <tr>\n",
              "      <th>4</th>\n",
              "      <td>17.52</td>\n",
              "      <td>3.18</td>\n",
              "      <td>10.94</td>\n",
              "      <td>1.90</td>\n",
              "      <td>306.9504</td>\n",
              "      <td>55.7136</td>\n",
              "      <td>191.6688</td>\n",
              "      <td>33.2880</td>\n",
              "      <td>10.1124</td>\n",
              "      <td>34.7892</td>\n",
              "      <td>...</td>\n",
              "      <td>32.157432</td>\n",
              "      <td>110.629656</td>\n",
              "      <td>19.213560</td>\n",
              "      <td>380.593848</td>\n",
              "      <td>66.099480</td>\n",
              "      <td>11.479800</td>\n",
              "      <td>1309.338584</td>\n",
              "      <td>227.398840</td>\n",
              "      <td>39.493400</td>\n",
              "      <td>6.859000</td>\n",
              "    </tr>\n",
              "    <tr>\n",
              "      <th>...</th>\n",
              "      <td>...</td>\n",
              "      <td>...</td>\n",
              "      <td>...</td>\n",
              "      <td>...</td>\n",
              "      <td>...</td>\n",
              "      <td>...</td>\n",
              "      <td>...</td>\n",
              "      <td>...</td>\n",
              "      <td>...</td>\n",
              "      <td>...</td>\n",
              "      <td>...</td>\n",
              "      <td>...</td>\n",
              "      <td>...</td>\n",
              "      <td>...</td>\n",
              "      <td>...</td>\n",
              "      <td>...</td>\n",
              "      <td>...</td>\n",
              "      <td>...</td>\n",
              "      <td>...</td>\n",
              "      <td>...</td>\n",
              "      <td>...</td>\n",
              "    </tr>\n",
              "    <tr>\n",
              "      <th>195</th>\n",
              "      <td>11.95</td>\n",
              "      <td>2.97</td>\n",
              "      <td>67.18</td>\n",
              "      <td>2.06</td>\n",
              "      <td>142.8025</td>\n",
              "      <td>35.4915</td>\n",
              "      <td>802.8010</td>\n",
              "      <td>24.6170</td>\n",
              "      <td>8.8209</td>\n",
              "      <td>199.5246</td>\n",
              "      <td>...</td>\n",
              "      <td>26.198073</td>\n",
              "      <td>592.588062</td>\n",
              "      <td>18.171054</td>\n",
              "      <td>13404.062628</td>\n",
              "      <td>411.020676</td>\n",
              "      <td>12.603492</td>\n",
              "      <td>303193.578232</td>\n",
              "      <td>9297.093944</td>\n",
              "      <td>285.085048</td>\n",
              "      <td>8.741816</td>\n",
              "    </tr>\n",
              "    <tr>\n",
              "      <th>196</th>\n",
              "      <td>17.99</td>\n",
              "      <td>3.38</td>\n",
              "      <td>44.32</td>\n",
              "      <td>2.08</td>\n",
              "      <td>323.6401</td>\n",
              "      <td>60.8062</td>\n",
              "      <td>797.3168</td>\n",
              "      <td>37.4192</td>\n",
              "      <td>11.4244</td>\n",
              "      <td>149.8016</td>\n",
              "      <td>...</td>\n",
              "      <td>38.614472</td>\n",
              "      <td>506.329408</td>\n",
              "      <td>23.762752</td>\n",
              "      <td>6639.206912</td>\n",
              "      <td>311.587328</td>\n",
              "      <td>14.623232</td>\n",
              "      <td>87056.109568</td>\n",
              "      <td>4085.665792</td>\n",
              "      <td>191.746048</td>\n",
              "      <td>8.998912</td>\n",
              "    </tr>\n",
              "    <tr>\n",
              "      <th>197</th>\n",
              "      <td>12.12</td>\n",
              "      <td>3.52</td>\n",
              "      <td>57.07</td>\n",
              "      <td>1.73</td>\n",
              "      <td>146.8944</td>\n",
              "      <td>42.6624</td>\n",
              "      <td>691.6884</td>\n",
              "      <td>20.9676</td>\n",
              "      <td>12.3904</td>\n",
              "      <td>200.8864</td>\n",
              "      <td>...</td>\n",
              "      <td>43.614208</td>\n",
              "      <td>707.120128</td>\n",
              "      <td>21.435392</td>\n",
              "      <td>11464.586848</td>\n",
              "      <td>347.533472</td>\n",
              "      <td>10.535008</td>\n",
              "      <td>185876.128243</td>\n",
              "      <td>5634.583877</td>\n",
              "      <td>170.804803</td>\n",
              "      <td>5.177717</td>\n",
              "    </tr>\n",
              "    <tr>\n",
              "      <th>198</th>\n",
              "      <td>15.55</td>\n",
              "      <td>2.48</td>\n",
              "      <td>58.25</td>\n",
              "      <td>2.35</td>\n",
              "      <td>241.8025</td>\n",
              "      <td>38.5640</td>\n",
              "      <td>905.7875</td>\n",
              "      <td>36.5425</td>\n",
              "      <td>6.1504</td>\n",
              "      <td>144.4600</td>\n",
              "      <td>...</td>\n",
              "      <td>15.252992</td>\n",
              "      <td>358.260800</td>\n",
              "      <td>14.453440</td>\n",
              "      <td>8414.795000</td>\n",
              "      <td>339.481000</td>\n",
              "      <td>13.695800</td>\n",
              "      <td>197645.890625</td>\n",
              "      <td>7973.696875</td>\n",
              "      <td>321.685625</td>\n",
              "      <td>12.977875</td>\n",
              "    </tr>\n",
              "    <tr>\n",
              "      <th>199</th>\n",
              "      <td>20.89</td>\n",
              "      <td>3.23</td>\n",
              "      <td>46.17</td>\n",
              "      <td>2.27</td>\n",
              "      <td>436.3921</td>\n",
              "      <td>67.4747</td>\n",
              "      <td>964.4913</td>\n",
              "      <td>47.4203</td>\n",
              "      <td>10.4329</td>\n",
              "      <td>149.1291</td>\n",
              "      <td>...</td>\n",
              "      <td>33.698267</td>\n",
              "      <td>481.686993</td>\n",
              "      <td>23.682683</td>\n",
              "      <td>6885.290547</td>\n",
              "      <td>338.523057</td>\n",
              "      <td>16.643867</td>\n",
              "      <td>98419.153113</td>\n",
              "      <td>4838.888403</td>\n",
              "      <td>237.909393</td>\n",
              "      <td>11.697083</td>\n",
              "    </tr>\n",
              "  </tbody>\n",
              "</table>\n",
              "<p>200 rows × 34 columns</p>\n",
              "</div>\n",
              "      <button class=\"colab-df-convert\" onclick=\"convertToInteractive('df-b4fa0010-c2d8-4d53-b388-cbc71a875bcc')\"\n",
              "              title=\"Convert this dataframe to an interactive table.\"\n",
              "              style=\"display:none;\">\n",
              "        \n",
              "  <svg xmlns=\"http://www.w3.org/2000/svg\" height=\"24px\"viewBox=\"0 0 24 24\"\n",
              "       width=\"24px\">\n",
              "    <path d=\"M0 0h24v24H0V0z\" fill=\"none\"/>\n",
              "    <path d=\"M18.56 5.44l.94 2.06.94-2.06 2.06-.94-2.06-.94-.94-2.06-.94 2.06-2.06.94zm-11 1L8.5 8.5l.94-2.06 2.06-.94-2.06-.94L8.5 2.5l-.94 2.06-2.06.94zm10 10l.94 2.06.94-2.06 2.06-.94-2.06-.94-.94-2.06-.94 2.06-2.06.94z\"/><path d=\"M17.41 7.96l-1.37-1.37c-.4-.4-.92-.59-1.43-.59-.52 0-1.04.2-1.43.59L10.3 9.45l-7.72 7.72c-.78.78-.78 2.05 0 2.83L4 21.41c.39.39.9.59 1.41.59.51 0 1.02-.2 1.41-.59l7.78-7.78 2.81-2.81c.8-.78.8-2.07 0-2.86zM5.41 20L4 18.59l7.72-7.72 1.47 1.35L5.41 20z\"/>\n",
              "  </svg>\n",
              "      </button>\n",
              "      \n",
              "  <style>\n",
              "    .colab-df-container {\n",
              "      display:flex;\n",
              "      flex-wrap:wrap;\n",
              "      gap: 12px;\n",
              "    }\n",
              "\n",
              "    .colab-df-convert {\n",
              "      background-color: #E8F0FE;\n",
              "      border: none;\n",
              "      border-radius: 50%;\n",
              "      cursor: pointer;\n",
              "      display: none;\n",
              "      fill: #1967D2;\n",
              "      height: 32px;\n",
              "      padding: 0 0 0 0;\n",
              "      width: 32px;\n",
              "    }\n",
              "\n",
              "    .colab-df-convert:hover {\n",
              "      background-color: #E2EBFA;\n",
              "      box-shadow: 0px 1px 2px rgba(60, 64, 67, 0.3), 0px 1px 3px 1px rgba(60, 64, 67, 0.15);\n",
              "      fill: #174EA6;\n",
              "    }\n",
              "\n",
              "    [theme=dark] .colab-df-convert {\n",
              "      background-color: #3B4455;\n",
              "      fill: #D2E3FC;\n",
              "    }\n",
              "\n",
              "    [theme=dark] .colab-df-convert:hover {\n",
              "      background-color: #434B5C;\n",
              "      box-shadow: 0px 1px 3px 1px rgba(0, 0, 0, 0.15);\n",
              "      filter: drop-shadow(0px 1px 2px rgba(0, 0, 0, 0.3));\n",
              "      fill: #FFFFFF;\n",
              "    }\n",
              "  </style>\n",
              "\n",
              "      <script>\n",
              "        const buttonEl =\n",
              "          document.querySelector('#df-b4fa0010-c2d8-4d53-b388-cbc71a875bcc button.colab-df-convert');\n",
              "        buttonEl.style.display =\n",
              "          google.colab.kernel.accessAllowed ? 'block' : 'none';\n",
              "\n",
              "        async function convertToInteractive(key) {\n",
              "          const element = document.querySelector('#df-b4fa0010-c2d8-4d53-b388-cbc71a875bcc');\n",
              "          const dataTable =\n",
              "            await google.colab.kernel.invokeFunction('convertToInteractive',\n",
              "                                                     [key], {});\n",
              "          if (!dataTable) return;\n",
              "\n",
              "          const docLinkHtml = 'Like what you see? Visit the ' +\n",
              "            '<a target=\"_blank\" href=https://colab.research.google.com/notebooks/data_table.ipynb>data table notebook</a>'\n",
              "            + ' to learn more about interactive tables.';\n",
              "          element.innerHTML = '';\n",
              "          dataTable['output_type'] = 'display_data';\n",
              "          await google.colab.output.renderOutput(dataTable, element);\n",
              "          const docLink = document.createElement('div');\n",
              "          docLink.innerHTML = docLinkHtml;\n",
              "          element.appendChild(docLink);\n",
              "        }\n",
              "      </script>\n",
              "    </div>\n",
              "  </div>\n",
              "  "
            ]
          },
          "metadata": {}
        }
      ]
    },
    {
      "cell_type": "code",
      "source": [
        "def polynomial_regression_sk(X, y, k):\n",
        "    poly = PolynomialFeatures(degree=k, include_bias=False)\n",
        "    X_poly = poly.fit_transform(X)\n",
        "    lr = LinearRegression().fit(X_poly, y)\n",
        "    y_pred = lr.predict(X_poly)\n",
        "    return X_poly, y_pred, lr.coef_"
      ],
      "metadata": {
        "id": "CQcOriwWKMHS"
      },
      "execution_count": null,
      "outputs": []
    },
    {
      "cell_type": "code",
      "source": [
        "# Оцените среднее значение метрики MAPE, используя кросс-валидацию на пяти фолдах.\n",
        "# создаём модель линейной регрессии\n",
        "lr = LinearRegression()\n",
        "\n",
        "# оцениваем качество модели на кросс-валидации, метрика — MAPE\n",
        "cv_results = cross_validate(lr, X, y, scoring='neg_mean_absolute_percentage_error', cv=5, return_train_score=True)\n",
        "print('MAPE на тренировочных фолдах: {:.2f} %'.format(-cv_results['train_score'].mean()* 100))\n",
        "print('MAPE на валидационных фолдах: {:.2f} %'.format(-cv_results['test_score'].mean() * 100))"
      ],
      "metadata": {
        "colab": {
          "base_uri": "https://localhost:8080/"
        },
        "id": "nXF8assq5DQl",
        "outputId": "f0ad6654-0abe-46dc-9992-4a3163aae0ed"
      },
      "execution_count": null,
      "outputs": [
        {
          "output_type": "stream",
          "name": "stdout",
          "text": [
            "MAPE на тренировочных фолдах: 4.02 %\n",
            "MAPE на валидационных фолдах: 4.23 %\n"
          ]
        }
      ]
    },
    {
      "cell_type": "markdown",
      "source": [
        "3.2"
      ],
      "metadata": {
        "id": "oqYQG4ho5MRc"
      }
    },
    {
      "cell_type": "code",
      "source": [
        "from sklearn.linear_model import Lasso\n",
        "from sklearn.preprocessing import StandardScaler"
      ],
      "metadata": {
        "id": "JIPG2c9i9X5U"
      },
      "execution_count": null,
      "outputs": []
    },
    {
      "cell_type": "code",
      "source": [
        "X = data[['Por', 'AI', 'Brittle', 'VR']]\n",
        "\n",
        "poly = PolynomialFeatures(degree=3, include_bias=False)\n",
        "X_poly = poly.fit_transform(X)\n",
        "\n",
        "# инициализируем стандартизатор StandardScaler\n",
        "scaler = StandardScaler()\n",
        "# подгоняем параметры стандартизатора (вычисляем среднее и СКО)\n",
        "X = scaler.fit_transform(X)\n",
        "\n",
        "# создаём модель линейной регрессии c L1-регуляризацией\n",
        "lasso = Lasso(alpha=5, max_iter=10000)\n",
        "\n",
        "# оцениваем качество модели на кросс-валидации\n",
        "cv_results = cross_validate(lasso, X, y, scoring='neg_mean_absolute_percentage_error', cv=5, return_train_score=True)\n",
        "print('MAPE на тренировочных фолдах: {:.2f} %'.format(-cv_results['train_score'].mean()* 100))\n",
        "print('MAPE на валидационных фолдах: {:.2f} %'.format(-cv_results['test_score'].mean() * 100))"
      ],
      "metadata": {
        "colab": {
          "base_uri": "https://localhost:8080/"
        },
        "id": "M1jy3Rwz7iEt",
        "outputId": "1bbe7258-52da-4de8-9668-109b7aab73c5"
      },
      "execution_count": null,
      "outputs": [
        {
          "output_type": "stream",
          "name": "stdout",
          "text": [
            "MAPE на тренировочных фолдах: 4.02 %\n",
            "MAPE на валидационных фолдах: 4.23 %\n"
          ]
        }
      ]
    },
    {
      "cell_type": "markdown",
      "source": [
        "3.3"
      ],
      "metadata": {
        "id": "IxvUabV-7iWZ"
      }
    },
    {
      "cell_type": "code",
      "source": [
        "from sklearn.linear_model import Ridge"
      ],
      "metadata": {
        "id": "0dOebwFCBAeI"
      },
      "execution_count": null,
      "outputs": []
    },
    {
      "cell_type": "code",
      "source": [
        "# Обучите модель Ridge из библиотеки sklearn на полученных полиномиальных факторах, предварительно стандартизировав факторы с помощью StandardScaler. Коэффициент регуляризации выставите равным 1.\n",
        "# Генерируем полиномиальные признаки третьего порядка на факторах, которые мы выбрали для обучения моделей\n",
        "X = data[['Por', 'AI', 'Brittle', 'VR']]\n",
        "poly = PolynomialFeatures(degree=3, include_bias=False)\n",
        "X_poly = poly.fit_transform(X)\n",
        "# инициализируем стандартизатор StandardScaler\n",
        "scaler = StandardScaler()\n",
        "# подгоняем параметры стандартизатора (вычисляем среднее и СКО)\n",
        "X = scaler.fit_transform(X)\n",
        "# добавляем полиномиальные признаки\n",
        "poly = PolynomialFeatures(degree=3, include_bias=False)\n",
        "X = poly.fit_transform(X)\n",
        "# создаём модель линейной регрессии c L2-регуляризацией\n",
        "ridge = Ridge(alpha=1, solver='svd')\n",
        "# оцениваем качество модели на кросс-валидации\n",
        "cv_results = cross_validate(ridge, X, y, scoring='neg_mean_absolute_percentage_error', cv=5, return_train_score=True)\n",
        "print('MAPE на тренировочных фолдах: {:.2f} %'.format(-cv_results['train_score'].mean()* 100))\n",
        "print('MAPE на валидационных фолдах: {:.2f} %'.format(-cv_results['test_score'].mean() * 100))"
      ],
      "metadata": {
        "colab": {
          "base_uri": "https://localhost:8080/"
        },
        "id": "ekf-atUTCBdg",
        "outputId": "737b3e31-604b-48f6-8e6b-89f541732a11"
      },
      "execution_count": null,
      "outputs": [
        {
          "output_type": "stream",
          "name": "stdout",
          "text": [
            "MAPE на тренировочных фолдах: 1.83 %\n",
            "MAPE на валидационных фолдах: 2.72 %\n"
          ]
        }
      ]
    },
    {
      "cell_type": "code",
      "source": [
        "Por = data['Por']\n",
        "AI = data['AI']\n",
        "Brittle = data['Brittle']\n",
        "VR = data['VR']\n",
        "X = np.column_stack((np.ones(200), Por, AI, Brittle, VR))\n",
        "y = data[['Prod']]"
      ],
      "metadata": {
        "id": "hnr0f1ofIj78"
      },
      "execution_count": null,
      "outputs": []
    },
    {
      "cell_type": "code",
      "source": [
        "# инициализируем стандартизатор StandardScaler\n",
        "scaler = StandardScaler()\n",
        "# подгоняем параметры стандартизатора (вычисляем среднее и СКО)\n",
        "X = scaler.fit_transform(X)\n",
        "\n",
        "# добавляем полиномиальные признаки\n",
        "poly = PolynomialFeatures(degree=3, include_bias=False)\n",
        "X = poly.fit_transform(X)\n",
        "\n",
        "# создаём модель линейной регрессии c L1-регуляризацией\n",
        "lasso = Lasso(alpha=5, max_iter=10000)\n",
        "\n",
        "# оцениваем качество модели на кросс-валидации\n",
        "cv_results = cross_validate(lasso, X, y, scoring='neg_mean_absolute_percentage_error', cv=5, return_train_score=True)\n",
        "print('MAPE на тренировочных фолдах: {:.2f} %'.format(-cv_results['train_score'].mean()* 100))\n",
        "print('MAPE на валидационных фолдах: {:.2f} %'.format(-cv_results['test_score'].mean() * 100))"
      ],
      "metadata": {
        "colab": {
          "base_uri": "https://localhost:8080/"
        },
        "id": "Mr_qk2hGm9IX",
        "outputId": "184ae9f7-ec48-47ce-9b36-3cff70ae31d0"
      },
      "execution_count": null,
      "outputs": [
        {
          "output_type": "stream",
          "name": "stdout",
          "text": [
            "MAPE на тренировочных фолдах: 1.83 %\n",
            "MAPE на валидационных фолдах: 2.28 %\n"
          ]
        }
      ]
    },
    {
      "cell_type": "code",
      "source": [
        "# Обучите модель Ridge из библиотеки sklearn на полученных полиномиальных факторах, предварительно стандартизировав факторы с помощью StandardScaler. Коэффициент регуляризации выставите равным 1.\n",
        "X = data[['Por', 'AI', 'Brittle', 'VR']]\n",
        "y = data[['Prod']]\n",
        "poly = PolynomialFeatures(degree=3, include_bias=False)\n",
        "X_poly = poly.fit_transform(X)\n",
        "# инициализируем стандартизатор StandardScaler\n",
        "scaler = StandardScaler()\n",
        "# подгоняем параметры стандартизатора (вычисляем среднее и СКО)\n",
        "X = scaler.fit_transform(X)\n",
        "# добавляем полиномиальные признаки\n",
        "poly = PolynomialFeatures(degree=3, include_bias=False)\n",
        "X = poly.fit_transform(X)\n",
        "# создаём модель линейной регрессии c L2-регуляризацией\n",
        "ridge = Ridge(alpha=1, solver='svd')\n",
        "# оцениваем качество модели на кросс-валидации\n",
        "cv_results = cross_validate(ridge, X, y, scoring='neg_mean_absolute_percentage_error', cv=5, return_train_score=True)\n",
        "print('MAPE на тренировочных фолдах: {:.2f} %'.format(-cv_results['train_score'].mean()* 100))\n",
        "print('MAPE на валидационных фолдах: {:.2f} %'.format(-cv_results['test_score'].mean() * 100))"
      ],
      "metadata": {
        "id": "-guITqmbQlwX",
        "outputId": "8e8ab90c-f6e2-481f-f2dd-ba116acc4b90",
        "colab": {
          "base_uri": "https://localhost:8080/"
        }
      },
      "execution_count": null,
      "outputs": [
        {
          "output_type": "stream",
          "name": "stdout",
          "text": [
            "MAPE на тренировочных фолдах: 1.83 %\n",
            "MAPE на валидационных фолдах: 2.72 %\n"
          ]
        }
      ]
    }
  ]
}